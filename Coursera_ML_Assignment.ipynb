{
  "cells": [
    {
      "cell_type": "markdown",
      "metadata": {
        "id": "view-in-github",
        "colab_type": "text"
      },
      "source": [
        "<a href=\"https://colab.research.google.com/github/ishanbhaway/DataProductsProject/blob/master/Coursera_ML_Assignment.ipynb\" target=\"_parent\"><img src=\"https://colab.research.google.com/assets/colab-badge.svg\" alt=\"Open In Colab\"/></a>"
      ]
    },
    {
      "metadata": {
        "button": false,
        "new_sheet": false,
        "run_control": {
          "read_only": false
        },
        "id": "oi-BR0met3CT"
      },
      "cell_type": "markdown",
      "source": [
        "<p style=\"text-align:center\">\n",
        "    <a href=\"https://skills.network/?utm_medium=Exinfluencer&utm_source=Exinfluencer&utm_content=000026UJ&utm_term=10006555&utm_id=NA-SkillsNetwork-Channel-SkillsNetworkCoursesIBMDeveloperSkillsNetworkML0101ENSkillsNetwork20718538-2022-01-01\" target=\"_blank\">\n",
        "    <img src=\"https://cf-courses-data.s3.us.cloud-object-storage.appdomain.cloud/assets/logos/SN_web_lightmode.png\" width=\"200\" alt=\"Skills Network Logo\"  />\n",
        "    </a>\n",
        "</p>\n",
        "\n",
        "<h1 align=\"center\"><font size=\"5\">Classification with Python</font></h1>\n"
      ]
    },
    {
      "metadata": {
        "button": false,
        "new_sheet": false,
        "run_control": {
          "read_only": false
        },
        "id": "paZ0xocit3CW"
      },
      "cell_type": "markdown",
      "source": [
        "In this notebook we try to practice all the classification algorithms that we have learned in this course.\n",
        "\n",
        "We load a dataset using Pandas library, and apply the following algorithms, and find the best one for this specific dataset by accuracy evaluation methods.\n",
        "\n",
        "Let's first load required libraries:\n"
      ]
    },
    {
      "metadata": {
        "button": false,
        "new_sheet": false,
        "run_control": {
          "read_only": false
        },
        "id": "Uu0_7IG1t3CX"
      },
      "cell_type": "code",
      "source": [
        "import itertools\n",
        "import numpy as np\n",
        "import matplotlib.pyplot as plt\n",
        "from matplotlib.ticker import NullFormatter\n",
        "import pandas as pd\n",
        "import numpy as np\n",
        "import matplotlib.ticker as ticker\n",
        "from sklearn import preprocessing\n",
        "%matplotlib inline"
      ],
      "execution_count": 8,
      "outputs": []
    },
    {
      "metadata": {
        "button": false,
        "new_sheet": false,
        "run_control": {
          "read_only": false
        },
        "id": "2l1cHvGjt3CY"
      },
      "cell_type": "markdown",
      "source": [
        "### About dataset\n"
      ]
    },
    {
      "metadata": {
        "button": false,
        "new_sheet": false,
        "run_control": {
          "read_only": false
        },
        "id": "ukOzh3PNt3CZ"
      },
      "cell_type": "markdown",
      "source": [
        "This dataset is about past loans. The **Loan_train.csv** data set includes details of 346 customers whose loan are already paid off or defaulted. It includes following fields:\n",
        "\n",
        "| Field          | Description                                                                           |\n",
        "| -------------- | ------------------------------------------------------------------------------------- |\n",
        "| Loan_status    | Whether a loan is paid off on in collection                                           |\n",
        "| Principal      | Basic principal loan amount at the                                                    |\n",
        "| Terms          | Origination terms which can be weekly (7 days), biweekly, and monthly payoff schedule |\n",
        "| Effective_date | When the loan got originated and took effects                                         |\n",
        "| Due_date       | Since it’s one-time payoff schedule, each loan has one single due date                |\n",
        "| Age            | Age of applicant                                                                      |\n",
        "| Education      | Education of applicant                                                                |\n",
        "| Gender         | The gender of applicant                                                               |\n"
      ]
    },
    {
      "metadata": {
        "button": false,
        "new_sheet": false,
        "run_control": {
          "read_only": false
        },
        "id": "RWNb1BBct3Cg"
      },
      "cell_type": "markdown",
      "source": [
        "Let's download the dataset\n"
      ]
    },
    {
      "metadata": {
        "button": false,
        "new_sheet": false,
        "run_control": {
          "read_only": false
        },
        "colab": {
          "base_uri": "https://localhost:8080/"
        },
        "id": "oq-EwVvRt3Ch",
        "outputId": "fd129fed-a916-4858-83f3-84d6d8412d99"
      },
      "cell_type": "code",
      "source": [
        "!wget -O loan_train.csv https://cf-courses-data.s3.us.cloud-object-storage.appdomain.cloud/IBMDeveloperSkillsNetwork-ML0101EN-SkillsNetwork/labs/FinalModule_Coursera/data/loan_train.csv"
      ],
      "execution_count": 9,
      "outputs": [
        {
          "output_type": "stream",
          "name": "stdout",
          "text": [
            "--2022-07-10 10:05:29--  https://cf-courses-data.s3.us.cloud-object-storage.appdomain.cloud/IBMDeveloperSkillsNetwork-ML0101EN-SkillsNetwork/labs/FinalModule_Coursera/data/loan_train.csv\n",
            "Resolving cf-courses-data.s3.us.cloud-object-storage.appdomain.cloud (cf-courses-data.s3.us.cloud-object-storage.appdomain.cloud)... 169.63.118.104\n",
            "Connecting to cf-courses-data.s3.us.cloud-object-storage.appdomain.cloud (cf-courses-data.s3.us.cloud-object-storage.appdomain.cloud)|169.63.118.104|:443... connected.\n",
            "HTTP request sent, awaiting response... 200 OK\n",
            "Length: 23101 (23K) [text/csv]\n",
            "Saving to: ‘loan_train.csv’\n",
            "\n",
            "loan_train.csv      100%[===================>]  22.56K  --.-KB/s    in 0s      \n",
            "\n",
            "2022-07-10 10:05:30 (312 MB/s) - ‘loan_train.csv’ saved [23101/23101]\n",
            "\n"
          ]
        }
      ]
    },
    {
      "metadata": {
        "button": false,
        "new_sheet": false,
        "run_control": {
          "read_only": false
        },
        "id": "FoJ2RmvOt3Ci"
      },
      "cell_type": "markdown",
      "source": [
        "### Load Data From CSV File\n"
      ]
    },
    {
      "metadata": {
        "button": false,
        "new_sheet": false,
        "run_control": {
          "read_only": false
        },
        "colab": {
          "base_uri": "https://localhost:8080/",
          "height": 206
        },
        "id": "NjaiNBxRt3Ci",
        "outputId": "e2fc046b-9188-4f87-bd83-4defb8c48854"
      },
      "cell_type": "code",
      "source": [
        "df = pd.read_csv('loan_train.csv')\n",
        "df.head()"
      ],
      "execution_count": 10,
      "outputs": [
        {
          "output_type": "execute_result",
          "data": {
            "text/plain": [
              "   Unnamed: 0  Unnamed: 0.1 loan_status  Principal  terms effective_date  \\\n",
              "0           0             0     PAIDOFF       1000     30       9/8/2016   \n",
              "1           2             2     PAIDOFF       1000     30       9/8/2016   \n",
              "2           3             3     PAIDOFF       1000     15       9/8/2016   \n",
              "3           4             4     PAIDOFF       1000     30       9/9/2016   \n",
              "4           6             6     PAIDOFF       1000     30       9/9/2016   \n",
              "\n",
              "    due_date  age             education  Gender  \n",
              "0  10/7/2016   45  High School or Below    male  \n",
              "1  10/7/2016   33              Bechalor  female  \n",
              "2  9/22/2016   27               college    male  \n",
              "3  10/8/2016   28               college  female  \n",
              "4  10/8/2016   29               college    male  "
            ],
            "text/html": [
              "\n",
              "  <div id=\"df-0ef348b0-d897-4d91-aae7-666a650b5639\">\n",
              "    <div class=\"colab-df-container\">\n",
              "      <div>\n",
              "<style scoped>\n",
              "    .dataframe tbody tr th:only-of-type {\n",
              "        vertical-align: middle;\n",
              "    }\n",
              "\n",
              "    .dataframe tbody tr th {\n",
              "        vertical-align: top;\n",
              "    }\n",
              "\n",
              "    .dataframe thead th {\n",
              "        text-align: right;\n",
              "    }\n",
              "</style>\n",
              "<table border=\"1\" class=\"dataframe\">\n",
              "  <thead>\n",
              "    <tr style=\"text-align: right;\">\n",
              "      <th></th>\n",
              "      <th>Unnamed: 0</th>\n",
              "      <th>Unnamed: 0.1</th>\n",
              "      <th>loan_status</th>\n",
              "      <th>Principal</th>\n",
              "      <th>terms</th>\n",
              "      <th>effective_date</th>\n",
              "      <th>due_date</th>\n",
              "      <th>age</th>\n",
              "      <th>education</th>\n",
              "      <th>Gender</th>\n",
              "    </tr>\n",
              "  </thead>\n",
              "  <tbody>\n",
              "    <tr>\n",
              "      <th>0</th>\n",
              "      <td>0</td>\n",
              "      <td>0</td>\n",
              "      <td>PAIDOFF</td>\n",
              "      <td>1000</td>\n",
              "      <td>30</td>\n",
              "      <td>9/8/2016</td>\n",
              "      <td>10/7/2016</td>\n",
              "      <td>45</td>\n",
              "      <td>High School or Below</td>\n",
              "      <td>male</td>\n",
              "    </tr>\n",
              "    <tr>\n",
              "      <th>1</th>\n",
              "      <td>2</td>\n",
              "      <td>2</td>\n",
              "      <td>PAIDOFF</td>\n",
              "      <td>1000</td>\n",
              "      <td>30</td>\n",
              "      <td>9/8/2016</td>\n",
              "      <td>10/7/2016</td>\n",
              "      <td>33</td>\n",
              "      <td>Bechalor</td>\n",
              "      <td>female</td>\n",
              "    </tr>\n",
              "    <tr>\n",
              "      <th>2</th>\n",
              "      <td>3</td>\n",
              "      <td>3</td>\n",
              "      <td>PAIDOFF</td>\n",
              "      <td>1000</td>\n",
              "      <td>15</td>\n",
              "      <td>9/8/2016</td>\n",
              "      <td>9/22/2016</td>\n",
              "      <td>27</td>\n",
              "      <td>college</td>\n",
              "      <td>male</td>\n",
              "    </tr>\n",
              "    <tr>\n",
              "      <th>3</th>\n",
              "      <td>4</td>\n",
              "      <td>4</td>\n",
              "      <td>PAIDOFF</td>\n",
              "      <td>1000</td>\n",
              "      <td>30</td>\n",
              "      <td>9/9/2016</td>\n",
              "      <td>10/8/2016</td>\n",
              "      <td>28</td>\n",
              "      <td>college</td>\n",
              "      <td>female</td>\n",
              "    </tr>\n",
              "    <tr>\n",
              "      <th>4</th>\n",
              "      <td>6</td>\n",
              "      <td>6</td>\n",
              "      <td>PAIDOFF</td>\n",
              "      <td>1000</td>\n",
              "      <td>30</td>\n",
              "      <td>9/9/2016</td>\n",
              "      <td>10/8/2016</td>\n",
              "      <td>29</td>\n",
              "      <td>college</td>\n",
              "      <td>male</td>\n",
              "    </tr>\n",
              "  </tbody>\n",
              "</table>\n",
              "</div>\n",
              "      <button class=\"colab-df-convert\" onclick=\"convertToInteractive('df-0ef348b0-d897-4d91-aae7-666a650b5639')\"\n",
              "              title=\"Convert this dataframe to an interactive table.\"\n",
              "              style=\"display:none;\">\n",
              "        \n",
              "  <svg xmlns=\"http://www.w3.org/2000/svg\" height=\"24px\"viewBox=\"0 0 24 24\"\n",
              "       width=\"24px\">\n",
              "    <path d=\"M0 0h24v24H0V0z\" fill=\"none\"/>\n",
              "    <path d=\"M18.56 5.44l.94 2.06.94-2.06 2.06-.94-2.06-.94-.94-2.06-.94 2.06-2.06.94zm-11 1L8.5 8.5l.94-2.06 2.06-.94-2.06-.94L8.5 2.5l-.94 2.06-2.06.94zm10 10l.94 2.06.94-2.06 2.06-.94-2.06-.94-.94-2.06-.94 2.06-2.06.94z\"/><path d=\"M17.41 7.96l-1.37-1.37c-.4-.4-.92-.59-1.43-.59-.52 0-1.04.2-1.43.59L10.3 9.45l-7.72 7.72c-.78.78-.78 2.05 0 2.83L4 21.41c.39.39.9.59 1.41.59.51 0 1.02-.2 1.41-.59l7.78-7.78 2.81-2.81c.8-.78.8-2.07 0-2.86zM5.41 20L4 18.59l7.72-7.72 1.47 1.35L5.41 20z\"/>\n",
              "  </svg>\n",
              "      </button>\n",
              "      \n",
              "  <style>\n",
              "    .colab-df-container {\n",
              "      display:flex;\n",
              "      flex-wrap:wrap;\n",
              "      gap: 12px;\n",
              "    }\n",
              "\n",
              "    .colab-df-convert {\n",
              "      background-color: #E8F0FE;\n",
              "      border: none;\n",
              "      border-radius: 50%;\n",
              "      cursor: pointer;\n",
              "      display: none;\n",
              "      fill: #1967D2;\n",
              "      height: 32px;\n",
              "      padding: 0 0 0 0;\n",
              "      width: 32px;\n",
              "    }\n",
              "\n",
              "    .colab-df-convert:hover {\n",
              "      background-color: #E2EBFA;\n",
              "      box-shadow: 0px 1px 2px rgba(60, 64, 67, 0.3), 0px 1px 3px 1px rgba(60, 64, 67, 0.15);\n",
              "      fill: #174EA6;\n",
              "    }\n",
              "\n",
              "    [theme=dark] .colab-df-convert {\n",
              "      background-color: #3B4455;\n",
              "      fill: #D2E3FC;\n",
              "    }\n",
              "\n",
              "    [theme=dark] .colab-df-convert:hover {\n",
              "      background-color: #434B5C;\n",
              "      box-shadow: 0px 1px 3px 1px rgba(0, 0, 0, 0.15);\n",
              "      filter: drop-shadow(0px 1px 2px rgba(0, 0, 0, 0.3));\n",
              "      fill: #FFFFFF;\n",
              "    }\n",
              "  </style>\n",
              "\n",
              "      <script>\n",
              "        const buttonEl =\n",
              "          document.querySelector('#df-0ef348b0-d897-4d91-aae7-666a650b5639 button.colab-df-convert');\n",
              "        buttonEl.style.display =\n",
              "          google.colab.kernel.accessAllowed ? 'block' : 'none';\n",
              "\n",
              "        async function convertToInteractive(key) {\n",
              "          const element = document.querySelector('#df-0ef348b0-d897-4d91-aae7-666a650b5639');\n",
              "          const dataTable =\n",
              "            await google.colab.kernel.invokeFunction('convertToInteractive',\n",
              "                                                     [key], {});\n",
              "          if (!dataTable) return;\n",
              "\n",
              "          const docLinkHtml = 'Like what you see? Visit the ' +\n",
              "            '<a target=\"_blank\" href=https://colab.research.google.com/notebooks/data_table.ipynb>data table notebook</a>'\n",
              "            + ' to learn more about interactive tables.';\n",
              "          element.innerHTML = '';\n",
              "          dataTable['output_type'] = 'display_data';\n",
              "          await google.colab.output.renderOutput(dataTable, element);\n",
              "          const docLink = document.createElement('div');\n",
              "          docLink.innerHTML = docLinkHtml;\n",
              "          element.appendChild(docLink);\n",
              "        }\n",
              "      </script>\n",
              "    </div>\n",
              "  </div>\n",
              "  "
            ]
          },
          "metadata": {},
          "execution_count": 10
        }
      ]
    },
    {
      "metadata": {
        "id": "FhiEcCRdt3Ci",
        "colab": {
          "base_uri": "https://localhost:8080/"
        },
        "outputId": "ab534906-3e1a-4759-f506-5f0a6bbd1d4a"
      },
      "cell_type": "code",
      "source": [
        "df.shape"
      ],
      "execution_count": 11,
      "outputs": [
        {
          "output_type": "execute_result",
          "data": {
            "text/plain": [
              "(346, 10)"
            ]
          },
          "metadata": {},
          "execution_count": 11
        }
      ]
    },
    {
      "metadata": {
        "button": false,
        "new_sheet": false,
        "run_control": {
          "read_only": false
        },
        "id": "6F4Q48wIt3Cj"
      },
      "cell_type": "markdown",
      "source": [
        "### Convert to date time object\n"
      ]
    },
    {
      "metadata": {
        "button": false,
        "new_sheet": false,
        "run_control": {
          "read_only": false
        },
        "id": "d7igapXst3Cj",
        "colab": {
          "base_uri": "https://localhost:8080/",
          "height": 206
        },
        "outputId": "78130573-85e3-4740-e94c-203271ef54a7"
      },
      "cell_type": "code",
      "source": [
        "df['due_date'] = pd.to_datetime(df['due_date'])\n",
        "df['effective_date'] = pd.to_datetime(df['effective_date'])\n",
        "df.head()"
      ],
      "execution_count": 12,
      "outputs": [
        {
          "output_type": "execute_result",
          "data": {
            "text/plain": [
              "   Unnamed: 0  Unnamed: 0.1 loan_status  Principal  terms effective_date  \\\n",
              "0           0             0     PAIDOFF       1000     30     2016-09-08   \n",
              "1           2             2     PAIDOFF       1000     30     2016-09-08   \n",
              "2           3             3     PAIDOFF       1000     15     2016-09-08   \n",
              "3           4             4     PAIDOFF       1000     30     2016-09-09   \n",
              "4           6             6     PAIDOFF       1000     30     2016-09-09   \n",
              "\n",
              "    due_date  age             education  Gender  \n",
              "0 2016-10-07   45  High School or Below    male  \n",
              "1 2016-10-07   33              Bechalor  female  \n",
              "2 2016-09-22   27               college    male  \n",
              "3 2016-10-08   28               college  female  \n",
              "4 2016-10-08   29               college    male  "
            ],
            "text/html": [
              "\n",
              "  <div id=\"df-ada3caae-236a-4c5f-9d89-28362bc71b05\">\n",
              "    <div class=\"colab-df-container\">\n",
              "      <div>\n",
              "<style scoped>\n",
              "    .dataframe tbody tr th:only-of-type {\n",
              "        vertical-align: middle;\n",
              "    }\n",
              "\n",
              "    .dataframe tbody tr th {\n",
              "        vertical-align: top;\n",
              "    }\n",
              "\n",
              "    .dataframe thead th {\n",
              "        text-align: right;\n",
              "    }\n",
              "</style>\n",
              "<table border=\"1\" class=\"dataframe\">\n",
              "  <thead>\n",
              "    <tr style=\"text-align: right;\">\n",
              "      <th></th>\n",
              "      <th>Unnamed: 0</th>\n",
              "      <th>Unnamed: 0.1</th>\n",
              "      <th>loan_status</th>\n",
              "      <th>Principal</th>\n",
              "      <th>terms</th>\n",
              "      <th>effective_date</th>\n",
              "      <th>due_date</th>\n",
              "      <th>age</th>\n",
              "      <th>education</th>\n",
              "      <th>Gender</th>\n",
              "    </tr>\n",
              "  </thead>\n",
              "  <tbody>\n",
              "    <tr>\n",
              "      <th>0</th>\n",
              "      <td>0</td>\n",
              "      <td>0</td>\n",
              "      <td>PAIDOFF</td>\n",
              "      <td>1000</td>\n",
              "      <td>30</td>\n",
              "      <td>2016-09-08</td>\n",
              "      <td>2016-10-07</td>\n",
              "      <td>45</td>\n",
              "      <td>High School or Below</td>\n",
              "      <td>male</td>\n",
              "    </tr>\n",
              "    <tr>\n",
              "      <th>1</th>\n",
              "      <td>2</td>\n",
              "      <td>2</td>\n",
              "      <td>PAIDOFF</td>\n",
              "      <td>1000</td>\n",
              "      <td>30</td>\n",
              "      <td>2016-09-08</td>\n",
              "      <td>2016-10-07</td>\n",
              "      <td>33</td>\n",
              "      <td>Bechalor</td>\n",
              "      <td>female</td>\n",
              "    </tr>\n",
              "    <tr>\n",
              "      <th>2</th>\n",
              "      <td>3</td>\n",
              "      <td>3</td>\n",
              "      <td>PAIDOFF</td>\n",
              "      <td>1000</td>\n",
              "      <td>15</td>\n",
              "      <td>2016-09-08</td>\n",
              "      <td>2016-09-22</td>\n",
              "      <td>27</td>\n",
              "      <td>college</td>\n",
              "      <td>male</td>\n",
              "    </tr>\n",
              "    <tr>\n",
              "      <th>3</th>\n",
              "      <td>4</td>\n",
              "      <td>4</td>\n",
              "      <td>PAIDOFF</td>\n",
              "      <td>1000</td>\n",
              "      <td>30</td>\n",
              "      <td>2016-09-09</td>\n",
              "      <td>2016-10-08</td>\n",
              "      <td>28</td>\n",
              "      <td>college</td>\n",
              "      <td>female</td>\n",
              "    </tr>\n",
              "    <tr>\n",
              "      <th>4</th>\n",
              "      <td>6</td>\n",
              "      <td>6</td>\n",
              "      <td>PAIDOFF</td>\n",
              "      <td>1000</td>\n",
              "      <td>30</td>\n",
              "      <td>2016-09-09</td>\n",
              "      <td>2016-10-08</td>\n",
              "      <td>29</td>\n",
              "      <td>college</td>\n",
              "      <td>male</td>\n",
              "    </tr>\n",
              "  </tbody>\n",
              "</table>\n",
              "</div>\n",
              "      <button class=\"colab-df-convert\" onclick=\"convertToInteractive('df-ada3caae-236a-4c5f-9d89-28362bc71b05')\"\n",
              "              title=\"Convert this dataframe to an interactive table.\"\n",
              "              style=\"display:none;\">\n",
              "        \n",
              "  <svg xmlns=\"http://www.w3.org/2000/svg\" height=\"24px\"viewBox=\"0 0 24 24\"\n",
              "       width=\"24px\">\n",
              "    <path d=\"M0 0h24v24H0V0z\" fill=\"none\"/>\n",
              "    <path d=\"M18.56 5.44l.94 2.06.94-2.06 2.06-.94-2.06-.94-.94-2.06-.94 2.06-2.06.94zm-11 1L8.5 8.5l.94-2.06 2.06-.94-2.06-.94L8.5 2.5l-.94 2.06-2.06.94zm10 10l.94 2.06.94-2.06 2.06-.94-2.06-.94-.94-2.06-.94 2.06-2.06.94z\"/><path d=\"M17.41 7.96l-1.37-1.37c-.4-.4-.92-.59-1.43-.59-.52 0-1.04.2-1.43.59L10.3 9.45l-7.72 7.72c-.78.78-.78 2.05 0 2.83L4 21.41c.39.39.9.59 1.41.59.51 0 1.02-.2 1.41-.59l7.78-7.78 2.81-2.81c.8-.78.8-2.07 0-2.86zM5.41 20L4 18.59l7.72-7.72 1.47 1.35L5.41 20z\"/>\n",
              "  </svg>\n",
              "      </button>\n",
              "      \n",
              "  <style>\n",
              "    .colab-df-container {\n",
              "      display:flex;\n",
              "      flex-wrap:wrap;\n",
              "      gap: 12px;\n",
              "    }\n",
              "\n",
              "    .colab-df-convert {\n",
              "      background-color: #E8F0FE;\n",
              "      border: none;\n",
              "      border-radius: 50%;\n",
              "      cursor: pointer;\n",
              "      display: none;\n",
              "      fill: #1967D2;\n",
              "      height: 32px;\n",
              "      padding: 0 0 0 0;\n",
              "      width: 32px;\n",
              "    }\n",
              "\n",
              "    .colab-df-convert:hover {\n",
              "      background-color: #E2EBFA;\n",
              "      box-shadow: 0px 1px 2px rgba(60, 64, 67, 0.3), 0px 1px 3px 1px rgba(60, 64, 67, 0.15);\n",
              "      fill: #174EA6;\n",
              "    }\n",
              "\n",
              "    [theme=dark] .colab-df-convert {\n",
              "      background-color: #3B4455;\n",
              "      fill: #D2E3FC;\n",
              "    }\n",
              "\n",
              "    [theme=dark] .colab-df-convert:hover {\n",
              "      background-color: #434B5C;\n",
              "      box-shadow: 0px 1px 3px 1px rgba(0, 0, 0, 0.15);\n",
              "      filter: drop-shadow(0px 1px 2px rgba(0, 0, 0, 0.3));\n",
              "      fill: #FFFFFF;\n",
              "    }\n",
              "  </style>\n",
              "\n",
              "      <script>\n",
              "        const buttonEl =\n",
              "          document.querySelector('#df-ada3caae-236a-4c5f-9d89-28362bc71b05 button.colab-df-convert');\n",
              "        buttonEl.style.display =\n",
              "          google.colab.kernel.accessAllowed ? 'block' : 'none';\n",
              "\n",
              "        async function convertToInteractive(key) {\n",
              "          const element = document.querySelector('#df-ada3caae-236a-4c5f-9d89-28362bc71b05');\n",
              "          const dataTable =\n",
              "            await google.colab.kernel.invokeFunction('convertToInteractive',\n",
              "                                                     [key], {});\n",
              "          if (!dataTable) return;\n",
              "\n",
              "          const docLinkHtml = 'Like what you see? Visit the ' +\n",
              "            '<a target=\"_blank\" href=https://colab.research.google.com/notebooks/data_table.ipynb>data table notebook</a>'\n",
              "            + ' to learn more about interactive tables.';\n",
              "          element.innerHTML = '';\n",
              "          dataTable['output_type'] = 'display_data';\n",
              "          await google.colab.output.renderOutput(dataTable, element);\n",
              "          const docLink = document.createElement('div');\n",
              "          docLink.innerHTML = docLinkHtml;\n",
              "          element.appendChild(docLink);\n",
              "        }\n",
              "      </script>\n",
              "    </div>\n",
              "  </div>\n",
              "  "
            ]
          },
          "metadata": {},
          "execution_count": 12
        }
      ]
    },
    {
      "metadata": {
        "button": false,
        "new_sheet": false,
        "run_control": {
          "read_only": false
        },
        "id": "BbnVpE-ft3Cj"
      },
      "cell_type": "markdown",
      "source": [
        "# Data visualization and pre-processing\n"
      ]
    },
    {
      "metadata": {
        "button": false,
        "new_sheet": false,
        "run_control": {
          "read_only": false
        },
        "id": "a2RZ2Yjkt3Cj"
      },
      "cell_type": "markdown",
      "source": [
        "Let’s see how many of each class is in our data set\n"
      ]
    },
    {
      "metadata": {
        "button": false,
        "new_sheet": false,
        "run_control": {
          "read_only": false
        },
        "id": "-rAAXphWt3Ck",
        "colab": {
          "base_uri": "https://localhost:8080/"
        },
        "outputId": "78bf0b83-eadd-4ef7-d412-4748ca0614d0"
      },
      "cell_type": "code",
      "source": [
        "df['loan_status'].value_counts()"
      ],
      "execution_count": 13,
      "outputs": [
        {
          "output_type": "execute_result",
          "data": {
            "text/plain": [
              "PAIDOFF       260\n",
              "COLLECTION     86\n",
              "Name: loan_status, dtype: int64"
            ]
          },
          "metadata": {},
          "execution_count": 13
        }
      ]
    },
    {
      "metadata": {
        "button": false,
        "new_sheet": false,
        "run_control": {
          "read_only": false
        },
        "id": "NQeROpj8t3Ck"
      },
      "cell_type": "markdown",
      "source": [
        "260 people have paid off the loan on time while 86 have gone into collection\n"
      ]
    },
    {
      "metadata": {
        "id": "APyFyn26t3Ck"
      },
      "cell_type": "markdown",
      "source": [
        "Let's plot some columns to underestand data better:\n"
      ]
    },
    {
      "metadata": {
        "id": "HG3v-Tzjt3Ck",
        "colab": {
          "base_uri": "https://localhost:8080/"
        },
        "outputId": "4093027c-83cd-4ae2-d9dc-0c93007dee40"
      },
      "cell_type": "code",
      "source": [
        "# notice: installing seaborn might takes a few minutes\n",
        "!conda install -c anaconda seaborn -y"
      ],
      "execution_count": 14,
      "outputs": [
        {
          "output_type": "stream",
          "name": "stdout",
          "text": [
            "/bin/bash: conda: command not found\n"
          ]
        }
      ]
    },
    {
      "metadata": {
        "id": "l-KYxvdAt3Cl",
        "colab": {
          "base_uri": "https://localhost:8080/",
          "height": 225
        },
        "outputId": "9af42008-9ec1-4bc1-df16-119223ccc5a5"
      },
      "cell_type": "code",
      "source": [
        "import seaborn as sns\n",
        "\n",
        "bins = np.linspace(df.Principal.min(), df.Principal.max(), 10)\n",
        "g = sns.FacetGrid(df, col=\"Gender\", hue=\"loan_status\", palette=\"Set1\", col_wrap=2)\n",
        "g.map(plt.hist, 'Principal', bins=bins, ec=\"k\")\n",
        "\n",
        "g.axes[-1].legend()\n",
        "plt.show()"
      ],
      "execution_count": 15,
      "outputs": [
        {
          "output_type": "display_data",
          "data": {
            "text/plain": [
              "<Figure size 432x216 with 2 Axes>"
            ],
            "image/png": "[encoded data removed]"
          },
          "metadata": {
            "needs_background": "light"
          }
        }
      ]
    },
    {
      "metadata": {
        "button": false,
        "new_sheet": false,
        "run_control": {
          "read_only": false
        },
        "id": "473qlw7nt3Cl",
        "colab": {
          "base_uri": "https://localhost:8080/",
          "height": 225
        },
        "outputId": "ff028bff-e4c3-4ac0-9282-d481257211bd"
      },
      "cell_type": "code",
      "source": [
        "bins = np.linspace(df.age.min(), df.age.max(), 10)\n",
        "g = sns.FacetGrid(df, col=\"Gender\", hue=\"loan_status\", palette=\"Set1\", col_wrap=2)\n",
        "g.map(plt.hist, 'age', bins=bins, ec=\"k\")\n",
        "\n",
        "g.axes[-1].legend()\n",
        "plt.show()"
      ],
      "execution_count": 16,
      "outputs": [
        {
          "output_type": "display_data",
          "data": {
            "text/plain": [
              "<Figure size 432x216 with 2 Axes>"
            ],
            "image/png": "[encoded data removed]"
          },
          "metadata": {
            "needs_background": "light"
          }
        }
      ]
    },
    {
      "metadata": {
        "button": false,
        "new_sheet": false,
        "run_control": {
          "read_only": false
        },
        "id": "ASZDhG-Pt3Cm"
      },
      "cell_type": "markdown",
      "source": [
        "# Pre-processing:  Feature selection/extraction\n"
      ]
    },
    {
      "metadata": {
        "button": false,
        "new_sheet": false,
        "run_control": {
          "read_only": false
        },
        "id": "mNliTON-t3Cm"
      },
      "cell_type": "markdown",
      "source": [
        "### Let's look at the day of the week people get the loan\n"
      ]
    },
    {
      "metadata": {
        "button": false,
        "new_sheet": false,
        "run_control": {
          "read_only": false
        },
        "colab": {
          "base_uri": "https://localhost:8080/",
          "height": 225
        },
        "id": "H4lYbeUqt3Cm",
        "outputId": "3ea3ebaf-6a12-4cfb-b513-c79a1c1e1df0"
      },
      "cell_type": "code",
      "source": [
        "df['dayofweek'] = df['effective_date'].dt.dayofweek\n",
        "bins = np.linspace(df.dayofweek.min(), df.dayofweek.max(), 10)\n",
        "g = sns.FacetGrid(df, col=\"Gender\", hue=\"loan_status\", palette=\"Set1\", col_wrap=2)\n",
        "g.map(plt.hist, 'dayofweek', bins=bins, ec=\"k\")\n",
        "g.axes[-1].legend()\n",
        "plt.show()\n"
      ],
      "execution_count": 17,
      "outputs": [
        {
          "output_type": "display_data",
          "data": {
            "text/plain": [
              "<Figure size 432x216 with 2 Axes>"
            ],
            "image/png": "[encoded data removed]"
          },
          "metadata": {
            "needs_background": "light"
          }
        }
      ]
    },
    {
      "metadata": {
        "button": false,
        "new_sheet": false,
        "run_control": {
          "read_only": false
        },
        "id": "dOy_3TTSt3Cn"
      },
      "cell_type": "markdown",
      "source": [
        "We see that people who get the loan at the end of the week don't pay it off, so let's use Feature binarization to set a threshold value less than day 4\n"
      ]
    },
    {
      "metadata": {
        "button": false,
        "new_sheet": false,
        "run_control": {
          "read_only": false
        },
        "id": "7AP2qgzkt3Cn",
        "colab": {
          "base_uri": "https://localhost:8080/",
          "height": 206
        },
        "outputId": "22daa76a-b0e2-4645-bc6b-6b56b74ef4bb"
      },
      "cell_type": "code",
      "source": [
        "df['weekend'] = df['dayofweek'].apply(lambda x: 1 if (x>3)  else 0)\n",
        "df.head()"
      ],
      "execution_count": 18,
      "outputs": [
        {
          "output_type": "execute_result",
          "data": {
            "text/plain": [
              "   Unnamed: 0  Unnamed: 0.1 loan_status  Principal  terms effective_date  \\\n",
              "0           0             0     PAIDOFF       1000     30     2016-09-08   \n",
              "1           2             2     PAIDOFF       1000     30     2016-09-08   \n",
              "2           3             3     PAIDOFF       1000     15     2016-09-08   \n",
              "3           4             4     PAIDOFF       1000     30     2016-09-09   \n",
              "4           6             6     PAIDOFF       1000     30     2016-09-09   \n",
              "\n",
              "    due_date  age             education  Gender  dayofweek  weekend  \n",
              "0 2016-10-07   45  High School or Below    male          3        0  \n",
              "1 2016-10-07   33              Bechalor  female          3        0  \n",
              "2 2016-09-22   27               college    male          3        0  \n",
              "3 2016-10-08   28               college  female          4        1  \n",
              "4 2016-10-08   29               college    male          4        1  "
            ],
            "text/html": [
              "\n",
              "  <div id=\"df-f66b00d1-dc0e-4cff-9d0d-56dc1fc252f6\">\n",
              "    <div class=\"colab-df-container\">\n",
              "      <div>\n",
              "<style scoped>\n",
              "    .dataframe tbody tr th:only-of-type {\n",
              "        vertical-align: middle;\n",
              "    }\n",
              "\n",
              "    .dataframe tbody tr th {\n",
              "        vertical-align: top;\n",
              "    }\n",
              "\n",
              "    .dataframe thead th {\n",
              "        text-align: right;\n",
              "    }\n",
              "</style>\n",
              "<table border=\"1\" class=\"dataframe\">\n",
              "  <thead>\n",
              "    <tr style=\"text-align: right;\">\n",
              "      <th></th>\n",
              "      <th>Unnamed: 0</th>\n",
              "      <th>Unnamed: 0.1</th>\n",
              "      <th>loan_status</th>\n",
              "      <th>Principal</th>\n",
              "      <th>terms</th>\n",
              "      <th>effective_date</th>\n",
              "      <th>due_date</th>\n",
              "      <th>age</th>\n",
              "      <th>education</th>\n",
              "      <th>Gender</th>\n",
              "      <th>dayofweek</th>\n",
              "      <th>weekend</th>\n",
              "    </tr>\n",
              "  </thead>\n",
              "  <tbody>\n",
              "    <tr>\n",
              "      <th>0</th>\n",
              "      <td>0</td>\n",
              "      <td>0</td>\n",
              "      <td>PAIDOFF</td>\n",
              "      <td>1000</td>\n",
              "      <td>30</td>\n",
              "      <td>2016-09-08</td>\n",
              "      <td>2016-10-07</td>\n",
              "      <td>45</td>\n",
              "      <td>High School or Below</td>\n",
              "      <td>male</td>\n",
              "      <td>3</td>\n",
              "      <td>0</td>\n",
              "    </tr>\n",
              "    <tr>\n",
              "      <th>1</th>\n",
              "      <td>2</td>\n",
              "      <td>2</td>\n",
              "      <td>PAIDOFF</td>\n",
              "      <td>1000</td>\n",
              "      <td>30</td>\n",
              "      <td>2016-09-08</td>\n",
              "      <td>2016-10-07</td>\n",
              "      <td>33</td>\n",
              "      <td>Bechalor</td>\n",
              "      <td>female</td>\n",
              "      <td>3</td>\n",
              "      <td>0</td>\n",
              "    </tr>\n",
              "    <tr>\n",
              "      <th>2</th>\n",
              "      <td>3</td>\n",
              "      <td>3</td>\n",
              "      <td>PAIDOFF</td>\n",
              "      <td>1000</td>\n",
              "      <td>15</td>\n",
              "      <td>2016-09-08</td>\n",
              "      <td>2016-09-22</td>\n",
              "      <td>27</td>\n",
              "      <td>college</td>\n",
              "      <td>male</td>\n",
              "      <td>3</td>\n",
              "      <td>0</td>\n",
              "    </tr>\n",
              "    <tr>\n",
              "      <th>3</th>\n",
              "      <td>4</td>\n",
              "      <td>4</td>\n",
              "      <td>PAIDOFF</td>\n",
              "      <td>1000</td>\n",
              "      <td>30</td>\n",
              "      <td>2016-09-09</td>\n",
              "      <td>2016-10-08</td>\n",
              "      <td>28</td>\n",
              "      <td>college</td>\n",
              "      <td>female</td>\n",
              "      <td>4</td>\n",
              "      <td>1</td>\n",
              "    </tr>\n",
              "    <tr>\n",
              "      <th>4</th>\n",
              "      <td>6</td>\n",
              "      <td>6</td>\n",
              "      <td>PAIDOFF</td>\n",
              "      <td>1000</td>\n",
              "      <td>30</td>\n",
              "      <td>2016-09-09</td>\n",
              "      <td>2016-10-08</td>\n",
              "      <td>29</td>\n",
              "      <td>college</td>\n",
              "      <td>male</td>\n",
              "      <td>4</td>\n",
              "      <td>1</td>\n",
              "    </tr>\n",
              "  </tbody>\n",
              "</table>\n",
              "</div>\n",
              "      <button class=\"colab-df-convert\" onclick=\"convertToInteractive('df-f66b00d1-dc0e-4cff-9d0d-56dc1fc252f6')\"\n",
              "              title=\"Convert this dataframe to an interactive table.\"\n",
              "              style=\"display:none;\">\n",
              "        \n",
              "  <svg xmlns=\"http://www.w3.org/2000/svg\" height=\"24px\"viewBox=\"0 0 24 24\"\n",
              "       width=\"24px\">\n",
              "    <path d=\"M0 0h24v24H0V0z\" fill=\"none\"/>\n",
              "    <path d=\"M18.56 5.44l.94 2.06.94-2.06 2.06-.94-2.06-.94-.94-2.06-.94 2.06-2.06.94zm-11 1L8.5 8.5l.94-2.06 2.06-.94-2.06-.94L8.5 2.5l-.94 2.06-2.06.94zm10 10l.94 2.06.94-2.06 2.06-.94-2.06-.94-.94-2.06-.94 2.06-2.06.94z\"/><path d=\"M17.41 7.96l-1.37-1.37c-.4-.4-.92-.59-1.43-.59-.52 0-1.04.2-1.43.59L10.3 9.45l-7.72 7.72c-.78.78-.78 2.05 0 2.83L4 21.41c.39.39.9.59 1.41.59.51 0 1.02-.2 1.41-.59l7.78-7.78 2.81-2.81c.8-.78.8-2.07 0-2.86zM5.41 20L4 18.59l7.72-7.72 1.47 1.35L5.41 20z\"/>\n",
              "  </svg>\n",
              "      </button>\n",
              "      \n",
              "  <style>\n",
              "    .colab-df-container {\n",
              "      display:flex;\n",
              "      flex-wrap:wrap;\n",
              "      gap: 12px;\n",
              "    }\n",
              "\n",
              "    .colab-df-convert {\n",
              "      background-color: #E8F0FE;\n",
              "      border: none;\n",
              "      border-radius: 50%;\n",
              "      cursor: pointer;\n",
              "      display: none;\n",
              "      fill: #1967D2;\n",
              "      height: 32px;\n",
              "      padding: 0 0 0 0;\n",
              "      width: 32px;\n",
              "    }\n",
              "\n",
              "    .colab-df-convert:hover {\n",
              "      background-color: #E2EBFA;\n",
              "      box-shadow: 0px 1px 2px rgba(60, 64, 67, 0.3), 0px 1px 3px 1px rgba(60, 64, 67, 0.15);\n",
              "      fill: #174EA6;\n",
              "    }\n",
              "\n",
              "    [theme=dark] .colab-df-convert {\n",
              "      background-color: #3B4455;\n",
              "      fill: #D2E3FC;\n",
              "    }\n",
              "\n",
              "    [theme=dark] .colab-df-convert:hover {\n",
              "      background-color: #434B5C;\n",
              "      box-shadow: 0px 1px 3px 1px rgba(0, 0, 0, 0.15);\n",
              "      filter: drop-shadow(0px 1px 2px rgba(0, 0, 0, 0.3));\n",
              "      fill: #FFFFFF;\n",
              "    }\n",
              "  </style>\n",
              "\n",
              "      <script>\n",
              "        const buttonEl =\n",
              "          document.querySelector('#df-f66b00d1-dc0e-4cff-9d0d-56dc1fc252f6 button.colab-df-convert');\n",
              "        buttonEl.style.display =\n",
              "          google.colab.kernel.accessAllowed ? 'block' : 'none';\n",
              "\n",
              "        async function convertToInteractive(key) {\n",
              "          const element = document.querySelector('#df-f66b00d1-dc0e-4cff-9d0d-56dc1fc252f6');\n",
              "          const dataTable =\n",
              "            await google.colab.kernel.invokeFunction('convertToInteractive',\n",
              "                                                     [key], {});\n",
              "          if (!dataTable) return;\n",
              "\n",
              "          const docLinkHtml = 'Like what you see? Visit the ' +\n",
              "            '<a target=\"_blank\" href=https://colab.research.google.com/notebooks/data_table.ipynb>data table notebook</a>'\n",
              "            + ' to learn more about interactive tables.';\n",
              "          element.innerHTML = '';\n",
              "          dataTable['output_type'] = 'display_data';\n",
              "          await google.colab.output.renderOutput(dataTable, element);\n",
              "          const docLink = document.createElement('div');\n",
              "          docLink.innerHTML = docLinkHtml;\n",
              "          element.appendChild(docLink);\n",
              "        }\n",
              "      </script>\n",
              "    </div>\n",
              "  </div>\n",
              "  "
            ]
          },
          "metadata": {},
          "execution_count": 18
        }
      ]
    },
    {
      "metadata": {
        "button": false,
        "new_sheet": false,
        "run_control": {
          "read_only": false
        },
        "id": "M8Z0TCMUt3Cn"
      },
      "cell_type": "markdown",
      "source": [
        "## Convert Categorical features to numerical values\n"
      ]
    },
    {
      "metadata": {
        "button": false,
        "new_sheet": false,
        "run_control": {
          "read_only": false
        },
        "id": "PXqTng_Kt3Cn"
      },
      "cell_type": "markdown",
      "source": [
        "Let's look at gender:\n"
      ]
    },
    {
      "metadata": {
        "button": false,
        "new_sheet": false,
        "run_control": {
          "read_only": false
        },
        "id": "yADQ8YALt3Cp",
        "colab": {
          "base_uri": "https://localhost:8080/"
        },
        "outputId": "72e34482-a0ab-4a57-a7fa-0a8a6fc1917f"
      },
      "cell_type": "code",
      "source": [
        "df.groupby(['Gender'])['loan_status'].value_counts(normalize=True)"
      ],
      "execution_count": 19,
      "outputs": [
        {
          "output_type": "execute_result",
          "data": {
            "text/plain": [
              "Gender  loan_status\n",
              "female  PAIDOFF        0.865385\n",
              "        COLLECTION     0.134615\n",
              "male    PAIDOFF        0.731293\n",
              "        COLLECTION     0.268707\n",
              "Name: loan_status, dtype: float64"
            ]
          },
          "metadata": {},
          "execution_count": 19
        }
      ]
    },
    {
      "metadata": {
        "button": false,
        "new_sheet": false,
        "run_control": {
          "read_only": false
        },
        "id": "9Wlw0C26t3Cq"
      },
      "cell_type": "markdown",
      "source": [
        "86 % of female pay there loans while only 73 % of males pay there loan\n"
      ]
    },
    {
      "metadata": {
        "button": false,
        "new_sheet": false,
        "run_control": {
          "read_only": false
        },
        "id": "v1fytCHGt3Cq"
      },
      "cell_type": "markdown",
      "source": [
        "Let's convert male to 0 and female to 1:\n"
      ]
    },
    {
      "metadata": {
        "button": false,
        "new_sheet": false,
        "run_control": {
          "read_only": false
        },
        "id": "y6DCts39t3Cq",
        "colab": {
          "base_uri": "https://localhost:8080/",
          "height": 206
        },
        "outputId": "6270d375-c7d5-49ab-a43f-c711ac26a8f1"
      },
      "cell_type": "code",
      "source": [
        "df['Gender'].replace(to_replace=['male','female'], value=[0,1],inplace=True)\n",
        "df.head()"
      ],
      "execution_count": 20,
      "outputs": [
        {
          "output_type": "execute_result",
          "data": {
            "text/plain": [
              "   Unnamed: 0  Unnamed: 0.1 loan_status  Principal  terms effective_date  \\\n",
              "0           0             0     PAIDOFF       1000     30     2016-09-08   \n",
              "1           2             2     PAIDOFF       1000     30     2016-09-08   \n",
              "2           3             3     PAIDOFF       1000     15     2016-09-08   \n",
              "3           4             4     PAIDOFF       1000     30     2016-09-09   \n",
              "4           6             6     PAIDOFF       1000     30     2016-09-09   \n",
              "\n",
              "    due_date  age             education  Gender  dayofweek  weekend  \n",
              "0 2016-10-07   45  High School or Below       0          3        0  \n",
              "1 2016-10-07   33              Bechalor       1          3        0  \n",
              "2 2016-09-22   27               college       0          3        0  \n",
              "3 2016-10-08   28               college       1          4        1  \n",
              "4 2016-10-08   29               college       0          4        1  "
            ],
            "text/html": [
              "\n",
              "  <div id=\"df-385957ce-b79d-4f53-813d-97050bf0c431\">\n",
              "    <div class=\"colab-df-container\">\n",
              "      <div>\n",
              "<style scoped>\n",
              "    .dataframe tbody tr th:only-of-type {\n",
              "        vertical-align: middle;\n",
              "    }\n",
              "\n",
              "    .dataframe tbody tr th {\n",
              "        vertical-align: top;\n",
              "    }\n",
              "\n",
              "    .dataframe thead th {\n",
              "        text-align: right;\n",
              "    }\n",
              "</style>\n",
              "<table border=\"1\" class=\"dataframe\">\n",
              "  <thead>\n",
              "    <tr style=\"text-align: right;\">\n",
              "      <th></th>\n",
              "      <th>Unnamed: 0</th>\n",
              "      <th>Unnamed: 0.1</th>\n",
              "      <th>loan_status</th>\n",
              "      <th>Principal</th>\n",
              "      <th>terms</th>\n",
              "      <th>effective_date</th>\n",
              "      <th>due_date</th>\n",
              "      <th>age</th>\n",
              "      <th>education</th>\n",
              "      <th>Gender</th>\n",
              "      <th>dayofweek</th>\n",
              "      <th>weekend</th>\n",
              "    </tr>\n",
              "  </thead>\n",
              "  <tbody>\n",
              "    <tr>\n",
              "      <th>0</th>\n",
              "      <td>0</td>\n",
              "      <td>0</td>\n",
              "      <td>PAIDOFF</td>\n",
              "      <td>1000</td>\n",
              "      <td>30</td>\n",
              "      <td>2016-09-08</td>\n",
              "      <td>2016-10-07</td>\n",
              "      <td>45</td>\n",
              "      <td>High School or Below</td>\n",
              "      <td>0</td>\n",
              "      <td>3</td>\n",
              "      <td>0</td>\n",
              "    </tr>\n",
              "    <tr>\n",
              "      <th>1</th>\n",
              "      <td>2</td>\n",
              "      <td>2</td>\n",
              "      <td>PAIDOFF</td>\n",
              "      <td>1000</td>\n",
              "      <td>30</td>\n",
              "      <td>2016-09-08</td>\n",
              "      <td>2016-10-07</td>\n",
              "      <td>33</td>\n",
              "      <td>Bechalor</td>\n",
              "      <td>1</td>\n",
              "      <td>3</td>\n",
              "      <td>0</td>\n",
              "    </tr>\n",
              "    <tr>\n",
              "      <th>2</th>\n",
              "      <td>3</td>\n",
              "      <td>3</td>\n",
              "      <td>PAIDOFF</td>\n",
              "      <td>1000</td>\n",
              "      <td>15</td>\n",
              "      <td>2016-09-08</td>\n",
              "      <td>2016-09-22</td>\n",
              "      <td>27</td>\n",
              "      <td>college</td>\n",
              "      <td>0</td>\n",
              "      <td>3</td>\n",
              "      <td>0</td>\n",
              "    </tr>\n",
              "    <tr>\n",
              "      <th>3</th>\n",
              "      <td>4</td>\n",
              "      <td>4</td>\n",
              "      <td>PAIDOFF</td>\n",
              "      <td>1000</td>\n",
              "      <td>30</td>\n",
              "      <td>2016-09-09</td>\n",
              "      <td>2016-10-08</td>\n",
              "      <td>28</td>\n",
              "      <td>college</td>\n",
              "      <td>1</td>\n",
              "      <td>4</td>\n",
              "      <td>1</td>\n",
              "    </tr>\n",
              "    <tr>\n",
              "      <th>4</th>\n",
              "      <td>6</td>\n",
              "      <td>6</td>\n",
              "      <td>PAIDOFF</td>\n",
              "      <td>1000</td>\n",
              "      <td>30</td>\n",
              "      <td>2016-09-09</td>\n",
              "      <td>2016-10-08</td>\n",
              "      <td>29</td>\n",
              "      <td>college</td>\n",
              "      <td>0</td>\n",
              "      <td>4</td>\n",
              "      <td>1</td>\n",
              "    </tr>\n",
              "  </tbody>\n",
              "</table>\n",
              "</div>\n",
              "      <button class=\"colab-df-convert\" onclick=\"convertToInteractive('df-385957ce-b79d-4f53-813d-97050bf0c431')\"\n",
              "              title=\"Convert this dataframe to an interactive table.\"\n",
              "              style=\"display:none;\">\n",
              "        \n",
              "  <svg xmlns=\"http://www.w3.org/2000/svg\" height=\"24px\"viewBox=\"0 0 24 24\"\n",
              "       width=\"24px\">\n",
              "    <path d=\"M0 0h24v24H0V0z\" fill=\"none\"/>\n",
              "    <path d=\"M18.56 5.44l.94 2.06.94-2.06 2.06-.94-2.06-.94-.94-2.06-.94 2.06-2.06.94zm-11 1L8.5 8.5l.94-2.06 2.06-.94-2.06-.94L8.5 2.5l-.94 2.06-2.06.94zm10 10l.94 2.06.94-2.06 2.06-.94-2.06-.94-.94-2.06-.94 2.06-2.06.94z\"/><path d=\"M17.41 7.96l-1.37-1.37c-.4-.4-.92-.59-1.43-.59-.52 0-1.04.2-1.43.59L10.3 9.45l-7.72 7.72c-.78.78-.78 2.05 0 2.83L4 21.41c.39.39.9.59 1.41.59.51 0 1.02-.2 1.41-.59l7.78-7.78 2.81-2.81c.8-.78.8-2.07 0-2.86zM5.41 20L4 18.59l7.72-7.72 1.47 1.35L5.41 20z\"/>\n",
              "  </svg>\n",
              "      </button>\n",
              "      \n",
              "  <style>\n",
              "    .colab-df-container {\n",
              "      display:flex;\n",
              "      flex-wrap:wrap;\n",
              "      gap: 12px;\n",
              "    }\n",
              "\n",
              "    .colab-df-convert {\n",
              "      background-color: #E8F0FE;\n",
              "      border: none;\n",
              "      border-radius: 50%;\n",
              "      cursor: pointer;\n",
              "      display: none;\n",
              "      fill: #1967D2;\n",
              "      height: 32px;\n",
              "      padding: 0 0 0 0;\n",
              "      width: 32px;\n",
              "    }\n",
              "\n",
              "    .colab-df-convert:hover {\n",
              "      background-color: #E2EBFA;\n",
              "      box-shadow: 0px 1px 2px rgba(60, 64, 67, 0.3), 0px 1px 3px 1px rgba(60, 64, 67, 0.15);\n",
              "      fill: #174EA6;\n",
              "    }\n",
              "\n",
              "    [theme=dark] .colab-df-convert {\n",
              "      background-color: #3B4455;\n",
              "      fill: #D2E3FC;\n",
              "    }\n",
              "\n",
              "    [theme=dark] .colab-df-convert:hover {\n",
              "      background-color: #434B5C;\n",
              "      box-shadow: 0px 1px 3px 1px rgba(0, 0, 0, 0.15);\n",
              "      filter: drop-shadow(0px 1px 2px rgba(0, 0, 0, 0.3));\n",
              "      fill: #FFFFFF;\n",
              "    }\n",
              "  </style>\n",
              "\n",
              "      <script>\n",
              "        const buttonEl =\n",
              "          document.querySelector('#df-385957ce-b79d-4f53-813d-97050bf0c431 button.colab-df-convert');\n",
              "        buttonEl.style.display =\n",
              "          google.colab.kernel.accessAllowed ? 'block' : 'none';\n",
              "\n",
              "        async function convertToInteractive(key) {\n",
              "          const element = document.querySelector('#df-385957ce-b79d-4f53-813d-97050bf0c431');\n",
              "          const dataTable =\n",
              "            await google.colab.kernel.invokeFunction('convertToInteractive',\n",
              "                                                     [key], {});\n",
              "          if (!dataTable) return;\n",
              "\n",
              "          const docLinkHtml = 'Like what you see? Visit the ' +\n",
              "            '<a target=\"_blank\" href=https://colab.research.google.com/notebooks/data_table.ipynb>data table notebook</a>'\n",
              "            + ' to learn more about interactive tables.';\n",
              "          element.innerHTML = '';\n",
              "          dataTable['output_type'] = 'display_data';\n",
              "          await google.colab.output.renderOutput(dataTable, element);\n",
              "          const docLink = document.createElement('div');\n",
              "          docLink.innerHTML = docLinkHtml;\n",
              "          element.appendChild(docLink);\n",
              "        }\n",
              "      </script>\n",
              "    </div>\n",
              "  </div>\n",
              "  "
            ]
          },
          "metadata": {},
          "execution_count": 20
        }
      ]
    },
    {
      "metadata": {
        "button": false,
        "new_sheet": false,
        "run_control": {
          "read_only": false
        },
        "id": "z6h90gXYt3Cr"
      },
      "cell_type": "markdown",
      "source": [
        "## One Hot Encoding\n",
        "\n",
        "#### How about education?\n"
      ]
    },
    {
      "metadata": {
        "button": false,
        "new_sheet": false,
        "run_control": {
          "read_only": false
        },
        "id": "aomvGz3Nt3Cr",
        "colab": {
          "base_uri": "https://localhost:8080/"
        },
        "outputId": "837fbe83-65a4-4cbc-d4f7-e71675d77f99"
      },
      "cell_type": "code",
      "source": [
        "df.groupby(['education'])['loan_status'].value_counts(normalize=True)"
      ],
      "execution_count": 21,
      "outputs": [
        {
          "output_type": "execute_result",
          "data": {
            "text/plain": [
              "education             loan_status\n",
              "Bechalor              PAIDOFF        0.750000\n",
              "                      COLLECTION     0.250000\n",
              "High School or Below  PAIDOFF        0.741722\n",
              "                      COLLECTION     0.258278\n",
              "Master or Above       COLLECTION     0.500000\n",
              "                      PAIDOFF        0.500000\n",
              "college               PAIDOFF        0.765101\n",
              "                      COLLECTION     0.234899\n",
              "Name: loan_status, dtype: float64"
            ]
          },
          "metadata": {},
          "execution_count": 21
        }
      ]
    },
    {
      "metadata": {
        "button": false,
        "new_sheet": false,
        "run_control": {
          "read_only": false
        },
        "id": "CNLJL2uSt3Cr"
      },
      "cell_type": "markdown",
      "source": [
        "#### Features before One Hot Encoding\n"
      ]
    },
    {
      "metadata": {
        "button": false,
        "new_sheet": false,
        "run_control": {
          "read_only": false
        },
        "id": "SrZLssqbt3Cr",
        "colab": {
          "base_uri": "https://localhost:8080/",
          "height": 0
        },
        "outputId": "196f8328-390d-49ad-859c-e27bdda1d475"
      },
      "cell_type": "code",
      "source": [
        "df[['Principal','terms','age','Gender','education']].head()"
      ],
      "execution_count": 22,
      "outputs": [
        {
          "output_type": "execute_result",
          "data": {
            "text/plain": [
              "   Principal  terms  age  Gender             education\n",
              "0       1000     30   45       0  High School or Below\n",
              "1       1000     30   33       1              Bechalor\n",
              "2       1000     15   27       0               college\n",
              "3       1000     30   28       1               college\n",
              "4       1000     30   29       0               college"
            ],
            "text/html": [
              "\n",
              "  <div id=\"df-c664b3e0-596f-4772-a793-82fc280807eb\">\n",
              "    <div class=\"colab-df-container\">\n",
              "      <div>\n",
              "<style scoped>\n",
              "    .dataframe tbody tr th:only-of-type {\n",
              "        vertical-align: middle;\n",
              "    }\n",
              "\n",
              "    .dataframe tbody tr th {\n",
              "        vertical-align: top;\n",
              "    }\n",
              "\n",
              "    .dataframe thead th {\n",
              "        text-align: right;\n",
              "    }\n",
              "</style>\n",
              "<table border=\"1\" class=\"dataframe\">\n",
              "  <thead>\n",
              "    <tr style=\"text-align: right;\">\n",
              "      <th></th>\n",
              "      <th>Principal</th>\n",
              "      <th>terms</th>\n",
              "      <th>age</th>\n",
              "      <th>Gender</th>\n",
              "      <th>education</th>\n",
              "    </tr>\n",
              "  </thead>\n",
              "  <tbody>\n",
              "    <tr>\n",
              "      <th>0</th>\n",
              "      <td>1000</td>\n",
              "      <td>30</td>\n",
              "      <td>45</td>\n",
              "      <td>0</td>\n",
              "      <td>High School or Below</td>\n",
              "    </tr>\n",
              "    <tr>\n",
              "      <th>1</th>\n",
              "      <td>1000</td>\n",
              "      <td>30</td>\n",
              "      <td>33</td>\n",
              "      <td>1</td>\n",
              "      <td>Bechalor</td>\n",
              "    </tr>\n",
              "    <tr>\n",
              "      <th>2</th>\n",
              "      <td>1000</td>\n",
              "      <td>15</td>\n",
              "      <td>27</td>\n",
              "      <td>0</td>\n",
              "      <td>college</td>\n",
              "    </tr>\n",
              "    <tr>\n",
              "      <th>3</th>\n",
              "      <td>1000</td>\n",
              "      <td>30</td>\n",
              "      <td>28</td>\n",
              "      <td>1</td>\n",
              "      <td>college</td>\n",
              "    </tr>\n",
              "    <tr>\n",
              "      <th>4</th>\n",
              "      <td>1000</td>\n",
              "      <td>30</td>\n",
              "      <td>29</td>\n",
              "      <td>0</td>\n",
              "      <td>college</td>\n",
              "    </tr>\n",
              "  </tbody>\n",
              "</table>\n",
              "</div>\n",
              "      <button class=\"colab-df-convert\" onclick=\"convertToInteractive('df-c664b3e0-596f-4772-a793-82fc280807eb')\"\n",
              "              title=\"Convert this dataframe to an interactive table.\"\n",
              "              style=\"display:none;\">\n",
              "        \n",
              "  <svg xmlns=\"http://www.w3.org/2000/svg\" height=\"24px\"viewBox=\"0 0 24 24\"\n",
              "       width=\"24px\">\n",
              "    <path d=\"M0 0h24v24H0V0z\" fill=\"none\"/>\n",
              "    <path d=\"M18.56 5.44l.94 2.06.94-2.06 2.06-.94-2.06-.94-.94-2.06-.94 2.06-2.06.94zm-11 1L8.5 8.5l.94-2.06 2.06-.94-2.06-.94L8.5 2.5l-.94 2.06-2.06.94zm10 10l.94 2.06.94-2.06 2.06-.94-2.06-.94-.94-2.06-.94 2.06-2.06.94z\"/><path d=\"M17.41 7.96l-1.37-1.37c-.4-.4-.92-.59-1.43-.59-.52 0-1.04.2-1.43.59L10.3 9.45l-7.72 7.72c-.78.78-.78 2.05 0 2.83L4 21.41c.39.39.9.59 1.41.59.51 0 1.02-.2 1.41-.59l7.78-7.78 2.81-2.81c.8-.78.8-2.07 0-2.86zM5.41 20L4 18.59l7.72-7.72 1.47 1.35L5.41 20z\"/>\n",
              "  </svg>\n",
              "      </button>\n",
              "      \n",
              "  <style>\n",
              "    .colab-df-container {\n",
              "      display:flex;\n",
              "      flex-wrap:wrap;\n",
              "      gap: 12px;\n",
              "    }\n",
              "\n",
              "    .colab-df-convert {\n",
              "      background-color: #E8F0FE;\n",
              "      border: none;\n",
              "      border-radius: 50%;\n",
              "      cursor: pointer;\n",
              "      display: none;\n",
              "      fill: #1967D2;\n",
              "      height: 32px;\n",
              "      padding: 0 0 0 0;\n",
              "      width: 32px;\n",
              "    }\n",
              "\n",
              "    .colab-df-convert:hover {\n",
              "      background-color: #E2EBFA;\n",
              "      box-shadow: 0px 1px 2px rgba(60, 64, 67, 0.3), 0px 1px 3px 1px rgba(60, 64, 67, 0.15);\n",
              "      fill: #174EA6;\n",
              "    }\n",
              "\n",
              "    [theme=dark] .colab-df-convert {\n",
              "      background-color: #3B4455;\n",
              "      fill: #D2E3FC;\n",
              "    }\n",
              "\n",
              "    [theme=dark] .colab-df-convert:hover {\n",
              "      background-color: #434B5C;\n",
              "      box-shadow: 0px 1px 3px 1px rgba(0, 0, 0, 0.15);\n",
              "      filter: drop-shadow(0px 1px 2px rgba(0, 0, 0, 0.3));\n",
              "      fill: #FFFFFF;\n",
              "    }\n",
              "  </style>\n",
              "\n",
              "      <script>\n",
              "        const buttonEl =\n",
              "          document.querySelector('#df-c664b3e0-596f-4772-a793-82fc280807eb button.colab-df-convert');\n",
              "        buttonEl.style.display =\n",
              "          google.colab.kernel.accessAllowed ? 'block' : 'none';\n",
              "\n",
              "        async function convertToInteractive(key) {\n",
              "          const element = document.querySelector('#df-c664b3e0-596f-4772-a793-82fc280807eb');\n",
              "          const dataTable =\n",
              "            await google.colab.kernel.invokeFunction('convertToInteractive',\n",
              "                                                     [key], {});\n",
              "          if (!dataTable) return;\n",
              "\n",
              "          const docLinkHtml = 'Like what you see? Visit the ' +\n",
              "            '<a target=\"_blank\" href=https://colab.research.google.com/notebooks/data_table.ipynb>data table notebook</a>'\n",
              "            + ' to learn more about interactive tables.';\n",
              "          element.innerHTML = '';\n",
              "          dataTable['output_type'] = 'display_data';\n",
              "          await google.colab.output.renderOutput(dataTable, element);\n",
              "          const docLink = document.createElement('div');\n",
              "          docLink.innerHTML = docLinkHtml;\n",
              "          element.appendChild(docLink);\n",
              "        }\n",
              "      </script>\n",
              "    </div>\n",
              "  </div>\n",
              "  "
            ]
          },
          "metadata": {},
          "execution_count": 22
        }
      ]
    },
    {
      "metadata": {
        "button": false,
        "new_sheet": false,
        "run_control": {
          "read_only": false
        },
        "id": "xLyRjn7at3Cr"
      },
      "cell_type": "markdown",
      "source": [
        "#### Use one hot encoding technique to conver categorical varables to binary variables and append them to the feature Data Frame\n"
      ]
    },
    {
      "metadata": {
        "button": false,
        "new_sheet": false,
        "run_control": {
          "read_only": false
        },
        "id": "d4DUSgRTt3Cs",
        "colab": {
          "base_uri": "https://localhost:8080/",
          "height": 0
        },
        "outputId": "e9e22b21-729e-40ea-8aa0-8fef4fc04577"
      },
      "cell_type": "code",
      "source": [
        "Feature = df[['Principal','terms','age','Gender','weekend']]\n",
        "Feature = pd.concat([Feature,pd.get_dummies(df['education'])], axis=1)\n",
        "Feature.drop(['Master or Above'], axis = 1,inplace=True)\n",
        "Feature.head()\n"
      ],
      "execution_count": 23,
      "outputs": [
        {
          "output_type": "execute_result",
          "data": {
            "text/plain": [
              "   Principal  terms  age  Gender  weekend  Bechalor  High School or Below  \\\n",
              "0       1000     30   45       0        0         0                     1   \n",
              "1       1000     30   33       1        0         1                     0   \n",
              "2       1000     15   27       0        0         0                     0   \n",
              "3       1000     30   28       1        1         0                     0   \n",
              "4       1000     30   29       0        1         0                     0   \n",
              "\n",
              "   college  \n",
              "0        0  \n",
              "1        0  \n",
              "2        1  \n",
              "3        1  \n",
              "4        1  "
            ],
            "text/html": [
              "\n",
              "  <div id=\"df-bbd6a91d-3d27-4314-93a5-d149c7ba9c9e\">\n",
              "    <div class=\"colab-df-container\">\n",
              "      <div>\n",
              "<style scoped>\n",
              "    .dataframe tbody tr th:only-of-type {\n",
              "        vertical-align: middle;\n",
              "    }\n",
              "\n",
              "    .dataframe tbody tr th {\n",
              "        vertical-align: top;\n",
              "    }\n",
              "\n",
              "    .dataframe thead th {\n",
              "        text-align: right;\n",
              "    }\n",
              "</style>\n",
              "<table border=\"1\" class=\"dataframe\">\n",
              "  <thead>\n",
              "    <tr style=\"text-align: right;\">\n",
              "      <th></th>\n",
              "      <th>Principal</th>\n",
              "      <th>terms</th>\n",
              "      <th>age</th>\n",
              "      <th>Gender</th>\n",
              "      <th>weekend</th>\n",
              "      <th>Bechalor</th>\n",
              "      <th>High School or Below</th>\n",
              "      <th>college</th>\n",
              "    </tr>\n",
              "  </thead>\n",
              "  <tbody>\n",
              "    <tr>\n",
              "      <th>0</th>\n",
              "      <td>1000</td>\n",
              "      <td>30</td>\n",
              "      <td>45</td>\n",
              "      <td>0</td>\n",
              "      <td>0</td>\n",
              "      <td>0</td>\n",
              "      <td>1</td>\n",
              "      <td>0</td>\n",
              "    </tr>\n",
              "    <tr>\n",
              "      <th>1</th>\n",
              "      <td>1000</td>\n",
              "      <td>30</td>\n",
              "      <td>33</td>\n",
              "      <td>1</td>\n",
              "      <td>0</td>\n",
              "      <td>1</td>\n",
              "      <td>0</td>\n",
              "      <td>0</td>\n",
              "    </tr>\n",
              "    <tr>\n",
              "      <th>2</th>\n",
              "      <td>1000</td>\n",
              "      <td>15</td>\n",
              "      <td>27</td>\n",
              "      <td>0</td>\n",
              "      <td>0</td>\n",
              "      <td>0</td>\n",
              "      <td>0</td>\n",
              "      <td>1</td>\n",
              "    </tr>\n",
              "    <tr>\n",
              "      <th>3</th>\n",
              "      <td>1000</td>\n",
              "      <td>30</td>\n",
              "      <td>28</td>\n",
              "      <td>1</td>\n",
              "      <td>1</td>\n",
              "      <td>0</td>\n",
              "      <td>0</td>\n",
              "      <td>1</td>\n",
              "    </tr>\n",
              "    <tr>\n",
              "      <th>4</th>\n",
              "      <td>1000</td>\n",
              "      <td>30</td>\n",
              "      <td>29</td>\n",
              "      <td>0</td>\n",
              "      <td>1</td>\n",
              "      <td>0</td>\n",
              "      <td>0</td>\n",
              "      <td>1</td>\n",
              "    </tr>\n",
              "  </tbody>\n",
              "</table>\n",
              "</div>\n",
              "      <button class=\"colab-df-convert\" onclick=\"convertToInteractive('df-bbd6a91d-3d27-4314-93a5-d149c7ba9c9e')\"\n",
              "              title=\"Convert this dataframe to an interactive table.\"\n",
              "              style=\"display:none;\">\n",
              "        \n",
              "  <svg xmlns=\"http://www.w3.org/2000/svg\" height=\"24px\"viewBox=\"0 0 24 24\"\n",
              "       width=\"24px\">\n",
              "    <path d=\"M0 0h24v24H0V0z\" fill=\"none\"/>\n",
              "    <path d=\"M18.56 5.44l.94 2.06.94-2.06 2.06-.94-2.06-.94-.94-2.06-.94 2.06-2.06.94zm-11 1L8.5 8.5l.94-2.06 2.06-.94-2.06-.94L8.5 2.5l-.94 2.06-2.06.94zm10 10l.94 2.06.94-2.06 2.06-.94-2.06-.94-.94-2.06-.94 2.06-2.06.94z\"/><path d=\"M17.41 7.96l-1.37-1.37c-.4-.4-.92-.59-1.43-.59-.52 0-1.04.2-1.43.59L10.3 9.45l-7.72 7.72c-.78.78-.78 2.05 0 2.83L4 21.41c.39.39.9.59 1.41.59.51 0 1.02-.2 1.41-.59l7.78-7.78 2.81-2.81c.8-.78.8-2.07 0-2.86zM5.41 20L4 18.59l7.72-7.72 1.47 1.35L5.41 20z\"/>\n",
              "  </svg>\n",
              "      </button>\n",
              "      \n",
              "  <style>\n",
              "    .colab-df-container {\n",
              "      display:flex;\n",
              "      flex-wrap:wrap;\n",
              "      gap: 12px;\n",
              "    }\n",
              "\n",
              "    .colab-df-convert {\n",
              "      background-color: #E8F0FE;\n",
              "      border: none;\n",
              "      border-radius: 50%;\n",
              "      cursor: pointer;\n",
              "      display: none;\n",
              "      fill: #1967D2;\n",
              "      height: 32px;\n",
              "      padding: 0 0 0 0;\n",
              "      width: 32px;\n",
              "    }\n",
              "\n",
              "    .colab-df-convert:hover {\n",
              "      background-color: #E2EBFA;\n",
              "      box-shadow: 0px 1px 2px rgba(60, 64, 67, 0.3), 0px 1px 3px 1px rgba(60, 64, 67, 0.15);\n",
              "      fill: #174EA6;\n",
              "    }\n",
              "\n",
              "    [theme=dark] .colab-df-convert {\n",
              "      background-color: #3B4455;\n",
              "      fill: #D2E3FC;\n",
              "    }\n",
              "\n",
              "    [theme=dark] .colab-df-convert:hover {\n",
              "      background-color: #434B5C;\n",
              "      box-shadow: 0px 1px 3px 1px rgba(0, 0, 0, 0.15);\n",
              "      filter: drop-shadow(0px 1px 2px rgba(0, 0, 0, 0.3));\n",
              "      fill: #FFFFFF;\n",
              "    }\n",
              "  </style>\n",
              "\n",
              "      <script>\n",
              "        const buttonEl =\n",
              "          document.querySelector('#df-bbd6a91d-3d27-4314-93a5-d149c7ba9c9e button.colab-df-convert');\n",
              "        buttonEl.style.display =\n",
              "          google.colab.kernel.accessAllowed ? 'block' : 'none';\n",
              "\n",
              "        async function convertToInteractive(key) {\n",
              "          const element = document.querySelector('#df-bbd6a91d-3d27-4314-93a5-d149c7ba9c9e');\n",
              "          const dataTable =\n",
              "            await google.colab.kernel.invokeFunction('convertToInteractive',\n",
              "                                                     [key], {});\n",
              "          if (!dataTable) return;\n",
              "\n",
              "          const docLinkHtml = 'Like what you see? Visit the ' +\n",
              "            '<a target=\"_blank\" href=https://colab.research.google.com/notebooks/data_table.ipynb>data table notebook</a>'\n",
              "            + ' to learn more about interactive tables.';\n",
              "          element.innerHTML = '';\n",
              "          dataTable['output_type'] = 'display_data';\n",
              "          await google.colab.output.renderOutput(dataTable, element);\n",
              "          const docLink = document.createElement('div');\n",
              "          docLink.innerHTML = docLinkHtml;\n",
              "          element.appendChild(docLink);\n",
              "        }\n",
              "      </script>\n",
              "    </div>\n",
              "  </div>\n",
              "  "
            ]
          },
          "metadata": {},
          "execution_count": 23
        }
      ]
    },
    {
      "metadata": {
        "button": false,
        "new_sheet": false,
        "run_control": {
          "read_only": false
        },
        "id": "14UZq9eot3Cs"
      },
      "cell_type": "markdown",
      "source": [
        "### Feature Selection\n"
      ]
    },
    {
      "metadata": {
        "button": false,
        "new_sheet": false,
        "run_control": {
          "read_only": false
        },
        "id": "uGU23eupt3Cs"
      },
      "cell_type": "markdown",
      "source": [
        "Let's define feature sets, X:\n"
      ]
    },
    {
      "metadata": {
        "button": false,
        "new_sheet": false,
        "run_control": {
          "read_only": false
        },
        "id": "4sSsqIYJt3Cs",
        "colab": {
          "base_uri": "https://localhost:8080/",
          "height": 0
        },
        "outputId": "7ff90dc3-38e9-457f-a5de-af8cfa05d7ec"
      },
      "cell_type": "code",
      "source": [
        "X = Feature\n",
        "X[0:5]"
      ],
      "execution_count": 24,
      "outputs": [
        {
          "output_type": "execute_result",
          "data": {
            "text/plain": [
              "   Principal  terms  age  Gender  weekend  Bechalor  High School or Below  \\\n",
              "0       1000     30   45       0        0         0                     1   \n",
              "1       1000     30   33       1        0         1                     0   \n",
              "2       1000     15   27       0        0         0                     0   \n",
              "3       1000     30   28       1        1         0                     0   \n",
              "4       1000     30   29       0        1         0                     0   \n",
              "\n",
              "   college  \n",
              "0        0  \n",
              "1        0  \n",
              "2        1  \n",
              "3        1  \n",
              "4        1  "
            ],
            "text/html": [
              "\n",
              "  <div id=\"df-d7bf77e9-5739-4d5e-99c2-c4266ef1e643\">\n",
              "    <div class=\"colab-df-container\">\n",
              "      <div>\n",
              "<style scoped>\n",
              "    .dataframe tbody tr th:only-of-type {\n",
              "        vertical-align: middle;\n",
              "    }\n",
              "\n",
              "    .dataframe tbody tr th {\n",
              "        vertical-align: top;\n",
              "    }\n",
              "\n",
              "    .dataframe thead th {\n",
              "        text-align: right;\n",
              "    }\n",
              "</style>\n",
              "<table border=\"1\" class=\"dataframe\">\n",
              "  <thead>\n",
              "    <tr style=\"text-align: right;\">\n",
              "      <th></th>\n",
              "      <th>Principal</th>\n",
              "      <th>terms</th>\n",
              "      <th>age</th>\n",
              "      <th>Gender</th>\n",
              "      <th>weekend</th>\n",
              "      <th>Bechalor</th>\n",
              "      <th>High School or Below</th>\n",
              "      <th>college</th>\n",
              "    </tr>\n",
              "  </thead>\n",
              "  <tbody>\n",
              "    <tr>\n",
              "      <th>0</th>\n",
              "      <td>1000</td>\n",
              "      <td>30</td>\n",
              "      <td>45</td>\n",
              "      <td>0</td>\n",
              "      <td>0</td>\n",
              "      <td>0</td>\n",
              "      <td>1</td>\n",
              "      <td>0</td>\n",
              "    </tr>\n",
              "    <tr>\n",
              "      <th>1</th>\n",
              "      <td>1000</td>\n",
              "      <td>30</td>\n",
              "      <td>33</td>\n",
              "      <td>1</td>\n",
              "      <td>0</td>\n",
              "      <td>1</td>\n",
              "      <td>0</td>\n",
              "      <td>0</td>\n",
              "    </tr>\n",
              "    <tr>\n",
              "      <th>2</th>\n",
              "      <td>1000</td>\n",
              "      <td>15</td>\n",
              "      <td>27</td>\n",
              "      <td>0</td>\n",
              "      <td>0</td>\n",
              "      <td>0</td>\n",
              "      <td>0</td>\n",
              "      <td>1</td>\n",
              "    </tr>\n",
              "    <tr>\n",
              "      <th>3</th>\n",
              "      <td>1000</td>\n",
              "      <td>30</td>\n",
              "      <td>28</td>\n",
              "      <td>1</td>\n",
              "      <td>1</td>\n",
              "      <td>0</td>\n",
              "      <td>0</td>\n",
              "      <td>1</td>\n",
              "    </tr>\n",
              "    <tr>\n",
              "      <th>4</th>\n",
              "      <td>1000</td>\n",
              "      <td>30</td>\n",
              "      <td>29</td>\n",
              "      <td>0</td>\n",
              "      <td>1</td>\n",
              "      <td>0</td>\n",
              "      <td>0</td>\n",
              "      <td>1</td>\n",
              "    </tr>\n",
              "  </tbody>\n",
              "</table>\n",
              "</div>\n",
              "      <button class=\"colab-df-convert\" onclick=\"convertToInteractive('df-d7bf77e9-5739-4d5e-99c2-c4266ef1e643')\"\n",
              "              title=\"Convert this dataframe to an interactive table.\"\n",
              "              style=\"display:none;\">\n",
              "        \n",
              "  <svg xmlns=\"http://www.w3.org/2000/svg\" height=\"24px\"viewBox=\"0 0 24 24\"\n",
              "       width=\"24px\">\n",
              "    <path d=\"M0 0h24v24H0V0z\" fill=\"none\"/>\n",
              "    <path d=\"M18.56 5.44l.94 2.06.94-2.06 2.06-.94-2.06-.94-.94-2.06-.94 2.06-2.06.94zm-11 1L8.5 8.5l.94-2.06 2.06-.94-2.06-.94L8.5 2.5l-.94 2.06-2.06.94zm10 10l.94 2.06.94-2.06 2.06-.94-2.06-.94-.94-2.06-.94 2.06-2.06.94z\"/><path d=\"M17.41 7.96l-1.37-1.37c-.4-.4-.92-.59-1.43-.59-.52 0-1.04.2-1.43.59L10.3 9.45l-7.72 7.72c-.78.78-.78 2.05 0 2.83L4 21.41c.39.39.9.59 1.41.59.51 0 1.02-.2 1.41-.59l7.78-7.78 2.81-2.81c.8-.78.8-2.07 0-2.86zM5.41 20L4 18.59l7.72-7.72 1.47 1.35L5.41 20z\"/>\n",
              "  </svg>\n",
              "      </button>\n",
              "      \n",
              "  <style>\n",
              "    .colab-df-container {\n",
              "      display:flex;\n",
              "      flex-wrap:wrap;\n",
              "      gap: 12px;\n",
              "    }\n",
              "\n",
              "    .colab-df-convert {\n",
              "      background-color: #E8F0FE;\n",
              "      border: none;\n",
              "      border-radius: 50%;\n",
              "      cursor: pointer;\n",
              "      display: none;\n",
              "      fill: #1967D2;\n",
              "      height: 32px;\n",
              "      padding: 0 0 0 0;\n",
              "      width: 32px;\n",
              "    }\n",
              "\n",
              "    .colab-df-convert:hover {\n",
              "      background-color: #E2EBFA;\n",
              "      box-shadow: 0px 1px 2px rgba(60, 64, 67, 0.3), 0px 1px 3px 1px rgba(60, 64, 67, 0.15);\n",
              "      fill: #174EA6;\n",
              "    }\n",
              "\n",
              "    [theme=dark] .colab-df-convert {\n",
              "      background-color: #3B4455;\n",
              "      fill: #D2E3FC;\n",
              "    }\n",
              "\n",
              "    [theme=dark] .colab-df-convert:hover {\n",
              "      background-color: #434B5C;\n",
              "      box-shadow: 0px 1px 3px 1px rgba(0, 0, 0, 0.15);\n",
              "      filter: drop-shadow(0px 1px 2px rgba(0, 0, 0, 0.3));\n",
              "      fill: #FFFFFF;\n",
              "    }\n",
              "  </style>\n",
              "\n",
              "      <script>\n",
              "        const buttonEl =\n",
              "          document.querySelector('#df-d7bf77e9-5739-4d5e-99c2-c4266ef1e643 button.colab-df-convert');\n",
              "        buttonEl.style.display =\n",
              "          google.colab.kernel.accessAllowed ? 'block' : 'none';\n",
              "\n",
              "        async function convertToInteractive(key) {\n",
              "          const element = document.querySelector('#df-d7bf77e9-5739-4d5e-99c2-c4266ef1e643');\n",
              "          const dataTable =\n",
              "            await google.colab.kernel.invokeFunction('convertToInteractive',\n",
              "                                                     [key], {});\n",
              "          if (!dataTable) return;\n",
              "\n",
              "          const docLinkHtml = 'Like what you see? Visit the ' +\n",
              "            '<a target=\"_blank\" href=https://colab.research.google.com/notebooks/data_table.ipynb>data table notebook</a>'\n",
              "            + ' to learn more about interactive tables.';\n",
              "          element.innerHTML = '';\n",
              "          dataTable['output_type'] = 'display_data';\n",
              "          await google.colab.output.renderOutput(dataTable, element);\n",
              "          const docLink = document.createElement('div');\n",
              "          docLink.innerHTML = docLinkHtml;\n",
              "          element.appendChild(docLink);\n",
              "        }\n",
              "      </script>\n",
              "    </div>\n",
              "  </div>\n",
              "  "
            ]
          },
          "metadata": {},
          "execution_count": 24
        }
      ]
    },
    {
      "metadata": {
        "button": false,
        "new_sheet": false,
        "run_control": {
          "read_only": false
        },
        "id": "w3ZOq3CDt3Ct"
      },
      "cell_type": "markdown",
      "source": [
        "What are our lables?\n"
      ]
    },
    {
      "metadata": {
        "button": false,
        "new_sheet": false,
        "run_control": {
          "read_only": false
        },
        "id": "Wno5z-nUt3Ct",
        "colab": {
          "base_uri": "https://localhost:8080/"
        },
        "outputId": "b902e282-8952-42a1-bb0c-afb8176ec658"
      },
      "cell_type": "code",
      "source": [
        "y = df['loan_status'].values\n",
        "y[0:5]"
      ],
      "execution_count": 25,
      "outputs": [
        {
          "output_type": "execute_result",
          "data": {
            "text/plain": [
              "array(['PAIDOFF', 'PAIDOFF', 'PAIDOFF', 'PAIDOFF', 'PAIDOFF'],\n",
              "      dtype=object)"
            ]
          },
          "metadata": {},
          "execution_count": 25
        }
      ]
    },
    {
      "metadata": {
        "button": false,
        "new_sheet": false,
        "run_control": {
          "read_only": false
        },
        "id": "i2zR_VUNt3Ct"
      },
      "cell_type": "markdown",
      "source": [
        "## Normalize Data\n"
      ]
    },
    {
      "metadata": {
        "button": false,
        "new_sheet": false,
        "run_control": {
          "read_only": false
        },
        "id": "mBbnbgdkt3Ct"
      },
      "cell_type": "markdown",
      "source": [
        "Data Standardization give data zero mean and unit variance (technically should be done after train test split)\n"
      ]
    },
    {
      "metadata": {
        "button": false,
        "new_sheet": false,
        "run_control": {
          "read_only": false
        },
        "id": "6zY5wiUCt3Cu",
        "colab": {
          "base_uri": "https://localhost:8080/"
        },
        "outputId": "28bd96ef-f0fa-4d2a-e325-5b6798882081"
      },
      "cell_type": "code",
      "source": [
        "X= preprocessing.StandardScaler().fit(X).transform(X)\n",
        "X[0:5]"
      ],
      "execution_count": 26,
      "outputs": [
        {
          "output_type": "execute_result",
          "data": {
            "text/plain": [
              "array([[ 0.51578458,  0.92071769,  2.33152555, -0.42056004, -1.20577805,\n",
              "        -0.38170062,  1.13639374, -0.86968108],\n",
              "       [ 0.51578458,  0.92071769,  0.34170148,  2.37778177, -1.20577805,\n",
              "         2.61985426, -0.87997669, -0.86968108],\n",
              "       [ 0.51578458, -0.95911111, -0.65321055, -0.42056004, -1.20577805,\n",
              "        -0.38170062, -0.87997669,  1.14984679],\n",
              "       [ 0.51578458,  0.92071769, -0.48739188,  2.37778177,  0.82934003,\n",
              "        -0.38170062, -0.87997669,  1.14984679],\n",
              "       [ 0.51578458,  0.92071769, -0.3215732 , -0.42056004,  0.82934003,\n",
              "        -0.38170062, -0.87997669,  1.14984679]])"
            ]
          },
          "metadata": {},
          "execution_count": 26
        }
      ]
    },
    {
      "metadata": {
        "button": false,
        "new_sheet": false,
        "run_control": {
          "read_only": false
        },
        "id": "j7qn0Roqt3Cu"
      },
      "cell_type": "markdown",
      "source": [
        "# Classification\n"
      ]
    },
    {
      "metadata": {
        "button": false,
        "new_sheet": false,
        "run_control": {
          "read_only": false
        },
        "id": "FCaCVM57t3Cu"
      },
      "cell_type": "markdown",
      "source": [
        "Now, it is your turn, use the training set to build an accurate model. Then use the test set to report the accuracy of the model\n",
        "You should use the following algorithm:\n",
        "\n",
        "*   K Nearest Neighbor(KNN)\n",
        "*   Decision Tree\n",
        "*   Support Vector Machine\n",
        "*   Logistic Regression\n",
        "\n",
        "\\__ Notice:\\__\n",
        "\n",
        "*   You can go above and change the pre-processing, feature selection, feature-extraction, and so on, to make a better model.\n",
        "*   You should use either scikit-learn, Scipy or Numpy libraries for developing the classification algorithms.\n",
        "*   You should include the code of the algorithm in the following cells.\n"
      ]
    },
    {
      "metadata": {
        "id": "uOnCNchIt3Cu"
      },
      "cell_type": "markdown",
      "source": [
        "# K Nearest Neighbor(KNN)\n",
        "\n",
        "Notice: You should find the best k to build the model with the best accuracy.\\\n",
        "**warning:** You should not use the **loan_test.csv** for finding the best k, however, you can split your train_loan.csv into train and test to find the best **k**.\n"
      ]
    },
    {
      "metadata": {
        "id": "pPqOG_Pxt3Cu",
        "colab": {
          "base_uri": "https://localhost:8080/"
        },
        "outputId": "12e3db7d-64bc-4c64-8005-012223867ae3"
      },
      "cell_type": "code",
      "source": [
        "from sklearn.model_selection import train_test_split\n",
        "X_train, X_test, y_train, y_test = train_test_split( X, y, test_size=0.2)\n",
        "print ('Train set:', X_train.shape,  y_train.shape)\n",
        "print ('Test set:', X_test.shape,  y_test.shape)\n",
        "\n",
        "crng=range(0,5)"
      ],
      "execution_count": 27,
      "outputs": [
        {
          "output_type": "stream",
          "name": "stdout",
          "text": [
            "Train set: (276, 8) (276,)\n",
            "Test set: (70, 8) (70,)\n"
          ]
        }
      ]
    },
    {
      "metadata": {
        "id": "6LRqvpiJt3Cv"
      },
      "cell_type": "code",
      "source": [
        "from sklearn.neighbors import KNeighborsClassifier\n",
        "from sklearn import metrics\n",
        "Ks = 12\n",
        "mean_acc = np.zeros((Ks-1))\n",
        "std_acc = np.zeros((Ks-1))\n",
        "\n",
        "for n in range(1,Ks):\n",
        "        #Train Model and Predict  \n",
        "    Lneigh = KNeighborsClassifier(n_neighbors = n).fit(X_train,y_train)\n",
        "    yhat=Lneigh.predict(X_test)\n",
        "    mean_acc[n-1] = metrics.accuracy_score(y_test, yhat)\n",
        "    std_acc[n-1]=np.std(yhat==y_test)/np.sqrt(yhat.shape[0])\n"
      ],
      "execution_count": 28,
      "outputs": []
    },
    {
      "metadata": {
        "id": "GmL6OwnZt3Cv",
        "colab": {
          "base_uri": "https://localhost:8080/",
          "height": 314
        },
        "outputId": "14e6254a-f7c3-4c4b-d453-ffdfa173cff2"
      },
      "cell_type": "code",
      "source": [
        "mean_acc\n",
        "plt.plot(range(1,Ks),mean_acc,'g')\n",
        "plt.fill_between(range(1,Ks),mean_acc - 1 * std_acc,mean_acc + 1 * std_acc, alpha=0.10)\n",
        "plt.fill_between(range(1,Ks),mean_acc - 3 * std_acc,mean_acc + 3 * std_acc, alpha=0.10,color=\"green\")\n",
        "plt.legend(('Accuracy ', '+/- 1xstd','+/- 3xstd'))\n",
        "plt.ylabel('Accuracy ')\n",
        "plt.xlabel('Number of Neighbors (K)')\n",
        "plt.tight_layout()\n",
        "plt.show()\n",
        "print( \"The best accuracy was with\", mean_acc.max(), \"with k=\", mean_acc.argmax()+1) \n"
      ],
      "execution_count": 29,
      "outputs": [
        {
          "output_type": "display_data",
          "data": {
            "text/plain": [
              "<Figure size 432x288 with 1 Axes>"
            ],
            "image/png": "[encoded data removed]"
          },
          "metadata": {
            "needs_background": "light"
          }
        },
        {
          "output_type": "stream",
          "name": "stdout",
          "text": [
            "The best accuracy was with 0.7428571428571429 with k= 9\n"
          ]
        }
      ]
    },
    {
      "metadata": {
        "id": "EMzO5ex5t3Cv",
        "colab": {
          "base_uri": "https://localhost:8080/"
        },
        "outputId": "77b30897-bf78-48ef-d7ea-40e0d9398ab1"
      },
      "cell_type": "code",
      "source": [
        "Lneighmx = KNeighborsClassifier(n_neighbors = mean_acc.argmax()+1).fit(X_train,y_train)\n",
        "predlneigh=Lneighmx.predict(X_test)\n",
        "print (predlneigh [crng])\n",
        "print (y_test [crng])"
      ],
      "execution_count": 30,
      "outputs": [
        {
          "output_type": "stream",
          "name": "stdout",
          "text": [
            "['PAIDOFF' 'PAIDOFF' 'PAIDOFF' 'PAIDOFF' 'PAIDOFF']\n",
            "['PAIDOFF' 'PAIDOFF' 'COLLECTION' 'PAIDOFF' 'PAIDOFF']\n"
          ]
        }
      ]
    },
    {
      "metadata": {
        "id": "AzFBr4t9t3Cv"
      },
      "cell_type": "markdown",
      "source": [
        "# Decision Tree\n"
      ]
    },
    {
      "metadata": {
        "id": "lJ0k_kp8t3Cv",
        "colab": {
          "base_uri": "https://localhost:8080/"
        },
        "outputId": "6e11504f-3baf-4185-d01b-3b0921c3fc70"
      },
      "cell_type": "code",
      "source": [
        "from sklearn.tree import DecisionTreeClassifier\n",
        "import sklearn.tree as tree\n",
        "LTree = DecisionTreeClassifier(criterion=\"gini\")\n",
        "LTree.fit(X_train,y_train)"
      ],
      "execution_count": 31,
      "outputs": [
        {
          "output_type": "execute_result",
          "data": {
            "text/plain": [
              "DecisionTreeClassifier()"
            ]
          },
          "metadata": {},
          "execution_count": 31
        }
      ]
    },
    {
      "metadata": {
        "id": "GJ59FLGYt3Cw",
        "colab": {
          "base_uri": "https://localhost:8080/"
        },
        "outputId": "8daec5f8-8fa7-49c5-9f70-871c8a2734ca"
      },
      "cell_type": "code",
      "source": [
        "predLTree = LTree.predict(X_test)\n",
        "print (predLTree [crng])\n",
        "print (y_test [crng])\n"
      ],
      "execution_count": 32,
      "outputs": [
        {
          "output_type": "stream",
          "name": "stdout",
          "text": [
            "['PAIDOFF' 'PAIDOFF' 'PAIDOFF' 'COLLECTION' 'PAIDOFF']\n",
            "['PAIDOFF' 'PAIDOFF' 'COLLECTION' 'PAIDOFF' 'PAIDOFF']\n"
          ]
        }
      ]
    },
    {
      "metadata": {
        "id": "kI1LYYG2t3Cw",
        "colab": {
          "base_uri": "https://localhost:8080/"
        },
        "outputId": "58702d66-94ba-4d2c-d120-c57911d92543"
      },
      "cell_type": "code",
      "source": [
        "!pip install graphviz\n",
        "!pip install pydotplus\n",
        "import graphviz \n",
        "import pydotplus\n",
        "dt_data=tree.export_graphviz(LTree,feature_names=Feature.columns, out_file=None, class_names= np.unique(y_train), \\\n",
        "                             filled=True,  special_characters=True,rotate=False)  \n"
      ],
      "execution_count": 33,
      "outputs": [
        {
          "output_type": "stream",
          "name": "stdout",
          "text": [
            "Looking in indexes: https://pypi.org/simple, https://us-python.pkg.dev/colab-wheels/public/simple/\n",
            "Requirement already satisfied: graphviz in /usr/local/lib/python3.7/dist-packages (0.10.1)\n",
            "Looking in indexes: https://pypi.org/simple, https://us-python.pkg.dev/colab-wheels/public/simple/\n",
            "Requirement already satisfied: pydotplus in /usr/local/lib/python3.7/dist-packages (2.0.2)\n",
            "Requirement already satisfied: pyparsing>=2.0.1 in /usr/local/lib/python3.7/dist-packages (from pydotplus) (3.0.9)\n"
          ]
        }
      ]
    },
    {
      "metadata": {
        "scrolled": false,
        "id": "_3_D_i74t3Cx",
        "colab": {
          "base_uri": "https://localhost:8080/",
          "height": 393
        },
        "outputId": "2b5175d3-3486-442b-e40a-91ecfa919d94"
      },
      "cell_type": "code",
      "source": [
        "graph = pydotplus.graph_from_dot_data(dt_data)\n",
        "graph.set_size('\"10,10!\"')\n",
        "gvz_graph = graphviz.Source(graph.to_string())\n",
        "\n",
        "gvz_graph "
      ],
      "execution_count": 34,
      "outputs": [
        {
          "output_type": "execute_result",
          "data": {
            "text/plain": [
              "<graphviz.files.Source at 0x7f6358f4e890>"
            ],
            "image/svg+xml": "<?xml version=\"1.0\" encoding=\"UTF-8\" standalone=\"no\"?>\n<!DOCTYPE svg PUBLIC \"-//W3C//DTD SVG 1.1//EN\"\n \"http://www.w3.org/Graphics/SVG/1.1/DTD/svg11.dtd\">\n<!-- Generated by graphviz version 2.40.1 (20161225.0304)\n -->\n<!-- Title: Tree Pages: 1 -->\n<svg width=\"720pt\" height=\"279pt\"\n viewBox=\"0.00 0.00 720.00 278.76\" xmlns=\"http://www.w3.org/2000/svg\" xmlns:xlink=\"http://www.w3.org/1999/xlink\">\n<g id=\"graph0\" class=\"graph\" transform=\"scale(.1718 .1718) rotate(0) translate(4 1619)\">\n<title>Tree</title>\n<polygon fill=\"#ffffff\" stroke=\"transparent\" points=\"-4,4 -4,-1619 4188,-1619 4188,4 -4,4\"/>\n<!-- 0 -->\n<g id=\"node1\" class=\"node\">\n<title>0</title>\n<polygon fill=\"#78bced\" stroke=\"#000000\" points=\"764,-1615 632,-1615 632,-1532 764,-1532 764,-1615\"/>\n<text text-anchor=\"start\" x=\"640\" y=\"-1599.8\" font-family=\"Helvetica,sans-Serif\" font-size=\"14.00\" fill=\"#000000\">weekend ≤ &#45;0.188</text>\n<text text-anchor=\"start\" x=\"660\" y=\"-1584.8\" font-family=\"Helvetica,sans-Serif\" font-size=\"14.00\" fill=\"#000000\">gini = 0.368</text>\n<text text-anchor=\"start\" x=\"650\" y=\"-1569.8\" font-family=\"Helvetica,sans-Serif\" font-size=\"14.00\" fill=\"#000000\">samples = 276</text>\n<text text-anchor=\"start\" x=\"644\" y=\"-1554.8\" font-family=\"Helvetica,sans-Serif\" font-size=\"14.00\" fill=\"#000000\">value = [67, 209]</text>\n<text text-anchor=\"start\" x=\"642\" y=\"-1539.8\" font-family=\"Helvetica,sans-Serif\" font-size=\"14.00\" fill=\"#000000\">class = PAIDOFF</text>\n</g>\n<!-- 1 -->\n<g id=\"node2\" class=\"node\">\n<title>1</title>\n<polygon fill=\"#3c9fe5\" stroke=\"#000000\" points=\"618,-1496 490,-1496 490,-1413 618,-1413 618,-1496\"/>\n<text text-anchor=\"start\" x=\"513\" y=\"-1480.8\" font-family=\"Helvetica,sans-Serif\" font-size=\"14.00\" fill=\"#000000\">age ≤ &#45;0.404</text>\n<text text-anchor=\"start\" x=\"516\" y=\"-1465.8\" font-family=\"Helvetica,sans-Serif\" font-size=\"14.00\" fill=\"#000000\">gini = 0.034</text>\n<text text-anchor=\"start\" x=\"506\" y=\"-1450.8\" font-family=\"Helvetica,sans-Serif\" font-size=\"14.00\" fill=\"#000000\">samples = 116</text>\n<text text-anchor=\"start\" x=\"504\" y=\"-1435.8\" font-family=\"Helvetica,sans-Serif\" font-size=\"14.00\" fill=\"#000000\">value = [2, 114]</text>\n<text text-anchor=\"start\" x=\"498\" y=\"-1420.8\" font-family=\"Helvetica,sans-Serif\" font-size=\"14.00\" fill=\"#000000\">class = PAIDOFF</text>\n</g>\n<!-- 0&#45;&gt;1 -->\n<g id=\"edge1\" class=\"edge\">\n<title>0&#45;&gt;1</title>\n<path fill=\"none\" stroke=\"#000000\" d=\"M647.6358,-1531.8796C636.3015,-1522.513 624.1785,-1512.4948 612.5419,-1502.8784\"/>\n<polygon fill=\"#000000\" stroke=\"#000000\" points=\"614.5173,-1499.9703 604.5792,-1496.2981 610.0581,-1505.3663 614.5173,-1499.9703\"/>\n<text text-anchor=\"middle\" x=\"606.9449\" y=\"-1517.4859\" font-family=\"Helvetica,sans-Serif\" font-size=\"14.00\" fill=\"#000000\">True</text>\n</g>\n<!-- 12 -->\n<g id=\"node13\" class=\"node\">\n<title>12</title>\n<polygon fill=\"#c0e0f7\" stroke=\"#000000\" points=\"1342,-1496 1214,-1496 1214,-1413 1342,-1413 1342,-1496\"/>\n<text text-anchor=\"start\" x=\"1235.5\" y=\"-1480.8\" font-family=\"Helvetica,sans-Serif\" font-size=\"14.00\" fill=\"#000000\">terms ≤ &#45;1.46</text>\n<text text-anchor=\"start\" x=\"1240\" y=\"-1465.8\" font-family=\"Helvetica,sans-Serif\" font-size=\"14.00\" fill=\"#000000\">gini = 0.482</text>\n<text text-anchor=\"start\" x=\"1230\" y=\"-1450.8\" font-family=\"Helvetica,sans-Serif\" font-size=\"14.00\" fill=\"#000000\">samples = 160</text>\n<text text-anchor=\"start\" x=\"1228\" y=\"-1435.8\" font-family=\"Helvetica,sans-Serif\" font-size=\"14.00\" fill=\"#000000\">value = [65, 95]</text>\n<text text-anchor=\"start\" x=\"1222\" y=\"-1420.8\" font-family=\"Helvetica,sans-Serif\" font-size=\"14.00\" fill=\"#000000\">class = PAIDOFF</text>\n</g>\n<!-- 0&#45;&gt;12 -->\n<g id=\"edge12\" class=\"edge\">\n<title>0&#45;&gt;12</title>\n<path fill=\"none\" stroke=\"#000000\" d=\"M764.0919,-1535.3433C767.0653,-1534.1321 770.0424,-1533.0092 773,-1532 920.5083,-1481.6662 1103.4407,-1463.917 1203.6724,-1457.7347\"/>\n<polygon fill=\"#000000\" stroke=\"#000000\" points=\"1203.9275,-1461.2258 1213.7019,-1457.1378 1203.5116,-1454.2381 1203.9275,-1461.2258\"/>\n<text text-anchor=\"middle\" x=\"1197.1056\" y=\"-1472.1344\" font-family=\"Helvetica,sans-Serif\" font-size=\"14.00\" fill=\"#000000\">False</text>\n</g>\n<!-- 2 -->\n<g id=\"node3\" class=\"node\">\n<title>2</title>\n<polygon fill=\"#43a2e6\" stroke=\"#000000\" points=\"401,-1377 273,-1377 273,-1294 401,-1294 401,-1377\"/>\n<text text-anchor=\"start\" x=\"290.5\" y=\"-1361.8\" font-family=\"Helvetica,sans-Serif\" font-size=\"14.00\" fill=\"#000000\">terms ≤ &#45;0.019</text>\n<text text-anchor=\"start\" x=\"299\" y=\"-1346.8\" font-family=\"Helvetica,sans-Serif\" font-size=\"14.00\" fill=\"#000000\">gini = 0.091</text>\n<text text-anchor=\"start\" x=\"293\" y=\"-1331.8\" font-family=\"Helvetica,sans-Serif\" font-size=\"14.00\" fill=\"#000000\">samples = 42</text>\n<text text-anchor=\"start\" x=\"291.5\" y=\"-1316.8\" font-family=\"Helvetica,sans-Serif\" font-size=\"14.00\" fill=\"#000000\">value = [2, 40]</text>\n<text text-anchor=\"start\" x=\"281\" y=\"-1301.8\" font-family=\"Helvetica,sans-Serif\" font-size=\"14.00\" fill=\"#000000\">class = PAIDOFF</text>\n</g>\n<!-- 1&#45;&gt;2 -->\n<g id=\"edge2\" class=\"edge\">\n<title>1&#45;&gt;2</title>\n<path fill=\"none\" stroke=\"#000000\" d=\"M489.7736,-1419.2791C464.7314,-1405.5463 435.8912,-1389.7307 410.0612,-1375.5658\"/>\n<polygon fill=\"#000000\" stroke=\"#000000\" points=\"411.5126,-1372.3701 401.0616,-1370.6305 408.1468,-1378.5078 411.5126,-1372.3701\"/>\n</g>\n<!-- 11 -->\n<g id=\"node12\" class=\"node\">\n<title>11</title>\n<polygon fill=\"#399de5\" stroke=\"#000000\" points=\"618,-1369.5 490,-1369.5 490,-1301.5 618,-1301.5 618,-1369.5\"/>\n<text text-anchor=\"start\" x=\"524.5\" y=\"-1354.3\" font-family=\"Helvetica,sans-Serif\" font-size=\"14.00\" fill=\"#000000\">gini = 0.0</text>\n<text text-anchor=\"start\" x=\"510\" y=\"-1339.3\" font-family=\"Helvetica,sans-Serif\" font-size=\"14.00\" fill=\"#000000\">samples = 74</text>\n<text text-anchor=\"start\" x=\"508.5\" y=\"-1324.3\" font-family=\"Helvetica,sans-Serif\" font-size=\"14.00\" fill=\"#000000\">value = [0, 74]</text>\n<text text-anchor=\"start\" x=\"498\" y=\"-1309.3\" font-family=\"Helvetica,sans-Serif\" font-size=\"14.00\" fill=\"#000000\">class = PAIDOFF</text>\n</g>\n<!-- 1&#45;&gt;11 -->\n<g id=\"edge11\" class=\"edge\">\n<title>1&#45;&gt;11</title>\n<path fill=\"none\" stroke=\"#000000\" d=\"M554,-1412.8796C554,-1402.2134 554,-1390.7021 554,-1379.9015\"/>\n<polygon fill=\"#000000\" stroke=\"#000000\" points=\"557.5001,-1379.8149 554,-1369.8149 550.5001,-1379.815 557.5001,-1379.8149\"/>\n</g>\n<!-- 3 -->\n<g id=\"node4\" class=\"node\">\n<title>3</title>\n<polygon fill=\"#399de5\" stroke=\"#000000\" points=\"255,-1250.5 127,-1250.5 127,-1182.5 255,-1182.5 255,-1250.5\"/>\n<text text-anchor=\"start\" x=\"161.5\" y=\"-1235.3\" font-family=\"Helvetica,sans-Serif\" font-size=\"14.00\" fill=\"#000000\">gini = 0.0</text>\n<text text-anchor=\"start\" x=\"147\" y=\"-1220.3\" font-family=\"Helvetica,sans-Serif\" font-size=\"14.00\" fill=\"#000000\">samples = 24</text>\n<text text-anchor=\"start\" x=\"145.5\" y=\"-1205.3\" font-family=\"Helvetica,sans-Serif\" font-size=\"14.00\" fill=\"#000000\">value = [0, 24]</text>\n<text text-anchor=\"start\" x=\"135\" y=\"-1190.3\" font-family=\"Helvetica,sans-Serif\" font-size=\"14.00\" fill=\"#000000\">class = PAIDOFF</text>\n</g>\n<!-- 2&#45;&gt;3 -->\n<g id=\"edge3\" class=\"edge\">\n<title>2&#45;&gt;3</title>\n<path fill=\"none\" stroke=\"#000000\" d=\"M285.9363,-1293.8796C271.366,-1282.0038 255.5104,-1269.0804 241.0042,-1257.2568\"/>\n<polygon fill=\"#000000\" stroke=\"#000000\" points=\"243.0634,-1254.4199 233.1007,-1250.8149 238.6408,-1259.8459 243.0634,-1254.4199\"/>\n</g>\n<!-- 4 -->\n<g id=\"node5\" class=\"node\">\n<title>4</title>\n<polygon fill=\"#52a9e8\" stroke=\"#000000\" points=\"401,-1258 273,-1258 273,-1175 401,-1175 401,-1258\"/>\n<text text-anchor=\"start\" x=\"291.5\" y=\"-1242.8\" font-family=\"Helvetica,sans-Serif\" font-size=\"14.00\" fill=\"#000000\">college ≤ 0.14</text>\n<text text-anchor=\"start\" x=\"299\" y=\"-1227.8\" font-family=\"Helvetica,sans-Serif\" font-size=\"14.00\" fill=\"#000000\">gini = 0.198</text>\n<text text-anchor=\"start\" x=\"293\" y=\"-1212.8\" font-family=\"Helvetica,sans-Serif\" font-size=\"14.00\" fill=\"#000000\">samples = 18</text>\n<text text-anchor=\"start\" x=\"291.5\" y=\"-1197.8\" font-family=\"Helvetica,sans-Serif\" font-size=\"14.00\" fill=\"#000000\">value = [2, 16]</text>\n<text text-anchor=\"start\" x=\"281\" y=\"-1182.8\" font-family=\"Helvetica,sans-Serif\" font-size=\"14.00\" fill=\"#000000\">class = PAIDOFF</text>\n</g>\n<!-- 2&#45;&gt;4 -->\n<g id=\"edge4\" class=\"edge\">\n<title>2&#45;&gt;4</title>\n<path fill=\"none\" stroke=\"#000000\" d=\"M337,-1293.8796C337,-1285.6838 337,-1276.9891 337,-1268.5013\"/>\n<polygon fill=\"#000000\" stroke=\"#000000\" points=\"340.5001,-1268.298 337,-1258.2981 333.5001,-1268.2981 340.5001,-1268.298\"/>\n</g>\n<!-- 5 -->\n<g id=\"node6\" class=\"node\">\n<title>5</title>\n<polygon fill=\"#399de5\" stroke=\"#000000\" points=\"255,-1131.5 127,-1131.5 127,-1063.5 255,-1063.5 255,-1131.5\"/>\n<text text-anchor=\"start\" x=\"161.5\" y=\"-1116.3\" font-family=\"Helvetica,sans-Serif\" font-size=\"14.00\" fill=\"#000000\">gini = 0.0</text>\n<text text-anchor=\"start\" x=\"147\" y=\"-1101.3\" font-family=\"Helvetica,sans-Serif\" font-size=\"14.00\" fill=\"#000000\">samples = 10</text>\n<text text-anchor=\"start\" x=\"145.5\" y=\"-1086.3\" font-family=\"Helvetica,sans-Serif\" font-size=\"14.00\" fill=\"#000000\">value = [0, 10]</text>\n<text text-anchor=\"start\" x=\"135\" y=\"-1071.3\" font-family=\"Helvetica,sans-Serif\" font-size=\"14.00\" fill=\"#000000\">class = PAIDOFF</text>\n</g>\n<!-- 4&#45;&gt;5 -->\n<g id=\"edge5\" class=\"edge\">\n<title>4&#45;&gt;5</title>\n<path fill=\"none\" stroke=\"#000000\" d=\"M285.9363,-1174.8796C271.366,-1163.0038 255.5104,-1150.0804 241.0042,-1138.2568\"/>\n<polygon fill=\"#000000\" stroke=\"#000000\" points=\"243.0634,-1135.4199 233.1007,-1131.8149 238.6408,-1140.8459 243.0634,-1135.4199\"/>\n</g>\n<!-- 6 -->\n<g id=\"node7\" class=\"node\">\n<title>6</title>\n<polygon fill=\"#7bbeee\" stroke=\"#000000\" points=\"401,-1139 273,-1139 273,-1056 401,-1056 401,-1139\"/>\n<text text-anchor=\"start\" x=\"296\" y=\"-1123.8\" font-family=\"Helvetica,sans-Serif\" font-size=\"14.00\" fill=\"#000000\">age ≤ &#45;0.985</text>\n<text text-anchor=\"start\" x=\"299\" y=\"-1108.8\" font-family=\"Helvetica,sans-Serif\" font-size=\"14.00\" fill=\"#000000\">gini = 0.375</text>\n<text text-anchor=\"start\" x=\"297.5\" y=\"-1093.8\" font-family=\"Helvetica,sans-Serif\" font-size=\"14.00\" fill=\"#000000\">samples = 8</text>\n<text text-anchor=\"start\" x=\"295.5\" y=\"-1078.8\" font-family=\"Helvetica,sans-Serif\" font-size=\"14.00\" fill=\"#000000\">value = [2, 6]</text>\n<text text-anchor=\"start\" x=\"281\" y=\"-1063.8\" font-family=\"Helvetica,sans-Serif\" font-size=\"14.00\" fill=\"#000000\">class = PAIDOFF</text>\n</g>\n<!-- 4&#45;&gt;6 -->\n<g id=\"edge6\" class=\"edge\">\n<title>4&#45;&gt;6</title>\n<path fill=\"none\" stroke=\"#000000\" d=\"M337,-1174.8796C337,-1166.6838 337,-1157.9891 337,-1149.5013\"/>\n<polygon fill=\"#000000\" stroke=\"#000000\" points=\"340.5001,-1149.298 337,-1139.2981 333.5001,-1149.2981 340.5001,-1149.298\"/>\n</g>\n<!-- 7 -->\n<g id=\"node8\" class=\"node\">\n<title>7</title>\n<polygon fill=\"#399de5\" stroke=\"#000000\" points=\"255,-1012.5 127,-1012.5 127,-944.5 255,-944.5 255,-1012.5\"/>\n<text text-anchor=\"start\" x=\"161.5\" y=\"-997.3\" font-family=\"Helvetica,sans-Serif\" font-size=\"14.00\" fill=\"#000000\">gini = 0.0</text>\n<text text-anchor=\"start\" x=\"151.5\" y=\"-982.3\" font-family=\"Helvetica,sans-Serif\" font-size=\"14.00\" fill=\"#000000\">samples = 3</text>\n<text text-anchor=\"start\" x=\"149.5\" y=\"-967.3\" font-family=\"Helvetica,sans-Serif\" font-size=\"14.00\" fill=\"#000000\">value = [0, 3]</text>\n<text text-anchor=\"start\" x=\"135\" y=\"-952.3\" font-family=\"Helvetica,sans-Serif\" font-size=\"14.00\" fill=\"#000000\">class = PAIDOFF</text>\n</g>\n<!-- 6&#45;&gt;7 -->\n<g id=\"edge7\" class=\"edge\">\n<title>6&#45;&gt;7</title>\n<path fill=\"none\" stroke=\"#000000\" d=\"M285.9363,-1055.8796C271.366,-1044.0038 255.5104,-1031.0804 241.0042,-1019.2568\"/>\n<polygon fill=\"#000000\" stroke=\"#000000\" points=\"243.0634,-1016.4199 233.1007,-1012.8149 238.6408,-1021.8459 243.0634,-1016.4199\"/>\n</g>\n<!-- 8 -->\n<g id=\"node9\" class=\"node\">\n<title>8</title>\n<polygon fill=\"#bddef6\" stroke=\"#000000\" points=\"401,-1020 273,-1020 273,-937 401,-937 401,-1020\"/>\n<text text-anchor=\"start\" x=\"296\" y=\"-1004.8\" font-family=\"Helvetica,sans-Serif\" font-size=\"14.00\" fill=\"#000000\">age ≤ &#45;0.653</text>\n<text text-anchor=\"start\" x=\"303.5\" y=\"-989.8\" font-family=\"Helvetica,sans-Serif\" font-size=\"14.00\" fill=\"#000000\">gini = 0.48</text>\n<text text-anchor=\"start\" x=\"297.5\" y=\"-974.8\" font-family=\"Helvetica,sans-Serif\" font-size=\"14.00\" fill=\"#000000\">samples = 5</text>\n<text text-anchor=\"start\" x=\"295.5\" y=\"-959.8\" font-family=\"Helvetica,sans-Serif\" font-size=\"14.00\" fill=\"#000000\">value = [2, 3]</text>\n<text text-anchor=\"start\" x=\"281\" y=\"-944.8\" font-family=\"Helvetica,sans-Serif\" font-size=\"14.00\" fill=\"#000000\">class = PAIDOFF</text>\n</g>\n<!-- 6&#45;&gt;8 -->\n<g id=\"edge8\" class=\"edge\">\n<title>6&#45;&gt;8</title>\n<path fill=\"none\" stroke=\"#000000\" d=\"M337,-1055.8796C337,-1047.6838 337,-1038.9891 337,-1030.5013\"/>\n<polygon fill=\"#000000\" stroke=\"#000000\" points=\"340.5001,-1030.298 337,-1020.2981 333.5001,-1030.2981 340.5001,-1030.298\"/>\n</g>\n<!-- 9 -->\n<g id=\"node10\" class=\"node\">\n<title>9</title>\n<polygon fill=\"#ffffff\" stroke=\"#000000\" points=\"254.5,-893.5 95.5,-893.5 95.5,-825.5 254.5,-825.5 254.5,-893.5\"/>\n<text text-anchor=\"start\" x=\"145.5\" y=\"-878.3\" font-family=\"Helvetica,sans-Serif\" font-size=\"14.00\" fill=\"#000000\">gini = 0.5</text>\n<text text-anchor=\"start\" x=\"135.5\" y=\"-863.3\" font-family=\"Helvetica,sans-Serif\" font-size=\"14.00\" fill=\"#000000\">samples = 2</text>\n<text text-anchor=\"start\" x=\"133.5\" y=\"-848.3\" font-family=\"Helvetica,sans-Serif\" font-size=\"14.00\" fill=\"#000000\">value = [1, 1]</text>\n<text text-anchor=\"start\" x=\"103.5\" y=\"-833.3\" font-family=\"Helvetica,sans-Serif\" font-size=\"14.00\" fill=\"#000000\">class = COLLECTION</text>\n</g>\n<!-- 8&#45;&gt;9 -->\n<g id=\"edge9\" class=\"edge\">\n<title>8&#45;&gt;9</title>\n<path fill=\"none\" stroke=\"#000000\" d=\"M280.3403,-936.8796C263.9459,-924.8368 246.0849,-911.7167 229.8058,-899.7586\"/>\n<polygon fill=\"#000000\" stroke=\"#000000\" points=\"231.5846,-896.7224 221.4532,-893.623 227.4405,-902.3639 231.5846,-896.7224\"/>\n</g>\n<!-- 10 -->\n<g id=\"node11\" class=\"node\">\n<title>10</title>\n<polygon fill=\"#9ccef2\" stroke=\"#000000\" points=\"401,-893.5 273,-893.5 273,-825.5 401,-825.5 401,-893.5\"/>\n<text text-anchor=\"start\" x=\"299\" y=\"-878.3\" font-family=\"Helvetica,sans-Serif\" font-size=\"14.00\" fill=\"#000000\">gini = 0.444</text>\n<text text-anchor=\"start\" x=\"297.5\" y=\"-863.3\" font-family=\"Helvetica,sans-Serif\" font-size=\"14.00\" fill=\"#000000\">samples = 3</text>\n<text text-anchor=\"start\" x=\"295.5\" y=\"-848.3\" font-family=\"Helvetica,sans-Serif\" font-size=\"14.00\" fill=\"#000000\">value = [1, 2]</text>\n<text text-anchor=\"start\" x=\"281\" y=\"-833.3\" font-family=\"Helvetica,sans-Serif\" font-size=\"14.00\" fill=\"#000000\">class = PAIDOFF</text>\n</g>\n<!-- 8&#45;&gt;10 -->\n<g id=\"edge10\" class=\"edge\">\n<title>8&#45;&gt;10</title>\n<path fill=\"none\" stroke=\"#000000\" d=\"M337,-936.8796C337,-926.2134 337,-914.7021 337,-903.9015\"/>\n<polygon fill=\"#000000\" stroke=\"#000000\" points=\"340.5001,-903.8149 337,-893.8149 333.5001,-903.815 340.5001,-903.8149\"/>\n</g>\n<!-- 13 -->\n<g id=\"node14\" class=\"node\">\n<title>13</title>\n<polygon fill=\"#399de5\" stroke=\"#000000\" points=\"1342,-1369.5 1214,-1369.5 1214,-1301.5 1342,-1301.5 1342,-1369.5\"/>\n<text text-anchor=\"start\" x=\"1248.5\" y=\"-1354.3\" font-family=\"Helvetica,sans-Serif\" font-size=\"14.00\" fill=\"#000000\">gini = 0.0</text>\n<text text-anchor=\"start\" x=\"1238.5\" y=\"-1339.3\" font-family=\"Helvetica,sans-Serif\" font-size=\"14.00\" fill=\"#000000\">samples = 5</text>\n<text text-anchor=\"start\" x=\"1236.5\" y=\"-1324.3\" font-family=\"Helvetica,sans-Serif\" font-size=\"14.00\" fill=\"#000000\">value = [0, 5]</text>\n<text text-anchor=\"start\" x=\"1222\" y=\"-1309.3\" font-family=\"Helvetica,sans-Serif\" font-size=\"14.00\" fill=\"#000000\">class = PAIDOFF</text>\n</g>\n<!-- 12&#45;&gt;13 -->\n<g id=\"edge13\" class=\"edge\">\n<title>12&#45;&gt;13</title>\n<path fill=\"none\" stroke=\"#000000\" d=\"M1278,-1412.8796C1278,-1402.2134 1278,-1390.7021 1278,-1379.9015\"/>\n<polygon fill=\"#000000\" stroke=\"#000000\" points=\"1281.5001,-1379.8149 1278,-1369.8149 1274.5001,-1379.815 1281.5001,-1379.8149\"/>\n</g>\n<!-- 14 -->\n<g id=\"node15\" class=\"node\">\n<title>14</title>\n<polygon fill=\"#c8e4f8\" stroke=\"#000000\" points=\"1524,-1377 1396,-1377 1396,-1294 1524,-1294 1524,-1377\"/>\n<text text-anchor=\"start\" x=\"1421.5\" y=\"-1361.8\" font-family=\"Helvetica,sans-Serif\" font-size=\"14.00\" fill=\"#000000\">age ≤ 0.259</text>\n<text text-anchor=\"start\" x=\"1422\" y=\"-1346.8\" font-family=\"Helvetica,sans-Serif\" font-size=\"14.00\" fill=\"#000000\">gini = 0.487</text>\n<text text-anchor=\"start\" x=\"1412\" y=\"-1331.8\" font-family=\"Helvetica,sans-Serif\" font-size=\"14.00\" fill=\"#000000\">samples = 155</text>\n<text text-anchor=\"start\" x=\"1410\" y=\"-1316.8\" font-family=\"Helvetica,sans-Serif\" font-size=\"14.00\" fill=\"#000000\">value = [65, 90]</text>\n<text text-anchor=\"start\" x=\"1404\" y=\"-1301.8\" font-family=\"Helvetica,sans-Serif\" font-size=\"14.00\" fill=\"#000000\">class = PAIDOFF</text>\n</g>\n<!-- 12&#45;&gt;14 -->\n<g id=\"edge14\" class=\"edge\">\n<title>12&#45;&gt;14</title>\n<path fill=\"none\" stroke=\"#000000\" d=\"M1341.6548,-1412.8796C1356.6176,-1403.0962 1372.6677,-1392.6019 1387.9691,-1382.5971\"/>\n<polygon fill=\"#000000\" stroke=\"#000000\" points=\"1389.9269,-1385.4989 1396.3812,-1377.0969 1386.0961,-1379.6401 1389.9269,-1385.4989\"/>\n</g>\n<!-- 15 -->\n<g id=\"node16\" class=\"node\">\n<title>15</title>\n<polygon fill=\"#e2f0fb\" stroke=\"#000000\" points=\"1524,-1258 1396,-1258 1396,-1175 1524,-1175 1524,-1258\"/>\n<text text-anchor=\"start\" x=\"1414.5\" y=\"-1242.8\" font-family=\"Helvetica,sans-Serif\" font-size=\"14.00\" fill=\"#000000\">college ≤ 0.14</text>\n<text text-anchor=\"start\" x=\"1422\" y=\"-1227.8\" font-family=\"Helvetica,sans-Serif\" font-size=\"14.00\" fill=\"#000000\">gini = 0.497</text>\n<text text-anchor=\"start\" x=\"1412\" y=\"-1212.8\" font-family=\"Helvetica,sans-Serif\" font-size=\"14.00\" fill=\"#000000\">samples = 100</text>\n<text text-anchor=\"start\" x=\"1410\" y=\"-1197.8\" font-family=\"Helvetica,sans-Serif\" font-size=\"14.00\" fill=\"#000000\">value = [46, 54]</text>\n<text text-anchor=\"start\" x=\"1404\" y=\"-1182.8\" font-family=\"Helvetica,sans-Serif\" font-size=\"14.00\" fill=\"#000000\">class = PAIDOFF</text>\n</g>\n<!-- 14&#45;&gt;15 -->\n<g id=\"edge15\" class=\"edge\">\n<title>14&#45;&gt;15</title>\n<path fill=\"none\" stroke=\"#000000\" d=\"M1460,-1293.8796C1460,-1285.6838 1460,-1276.9891 1460,-1268.5013\"/>\n<polygon fill=\"#000000\" stroke=\"#000000\" points=\"1463.5001,-1268.298 1460,-1258.2981 1456.5001,-1268.2981 1463.5001,-1268.298\"/>\n</g>\n<!-- 110 -->\n<g id=\"node111\" class=\"node\">\n<title>110</title>\n<polygon fill=\"#a2d1f3\" stroke=\"#000000\" points=\"2871,-1258 2743,-1258 2743,-1175 2871,-1175 2871,-1258\"/>\n<text text-anchor=\"start\" x=\"2772.5\" y=\"-1242.8\" font-family=\"Helvetica,sans-Serif\" font-size=\"14.00\" fill=\"#000000\">age ≤ 0.59</text>\n<text text-anchor=\"start\" x=\"2769\" y=\"-1227.8\" font-family=\"Helvetica,sans-Serif\" font-size=\"14.00\" fill=\"#000000\">gini = 0.452</text>\n<text text-anchor=\"start\" x=\"2763\" y=\"-1212.8\" font-family=\"Helvetica,sans-Serif\" font-size=\"14.00\" fill=\"#000000\">samples = 55</text>\n<text text-anchor=\"start\" x=\"2757\" y=\"-1197.8\" font-family=\"Helvetica,sans-Serif\" font-size=\"14.00\" fill=\"#000000\">value = [19, 36]</text>\n<text text-anchor=\"start\" x=\"2751\" y=\"-1182.8\" font-family=\"Helvetica,sans-Serif\" font-size=\"14.00\" fill=\"#000000\">class = PAIDOFF</text>\n</g>\n<!-- 14&#45;&gt;110 -->\n<g id=\"edge110\" class=\"edge\">\n<title>14&#45;&gt;110</title>\n<path fill=\"none\" stroke=\"#000000\" d=\"M1524.0624,-1329.8404C1747.8888,-1310.0666 2494.346,-1244.1212 2732.9728,-1223.0399\"/>\n<polygon fill=\"#000000\" stroke=\"#000000\" points=\"2733.2848,-1226.5261 2742.938,-1222.1595 2732.6688,-1219.5532 2733.2848,-1226.5261\"/>\n</g>\n<!-- 16 -->\n<g id=\"node17\" class=\"node\">\n<title>16</title>\n<polygon fill=\"#fdf6f0\" stroke=\"#000000\" points=\"1085.5,-1139 926.5,-1139 926.5,-1056 1085.5,-1056 1085.5,-1139\"/>\n<text text-anchor=\"start\" x=\"950\" y=\"-1123.8\" font-family=\"Helvetica,sans-Serif\" font-size=\"14.00\" fill=\"#000000\">Principal ≤ &#45;0.399</text>\n<text text-anchor=\"start\" x=\"968\" y=\"-1108.8\" font-family=\"Helvetica,sans-Serif\" font-size=\"14.00\" fill=\"#000000\">gini = 0.499</text>\n<text text-anchor=\"start\" x=\"962\" y=\"-1093.8\" font-family=\"Helvetica,sans-Serif\" font-size=\"14.00\" fill=\"#000000\">samples = 52</text>\n<text text-anchor=\"start\" x=\"956\" y=\"-1078.8\" font-family=\"Helvetica,sans-Serif\" font-size=\"14.00\" fill=\"#000000\">value = [27, 25]</text>\n<text text-anchor=\"start\" x=\"934.5\" y=\"-1063.8\" font-family=\"Helvetica,sans-Serif\" font-size=\"14.00\" fill=\"#000000\">class = COLLECTION</text>\n</g>\n<!-- 15&#45;&gt;16 -->\n<g id=\"edge16\" class=\"edge\">\n<title>15&#45;&gt;16</title>\n<path fill=\"none\" stroke=\"#000000\" d=\"M1395.9158,-1199.7026C1317.4634,-1179.1391 1184.1395,-1144.193 1095.5721,-1120.9782\"/>\n<polygon fill=\"#000000\" stroke=\"#000000\" points=\"1096.3663,-1117.5681 1085.8056,-1118.4182 1094.5914,-1124.3394 1096.3663,-1117.5681\"/>\n</g>\n<!-- 71 -->\n<g id=\"node72\" class=\"node\">\n<title>71</title>\n<polygon fill=\"#bbddf6\" stroke=\"#000000\" points=\"1901,-1139 1773,-1139 1773,-1056 1901,-1056 1901,-1139\"/>\n<text text-anchor=\"start\" x=\"1796\" y=\"-1123.8\" font-family=\"Helvetica,sans-Serif\" font-size=\"14.00\" fill=\"#000000\">age ≤ &#45;0.239</text>\n<text text-anchor=\"start\" x=\"1799\" y=\"-1108.8\" font-family=\"Helvetica,sans-Serif\" font-size=\"14.00\" fill=\"#000000\">gini = 0.478</text>\n<text text-anchor=\"start\" x=\"1793\" y=\"-1093.8\" font-family=\"Helvetica,sans-Serif\" font-size=\"14.00\" fill=\"#000000\">samples = 48</text>\n<text text-anchor=\"start\" x=\"1787\" y=\"-1078.8\" font-family=\"Helvetica,sans-Serif\" font-size=\"14.00\" fill=\"#000000\">value = [19, 29]</text>\n<text text-anchor=\"start\" x=\"1781\" y=\"-1063.8\" font-family=\"Helvetica,sans-Serif\" font-size=\"14.00\" fill=\"#000000\">class = PAIDOFF</text>\n</g>\n<!-- 15&#45;&gt;71 -->\n<g id=\"edge71\" class=\"edge\">\n<title>15&#45;&gt;71</title>\n<path fill=\"none\" stroke=\"#000000\" d=\"M1524.3802,-1196.1784C1590.663,-1175.2562 1693.8042,-1142.6997 1763.3085,-1120.7607\"/>\n<polygon fill=\"#000000\" stroke=\"#000000\" points=\"1764.4026,-1124.0856 1772.8853,-1117.7378 1762.2955,-1117.4103 1764.4026,-1124.0856\"/>\n</g>\n<!-- 17 -->\n<g id=\"node18\" class=\"node\">\n<title>17</title>\n<polygon fill=\"#eeab7b\" stroke=\"#000000\" points=\"755.5,-1020 596.5,-1020 596.5,-937 755.5,-937 755.5,-1020\"/>\n<text text-anchor=\"start\" x=\"635\" y=\"-1004.8\" font-family=\"Helvetica,sans-Serif\" font-size=\"14.00\" fill=\"#000000\">age ≤ &#45;0.736</text>\n<text text-anchor=\"start\" x=\"638\" y=\"-989.8\" font-family=\"Helvetica,sans-Serif\" font-size=\"14.00\" fill=\"#000000\">gini = 0.375</text>\n<text text-anchor=\"start\" x=\"636.5\" y=\"-974.8\" font-family=\"Helvetica,sans-Serif\" font-size=\"14.00\" fill=\"#000000\">samples = 8</text>\n<text text-anchor=\"start\" x=\"634.5\" y=\"-959.8\" font-family=\"Helvetica,sans-Serif\" font-size=\"14.00\" fill=\"#000000\">value = [6, 2]</text>\n<text text-anchor=\"start\" x=\"604.5\" y=\"-944.8\" font-family=\"Helvetica,sans-Serif\" font-size=\"14.00\" fill=\"#000000\">class = COLLECTION</text>\n</g>\n<!-- 16&#45;&gt;17 -->\n<g id=\"edge17\" class=\"edge\">\n<title>16&#45;&gt;17</title>\n<path fill=\"none\" stroke=\"#000000\" d=\"M926.1162,-1068.6934C877.5526,-1051.1811 815.4424,-1028.7838 765.2655,-1010.6897\"/>\n<polygon fill=\"#000000\" stroke=\"#000000\" points=\"766.3138,-1007.3471 755.7194,-1007.2473 763.9392,-1013.9321 766.3138,-1007.3471\"/>\n</g>\n<!-- 24 -->\n<g id=\"node25\" class=\"node\">\n<title>24</title>\n<polygon fill=\"#eef6fd\" stroke=\"#000000\" points=\"1070,-1020 942,-1020 942,-937 1070,-937 1070,-1020\"/>\n<text text-anchor=\"start\" x=\"965\" y=\"-1004.8\" font-family=\"Helvetica,sans-Serif\" font-size=\"14.00\" fill=\"#000000\">age ≤ &#45;0.073</text>\n<text text-anchor=\"start\" x=\"968\" y=\"-989.8\" font-family=\"Helvetica,sans-Serif\" font-size=\"14.00\" fill=\"#000000\">gini = 0.499</text>\n<text text-anchor=\"start\" x=\"962\" y=\"-974.8\" font-family=\"Helvetica,sans-Serif\" font-size=\"14.00\" fill=\"#000000\">samples = 44</text>\n<text text-anchor=\"start\" x=\"956\" y=\"-959.8\" font-family=\"Helvetica,sans-Serif\" font-size=\"14.00\" fill=\"#000000\">value = [21, 23]</text>\n<text text-anchor=\"start\" x=\"950\" y=\"-944.8\" font-family=\"Helvetica,sans-Serif\" font-size=\"14.00\" fill=\"#000000\">class = PAIDOFF</text>\n</g>\n<!-- 16&#45;&gt;24 -->\n<g id=\"edge24\" class=\"edge\">\n<title>16&#45;&gt;24</title>\n<path fill=\"none\" stroke=\"#000000\" d=\"M1006,-1055.8796C1006,-1047.6838 1006,-1038.9891 1006,-1030.5013\"/>\n<polygon fill=\"#000000\" stroke=\"#000000\" points=\"1009.5001,-1030.298 1006,-1020.2981 1002.5001,-1030.2981 1009.5001,-1030.298\"/>\n</g>\n<!-- 18 -->\n<g id=\"node19\" class=\"node\">\n<title>18</title>\n<polygon fill=\"#e58139\" stroke=\"#000000\" points=\"578.5,-893.5 419.5,-893.5 419.5,-825.5 578.5,-825.5 578.5,-893.5\"/>\n<text text-anchor=\"start\" x=\"469.5\" y=\"-878.3\" font-family=\"Helvetica,sans-Serif\" font-size=\"14.00\" fill=\"#000000\">gini = 0.0</text>\n<text text-anchor=\"start\" x=\"459.5\" y=\"-863.3\" font-family=\"Helvetica,sans-Serif\" font-size=\"14.00\" fill=\"#000000\">samples = 3</text>\n<text text-anchor=\"start\" x=\"457.5\" y=\"-848.3\" font-family=\"Helvetica,sans-Serif\" font-size=\"14.00\" fill=\"#000000\">value = [3, 0]</text>\n<text text-anchor=\"start\" x=\"427.5\" y=\"-833.3\" font-family=\"Helvetica,sans-Serif\" font-size=\"14.00\" fill=\"#000000\">class = COLLECTION</text>\n</g>\n<!-- 17&#45;&gt;18 -->\n<g id=\"edge18\" class=\"edge\">\n<title>17&#45;&gt;18</title>\n<path fill=\"none\" stroke=\"#000000\" d=\"M614.094,-936.8796C596.0172,-924.7263 576.3086,-911.4759 558.3913,-899.4297\"/>\n<polygon fill=\"#000000\" stroke=\"#000000\" points=\"560.0061,-896.2979 549.7544,-893.623 556.1004,-902.1071 560.0061,-896.2979\"/>\n</g>\n<!-- 19 -->\n<g id=\"node20\" class=\"node\">\n<title>19</title>\n<polygon fill=\"#f6d5bd\" stroke=\"#000000\" points=\"755.5,-901 596.5,-901 596.5,-818 755.5,-818 755.5,-901\"/>\n<text text-anchor=\"start\" x=\"625.5\" y=\"-885.8\" font-family=\"Helvetica,sans-Serif\" font-size=\"14.00\" fill=\"#000000\">Gender ≤ 0.979</text>\n<text text-anchor=\"start\" x=\"642.5\" y=\"-870.8\" font-family=\"Helvetica,sans-Serif\" font-size=\"14.00\" fill=\"#000000\">gini = 0.48</text>\n<text text-anchor=\"start\" x=\"636.5\" y=\"-855.8\" font-family=\"Helvetica,sans-Serif\" font-size=\"14.00\" fill=\"#000000\">samples = 5</text>\n<text text-anchor=\"start\" x=\"634.5\" y=\"-840.8\" font-family=\"Helvetica,sans-Serif\" font-size=\"14.00\" fill=\"#000000\">value = [3, 2]</text>\n<text text-anchor=\"start\" x=\"604.5\" y=\"-825.8\" font-family=\"Helvetica,sans-Serif\" font-size=\"14.00\" fill=\"#000000\">class = COLLECTION</text>\n</g>\n<!-- 17&#45;&gt;19 -->\n<g id=\"edge19\" class=\"edge\">\n<title>17&#45;&gt;19</title>\n<path fill=\"none\" stroke=\"#000000\" d=\"M676,-936.8796C676,-928.6838 676,-919.9891 676,-911.5013\"/>\n<polygon fill=\"#000000\" stroke=\"#000000\" points=\"679.5001,-911.298 676,-901.2981 672.5001,-911.2981 679.5001,-911.298\"/>\n</g>\n<!-- 20 -->\n<g id=\"node21\" class=\"node\">\n<title>20</title>\n<polygon fill=\"#eeab7b\" stroke=\"#000000\" points=\"504.5,-782 345.5,-782 345.5,-699 504.5,-699 504.5,-782\"/>\n<text text-anchor=\"start\" x=\"388.5\" y=\"-766.8\" font-family=\"Helvetica,sans-Serif\" font-size=\"14.00\" fill=\"#000000\">age ≤ &#45;0.57</text>\n<text text-anchor=\"start\" x=\"387\" y=\"-751.8\" font-family=\"Helvetica,sans-Serif\" font-size=\"14.00\" fill=\"#000000\">gini = 0.375</text>\n<text text-anchor=\"start\" x=\"385.5\" y=\"-736.8\" font-family=\"Helvetica,sans-Serif\" font-size=\"14.00\" fill=\"#000000\">samples = 4</text>\n<text text-anchor=\"start\" x=\"383.5\" y=\"-721.8\" font-family=\"Helvetica,sans-Serif\" font-size=\"14.00\" fill=\"#000000\">value = [3, 1]</text>\n<text text-anchor=\"start\" x=\"353.5\" y=\"-706.8\" font-family=\"Helvetica,sans-Serif\" font-size=\"14.00\" fill=\"#000000\">class = COLLECTION</text>\n</g>\n<!-- 19&#45;&gt;20 -->\n<g id=\"edge20\" class=\"edge\">\n<title>19&#45;&gt;20</title>\n<path fill=\"none\" stroke=\"#000000\" d=\"M596.2372,-821.6841C570.0419,-809.2649 540.7669,-795.3855 513.9351,-782.6645\"/>\n<polygon fill=\"#000000\" stroke=\"#000000\" points=\"515.0907,-779.3389 504.5553,-778.2175 512.0919,-785.6641 515.0907,-779.3389\"/>\n</g>\n<!-- 23 -->\n<g id=\"node24\" class=\"node\">\n<title>23</title>\n<polygon fill=\"#399de5\" stroke=\"#000000\" points=\"674,-774.5 546,-774.5 546,-706.5 674,-706.5 674,-774.5\"/>\n<text text-anchor=\"start\" x=\"580.5\" y=\"-759.3\" font-family=\"Helvetica,sans-Serif\" font-size=\"14.00\" fill=\"#000000\">gini = 0.0</text>\n<text text-anchor=\"start\" x=\"570.5\" y=\"-744.3\" font-family=\"Helvetica,sans-Serif\" font-size=\"14.00\" fill=\"#000000\">samples = 1</text>\n<text text-anchor=\"start\" x=\"568.5\" y=\"-729.3\" font-family=\"Helvetica,sans-Serif\" font-size=\"14.00\" fill=\"#000000\">value = [0, 1]</text>\n<text text-anchor=\"start\" x=\"554\" y=\"-714.3\" font-family=\"Helvetica,sans-Serif\" font-size=\"14.00\" fill=\"#000000\">class = PAIDOFF</text>\n</g>\n<!-- 19&#45;&gt;23 -->\n<g id=\"edge23\" class=\"edge\">\n<title>19&#45;&gt;23</title>\n<path fill=\"none\" stroke=\"#000000\" d=\"M652.9164,-817.8796C646.7567,-806.7735 640.0889,-794.7513 633.8871,-783.5691\"/>\n<polygon fill=\"#000000\" stroke=\"#000000\" points=\"636.9428,-781.8624 629.0318,-774.8149 630.8213,-785.2576 636.9428,-781.8624\"/>\n</g>\n<!-- 21 -->\n<g id=\"node22\" class=\"node\">\n<title>21</title>\n<polygon fill=\"#399de5\" stroke=\"#000000\" points=\"327,-655.5 199,-655.5 199,-587.5 327,-587.5 327,-655.5\"/>\n<text text-anchor=\"start\" x=\"233.5\" y=\"-640.3\" font-family=\"Helvetica,sans-Serif\" font-size=\"14.00\" fill=\"#000000\">gini = 0.0</text>\n<text text-anchor=\"start\" x=\"223.5\" y=\"-625.3\" font-family=\"Helvetica,sans-Serif\" font-size=\"14.00\" fill=\"#000000\">samples = 1</text>\n<text text-anchor=\"start\" x=\"221.5\" y=\"-610.3\" font-family=\"Helvetica,sans-Serif\" font-size=\"14.00\" fill=\"#000000\">value = [0, 1]</text>\n<text text-anchor=\"start\" x=\"207\" y=\"-595.3\" font-family=\"Helvetica,sans-Serif\" font-size=\"14.00\" fill=\"#000000\">class = PAIDOFF</text>\n</g>\n<!-- 20&#45;&gt;21 -->\n<g id=\"edge21\" class=\"edge\">\n<title>20&#45;&gt;21</title>\n<path fill=\"none\" stroke=\"#000000\" d=\"M368.3403,-698.8796C351.9459,-686.8368 334.0849,-673.7167 317.8058,-661.7586\"/>\n<polygon fill=\"#000000\" stroke=\"#000000\" points=\"319.5846,-658.7224 309.4532,-655.623 315.4405,-664.3639 319.5846,-658.7224\"/>\n</g>\n<!-- 22 -->\n<g id=\"node23\" class=\"node\">\n<title>22</title>\n<polygon fill=\"#e58139\" stroke=\"#000000\" points=\"504.5,-655.5 345.5,-655.5 345.5,-587.5 504.5,-587.5 504.5,-655.5\"/>\n<text text-anchor=\"start\" x=\"395.5\" y=\"-640.3\" font-family=\"Helvetica,sans-Serif\" font-size=\"14.00\" fill=\"#000000\">gini = 0.0</text>\n<text text-anchor=\"start\" x=\"385.5\" y=\"-625.3\" font-family=\"Helvetica,sans-Serif\" font-size=\"14.00\" fill=\"#000000\">samples = 3</text>\n<text text-anchor=\"start\" x=\"383.5\" y=\"-610.3\" font-family=\"Helvetica,sans-Serif\" font-size=\"14.00\" fill=\"#000000\">value = [3, 0]</text>\n<text text-anchor=\"start\" x=\"353.5\" y=\"-595.3\" font-family=\"Helvetica,sans-Serif\" font-size=\"14.00\" fill=\"#000000\">class = COLLECTION</text>\n</g>\n<!-- 20&#45;&gt;22 -->\n<g id=\"edge22\" class=\"edge\">\n<title>20&#45;&gt;22</title>\n<path fill=\"none\" stroke=\"#000000\" d=\"M425,-698.8796C425,-688.2134 425,-676.7021 425,-665.9015\"/>\n<polygon fill=\"#000000\" stroke=\"#000000\" points=\"428.5001,-665.8149 425,-655.8149 421.5001,-665.815 428.5001,-665.8149\"/>\n</g>\n<!-- 25 -->\n<g id=\"node26\" class=\"node\">\n<title>25</title>\n<polygon fill=\"#fef8f5\" stroke=\"#000000\" points=\"997.5,-901 838.5,-901 838.5,-818 997.5,-818 997.5,-901\"/>\n<text text-anchor=\"start\" x=\"877\" y=\"-885.8\" font-family=\"Helvetica,sans-Serif\" font-size=\"14.00\" fill=\"#000000\">age ≤ &#45;1.068</text>\n<text text-anchor=\"start\" x=\"888.5\" y=\"-870.8\" font-family=\"Helvetica,sans-Serif\" font-size=\"14.00\" fill=\"#000000\">gini = 0.5</text>\n<text text-anchor=\"start\" x=\"874\" y=\"-855.8\" font-family=\"Helvetica,sans-Serif\" font-size=\"14.00\" fill=\"#000000\">samples = 37</text>\n<text text-anchor=\"start\" x=\"868\" y=\"-840.8\" font-family=\"Helvetica,sans-Serif\" font-size=\"14.00\" fill=\"#000000\">value = [19, 18]</text>\n<text text-anchor=\"start\" x=\"846.5\" y=\"-825.8\" font-family=\"Helvetica,sans-Serif\" font-size=\"14.00\" fill=\"#000000\">class = COLLECTION</text>\n</g>\n<!-- 24&#45;&gt;25 -->\n<g id=\"edge25\" class=\"edge\">\n<title>24&#45;&gt;25</title>\n<path fill=\"none\" stroke=\"#000000\" d=\"M975.2219,-936.8796C968.6949,-928.0534 961.7401,-918.6485 955.0092,-909.5466\"/>\n<polygon fill=\"#000000\" stroke=\"#000000\" points=\"957.6695,-907.2574 948.9095,-901.2981 952.0412,-911.4195 957.6695,-907.2574\"/>\n</g>\n<!-- 64 -->\n<g id=\"node65\" class=\"node\">\n<title>64</title>\n<polygon fill=\"#88c4ef\" stroke=\"#000000\" points=\"1159,-901 1031,-901 1031,-818 1159,-818 1159,-901\"/>\n<text text-anchor=\"start\" x=\"1048.5\" y=\"-885.8\" font-family=\"Helvetica,sans-Serif\" font-size=\"14.00\" fill=\"#000000\">terms ≤ &#45;0.019</text>\n<text text-anchor=\"start\" x=\"1057\" y=\"-870.8\" font-family=\"Helvetica,sans-Serif\" font-size=\"14.00\" fill=\"#000000\">gini = 0.408</text>\n<text text-anchor=\"start\" x=\"1055.5\" y=\"-855.8\" font-family=\"Helvetica,sans-Serif\" font-size=\"14.00\" fill=\"#000000\">samples = 7</text>\n<text text-anchor=\"start\" x=\"1053.5\" y=\"-840.8\" font-family=\"Helvetica,sans-Serif\" font-size=\"14.00\" fill=\"#000000\">value = [2, 5]</text>\n<text text-anchor=\"start\" x=\"1039\" y=\"-825.8\" font-family=\"Helvetica,sans-Serif\" font-size=\"14.00\" fill=\"#000000\">class = PAIDOFF</text>\n</g>\n<!-- 24&#45;&gt;64 -->\n<g id=\"edge64\" class=\"edge\">\n<title>24&#45;&gt;64</title>\n<path fill=\"none\" stroke=\"#000000\" d=\"M1037.1279,-936.8796C1043.729,-928.0534 1050.7629,-918.6485 1057.5702,-909.5466\"/>\n<polygon fill=\"#000000\" stroke=\"#000000\" points=\"1060.5528,-911.4024 1063.7393,-901.2981 1054.9472,-907.2099 1060.5528,-911.4024\"/>\n</g>\n<!-- 26 -->\n<g id=\"node27\" class=\"node\">\n<title>26</title>\n<polygon fill=\"#aad5f4\" stroke=\"#000000\" points=\"820,-782 692,-782 692,-699 820,-699 820,-782\"/>\n<text text-anchor=\"start\" x=\"705.5\" y=\"-766.8\" font-family=\"Helvetica,sans-Serif\" font-size=\"14.00\" fill=\"#000000\">Gender ≤ 0.979</text>\n<text text-anchor=\"start\" x=\"718\" y=\"-751.8\" font-family=\"Helvetica,sans-Serif\" font-size=\"14.00\" fill=\"#000000\">gini = 0.463</text>\n<text text-anchor=\"start\" x=\"712\" y=\"-736.8\" font-family=\"Helvetica,sans-Serif\" font-size=\"14.00\" fill=\"#000000\">samples = 11</text>\n<text text-anchor=\"start\" x=\"714.5\" y=\"-721.8\" font-family=\"Helvetica,sans-Serif\" font-size=\"14.00\" fill=\"#000000\">value = [4, 7]</text>\n<text text-anchor=\"start\" x=\"700\" y=\"-706.8\" font-family=\"Helvetica,sans-Serif\" font-size=\"14.00\" fill=\"#000000\">class = PAIDOFF</text>\n</g>\n<!-- 25&#45;&gt;26 -->\n<g id=\"edge26\" class=\"edge\">\n<title>25&#45;&gt;26</title>\n<path fill=\"none\" stroke=\"#000000\" d=\"M861.3403,-817.8796C848.2684,-808.2774 834.2641,-797.9903 820.8727,-788.1534\"/>\n<polygon fill=\"#000000\" stroke=\"#000000\" points=\"822.7591,-785.1963 812.6277,-782.0969 818.615,-790.8378 822.7591,-785.1963\"/>\n</g>\n<!-- 41 -->\n<g id=\"node42\" class=\"node\">\n<title>41</title>\n<polygon fill=\"#f8ddca\" stroke=\"#000000\" points=\"997.5,-782 838.5,-782 838.5,-699 997.5,-699 997.5,-782\"/>\n<text text-anchor=\"start\" x=\"867.5\" y=\"-766.8\" font-family=\"Helvetica,sans-Serif\" font-size=\"14.00\" fill=\"#000000\">Gender ≤ 0.979</text>\n<text text-anchor=\"start\" x=\"880\" y=\"-751.8\" font-family=\"Helvetica,sans-Serif\" font-size=\"14.00\" fill=\"#000000\">gini = 0.488</text>\n<text text-anchor=\"start\" x=\"874\" y=\"-736.8\" font-family=\"Helvetica,sans-Serif\" font-size=\"14.00\" fill=\"#000000\">samples = 26</text>\n<text text-anchor=\"start\" x=\"868\" y=\"-721.8\" font-family=\"Helvetica,sans-Serif\" font-size=\"14.00\" fill=\"#000000\">value = [15, 11]</text>\n<text text-anchor=\"start\" x=\"846.5\" y=\"-706.8\" font-family=\"Helvetica,sans-Serif\" font-size=\"14.00\" fill=\"#000000\">class = COLLECTION</text>\n</g>\n<!-- 25&#45;&gt;41 -->\n<g id=\"edge41\" class=\"edge\">\n<title>25&#45;&gt;41</title>\n<path fill=\"none\" stroke=\"#000000\" d=\"M918,-817.8796C918,-809.6838 918,-800.9891 918,-792.5013\"/>\n<polygon fill=\"#000000\" stroke=\"#000000\" points=\"921.5001,-792.298 918,-782.2981 914.5001,-792.2981 921.5001,-792.298\"/>\n</g>\n<!-- 27 -->\n<g id=\"node28\" class=\"node\">\n<title>27</title>\n<polygon fill=\"#d7ebfa\" stroke=\"#000000\" points=\"651,-663 523,-663 523,-580 651,-580 651,-663\"/>\n<text text-anchor=\"start\" x=\"540.5\" y=\"-647.8\" font-family=\"Helvetica,sans-Serif\" font-size=\"14.00\" fill=\"#000000\">terms ≤ &#45;0.019</text>\n<text text-anchor=\"start\" x=\"549\" y=\"-632.8\" font-family=\"Helvetica,sans-Serif\" font-size=\"14.00\" fill=\"#000000\">gini = 0.494</text>\n<text text-anchor=\"start\" x=\"547.5\" y=\"-617.8\" font-family=\"Helvetica,sans-Serif\" font-size=\"14.00\" fill=\"#000000\">samples = 9</text>\n<text text-anchor=\"start\" x=\"545.5\" y=\"-602.8\" font-family=\"Helvetica,sans-Serif\" font-size=\"14.00\" fill=\"#000000\">value = [4, 5]</text>\n<text text-anchor=\"start\" x=\"531\" y=\"-587.8\" font-family=\"Helvetica,sans-Serif\" font-size=\"14.00\" fill=\"#000000\">class = PAIDOFF</text>\n</g>\n<!-- 26&#45;&gt;27 -->\n<g id=\"edge27\" class=\"edge\">\n<title>26&#45;&gt;27</title>\n<path fill=\"none\" stroke=\"#000000\" d=\"M696.892,-698.8796C683.1266,-689.1868 668.3701,-678.7961 654.2807,-668.8752\"/>\n<polygon fill=\"#000000\" stroke=\"#000000\" points=\"656.2661,-665.9926 646.0746,-663.0969 652.2359,-671.716 656.2661,-665.9926\"/>\n</g>\n<!-- 40 -->\n<g id=\"node41\" class=\"node\">\n<title>40</title>\n<polygon fill=\"#399de5\" stroke=\"#000000\" points=\"820,-655.5 692,-655.5 692,-587.5 820,-587.5 820,-655.5\"/>\n<text text-anchor=\"start\" x=\"726.5\" y=\"-640.3\" font-family=\"Helvetica,sans-Serif\" font-size=\"14.00\" fill=\"#000000\">gini = 0.0</text>\n<text text-anchor=\"start\" x=\"716.5\" y=\"-625.3\" font-family=\"Helvetica,sans-Serif\" font-size=\"14.00\" fill=\"#000000\">samples = 2</text>\n<text text-anchor=\"start\" x=\"714.5\" y=\"-610.3\" font-family=\"Helvetica,sans-Serif\" font-size=\"14.00\" fill=\"#000000\">value = [0, 2]</text>\n<text text-anchor=\"start\" x=\"700\" y=\"-595.3\" font-family=\"Helvetica,sans-Serif\" font-size=\"14.00\" fill=\"#000000\">class = PAIDOFF</text>\n</g>\n<!-- 26&#45;&gt;40 -->\n<g id=\"edge40\" class=\"edge\">\n<title>26&#45;&gt;40</title>\n<path fill=\"none\" stroke=\"#000000\" d=\"M756,-698.8796C756,-688.2134 756,-676.7021 756,-665.9015\"/>\n<polygon fill=\"#000000\" stroke=\"#000000\" points=\"759.5001,-665.8149 756,-655.8149 752.5001,-665.815 759.5001,-665.8149\"/>\n</g>\n<!-- 28 -->\n<g id=\"node29\" class=\"node\">\n<title>28</title>\n<polygon fill=\"#e58139\" stroke=\"#000000\" points=\"499.5,-536.5 340.5,-536.5 340.5,-468.5 499.5,-468.5 499.5,-536.5\"/>\n<text text-anchor=\"start\" x=\"390.5\" y=\"-521.3\" font-family=\"Helvetica,sans-Serif\" font-size=\"14.00\" fill=\"#000000\">gini = 0.0</text>\n<text text-anchor=\"start\" x=\"380.5\" y=\"-506.3\" font-family=\"Helvetica,sans-Serif\" font-size=\"14.00\" fill=\"#000000\">samples = 1</text>\n<text text-anchor=\"start\" x=\"378.5\" y=\"-491.3\" font-family=\"Helvetica,sans-Serif\" font-size=\"14.00\" fill=\"#000000\">value = [1, 0]</text>\n<text text-anchor=\"start\" x=\"348.5\" y=\"-476.3\" font-family=\"Helvetica,sans-Serif\" font-size=\"14.00\" fill=\"#000000\">class = COLLECTION</text>\n</g>\n<!-- 27&#45;&gt;28 -->\n<g id=\"edge28\" class=\"edge\">\n<title>27&#45;&gt;28</title>\n<path fill=\"none\" stroke=\"#000000\" d=\"M528.5915,-579.8796C511.536,-567.7263 492.9409,-554.4759 476.0359,-542.4297\"/>\n<polygon fill=\"#000000\" stroke=\"#000000\" points=\"478.062,-539.5759 467.8869,-536.623 473.9998,-545.2766 478.062,-539.5759\"/>\n</g>\n<!-- 29 -->\n<g id=\"node30\" class=\"node\">\n<title>29</title>\n<polygon fill=\"#b0d8f5\" stroke=\"#000000\" points=\"646,-544 518,-544 518,-461 646,-461 646,-544\"/>\n<text text-anchor=\"start\" x=\"541\" y=\"-528.8\" font-family=\"Helvetica,sans-Serif\" font-size=\"14.00\" fill=\"#000000\">age ≤ &#45;1.731</text>\n<text text-anchor=\"start\" x=\"544\" y=\"-513.8\" font-family=\"Helvetica,sans-Serif\" font-size=\"14.00\" fill=\"#000000\">gini = 0.469</text>\n<text text-anchor=\"start\" x=\"542.5\" y=\"-498.8\" font-family=\"Helvetica,sans-Serif\" font-size=\"14.00\" fill=\"#000000\">samples = 8</text>\n<text text-anchor=\"start\" x=\"540.5\" y=\"-483.8\" font-family=\"Helvetica,sans-Serif\" font-size=\"14.00\" fill=\"#000000\">value = [3, 5]</text>\n<text text-anchor=\"start\" x=\"526\" y=\"-468.8\" font-family=\"Helvetica,sans-Serif\" font-size=\"14.00\" fill=\"#000000\">class = PAIDOFF</text>\n</g>\n<!-- 27&#45;&gt;29 -->\n<g id=\"edge29\" class=\"edge\">\n<title>27&#45;&gt;29</title>\n<path fill=\"none\" stroke=\"#000000\" d=\"M585.2512,-579.8796C584.9069,-571.6838 584.5416,-562.9891 584.1849,-554.5013\"/>\n<polygon fill=\"#000000\" stroke=\"#000000\" points=\"587.673,-554.1423 583.7562,-544.2981 580.6792,-554.4362 587.673,-554.1423\"/>\n</g>\n<!-- 30 -->\n<g id=\"node31\" class=\"node\">\n<title>30</title>\n<polygon fill=\"#399de5\" stroke=\"#000000\" points=\"454,-417.5 326,-417.5 326,-349.5 454,-349.5 454,-417.5\"/>\n<text text-anchor=\"start\" x=\"360.5\" y=\"-402.3\" font-family=\"Helvetica,sans-Serif\" font-size=\"14.00\" fill=\"#000000\">gini = 0.0</text>\n<text text-anchor=\"start\" x=\"350.5\" y=\"-387.3\" font-family=\"Helvetica,sans-Serif\" font-size=\"14.00\" fill=\"#000000\">samples = 1</text>\n<text text-anchor=\"start\" x=\"348.5\" y=\"-372.3\" font-family=\"Helvetica,sans-Serif\" font-size=\"14.00\" fill=\"#000000\">value = [0, 1]</text>\n<text text-anchor=\"start\" x=\"334\" y=\"-357.3\" font-family=\"Helvetica,sans-Serif\" font-size=\"14.00\" fill=\"#000000\">class = PAIDOFF</text>\n</g>\n<!-- 29&#45;&gt;30 -->\n<g id=\"edge30\" class=\"edge\">\n<title>29&#45;&gt;30</title>\n<path fill=\"none\" stroke=\"#000000\" d=\"M517.7998,-462.7093C497.196,-449.9392 474.3889,-435.8036 453.8129,-423.0507\"/>\n<polygon fill=\"#000000\" stroke=\"#000000\" points=\"455.4878,-419.9711 445.1441,-417.6778 451.8,-425.9209 455.4878,-419.9711\"/>\n</g>\n<!-- 31 -->\n<g id=\"node32\" class=\"node\">\n<title>31</title>\n<polygon fill=\"#cee6f8\" stroke=\"#000000\" points=\"600,-425 472,-425 472,-342 600,-342 600,-425\"/>\n<text text-anchor=\"start\" x=\"495\" y=\"-409.8\" font-family=\"Helvetica,sans-Serif\" font-size=\"14.00\" fill=\"#000000\">age ≤ &#45;1.565</text>\n<text text-anchor=\"start\" x=\"502.5\" y=\"-394.8\" font-family=\"Helvetica,sans-Serif\" font-size=\"14.00\" fill=\"#000000\">gini = 0.49</text>\n<text text-anchor=\"start\" x=\"496.5\" y=\"-379.8\" font-family=\"Helvetica,sans-Serif\" font-size=\"14.00\" fill=\"#000000\">samples = 7</text>\n<text text-anchor=\"start\" x=\"494.5\" y=\"-364.8\" font-family=\"Helvetica,sans-Serif\" font-size=\"14.00\" fill=\"#000000\">value = [3, 4]</text>\n<text text-anchor=\"start\" x=\"480\" y=\"-349.8\" font-family=\"Helvetica,sans-Serif\" font-size=\"14.00\" fill=\"#000000\">class = PAIDOFF</text>\n</g>\n<!-- 29&#45;&gt;31 -->\n<g id=\"edge31\" class=\"edge\">\n<title>29&#45;&gt;31</title>\n<path fill=\"none\" stroke=\"#000000\" d=\"M565.9114,-460.8796C562.6389,-452.4136 559.1605,-443.4153 555.7771,-434.6626\"/>\n<polygon fill=\"#000000\" stroke=\"#000000\" points=\"559.0274,-433.3635 552.1572,-425.2981 552.4983,-435.8874 559.0274,-433.3635\"/>\n</g>\n<!-- 32 -->\n<g id=\"node33\" class=\"node\">\n<title>32</title>\n<polygon fill=\"#9ccef2\" stroke=\"#000000\" points=\"329.5,-306 122.5,-306 122.5,-223 329.5,-223 329.5,-306\"/>\n<text text-anchor=\"start\" x=\"130.5\" y=\"-290.8\" font-family=\"Helvetica,sans-Serif\" font-size=\"14.00\" fill=\"#000000\">High School or Below ≤ 0.128</text>\n<text text-anchor=\"start\" x=\"188\" y=\"-275.8\" font-family=\"Helvetica,sans-Serif\" font-size=\"14.00\" fill=\"#000000\">gini = 0.444</text>\n<text text-anchor=\"start\" x=\"186.5\" y=\"-260.8\" font-family=\"Helvetica,sans-Serif\" font-size=\"14.00\" fill=\"#000000\">samples = 3</text>\n<text text-anchor=\"start\" x=\"184.5\" y=\"-245.8\" font-family=\"Helvetica,sans-Serif\" font-size=\"14.00\" fill=\"#000000\">value = [1, 2]</text>\n<text text-anchor=\"start\" x=\"170\" y=\"-230.8\" font-family=\"Helvetica,sans-Serif\" font-size=\"14.00\" fill=\"#000000\">class = PAIDOFF</text>\n</g>\n<!-- 31&#45;&gt;32 -->\n<g id=\"edge32\" class=\"edge\">\n<title>31&#45;&gt;32</title>\n<path fill=\"none\" stroke=\"#000000\" d=\"M471.8766,-346.119C468.9012,-344.6785 465.9331,-343.2975 463,-342 423.6833,-324.6076 379.2042,-309.0462 339.485,-296.5126\"/>\n<polygon fill=\"#000000\" stroke=\"#000000\" points=\"340.3516,-293.1166 329.7628,-293.4748 338.2638,-299.798 340.3516,-293.1166\"/>\n</g>\n<!-- 35 -->\n<g id=\"node36\" class=\"node\">\n<title>35</title>\n<polygon fill=\"#ffffff\" stroke=\"#000000\" points=\"629.5,-306 422.5,-306 422.5,-223 629.5,-223 629.5,-306\"/>\n<text text-anchor=\"start\" x=\"430.5\" y=\"-290.8\" font-family=\"Helvetica,sans-Serif\" font-size=\"14.00\" fill=\"#000000\">High School or Below ≤ 0.128</text>\n<text text-anchor=\"start\" x=\"496.5\" y=\"-275.8\" font-family=\"Helvetica,sans-Serif\" font-size=\"14.00\" fill=\"#000000\">gini = 0.5</text>\n<text text-anchor=\"start\" x=\"486.5\" y=\"-260.8\" font-family=\"Helvetica,sans-Serif\" font-size=\"14.00\" fill=\"#000000\">samples = 4</text>\n<text text-anchor=\"start\" x=\"484.5\" y=\"-245.8\" font-family=\"Helvetica,sans-Serif\" font-size=\"14.00\" fill=\"#000000\">value = [2, 2]</text>\n<text text-anchor=\"start\" x=\"454.5\" y=\"-230.8\" font-family=\"Helvetica,sans-Serif\" font-size=\"14.00\" fill=\"#000000\">class = COLLECTION</text>\n</g>\n<!-- 31&#45;&gt;35 -->\n<g id=\"edge35\" class=\"edge\">\n<title>31&#45;&gt;35</title>\n<path fill=\"none\" stroke=\"#000000\" d=\"M532.5025,-341.8796C531.8138,-333.6838 531.0831,-324.9891 530.3699,-316.5013\"/>\n<polygon fill=\"#000000\" stroke=\"#000000\" points=\"533.8376,-315.9698 529.5124,-306.2981 526.8622,-316.5561 533.8376,-315.9698\"/>\n</g>\n<!-- 33 -->\n<g id=\"node34\" class=\"node\">\n<title>33</title>\n<polygon fill=\"#399de5\" stroke=\"#000000\" points=\"128,-179.5 0,-179.5 0,-111.5 128,-111.5 128,-179.5\"/>\n<text text-anchor=\"start\" x=\"34.5\" y=\"-164.3\" font-family=\"Helvetica,sans-Serif\" font-size=\"14.00\" fill=\"#000000\">gini = 0.0</text>\n<text text-anchor=\"start\" x=\"24.5\" y=\"-149.3\" font-family=\"Helvetica,sans-Serif\" font-size=\"14.00\" fill=\"#000000\">samples = 1</text>\n<text text-anchor=\"start\" x=\"22.5\" y=\"-134.3\" font-family=\"Helvetica,sans-Serif\" font-size=\"14.00\" fill=\"#000000\">value = [0, 1]</text>\n<text text-anchor=\"start\" x=\"8\" y=\"-119.3\" font-family=\"Helvetica,sans-Serif\" font-size=\"14.00\" fill=\"#000000\">class = PAIDOFF</text>\n</g>\n<!-- 32&#45;&gt;33 -->\n<g id=\"edge33\" class=\"edge\">\n<title>32&#45;&gt;33</title>\n<path fill=\"none\" stroke=\"#000000\" d=\"M169.3403,-222.8796C152.9459,-210.8368 135.0849,-197.7167 118.8058,-185.7586\"/>\n<polygon fill=\"#000000\" stroke=\"#000000\" points=\"120.5846,-182.7224 110.4532,-179.623 116.4405,-188.3639 120.5846,-182.7224\"/>\n</g>\n<!-- 34 -->\n<g id=\"node35\" class=\"node\">\n<title>34</title>\n<polygon fill=\"#ffffff\" stroke=\"#000000\" points=\"305.5,-179.5 146.5,-179.5 146.5,-111.5 305.5,-111.5 305.5,-179.5\"/>\n<text text-anchor=\"start\" x=\"196.5\" y=\"-164.3\" font-family=\"Helvetica,sans-Serif\" font-size=\"14.00\" fill=\"#000000\">gini = 0.5</text>\n<text text-anchor=\"start\" x=\"186.5\" y=\"-149.3\" font-family=\"Helvetica,sans-Serif\" font-size=\"14.00\" fill=\"#000000\">samples = 2</text>\n<text text-anchor=\"start\" x=\"184.5\" y=\"-134.3\" font-family=\"Helvetica,sans-Serif\" font-size=\"14.00\" fill=\"#000000\">value = [1, 1]</text>\n<text text-anchor=\"start\" x=\"154.5\" y=\"-119.3\" font-family=\"Helvetica,sans-Serif\" font-size=\"14.00\" fill=\"#000000\">class = COLLECTION</text>\n</g>\n<!-- 32&#45;&gt;34 -->\n<g id=\"edge34\" class=\"edge\">\n<title>32&#45;&gt;34</title>\n<path fill=\"none\" stroke=\"#000000\" d=\"M226,-222.8796C226,-212.2134 226,-200.7021 226,-189.9015\"/>\n<polygon fill=\"#000000\" stroke=\"#000000\" points=\"229.5001,-189.8149 226,-179.8149 222.5001,-189.815 229.5001,-189.8149\"/>\n</g>\n<!-- 36 -->\n<g id=\"node37\" class=\"node\">\n<title>36</title>\n<polygon fill=\"#e58139\" stroke=\"#000000\" points=\"482.5,-179.5 323.5,-179.5 323.5,-111.5 482.5,-111.5 482.5,-179.5\"/>\n<text text-anchor=\"start\" x=\"373.5\" y=\"-164.3\" font-family=\"Helvetica,sans-Serif\" font-size=\"14.00\" fill=\"#000000\">gini = 0.0</text>\n<text text-anchor=\"start\" x=\"363.5\" y=\"-149.3\" font-family=\"Helvetica,sans-Serif\" font-size=\"14.00\" fill=\"#000000\">samples = 1</text>\n<text text-anchor=\"start\" x=\"361.5\" y=\"-134.3\" font-family=\"Helvetica,sans-Serif\" font-size=\"14.00\" fill=\"#000000\">value = [1, 0]</text>\n<text text-anchor=\"start\" x=\"331.5\" y=\"-119.3\" font-family=\"Helvetica,sans-Serif\" font-size=\"14.00\" fill=\"#000000\">class = COLLECTION</text>\n</g>\n<!-- 35&#45;&gt;36 -->\n<g id=\"edge36\" class=\"edge\">\n<title>35&#45;&gt;36</title>\n<path fill=\"none\" stroke=\"#000000\" d=\"M482.9806,-222.8796C470.9329,-211.2237 457.8422,-198.5587 445.8069,-186.9148\"/>\n<polygon fill=\"#000000\" stroke=\"#000000\" points=\"448.089,-184.2528 438.4684,-179.8149 443.2217,-189.2837 448.089,-184.2528\"/>\n</g>\n<!-- 37 -->\n<g id=\"node38\" class=\"node\">\n<title>37</title>\n<polygon fill=\"#9ccef2\" stroke=\"#000000\" points=\"629,-187 501,-187 501,-104 629,-104 629,-187\"/>\n<text text-anchor=\"start\" x=\"524\" y=\"-171.8\" font-family=\"Helvetica,sans-Serif\" font-size=\"14.00\" fill=\"#000000\">age ≤ &#45;1.399</text>\n<text text-anchor=\"start\" x=\"527\" y=\"-156.8\" font-family=\"Helvetica,sans-Serif\" font-size=\"14.00\" fill=\"#000000\">gini = 0.444</text>\n<text text-anchor=\"start\" x=\"525.5\" y=\"-141.8\" font-family=\"Helvetica,sans-Serif\" font-size=\"14.00\" fill=\"#000000\">samples = 3</text>\n<text text-anchor=\"start\" x=\"523.5\" y=\"-126.8\" font-family=\"Helvetica,sans-Serif\" font-size=\"14.00\" fill=\"#000000\">value = [1, 2]</text>\n<text text-anchor=\"start\" x=\"509\" y=\"-111.8\" font-family=\"Helvetica,sans-Serif\" font-size=\"14.00\" fill=\"#000000\">class = PAIDOFF</text>\n</g>\n<!-- 35&#45;&gt;37 -->\n<g id=\"edge37\" class=\"edge\">\n<title>35&#45;&gt;37</title>\n<path fill=\"none\" stroke=\"#000000\" d=\"M539.6403,-222.8796C542.3853,-214.5037 545.3012,-205.6067 548.1409,-196.942\"/>\n<polygon fill=\"#000000\" stroke=\"#000000\" points=\"551.513,-197.8908 551.3015,-187.2981 544.8611,-195.7107 551.513,-197.8908\"/>\n</g>\n<!-- 38 -->\n<g id=\"node39\" class=\"node\">\n<title>38</title>\n<polygon fill=\"#399de5\" stroke=\"#000000\" points=\"548,-68 420,-68 420,0 548,0 548,-68\"/>\n<text text-anchor=\"start\" x=\"454.5\" y=\"-52.8\" font-family=\"Helvetica,sans-Serif\" font-size=\"14.00\" fill=\"#000000\">gini = 0.0</text>\n<text text-anchor=\"start\" x=\"444.5\" y=\"-37.8\" font-family=\"Helvetica,sans-Serif\" font-size=\"14.00\" fill=\"#000000\">samples = 1</text>\n<text text-anchor=\"start\" x=\"442.5\" y=\"-22.8\" font-family=\"Helvetica,sans-Serif\" font-size=\"14.00\" fill=\"#000000\">value = [0, 1]</text>\n<text text-anchor=\"start\" x=\"428\" y=\"-7.8\" font-family=\"Helvetica,sans-Serif\" font-size=\"14.00\" fill=\"#000000\">class = PAIDOFF</text>\n</g>\n<!-- 37&#45;&gt;38 -->\n<g id=\"edge38\" class=\"edge\">\n<title>37&#45;&gt;38</title>\n<path fill=\"none\" stroke=\"#000000\" d=\"M534.8386,-103.9815C528.2955,-94.9747 521.3666,-85.4367 514.7992,-76.3965\"/>\n<polygon fill=\"#000000\" stroke=\"#000000\" points=\"517.6002,-74.2971 508.8911,-68.2637 511.9369,-78.4113 517.6002,-74.2971\"/>\n</g>\n<!-- 39 -->\n<g id=\"node40\" class=\"node\">\n<title>39</title>\n<polygon fill=\"#ffffff\" stroke=\"#000000\" points=\"725.5,-68 566.5,-68 566.5,0 725.5,0 725.5,-68\"/>\n<text text-anchor=\"start\" x=\"616.5\" y=\"-52.8\" font-family=\"Helvetica,sans-Serif\" font-size=\"14.00\" fill=\"#000000\">gini = 0.5</text>\n<text text-anchor=\"start\" x=\"606.5\" y=\"-37.8\" font-family=\"Helvetica,sans-Serif\" font-size=\"14.00\" fill=\"#000000\">samples = 2</text>\n<text text-anchor=\"start\" x=\"604.5\" y=\"-22.8\" font-family=\"Helvetica,sans-Serif\" font-size=\"14.00\" fill=\"#000000\">value = [1, 1]</text>\n<text text-anchor=\"start\" x=\"574.5\" y=\"-7.8\" font-family=\"Helvetica,sans-Serif\" font-size=\"14.00\" fill=\"#000000\">class = COLLECTION</text>\n</g>\n<!-- 37&#45;&gt;39 -->\n<g id=\"edge39\" class=\"edge\">\n<title>37&#45;&gt;39</title>\n<path fill=\"none\" stroke=\"#000000\" d=\"M595.1614,-103.9815C601.7045,-94.9747 608.6334,-85.4367 615.2008,-76.3965\"/>\n<polygon fill=\"#000000\" stroke=\"#000000\" points=\"618.0631,-78.4113 621.1089,-68.2637 612.3998,-74.2971 618.0631,-78.4113\"/>\n</g>\n<!-- 42 -->\n<g id=\"node43\" class=\"node\">\n<title>42</title>\n<polygon fill=\"#fdf5ef\" stroke=\"#000000\" points=\"997.5,-663 838.5,-663 838.5,-580 997.5,-580 997.5,-663\"/>\n<text text-anchor=\"start\" x=\"877\" y=\"-647.8\" font-family=\"Helvetica,sans-Serif\" font-size=\"14.00\" fill=\"#000000\">age ≤ &#45;0.736</text>\n<text text-anchor=\"start\" x=\"880\" y=\"-632.8\" font-family=\"Helvetica,sans-Serif\" font-size=\"14.00\" fill=\"#000000\">gini = 0.499</text>\n<text text-anchor=\"start\" x=\"874\" y=\"-617.8\" font-family=\"Helvetica,sans-Serif\" font-size=\"14.00\" fill=\"#000000\">samples = 23</text>\n<text text-anchor=\"start\" x=\"868\" y=\"-602.8\" font-family=\"Helvetica,sans-Serif\" font-size=\"14.00\" fill=\"#000000\">value = [12, 11]</text>\n<text text-anchor=\"start\" x=\"846.5\" y=\"-587.8\" font-family=\"Helvetica,sans-Serif\" font-size=\"14.00\" fill=\"#000000\">class = COLLECTION</text>\n</g>\n<!-- 41&#45;&gt;42 -->\n<g id=\"edge42\" class=\"edge\">\n<title>41&#45;&gt;42</title>\n<path fill=\"none\" stroke=\"#000000\" d=\"M918,-698.8796C918,-690.6838 918,-681.9891 918,-673.5013\"/>\n<polygon fill=\"#000000\" stroke=\"#000000\" points=\"921.5001,-673.298 918,-663.2981 914.5001,-673.2981 921.5001,-673.298\"/>\n</g>\n<!-- 63 -->\n<g id=\"node64\" class=\"node\">\n<title>63</title>\n<polygon fill=\"#e58139\" stroke=\"#000000\" points=\"1174.5,-655.5 1015.5,-655.5 1015.5,-587.5 1174.5,-587.5 1174.5,-655.5\"/>\n<text text-anchor=\"start\" x=\"1065.5\" y=\"-640.3\" font-family=\"Helvetica,sans-Serif\" font-size=\"14.00\" fill=\"#000000\">gini = 0.0</text>\n<text text-anchor=\"start\" x=\"1055.5\" y=\"-625.3\" font-family=\"Helvetica,sans-Serif\" font-size=\"14.00\" fill=\"#000000\">samples = 3</text>\n<text text-anchor=\"start\" x=\"1053.5\" y=\"-610.3\" font-family=\"Helvetica,sans-Serif\" font-size=\"14.00\" fill=\"#000000\">value = [3, 0]</text>\n<text text-anchor=\"start\" x=\"1023.5\" y=\"-595.3\" font-family=\"Helvetica,sans-Serif\" font-size=\"14.00\" fill=\"#000000\">class = COLLECTION</text>\n</g>\n<!-- 41&#45;&gt;63 -->\n<g id=\"edge63\" class=\"edge\">\n<title>41&#45;&gt;63</title>\n<path fill=\"none\" stroke=\"#000000\" d=\"M979.906,-698.8796C997.9828,-686.7263 1017.6914,-673.4759 1035.6087,-661.4297\"/>\n<polygon fill=\"#000000\" stroke=\"#000000\" points=\"1037.8996,-664.1071 1044.2456,-655.623 1033.9939,-658.2979 1037.8996,-664.1071\"/>\n</g>\n<!-- 43 -->\n<g id=\"node44\" class=\"node\">\n<title>43</title>\n<polygon fill=\"#f2c09c\" stroke=\"#000000\" points=\"890.5,-544 731.5,-544 731.5,-461 890.5,-461 890.5,-544\"/>\n<text text-anchor=\"start\" x=\"764.5\" y=\"-528.8\" font-family=\"Helvetica,sans-Serif\" font-size=\"14.00\" fill=\"#000000\">terms ≤ &#45;0.019</text>\n<text text-anchor=\"start\" x=\"773\" y=\"-513.8\" font-family=\"Helvetica,sans-Serif\" font-size=\"14.00\" fill=\"#000000\">gini = 0.444</text>\n<text text-anchor=\"start\" x=\"771.5\" y=\"-498.8\" font-family=\"Helvetica,sans-Serif\" font-size=\"14.00\" fill=\"#000000\">samples = 9</text>\n<text text-anchor=\"start\" x=\"769.5\" y=\"-483.8\" font-family=\"Helvetica,sans-Serif\" font-size=\"14.00\" fill=\"#000000\">value = [6, 3]</text>\n<text text-anchor=\"start\" x=\"739.5\" y=\"-468.8\" font-family=\"Helvetica,sans-Serif\" font-size=\"14.00\" fill=\"#000000\">class = COLLECTION</text>\n</g>\n<!-- 42&#45;&gt;43 -->\n<g id=\"edge43\" class=\"edge\">\n<title>42&#45;&gt;43</title>\n<path fill=\"none\" stroke=\"#000000\" d=\"M880.5766,-579.8796C872.4785,-570.8733 863.8386,-561.2644 855.4991,-551.9897\"/>\n<polygon fill=\"#000000\" stroke=\"#000000\" points=\"857.872,-549.394 848.5831,-544.2981 852.6667,-554.0743 857.872,-549.394\"/>\n</g>\n<!-- 50 -->\n<g id=\"node51\" class=\"node\">\n<title>50</title>\n<polygon fill=\"#cee6f8\" stroke=\"#000000\" points=\"1037,-544 909,-544 909,-461 1037,-461 1037,-544\"/>\n<text text-anchor=\"start\" x=\"932\" y=\"-528.8\" font-family=\"Helvetica,sans-Serif\" font-size=\"14.00\" fill=\"#000000\">age ≤ &#45;0.404</text>\n<text text-anchor=\"start\" x=\"939.5\" y=\"-513.8\" font-family=\"Helvetica,sans-Serif\" font-size=\"14.00\" fill=\"#000000\">gini = 0.49</text>\n<text text-anchor=\"start\" x=\"929\" y=\"-498.8\" font-family=\"Helvetica,sans-Serif\" font-size=\"14.00\" fill=\"#000000\">samples = 14</text>\n<text text-anchor=\"start\" x=\"931.5\" y=\"-483.8\" font-family=\"Helvetica,sans-Serif\" font-size=\"14.00\" fill=\"#000000\">value = [6, 8]</text>\n<text text-anchor=\"start\" x=\"917\" y=\"-468.8\" font-family=\"Helvetica,sans-Serif\" font-size=\"14.00\" fill=\"#000000\">class = PAIDOFF</text>\n</g>\n<!-- 42&#45;&gt;50 -->\n<g id=\"edge50\" class=\"edge\">\n<title>42&#45;&gt;50</title>\n<path fill=\"none\" stroke=\"#000000\" d=\"M937.2363,-579.8796C941.1908,-571.3236 945.3966,-562.2238 949.4825,-553.3833\"/>\n<polygon fill=\"#000000\" stroke=\"#000000\" points=\"952.6632,-554.8439 953.6816,-544.2981 946.309,-551.907 952.6632,-554.8439\"/>\n</g>\n<!-- 44 -->\n<g id=\"node45\" class=\"node\">\n<title>44</title>\n<polygon fill=\"#399de5\" stroke=\"#000000\" points=\"771,-417.5 643,-417.5 643,-349.5 771,-349.5 771,-417.5\"/>\n<text text-anchor=\"start\" x=\"677.5\" y=\"-402.3\" font-family=\"Helvetica,sans-Serif\" font-size=\"14.00\" fill=\"#000000\">gini = 0.0</text>\n<text text-anchor=\"start\" x=\"667.5\" y=\"-387.3\" font-family=\"Helvetica,sans-Serif\" font-size=\"14.00\" fill=\"#000000\">samples = 1</text>\n<text text-anchor=\"start\" x=\"665.5\" y=\"-372.3\" font-family=\"Helvetica,sans-Serif\" font-size=\"14.00\" fill=\"#000000\">value = [0, 1]</text>\n<text text-anchor=\"start\" x=\"651\" y=\"-357.3\" font-family=\"Helvetica,sans-Serif\" font-size=\"14.00\" fill=\"#000000\">class = PAIDOFF</text>\n</g>\n<!-- 43&#45;&gt;44 -->\n<g id=\"edge44\" class=\"edge\">\n<title>43&#45;&gt;44</title>\n<path fill=\"none\" stroke=\"#000000\" d=\"M774.6258,-460.8796C764.6314,-449.4436 753.788,-437.0363 743.7714,-425.575\"/>\n<polygon fill=\"#000000\" stroke=\"#000000\" points=\"746.2055,-423.0414 736.9895,-417.8149 740.9347,-427.6479 746.2055,-423.0414\"/>\n</g>\n<!-- 45 -->\n<g id=\"node46\" class=\"node\">\n<title>45</title>\n<polygon fill=\"#eeab7b\" stroke=\"#000000\" points=\"948.5,-425 789.5,-425 789.5,-342 948.5,-342 948.5,-425\"/>\n<text text-anchor=\"start\" x=\"814\" y=\"-409.8\" font-family=\"Helvetica,sans-Serif\" font-size=\"14.00\" fill=\"#000000\">Bechalor ≤ 1.119</text>\n<text text-anchor=\"start\" x=\"831\" y=\"-394.8\" font-family=\"Helvetica,sans-Serif\" font-size=\"14.00\" fill=\"#000000\">gini = 0.375</text>\n<text text-anchor=\"start\" x=\"829.5\" y=\"-379.8\" font-family=\"Helvetica,sans-Serif\" font-size=\"14.00\" fill=\"#000000\">samples = 8</text>\n<text text-anchor=\"start\" x=\"827.5\" y=\"-364.8\" font-family=\"Helvetica,sans-Serif\" font-size=\"14.00\" fill=\"#000000\">value = [6, 2]</text>\n<text text-anchor=\"start\" x=\"797.5\" y=\"-349.8\" font-family=\"Helvetica,sans-Serif\" font-size=\"14.00\" fill=\"#000000\">class = COLLECTION</text>\n</g>\n<!-- 43&#45;&gt;45 -->\n<g id=\"edge45\" class=\"edge\">\n<title>43&#45;&gt;45</title>\n<path fill=\"none\" stroke=\"#000000\" d=\"M831.2856,-460.8796C835.4557,-452.3236 839.8909,-443.2238 844.1997,-434.3833\"/>\n<polygon fill=\"#000000\" stroke=\"#000000\" points=\"847.3927,-435.8207 848.6278,-425.2981 841.1003,-432.7538 847.3927,-435.8207\"/>\n</g>\n<!-- 46 -->\n<g id=\"node47\" class=\"node\">\n<title>46</title>\n<polygon fill=\"#efb388\" stroke=\"#000000\" points=\"806.5,-306 647.5,-306 647.5,-223 806.5,-223 806.5,-306\"/>\n<text text-anchor=\"start\" x=\"686\" y=\"-290.8\" font-family=\"Helvetica,sans-Serif\" font-size=\"14.00\" fill=\"#000000\">age ≤ &#45;0.902</text>\n<text text-anchor=\"start\" x=\"689\" y=\"-275.8\" font-family=\"Helvetica,sans-Serif\" font-size=\"14.00\" fill=\"#000000\">gini = 0.408</text>\n<text text-anchor=\"start\" x=\"687.5\" y=\"-260.8\" font-family=\"Helvetica,sans-Serif\" font-size=\"14.00\" fill=\"#000000\">samples = 7</text>\n<text text-anchor=\"start\" x=\"685.5\" y=\"-245.8\" font-family=\"Helvetica,sans-Serif\" font-size=\"14.00\" fill=\"#000000\">value = [5, 2]</text>\n<text text-anchor=\"start\" x=\"655.5\" y=\"-230.8\" font-family=\"Helvetica,sans-Serif\" font-size=\"14.00\" fill=\"#000000\">class = COLLECTION</text>\n</g>\n<!-- 45&#45;&gt;46 -->\n<g id=\"edge46\" class=\"edge\">\n<title>45&#45;&gt;46</title>\n<path fill=\"none\" stroke=\"#000000\" d=\"M819.3353,-341.8796C808.1584,-332.513 796.2038,-322.4948 784.7288,-312.8784\"/>\n<polygon fill=\"#000000\" stroke=\"#000000\" points=\"786.7893,-310.0386 776.8767,-306.2981 782.2931,-315.4037 786.7893,-310.0386\"/>\n</g>\n<!-- 49 -->\n<g id=\"node50\" class=\"node\">\n<title>49</title>\n<polygon fill=\"#e58139\" stroke=\"#000000\" points=\"983.5,-298.5 824.5,-298.5 824.5,-230.5 983.5,-230.5 983.5,-298.5\"/>\n<text text-anchor=\"start\" x=\"874.5\" y=\"-283.3\" font-family=\"Helvetica,sans-Serif\" font-size=\"14.00\" fill=\"#000000\">gini = 0.0</text>\n<text text-anchor=\"start\" x=\"864.5\" y=\"-268.3\" font-family=\"Helvetica,sans-Serif\" font-size=\"14.00\" fill=\"#000000\">samples = 1</text>\n<text text-anchor=\"start\" x=\"862.5\" y=\"-253.3\" font-family=\"Helvetica,sans-Serif\" font-size=\"14.00\" fill=\"#000000\">value = [1, 0]</text>\n<text text-anchor=\"start\" x=\"832.5\" y=\"-238.3\" font-family=\"Helvetica,sans-Serif\" font-size=\"14.00\" fill=\"#000000\">class = COLLECTION</text>\n</g>\n<!-- 45&#45;&gt;49 -->\n<g id=\"edge49\" class=\"edge\">\n<title>45&#45;&gt;49</title>\n<path fill=\"none\" stroke=\"#000000\" d=\"M881.2413,-341.8796C884.4108,-331.1034 887.8339,-319.4647 891.0389,-308.5677\"/>\n<polygon fill=\"#000000\" stroke=\"#000000\" points=\"894.4434,-309.3962 893.9074,-298.8149 887.7279,-307.421 894.4434,-309.3962\"/>\n</g>\n<!-- 47 -->\n<g id=\"node48\" class=\"node\">\n<title>47</title>\n<polygon fill=\"#f2c09c\" stroke=\"#000000\" points=\"806.5,-179.5 647.5,-179.5 647.5,-111.5 806.5,-111.5 806.5,-179.5\"/>\n<text text-anchor=\"start\" x=\"689\" y=\"-164.3\" font-family=\"Helvetica,sans-Serif\" font-size=\"14.00\" fill=\"#000000\">gini = 0.444</text>\n<text text-anchor=\"start\" x=\"687.5\" y=\"-149.3\" font-family=\"Helvetica,sans-Serif\" font-size=\"14.00\" fill=\"#000000\">samples = 3</text>\n<text text-anchor=\"start\" x=\"685.5\" y=\"-134.3\" font-family=\"Helvetica,sans-Serif\" font-size=\"14.00\" fill=\"#000000\">value = [2, 1]</text>\n<text text-anchor=\"start\" x=\"655.5\" y=\"-119.3\" font-family=\"Helvetica,sans-Serif\" font-size=\"14.00\" fill=\"#000000\">class = COLLECTION</text>\n</g>\n<!-- 46&#45;&gt;47 -->\n<g id=\"edge47\" class=\"edge\">\n<title>46&#45;&gt;47</title>\n<path fill=\"none\" stroke=\"#000000\" d=\"M727,-222.8796C727,-212.2134 727,-200.7021 727,-189.9015\"/>\n<polygon fill=\"#000000\" stroke=\"#000000\" points=\"730.5001,-189.8149 727,-179.8149 723.5001,-189.815 730.5001,-189.8149\"/>\n</g>\n<!-- 48 -->\n<g id=\"node49\" class=\"node\">\n<title>48</title>\n<polygon fill=\"#eeab7b\" stroke=\"#000000\" points=\"983.5,-179.5 824.5,-179.5 824.5,-111.5 983.5,-111.5 983.5,-179.5\"/>\n<text text-anchor=\"start\" x=\"866\" y=\"-164.3\" font-family=\"Helvetica,sans-Serif\" font-size=\"14.00\" fill=\"#000000\">gini = 0.375</text>\n<text text-anchor=\"start\" x=\"864.5\" y=\"-149.3\" font-family=\"Helvetica,sans-Serif\" font-size=\"14.00\" fill=\"#000000\">samples = 4</text>\n<text text-anchor=\"start\" x=\"862.5\" y=\"-134.3\" font-family=\"Helvetica,sans-Serif\" font-size=\"14.00\" fill=\"#000000\">value = [3, 1]</text>\n<text text-anchor=\"start\" x=\"832.5\" y=\"-119.3\" font-family=\"Helvetica,sans-Serif\" font-size=\"14.00\" fill=\"#000000\">class = COLLECTION</text>\n</g>\n<!-- 46&#45;&gt;48 -->\n<g id=\"edge48\" class=\"edge\">\n<title>46&#45;&gt;48</title>\n<path fill=\"none\" stroke=\"#000000\" d=\"M788.906,-222.8796C806.9828,-210.7263 826.6914,-197.4759 844.6087,-185.4297\"/>\n<polygon fill=\"#000000\" stroke=\"#000000\" points=\"846.8996,-188.1071 853.2456,-179.623 842.9939,-182.2979 846.8996,-188.1071\"/>\n</g>\n<!-- 51 -->\n<g id=\"node52\" class=\"node\">\n<title>51</title>\n<polygon fill=\"#88c4ef\" stroke=\"#000000\" points=\"1145,-425 1017,-425 1017,-342 1145,-342 1145,-425\"/>\n<text text-anchor=\"start\" x=\"1044.5\" y=\"-409.8\" font-family=\"Helvetica,sans-Serif\" font-size=\"14.00\" fill=\"#000000\">age ≤ &#45;0.57</text>\n<text text-anchor=\"start\" x=\"1043\" y=\"-394.8\" font-family=\"Helvetica,sans-Serif\" font-size=\"14.00\" fill=\"#000000\">gini = 0.408</text>\n<text text-anchor=\"start\" x=\"1041.5\" y=\"-379.8\" font-family=\"Helvetica,sans-Serif\" font-size=\"14.00\" fill=\"#000000\">samples = 7</text>\n<text text-anchor=\"start\" x=\"1039.5\" y=\"-364.8\" font-family=\"Helvetica,sans-Serif\" font-size=\"14.00\" fill=\"#000000\">value = [2, 5]</text>\n<text text-anchor=\"start\" x=\"1025\" y=\"-349.8\" font-family=\"Helvetica,sans-Serif\" font-size=\"14.00\" fill=\"#000000\">class = PAIDOFF</text>\n</g>\n<!-- 50&#45;&gt;51 -->\n<g id=\"edge51\" class=\"edge\">\n<title>50&#45;&gt;51</title>\n<path fill=\"none\" stroke=\"#000000\" d=\"M1010.7732,-460.8796C1019.0287,-451.7832 1027.842,-442.0722 1036.3374,-432.7116\"/>\n<polygon fill=\"#000000\" stroke=\"#000000\" points=\"1038.9368,-435.0553 1043.0656,-425.2981 1033.7533,-430.3509 1038.9368,-435.0553\"/>\n</g>\n<!-- 58 -->\n<g id=\"node59\" class=\"node\">\n<title>58</title>\n<polygon fill=\"#f8e0ce\" stroke=\"#000000\" points=\"1484.5,-425 1325.5,-425 1325.5,-342 1484.5,-342 1484.5,-425\"/>\n<text text-anchor=\"start\" x=\"1358.5\" y=\"-409.8\" font-family=\"Helvetica,sans-Serif\" font-size=\"14.00\" fill=\"#000000\">terms ≤ &#45;0.019</text>\n<text text-anchor=\"start\" x=\"1371.5\" y=\"-394.8\" font-family=\"Helvetica,sans-Serif\" font-size=\"14.00\" fill=\"#000000\">gini = 0.49</text>\n<text text-anchor=\"start\" x=\"1365.5\" y=\"-379.8\" font-family=\"Helvetica,sans-Serif\" font-size=\"14.00\" fill=\"#000000\">samples = 7</text>\n<text text-anchor=\"start\" x=\"1363.5\" y=\"-364.8\" font-family=\"Helvetica,sans-Serif\" font-size=\"14.00\" fill=\"#000000\">value = [4, 3]</text>\n<text text-anchor=\"start\" x=\"1333.5\" y=\"-349.8\" font-family=\"Helvetica,sans-Serif\" font-size=\"14.00\" fill=\"#000000\">class = COLLECTION</text>\n</g>\n<!-- 50&#45;&gt;58 -->\n<g id=\"edge58\" class=\"edge\">\n<title>50&#45;&gt;58</title>\n<path fill=\"none\" stroke=\"#000000\" d=\"M1037.3767,-464.5529C1040.2579,-463.2844 1043.14,-462.0921 1046,-461 1134.4656,-427.2184 1241.1111,-406.5494 1315.0692,-395.1483\"/>\n<polygon fill=\"#000000\" stroke=\"#000000\" points=\"1315.92,-398.5594 1325.2828,-393.6007 1314.8713,-391.6384 1315.92,-398.5594\"/>\n</g>\n<!-- 52 -->\n<g id=\"node53\" class=\"node\">\n<title>52</title>\n<polygon fill=\"#ffffff\" stroke=\"#000000\" points=\"1160.5,-298.5 1001.5,-298.5 1001.5,-230.5 1160.5,-230.5 1160.5,-298.5\"/>\n<text text-anchor=\"start\" x=\"1051.5\" y=\"-283.3\" font-family=\"Helvetica,sans-Serif\" font-size=\"14.00\" fill=\"#000000\">gini = 0.5</text>\n<text text-anchor=\"start\" x=\"1041.5\" y=\"-268.3\" font-family=\"Helvetica,sans-Serif\" font-size=\"14.00\" fill=\"#000000\">samples = 2</text>\n<text text-anchor=\"start\" x=\"1039.5\" y=\"-253.3\" font-family=\"Helvetica,sans-Serif\" font-size=\"14.00\" fill=\"#000000\">value = [1, 1]</text>\n<text text-anchor=\"start\" x=\"1009.5\" y=\"-238.3\" font-family=\"Helvetica,sans-Serif\" font-size=\"14.00\" fill=\"#000000\">class = COLLECTION</text>\n</g>\n<!-- 51&#45;&gt;52 -->\n<g id=\"edge52\" class=\"edge\">\n<title>51&#45;&gt;52</title>\n<path fill=\"none\" stroke=\"#000000\" d=\"M1081,-341.8796C1081,-331.2134 1081,-319.7021 1081,-308.9015\"/>\n<polygon fill=\"#000000\" stroke=\"#000000\" points=\"1084.5001,-308.8149 1081,-298.8149 1077.5001,-308.815 1084.5001,-308.8149\"/>\n</g>\n<!-- 53 -->\n<g id=\"node54\" class=\"node\">\n<title>53</title>\n<polygon fill=\"#6ab6ec\" stroke=\"#000000\" points=\"1307,-306 1179,-306 1179,-223 1307,-223 1307,-306\"/>\n<text text-anchor=\"start\" x=\"1188\" y=\"-290.8\" font-family=\"Helvetica,sans-Serif\" font-size=\"14.00\" fill=\"#000000\">Bechalor ≤ 1.119</text>\n<text text-anchor=\"start\" x=\"1209.5\" y=\"-275.8\" font-family=\"Helvetica,sans-Serif\" font-size=\"14.00\" fill=\"#000000\">gini = 0.32</text>\n<text text-anchor=\"start\" x=\"1203.5\" y=\"-260.8\" font-family=\"Helvetica,sans-Serif\" font-size=\"14.00\" fill=\"#000000\">samples = 5</text>\n<text text-anchor=\"start\" x=\"1201.5\" y=\"-245.8\" font-family=\"Helvetica,sans-Serif\" font-size=\"14.00\" fill=\"#000000\">value = [1, 4]</text>\n<text text-anchor=\"start\" x=\"1187\" y=\"-230.8\" font-family=\"Helvetica,sans-Serif\" font-size=\"14.00\" fill=\"#000000\">class = PAIDOFF</text>\n</g>\n<!-- 51&#45;&gt;53 -->\n<g id=\"edge53\" class=\"edge\">\n<title>51&#45;&gt;53</title>\n<path fill=\"none\" stroke=\"#000000\" d=\"M1137.6597,-341.8796C1150.7316,-332.2774 1164.7359,-321.9903 1178.1273,-312.1534\"/>\n<polygon fill=\"#000000\" stroke=\"#000000\" points=\"1180.385,-314.8378 1186.3723,-306.0969 1176.2409,-309.1963 1180.385,-314.8378\"/>\n</g>\n<!-- 54 -->\n<g id=\"node55\" class=\"node\">\n<title>54</title>\n<polygon fill=\"#7bbeee\" stroke=\"#000000\" points=\"1234,-187 1106,-187 1106,-104 1234,-104 1234,-187\"/>\n<text text-anchor=\"start\" x=\"1123.5\" y=\"-171.8\" font-family=\"Helvetica,sans-Serif\" font-size=\"14.00\" fill=\"#000000\">terms ≤ &#45;0.019</text>\n<text text-anchor=\"start\" x=\"1132\" y=\"-156.8\" font-family=\"Helvetica,sans-Serif\" font-size=\"14.00\" fill=\"#000000\">gini = 0.375</text>\n<text text-anchor=\"start\" x=\"1130.5\" y=\"-141.8\" font-family=\"Helvetica,sans-Serif\" font-size=\"14.00\" fill=\"#000000\">samples = 4</text>\n<text text-anchor=\"start\" x=\"1128.5\" y=\"-126.8\" font-family=\"Helvetica,sans-Serif\" font-size=\"14.00\" fill=\"#000000\">value = [1, 3]</text>\n<text text-anchor=\"start\" x=\"1114\" y=\"-111.8\" font-family=\"Helvetica,sans-Serif\" font-size=\"14.00\" fill=\"#000000\">class = PAIDOFF</text>\n</g>\n<!-- 53&#45;&gt;54 -->\n<g id=\"edge54\" class=\"edge\">\n<title>53&#45;&gt;54</title>\n<path fill=\"none\" stroke=\"#000000\" d=\"M1217.4681,-222.8796C1212.109,-214.1434 1206.4021,-204.8404 1200.8718,-195.8253\"/>\n<polygon fill=\"#000000\" stroke=\"#000000\" points=\"1203.8533,-193.9919 1195.6408,-187.2981 1197.8865,-197.6522 1203.8533,-193.9919\"/>\n</g>\n<!-- 57 -->\n<g id=\"node58\" class=\"node\">\n<title>57</title>\n<polygon fill=\"#399de5\" stroke=\"#000000\" points=\"1380,-179.5 1252,-179.5 1252,-111.5 1380,-111.5 1380,-179.5\"/>\n<text text-anchor=\"start\" x=\"1286.5\" y=\"-164.3\" font-family=\"Helvetica,sans-Serif\" font-size=\"14.00\" fill=\"#000000\">gini = 0.0</text>\n<text text-anchor=\"start\" x=\"1276.5\" y=\"-149.3\" font-family=\"Helvetica,sans-Serif\" font-size=\"14.00\" fill=\"#000000\">samples = 1</text>\n<text text-anchor=\"start\" x=\"1274.5\" y=\"-134.3\" font-family=\"Helvetica,sans-Serif\" font-size=\"14.00\" fill=\"#000000\">value = [0, 1]</text>\n<text text-anchor=\"start\" x=\"1260\" y=\"-119.3\" font-family=\"Helvetica,sans-Serif\" font-size=\"14.00\" fill=\"#000000\">class = PAIDOFF</text>\n</g>\n<!-- 53&#45;&gt;57 -->\n<g id=\"edge57\" class=\"edge\">\n<title>53&#45;&gt;57</title>\n<path fill=\"none\" stroke=\"#000000\" d=\"M1268.5319,-222.8796C1275.3448,-211.7735 1282.7198,-199.7513 1289.5794,-188.5691\"/>\n<polygon fill=\"#000000\" stroke=\"#000000\" points=\"1292.704,-190.1691 1294.9497,-179.8149 1286.7372,-186.5087 1292.704,-190.1691\"/>\n</g>\n<!-- 55 -->\n<g id=\"node56\" class=\"node\">\n<title>55</title>\n<polygon fill=\"#399de5\" stroke=\"#000000\" points=\"1161,-68 1033,-68 1033,0 1161,0 1161,-68\"/>\n<text text-anchor=\"start\" x=\"1067.5\" y=\"-52.8\" font-family=\"Helvetica,sans-Serif\" font-size=\"14.00\" fill=\"#000000\">gini = 0.0</text>\n<text text-anchor=\"start\" x=\"1057.5\" y=\"-37.8\" font-family=\"Helvetica,sans-Serif\" font-size=\"14.00\" fill=\"#000000\">samples = 1</text>\n<text text-anchor=\"start\" x=\"1055.5\" y=\"-22.8\" font-family=\"Helvetica,sans-Serif\" font-size=\"14.00\" fill=\"#000000\">value = [0, 1]</text>\n<text text-anchor=\"start\" x=\"1041\" y=\"-7.8\" font-family=\"Helvetica,sans-Serif\" font-size=\"14.00\" fill=\"#000000\">class = PAIDOFF</text>\n</g>\n<!-- 54&#45;&gt;55 -->\n<g id=\"edge55\" class=\"edge\">\n<title>54&#45;&gt;55</title>\n<path fill=\"none\" stroke=\"#000000\" d=\"M1142.8175,-103.9815C1136.9808,-95.0666 1130.8034,-85.6313 1124.9386,-76.6734\"/>\n<polygon fill=\"#000000\" stroke=\"#000000\" points=\"1127.8386,-74.7129 1119.4327,-68.2637 1121.9821,-78.5472 1127.8386,-74.7129\"/>\n</g>\n<!-- 56 -->\n<g id=\"node57\" class=\"node\">\n<title>56</title>\n<polygon fill=\"#9ccef2\" stroke=\"#000000\" points=\"1307,-68 1179,-68 1179,0 1307,0 1307,-68\"/>\n<text text-anchor=\"start\" x=\"1205\" y=\"-52.8\" font-family=\"Helvetica,sans-Serif\" font-size=\"14.00\" fill=\"#000000\">gini = 0.444</text>\n<text text-anchor=\"start\" x=\"1203.5\" y=\"-37.8\" font-family=\"Helvetica,sans-Serif\" font-size=\"14.00\" fill=\"#000000\">samples = 3</text>\n<text text-anchor=\"start\" x=\"1201.5\" y=\"-22.8\" font-family=\"Helvetica,sans-Serif\" font-size=\"14.00\" fill=\"#000000\">value = [1, 2]</text>\n<text text-anchor=\"start\" x=\"1187\" y=\"-7.8\" font-family=\"Helvetica,sans-Serif\" font-size=\"14.00\" fill=\"#000000\">class = PAIDOFF</text>\n</g>\n<!-- 54&#45;&gt;56 -->\n<g id=\"edge56\" class=\"edge\">\n<title>54&#45;&gt;56</title>\n<path fill=\"none\" stroke=\"#000000\" d=\"M1197.1825,-103.9815C1203.0192,-95.0666 1209.1966,-85.6313 1215.0614,-76.6734\"/>\n<polygon fill=\"#000000\" stroke=\"#000000\" points=\"1218.0179,-78.5472 1220.5673,-68.2637 1212.1614,-74.7129 1218.0179,-78.5472\"/>\n</g>\n<!-- 59 -->\n<g id=\"node60\" class=\"node\">\n<title>59</title>\n<polygon fill=\"#e58139\" stroke=\"#000000\" points=\"1484.5,-298.5 1325.5,-298.5 1325.5,-230.5 1484.5,-230.5 1484.5,-298.5\"/>\n<text text-anchor=\"start\" x=\"1375.5\" y=\"-283.3\" font-family=\"Helvetica,sans-Serif\" font-size=\"14.00\" fill=\"#000000\">gini = 0.0</text>\n<text text-anchor=\"start\" x=\"1365.5\" y=\"-268.3\" font-family=\"Helvetica,sans-Serif\" font-size=\"14.00\" fill=\"#000000\">samples = 2</text>\n<text text-anchor=\"start\" x=\"1363.5\" y=\"-253.3\" font-family=\"Helvetica,sans-Serif\" font-size=\"14.00\" fill=\"#000000\">value = [2, 0]</text>\n<text text-anchor=\"start\" x=\"1333.5\" y=\"-238.3\" font-family=\"Helvetica,sans-Serif\" font-size=\"14.00\" fill=\"#000000\">class = COLLECTION</text>\n</g>\n<!-- 58&#45;&gt;59 -->\n<g id=\"edge59\" class=\"edge\">\n<title>58&#45;&gt;59</title>\n<path fill=\"none\" stroke=\"#000000\" d=\"M1405,-341.8796C1405,-331.2134 1405,-319.7021 1405,-308.9015\"/>\n<polygon fill=\"#000000\" stroke=\"#000000\" points=\"1408.5001,-308.8149 1405,-298.8149 1401.5001,-308.815 1408.5001,-308.8149\"/>\n</g>\n<!-- 60 -->\n<g id=\"node61\" class=\"node\">\n<title>60</title>\n<polygon fill=\"#bddef6\" stroke=\"#000000\" points=\"1631,-306 1503,-306 1503,-223 1631,-223 1631,-306\"/>\n<text text-anchor=\"start\" x=\"1526\" y=\"-290.8\" font-family=\"Helvetica,sans-Serif\" font-size=\"14.00\" fill=\"#000000\">age ≤ &#45;0.239</text>\n<text text-anchor=\"start\" x=\"1533.5\" y=\"-275.8\" font-family=\"Helvetica,sans-Serif\" font-size=\"14.00\" fill=\"#000000\">gini = 0.48</text>\n<text text-anchor=\"start\" x=\"1527.5\" y=\"-260.8\" font-family=\"Helvetica,sans-Serif\" font-size=\"14.00\" fill=\"#000000\">samples = 5</text>\n<text text-anchor=\"start\" x=\"1525.5\" y=\"-245.8\" font-family=\"Helvetica,sans-Serif\" font-size=\"14.00\" fill=\"#000000\">value = [2, 3]</text>\n<text text-anchor=\"start\" x=\"1511\" y=\"-230.8\" font-family=\"Helvetica,sans-Serif\" font-size=\"14.00\" fill=\"#000000\">class = PAIDOFF</text>\n</g>\n<!-- 58&#45;&gt;60 -->\n<g id=\"edge60\" class=\"edge\">\n<title>58&#45;&gt;60</title>\n<path fill=\"none\" stroke=\"#000000\" d=\"M1461.6597,-341.8796C1474.7316,-332.2774 1488.7359,-321.9903 1502.1273,-312.1534\"/>\n<polygon fill=\"#000000\" stroke=\"#000000\" points=\"1504.385,-314.8378 1510.3723,-306.0969 1500.2409,-309.1963 1504.385,-314.8378\"/>\n</g>\n<!-- 61 -->\n<g id=\"node62\" class=\"node\">\n<title>61</title>\n<polygon fill=\"#ffffff\" stroke=\"#000000\" points=\"1602.5,-179.5 1443.5,-179.5 1443.5,-111.5 1602.5,-111.5 1602.5,-179.5\"/>\n<text text-anchor=\"start\" x=\"1493.5\" y=\"-164.3\" font-family=\"Helvetica,sans-Serif\" font-size=\"14.00\" fill=\"#000000\">gini = 0.5</text>\n<text text-anchor=\"start\" x=\"1483.5\" y=\"-149.3\" font-family=\"Helvetica,sans-Serif\" font-size=\"14.00\" fill=\"#000000\">samples = 2</text>\n<text text-anchor=\"start\" x=\"1481.5\" y=\"-134.3\" font-family=\"Helvetica,sans-Serif\" font-size=\"14.00\" fill=\"#000000\">value = [1, 1]</text>\n<text text-anchor=\"start\" x=\"1451.5\" y=\"-119.3\" font-family=\"Helvetica,sans-Serif\" font-size=\"14.00\" fill=\"#000000\">class = COLLECTION</text>\n</g>\n<!-- 60&#45;&gt;61 -->\n<g id=\"edge61\" class=\"edge\">\n<title>60&#45;&gt;61</title>\n<path fill=\"none\" stroke=\"#000000\" d=\"M1551.6109,-222.8796C1547.5858,-211.9935 1543.2352,-200.227 1539.1707,-189.2344\"/>\n<polygon fill=\"#000000\" stroke=\"#000000\" points=\"1542.4387,-187.9805 1535.6879,-179.8149 1535.8732,-190.4082 1542.4387,-187.9805\"/>\n</g>\n<!-- 62 -->\n<g id=\"node63\" class=\"node\">\n<title>62</title>\n<polygon fill=\"#9ccef2\" stroke=\"#000000\" points=\"1749,-179.5 1621,-179.5 1621,-111.5 1749,-111.5 1749,-179.5\"/>\n<text text-anchor=\"start\" x=\"1647\" y=\"-164.3\" font-family=\"Helvetica,sans-Serif\" font-size=\"14.00\" fill=\"#000000\">gini = 0.444</text>\n<text text-anchor=\"start\" x=\"1645.5\" y=\"-149.3\" font-family=\"Helvetica,sans-Serif\" font-size=\"14.00\" fill=\"#000000\">samples = 3</text>\n<text text-anchor=\"start\" x=\"1643.5\" y=\"-134.3\" font-family=\"Helvetica,sans-Serif\" font-size=\"14.00\" fill=\"#000000\">value = [1, 2]</text>\n<text text-anchor=\"start\" x=\"1629\" y=\"-119.3\" font-family=\"Helvetica,sans-Serif\" font-size=\"14.00\" fill=\"#000000\">class = PAIDOFF</text>\n</g>\n<!-- 60&#45;&gt;62 -->\n<g id=\"edge62\" class=\"edge\">\n<title>60&#45;&gt;62</title>\n<path fill=\"none\" stroke=\"#000000\" d=\"M1608.2707,-222.8796C1619.7195,-211.3337 1632.1503,-198.7976 1643.6062,-187.2446\"/>\n<polygon fill=\"#000000\" stroke=\"#000000\" points=\"1646.4175,-189.3802 1650.9734,-179.8149 1641.4469,-184.4514 1646.4175,-189.3802\"/>\n</g>\n<!-- 65 -->\n<g id=\"node66\" class=\"node\">\n<title>65</title>\n<polygon fill=\"#ffffff\" stroke=\"#000000\" points=\"1174.5,-774.5 1015.5,-774.5 1015.5,-706.5 1174.5,-706.5 1174.5,-774.5\"/>\n<text text-anchor=\"start\" x=\"1065.5\" y=\"-759.3\" font-family=\"Helvetica,sans-Serif\" font-size=\"14.00\" fill=\"#000000\">gini = 0.5</text>\n<text text-anchor=\"start\" x=\"1055.5\" y=\"-744.3\" font-family=\"Helvetica,sans-Serif\" font-size=\"14.00\" fill=\"#000000\">samples = 2</text>\n<text text-anchor=\"start\" x=\"1053.5\" y=\"-729.3\" font-family=\"Helvetica,sans-Serif\" font-size=\"14.00\" fill=\"#000000\">value = [1, 1]</text>\n<text text-anchor=\"start\" x=\"1023.5\" y=\"-714.3\" font-family=\"Helvetica,sans-Serif\" font-size=\"14.00\" fill=\"#000000\">class = COLLECTION</text>\n</g>\n<!-- 64&#45;&gt;65 -->\n<g id=\"edge65\" class=\"edge\">\n<title>64&#45;&gt;65</title>\n<path fill=\"none\" stroke=\"#000000\" d=\"M1095,-817.8796C1095,-807.2134 1095,-795.7021 1095,-784.9015\"/>\n<polygon fill=\"#000000\" stroke=\"#000000\" points=\"1098.5001,-784.8149 1095,-774.8149 1091.5001,-784.815 1098.5001,-784.8149\"/>\n</g>\n<!-- 66 -->\n<g id=\"node67\" class=\"node\">\n<title>66</title>\n<polygon fill=\"#6ab6ec\" stroke=\"#000000\" points=\"1321,-782 1193,-782 1193,-699 1321,-699 1321,-782\"/>\n<text text-anchor=\"start\" x=\"1206.5\" y=\"-766.8\" font-family=\"Helvetica,sans-Serif\" font-size=\"14.00\" fill=\"#000000\">Gender ≤ 0.979</text>\n<text text-anchor=\"start\" x=\"1223.5\" y=\"-751.8\" font-family=\"Helvetica,sans-Serif\" font-size=\"14.00\" fill=\"#000000\">gini = 0.32</text>\n<text text-anchor=\"start\" x=\"1217.5\" y=\"-736.8\" font-family=\"Helvetica,sans-Serif\" font-size=\"14.00\" fill=\"#000000\">samples = 5</text>\n<text text-anchor=\"start\" x=\"1215.5\" y=\"-721.8\" font-family=\"Helvetica,sans-Serif\" font-size=\"14.00\" fill=\"#000000\">value = [1, 4]</text>\n<text text-anchor=\"start\" x=\"1201\" y=\"-706.8\" font-family=\"Helvetica,sans-Serif\" font-size=\"14.00\" fill=\"#000000\">class = PAIDOFF</text>\n</g>\n<!-- 64&#45;&gt;66 -->\n<g id=\"edge66\" class=\"edge\">\n<title>64&#45;&gt;66</title>\n<path fill=\"none\" stroke=\"#000000\" d=\"M1151.6597,-817.8796C1164.7316,-808.2774 1178.7359,-797.9903 1192.1273,-788.1534\"/>\n<polygon fill=\"#000000\" stroke=\"#000000\" points=\"1194.385,-790.8378 1200.3723,-782.0969 1190.2409,-785.1963 1194.385,-790.8378\"/>\n</g>\n<!-- 67 -->\n<g id=\"node68\" class=\"node\">\n<title>67</title>\n<polygon fill=\"#7bbeee\" stroke=\"#000000\" points=\"1321,-663 1193,-663 1193,-580 1321,-580 1321,-663\"/>\n<text text-anchor=\"start\" x=\"1218.5\" y=\"-647.8\" font-family=\"Helvetica,sans-Serif\" font-size=\"14.00\" fill=\"#000000\">age ≤ 0.093</text>\n<text text-anchor=\"start\" x=\"1219\" y=\"-632.8\" font-family=\"Helvetica,sans-Serif\" font-size=\"14.00\" fill=\"#000000\">gini = 0.375</text>\n<text text-anchor=\"start\" x=\"1217.5\" y=\"-617.8\" font-family=\"Helvetica,sans-Serif\" font-size=\"14.00\" fill=\"#000000\">samples = 4</text>\n<text text-anchor=\"start\" x=\"1215.5\" y=\"-602.8\" font-family=\"Helvetica,sans-Serif\" font-size=\"14.00\" fill=\"#000000\">value = [1, 3]</text>\n<text text-anchor=\"start\" x=\"1201\" y=\"-587.8\" font-family=\"Helvetica,sans-Serif\" font-size=\"14.00\" fill=\"#000000\">class = PAIDOFF</text>\n</g>\n<!-- 66&#45;&gt;67 -->\n<g id=\"edge67\" class=\"edge\">\n<title>66&#45;&gt;67</title>\n<path fill=\"none\" stroke=\"#000000\" d=\"M1257,-698.8796C1257,-690.6838 1257,-681.9891 1257,-673.5013\"/>\n<polygon fill=\"#000000\" stroke=\"#000000\" points=\"1260.5001,-673.298 1257,-663.2981 1253.5001,-673.2981 1260.5001,-673.298\"/>\n</g>\n<!-- 70 -->\n<g id=\"node71\" class=\"node\">\n<title>70</title>\n<polygon fill=\"#399de5\" stroke=\"#000000\" points=\"1467,-655.5 1339,-655.5 1339,-587.5 1467,-587.5 1467,-655.5\"/>\n<text text-anchor=\"start\" x=\"1373.5\" y=\"-640.3\" font-family=\"Helvetica,sans-Serif\" font-size=\"14.00\" fill=\"#000000\">gini = 0.0</text>\n<text text-anchor=\"start\" x=\"1363.5\" y=\"-625.3\" font-family=\"Helvetica,sans-Serif\" font-size=\"14.00\" fill=\"#000000\">samples = 1</text>\n<text text-anchor=\"start\" x=\"1361.5\" y=\"-610.3\" font-family=\"Helvetica,sans-Serif\" font-size=\"14.00\" fill=\"#000000\">value = [0, 1]</text>\n<text text-anchor=\"start\" x=\"1347\" y=\"-595.3\" font-family=\"Helvetica,sans-Serif\" font-size=\"14.00\" fill=\"#000000\">class = PAIDOFF</text>\n</g>\n<!-- 66&#45;&gt;70 -->\n<g id=\"edge70\" class=\"edge\">\n<title>66&#45;&gt;70</title>\n<path fill=\"none\" stroke=\"#000000\" d=\"M1308.0637,-698.8796C1322.634,-687.0038 1338.4896,-674.0804 1352.9958,-662.2568\"/>\n<polygon fill=\"#000000\" stroke=\"#000000\" points=\"1355.3592,-664.8459 1360.8993,-655.8149 1350.9366,-659.4199 1355.3592,-664.8459\"/>\n</g>\n<!-- 68 -->\n<g id=\"node69\" class=\"node\">\n<title>68</title>\n<polygon fill=\"#9ccef2\" stroke=\"#000000\" points=\"1183,-536.5 1055,-536.5 1055,-468.5 1183,-468.5 1183,-536.5\"/>\n<text text-anchor=\"start\" x=\"1081\" y=\"-521.3\" font-family=\"Helvetica,sans-Serif\" font-size=\"14.00\" fill=\"#000000\">gini = 0.444</text>\n<text text-anchor=\"start\" x=\"1079.5\" y=\"-506.3\" font-family=\"Helvetica,sans-Serif\" font-size=\"14.00\" fill=\"#000000\">samples = 3</text>\n<text text-anchor=\"start\" x=\"1077.5\" y=\"-491.3\" font-family=\"Helvetica,sans-Serif\" font-size=\"14.00\" fill=\"#000000\">value = [1, 2]</text>\n<text text-anchor=\"start\" x=\"1063\" y=\"-476.3\" font-family=\"Helvetica,sans-Serif\" font-size=\"14.00\" fill=\"#000000\">class = PAIDOFF</text>\n</g>\n<!-- 67&#45;&gt;68 -->\n<g id=\"edge68\" class=\"edge\">\n<title>67&#45;&gt;68</title>\n<path fill=\"none\" stroke=\"#000000\" d=\"M1208.7343,-579.8796C1195.0899,-568.1138 1180.2531,-555.3197 1166.6454,-543.5855\"/>\n<polygon fill=\"#000000\" stroke=\"#000000\" points=\"1168.6527,-540.6948 1158.7938,-536.8149 1164.0813,-545.9961 1168.6527,-540.6948\"/>\n</g>\n<!-- 69 -->\n<g id=\"node70\" class=\"node\">\n<title>69</title>\n<polygon fill=\"#399de5\" stroke=\"#000000\" points=\"1329,-536.5 1201,-536.5 1201,-468.5 1329,-468.5 1329,-536.5\"/>\n<text text-anchor=\"start\" x=\"1235.5\" y=\"-521.3\" font-family=\"Helvetica,sans-Serif\" font-size=\"14.00\" fill=\"#000000\">gini = 0.0</text>\n<text text-anchor=\"start\" x=\"1225.5\" y=\"-506.3\" font-family=\"Helvetica,sans-Serif\" font-size=\"14.00\" fill=\"#000000\">samples = 1</text>\n<text text-anchor=\"start\" x=\"1223.5\" y=\"-491.3\" font-family=\"Helvetica,sans-Serif\" font-size=\"14.00\" fill=\"#000000\">value = [0, 1]</text>\n<text text-anchor=\"start\" x=\"1209\" y=\"-476.3\" font-family=\"Helvetica,sans-Serif\" font-size=\"14.00\" fill=\"#000000\">class = PAIDOFF</text>\n</g>\n<!-- 67&#45;&gt;69 -->\n<g id=\"edge69\" class=\"edge\">\n<title>67&#45;&gt;69</title>\n<path fill=\"none\" stroke=\"#000000\" d=\"M1259.798,-579.8796C1260.5151,-569.2134 1261.2889,-557.7021 1262.015,-546.9015\"/>\n<polygon fill=\"#000000\" stroke=\"#000000\" points=\"1265.5144,-547.0272 1262.6931,-536.8149 1258.5301,-546.5576 1265.5144,-547.0272\"/>\n</g>\n<!-- 72 -->\n<g id=\"node73\" class=\"node\">\n<title>72</title>\n<polygon fill=\"#98ccf1\" stroke=\"#000000\" points=\"1901,-1020 1773,-1020 1773,-937 1901,-937 1901,-1020\"/>\n<text text-anchor=\"start\" x=\"1796\" y=\"-1004.8\" font-family=\"Helvetica,sans-Serif\" font-size=\"14.00\" fill=\"#000000\">age ≤ &#45;0.902</text>\n<text text-anchor=\"start\" x=\"1799\" y=\"-989.8\" font-family=\"Helvetica,sans-Serif\" font-size=\"14.00\" fill=\"#000000\">gini = 0.438</text>\n<text text-anchor=\"start\" x=\"1793\" y=\"-974.8\" font-family=\"Helvetica,sans-Serif\" font-size=\"14.00\" fill=\"#000000\">samples = 34</text>\n<text text-anchor=\"start\" x=\"1787\" y=\"-959.8\" font-family=\"Helvetica,sans-Serif\" font-size=\"14.00\" fill=\"#000000\">value = [11, 23]</text>\n<text text-anchor=\"start\" x=\"1781\" y=\"-944.8\" font-family=\"Helvetica,sans-Serif\" font-size=\"14.00\" fill=\"#000000\">class = PAIDOFF</text>\n</g>\n<!-- 71&#45;&gt;72 -->\n<g id=\"edge72\" class=\"edge\">\n<title>71&#45;&gt;72</title>\n<path fill=\"none\" stroke=\"#000000\" d=\"M1837,-1055.8796C1837,-1047.6838 1837,-1038.9891 1837,-1030.5013\"/>\n<polygon fill=\"#000000\" stroke=\"#000000\" points=\"1840.5001,-1030.298 1837,-1020.2981 1833.5001,-1030.2981 1840.5001,-1030.298\"/>\n</g>\n<!-- 97 -->\n<g id=\"node98\" class=\"node\">\n<title>97</title>\n<polygon fill=\"#f8e0ce\" stroke=\"#000000\" points=\"2318.5,-1020 2159.5,-1020 2159.5,-937 2318.5,-937 2318.5,-1020\"/>\n<text text-anchor=\"start\" x=\"2188.5\" y=\"-1004.8\" font-family=\"Helvetica,sans-Serif\" font-size=\"14.00\" fill=\"#000000\">Gender ≤ 0.979</text>\n<text text-anchor=\"start\" x=\"2205.5\" y=\"-989.8\" font-family=\"Helvetica,sans-Serif\" font-size=\"14.00\" fill=\"#000000\">gini = 0.49</text>\n<text text-anchor=\"start\" x=\"2195\" y=\"-974.8\" font-family=\"Helvetica,sans-Serif\" font-size=\"14.00\" fill=\"#000000\">samples = 14</text>\n<text text-anchor=\"start\" x=\"2197.5\" y=\"-959.8\" font-family=\"Helvetica,sans-Serif\" font-size=\"14.00\" fill=\"#000000\">value = [8, 6]</text>\n<text text-anchor=\"start\" x=\"2167.5\" y=\"-944.8\" font-family=\"Helvetica,sans-Serif\" font-size=\"14.00\" fill=\"#000000\">class = COLLECTION</text>\n</g>\n<!-- 71&#45;&gt;97 -->\n<g id=\"edge97\" class=\"edge\">\n<title>71&#45;&gt;97</title>\n<path fill=\"none\" stroke=\"#000000\" d=\"M1901.1426,-1078.5125C1968.1808,-1058.6679 2073.8989,-1027.3732 2149.2141,-1005.0784\"/>\n<polygon fill=\"#000000\" stroke=\"#000000\" points=\"2150.5733,-1008.3263 2159.1685,-1002.1317 2148.5863,-1001.6142 2150.5733,-1008.3263\"/>\n</g>\n<!-- 73 -->\n<g id=\"node74\" class=\"node\">\n<title>73</title>\n<polygon fill=\"#ffffff\" stroke=\"#000000\" points=\"1835.5,-901 1676.5,-901 1676.5,-818 1835.5,-818 1835.5,-901\"/>\n<text text-anchor=\"start\" x=\"1709.5\" y=\"-885.8\" font-family=\"Helvetica,sans-Serif\" font-size=\"14.00\" fill=\"#000000\">terms ≤ &#45;0.019</text>\n<text text-anchor=\"start\" x=\"1726.5\" y=\"-870.8\" font-family=\"Helvetica,sans-Serif\" font-size=\"14.00\" fill=\"#000000\">gini = 0.5</text>\n<text text-anchor=\"start\" x=\"1712\" y=\"-855.8\" font-family=\"Helvetica,sans-Serif\" font-size=\"14.00\" fill=\"#000000\">samples = 12</text>\n<text text-anchor=\"start\" x=\"1714.5\" y=\"-840.8\" font-family=\"Helvetica,sans-Serif\" font-size=\"14.00\" fill=\"#000000\">value = [6, 6]</text>\n<text text-anchor=\"start\" x=\"1684.5\" y=\"-825.8\" font-family=\"Helvetica,sans-Serif\" font-size=\"14.00\" fill=\"#000000\">class = COLLECTION</text>\n</g>\n<!-- 72&#45;&gt;73 -->\n<g id=\"edge73\" class=\"edge\">\n<title>72&#45;&gt;73</title>\n<path fill=\"none\" stroke=\"#000000\" d=\"M1808.6701,-936.8796C1802.7237,-928.1434 1796.3914,-918.8404 1790.255,-909.8253\"/>\n<polygon fill=\"#000000\" stroke=\"#000000\" points=\"1792.9711,-907.5953 1784.4508,-901.2981 1787.1844,-911.5342 1792.9711,-907.5953\"/>\n</g>\n<!-- 80 -->\n<g id=\"node81\" class=\"node\">\n<title>80</title>\n<polygon fill=\"#73baed\" stroke=\"#000000\" points=\"1982,-901 1854,-901 1854,-818 1982,-818 1982,-901\"/>\n<text text-anchor=\"start\" x=\"1864\" y=\"-885.8\" font-family=\"Helvetica,sans-Serif\" font-size=\"14.00\" fill=\"#000000\">Principal ≤ 0.058</text>\n<text text-anchor=\"start\" x=\"1880\" y=\"-870.8\" font-family=\"Helvetica,sans-Serif\" font-size=\"14.00\" fill=\"#000000\">gini = 0.351</text>\n<text text-anchor=\"start\" x=\"1874\" y=\"-855.8\" font-family=\"Helvetica,sans-Serif\" font-size=\"14.00\" fill=\"#000000\">samples = 22</text>\n<text text-anchor=\"start\" x=\"1872.5\" y=\"-840.8\" font-family=\"Helvetica,sans-Serif\" font-size=\"14.00\" fill=\"#000000\">value = [5, 17]</text>\n<text text-anchor=\"start\" x=\"1862\" y=\"-825.8\" font-family=\"Helvetica,sans-Serif\" font-size=\"14.00\" fill=\"#000000\">class = PAIDOFF</text>\n</g>\n<!-- 72&#45;&gt;80 -->\n<g id=\"edge80\" class=\"edge\">\n<title>72&#45;&gt;80</title>\n<path fill=\"none\" stroke=\"#000000\" d=\"M1865.3299,-936.8796C1871.2763,-928.1434 1877.6086,-918.8404 1883.745,-909.8253\"/>\n<polygon fill=\"#000000\" stroke=\"#000000\" points=\"1886.8156,-911.5342 1889.5492,-901.2981 1881.0289,-907.5953 1886.8156,-911.5342\"/>\n</g>\n<!-- 74 -->\n<g id=\"node75\" class=\"node\">\n<title>74</title>\n<polygon fill=\"#5aade9\" stroke=\"#000000\" points=\"1658,-782 1530,-782 1530,-699 1658,-699 1658,-782\"/>\n<text text-anchor=\"start\" x=\"1538\" y=\"-766.8\" font-family=\"Helvetica,sans-Serif\" font-size=\"14.00\" fill=\"#000000\">Principal ≤ &#45;0.399</text>\n<text text-anchor=\"start\" x=\"1556\" y=\"-751.8\" font-family=\"Helvetica,sans-Serif\" font-size=\"14.00\" fill=\"#000000\">gini = 0.245</text>\n<text text-anchor=\"start\" x=\"1554.5\" y=\"-736.8\" font-family=\"Helvetica,sans-Serif\" font-size=\"14.00\" fill=\"#000000\">samples = 7</text>\n<text text-anchor=\"start\" x=\"1552.5\" y=\"-721.8\" font-family=\"Helvetica,sans-Serif\" font-size=\"14.00\" fill=\"#000000\">value = [1, 6]</text>\n<text text-anchor=\"start\" x=\"1538\" y=\"-706.8\" font-family=\"Helvetica,sans-Serif\" font-size=\"14.00\" fill=\"#000000\">class = PAIDOFF</text>\n</g>\n<!-- 73&#45;&gt;74 -->\n<g id=\"edge74\" class=\"edge\">\n<title>73&#45;&gt;74</title>\n<path fill=\"none\" stroke=\"#000000\" d=\"M1699.3403,-817.8796C1686.2684,-808.2774 1672.2641,-797.9903 1658.8727,-788.1534\"/>\n<polygon fill=\"#000000\" stroke=\"#000000\" points=\"1660.7591,-785.1963 1650.6277,-782.0969 1656.615,-790.8378 1660.7591,-785.1963\"/>\n</g>\n<!-- 79 -->\n<g id=\"node80\" class=\"node\">\n<title>79</title>\n<polygon fill=\"#e58139\" stroke=\"#000000\" points=\"1835.5,-774.5 1676.5,-774.5 1676.5,-706.5 1835.5,-706.5 1835.5,-774.5\"/>\n<text text-anchor=\"start\" x=\"1726.5\" y=\"-759.3\" font-family=\"Helvetica,sans-Serif\" font-size=\"14.00\" fill=\"#000000\">gini = 0.0</text>\n<text text-anchor=\"start\" x=\"1716.5\" y=\"-744.3\" font-family=\"Helvetica,sans-Serif\" font-size=\"14.00\" fill=\"#000000\">samples = 5</text>\n<text text-anchor=\"start\" x=\"1714.5\" y=\"-729.3\" font-family=\"Helvetica,sans-Serif\" font-size=\"14.00\" fill=\"#000000\">value = [5, 0]</text>\n<text text-anchor=\"start\" x=\"1684.5\" y=\"-714.3\" font-family=\"Helvetica,sans-Serif\" font-size=\"14.00\" fill=\"#000000\">class = COLLECTION</text>\n</g>\n<!-- 73&#45;&gt;79 -->\n<g id=\"edge79\" class=\"edge\">\n<title>73&#45;&gt;79</title>\n<path fill=\"none\" stroke=\"#000000\" d=\"M1756,-817.8796C1756,-807.2134 1756,-795.7021 1756,-784.9015\"/>\n<polygon fill=\"#000000\" stroke=\"#000000\" points=\"1759.5001,-784.8149 1756,-774.8149 1752.5001,-784.815 1759.5001,-784.8149\"/>\n</g>\n<!-- 75 -->\n<g id=\"node76\" class=\"node\">\n<title>75</title>\n<polygon fill=\"#ffffff\" stroke=\"#000000\" points=\"1663.5,-663 1504.5,-663 1504.5,-580 1663.5,-580 1663.5,-663\"/>\n<text text-anchor=\"start\" x=\"1543\" y=\"-647.8\" font-family=\"Helvetica,sans-Serif\" font-size=\"14.00\" fill=\"#000000\">age ≤ &#45;1.316</text>\n<text text-anchor=\"start\" x=\"1554.5\" y=\"-632.8\" font-family=\"Helvetica,sans-Serif\" font-size=\"14.00\" fill=\"#000000\">gini = 0.5</text>\n<text text-anchor=\"start\" x=\"1544.5\" y=\"-617.8\" font-family=\"Helvetica,sans-Serif\" font-size=\"14.00\" fill=\"#000000\">samples = 2</text>\n<text text-anchor=\"start\" x=\"1542.5\" y=\"-602.8\" font-family=\"Helvetica,sans-Serif\" font-size=\"14.00\" fill=\"#000000\">value = [1, 1]</text>\n<text text-anchor=\"start\" x=\"1512.5\" y=\"-587.8\" font-family=\"Helvetica,sans-Serif\" font-size=\"14.00\" fill=\"#000000\">class = COLLECTION</text>\n</g>\n<!-- 74&#45;&gt;75 -->\n<g id=\"edge75\" class=\"edge\">\n<title>74&#45;&gt;75</title>\n<path fill=\"none\" stroke=\"#000000\" d=\"M1590.5025,-698.8796C1589.8138,-690.6838 1589.0831,-681.9891 1588.3699,-673.5013\"/>\n<polygon fill=\"#000000\" stroke=\"#000000\" points=\"1591.8376,-672.9698 1587.5124,-663.2981 1584.8622,-673.5561 1591.8376,-672.9698\"/>\n</g>\n<!-- 78 -->\n<g id=\"node79\" class=\"node\">\n<title>78</title>\n<polygon fill=\"#399de5\" stroke=\"#000000\" points=\"1810,-655.5 1682,-655.5 1682,-587.5 1810,-587.5 1810,-655.5\"/>\n<text text-anchor=\"start\" x=\"1716.5\" y=\"-640.3\" font-family=\"Helvetica,sans-Serif\" font-size=\"14.00\" fill=\"#000000\">gini = 0.0</text>\n<text text-anchor=\"start\" x=\"1706.5\" y=\"-625.3\" font-family=\"Helvetica,sans-Serif\" font-size=\"14.00\" fill=\"#000000\">samples = 5</text>\n<text text-anchor=\"start\" x=\"1704.5\" y=\"-610.3\" font-family=\"Helvetica,sans-Serif\" font-size=\"14.00\" fill=\"#000000\">value = [0, 5]</text>\n<text text-anchor=\"start\" x=\"1690\" y=\"-595.3\" font-family=\"Helvetica,sans-Serif\" font-size=\"14.00\" fill=\"#000000\">class = PAIDOFF</text>\n</g>\n<!-- 74&#45;&gt;78 -->\n<g id=\"edge78\" class=\"edge\">\n<title>74&#45;&gt;78</title>\n<path fill=\"none\" stroke=\"#000000\" d=\"M1647.1622,-698.8796C1662.3313,-687.0038 1678.8384,-674.0804 1693.9409,-662.2568\"/>\n<polygon fill=\"#000000\" stroke=\"#000000\" points=\"1696.4528,-664.7353 1702.1692,-655.8149 1692.1376,-659.2236 1696.4528,-664.7353\"/>\n</g>\n<!-- 76 -->\n<g id=\"node77\" class=\"node\">\n<title>76</title>\n<polygon fill=\"#e58139\" stroke=\"#000000\" points=\"1506.5,-536.5 1347.5,-536.5 1347.5,-468.5 1506.5,-468.5 1506.5,-536.5\"/>\n<text text-anchor=\"start\" x=\"1397.5\" y=\"-521.3\" font-family=\"Helvetica,sans-Serif\" font-size=\"14.00\" fill=\"#000000\">gini = 0.0</text>\n<text text-anchor=\"start\" x=\"1387.5\" y=\"-506.3\" font-family=\"Helvetica,sans-Serif\" font-size=\"14.00\" fill=\"#000000\">samples = 1</text>\n<text text-anchor=\"start\" x=\"1385.5\" y=\"-491.3\" font-family=\"Helvetica,sans-Serif\" font-size=\"14.00\" fill=\"#000000\">value = [1, 0]</text>\n<text text-anchor=\"start\" x=\"1355.5\" y=\"-476.3\" font-family=\"Helvetica,sans-Serif\" font-size=\"14.00\" fill=\"#000000\">class = COLLECTION</text>\n</g>\n<!-- 75&#45;&gt;76 -->\n<g id=\"edge76\" class=\"edge\">\n<title>75&#45;&gt;76</title>\n<path fill=\"none\" stroke=\"#000000\" d=\"M1529.089,-579.8796C1513.2006,-567.8368 1495.8909,-554.7167 1480.1143,-542.7586\"/>\n<polygon fill=\"#000000\" stroke=\"#000000\" points=\"1482.1031,-539.8743 1472.0195,-536.623 1477.8747,-545.4529 1482.1031,-539.8743\"/>\n</g>\n<!-- 77 -->\n<g id=\"node78\" class=\"node\">\n<title>77</title>\n<polygon fill=\"#399de5\" stroke=\"#000000\" points=\"1653,-536.5 1525,-536.5 1525,-468.5 1653,-468.5 1653,-536.5\"/>\n<text text-anchor=\"start\" x=\"1559.5\" y=\"-521.3\" font-family=\"Helvetica,sans-Serif\" font-size=\"14.00\" fill=\"#000000\">gini = 0.0</text>\n<text text-anchor=\"start\" x=\"1549.5\" y=\"-506.3\" font-family=\"Helvetica,sans-Serif\" font-size=\"14.00\" fill=\"#000000\">samples = 1</text>\n<text text-anchor=\"start\" x=\"1547.5\" y=\"-491.3\" font-family=\"Helvetica,sans-Serif\" font-size=\"14.00\" fill=\"#000000\">value = [0, 1]</text>\n<text text-anchor=\"start\" x=\"1533\" y=\"-476.3\" font-family=\"Helvetica,sans-Serif\" font-size=\"14.00\" fill=\"#000000\">class = PAIDOFF</text>\n</g>\n<!-- 75&#45;&gt;77 -->\n<g id=\"edge77\" class=\"edge\">\n<title>75&#45;&gt;77</title>\n<path fill=\"none\" stroke=\"#000000\" d=\"M1585.7488,-579.8796C1586.1969,-569.2134 1586.6806,-557.7021 1587.1344,-546.9015\"/>\n<polygon fill=\"#000000\" stroke=\"#000000\" points=\"1590.6352,-546.9531 1587.5582,-536.8149 1583.6414,-546.6592 1590.6352,-546.9531\"/>\n</g>\n<!-- 81 -->\n<g id=\"node82\" class=\"node\">\n<title>81</title>\n<polygon fill=\"#399de5\" stroke=\"#000000\" points=\"1982,-774.5 1854,-774.5 1854,-706.5 1982,-706.5 1982,-774.5\"/>\n<text text-anchor=\"start\" x=\"1888.5\" y=\"-759.3\" font-family=\"Helvetica,sans-Serif\" font-size=\"14.00\" fill=\"#000000\">gini = 0.0</text>\n<text text-anchor=\"start\" x=\"1878.5\" y=\"-744.3\" font-family=\"Helvetica,sans-Serif\" font-size=\"14.00\" fill=\"#000000\">samples = 5</text>\n<text text-anchor=\"start\" x=\"1876.5\" y=\"-729.3\" font-family=\"Helvetica,sans-Serif\" font-size=\"14.00\" fill=\"#000000\">value = [0, 5]</text>\n<text text-anchor=\"start\" x=\"1862\" y=\"-714.3\" font-family=\"Helvetica,sans-Serif\" font-size=\"14.00\" fill=\"#000000\">class = PAIDOFF</text>\n</g>\n<!-- 80&#45;&gt;81 -->\n<g id=\"edge81\" class=\"edge\">\n<title>80&#45;&gt;81</title>\n<path fill=\"none\" stroke=\"#000000\" d=\"M1918,-817.8796C1918,-807.2134 1918,-795.7021 1918,-784.9015\"/>\n<polygon fill=\"#000000\" stroke=\"#000000\" points=\"1921.5001,-784.8149 1918,-774.8149 1914.5001,-784.815 1921.5001,-784.8149\"/>\n</g>\n<!-- 82 -->\n<g id=\"node83\" class=\"node\">\n<title>82</title>\n<polygon fill=\"#8bc6f0\" stroke=\"#000000\" points=\"2128,-782 2000,-782 2000,-699 2128,-699 2128,-782\"/>\n<text text-anchor=\"start\" x=\"2023\" y=\"-766.8\" font-family=\"Helvetica,sans-Serif\" font-size=\"14.00\" fill=\"#000000\">age ≤ &#45;0.404</text>\n<text text-anchor=\"start\" x=\"2026\" y=\"-751.8\" font-family=\"Helvetica,sans-Serif\" font-size=\"14.00\" fill=\"#000000\">gini = 0.415</text>\n<text text-anchor=\"start\" x=\"2020\" y=\"-736.8\" font-family=\"Helvetica,sans-Serif\" font-size=\"14.00\" fill=\"#000000\">samples = 17</text>\n<text text-anchor=\"start\" x=\"2018.5\" y=\"-721.8\" font-family=\"Helvetica,sans-Serif\" font-size=\"14.00\" fill=\"#000000\">value = [5, 12]</text>\n<text text-anchor=\"start\" x=\"2008\" y=\"-706.8\" font-family=\"Helvetica,sans-Serif\" font-size=\"14.00\" fill=\"#000000\">class = PAIDOFF</text>\n</g>\n<!-- 80&#45;&gt;82 -->\n<g id=\"edge82\" class=\"edge\">\n<title>80&#45;&gt;82</title>\n<path fill=\"none\" stroke=\"#000000\" d=\"M1969.0637,-817.8796C1980.5555,-808.513 1992.8468,-798.4948 2004.645,-788.8784\"/>\n<polygon fill=\"#000000\" stroke=\"#000000\" points=\"2007.1782,-791.329 2012.7183,-782.2981 2002.7556,-785.903 2007.1782,-791.329\"/>\n</g>\n<!-- 83 -->\n<g id=\"node84\" class=\"node\">\n<title>83</title>\n<polygon fill=\"#6fb8ec\" stroke=\"#000000\" points=\"1977,-663 1849,-663 1849,-580 1977,-580 1977,-663\"/>\n<text text-anchor=\"start\" x=\"1866.5\" y=\"-647.8\" font-family=\"Helvetica,sans-Serif\" font-size=\"14.00\" fill=\"#000000\">terms ≤ &#45;0.019</text>\n<text text-anchor=\"start\" x=\"1875\" y=\"-632.8\" font-family=\"Helvetica,sans-Serif\" font-size=\"14.00\" fill=\"#000000\">gini = 0.337</text>\n<text text-anchor=\"start\" x=\"1869\" y=\"-617.8\" font-family=\"Helvetica,sans-Serif\" font-size=\"14.00\" fill=\"#000000\">samples = 14</text>\n<text text-anchor=\"start\" x=\"1867.5\" y=\"-602.8\" font-family=\"Helvetica,sans-Serif\" font-size=\"14.00\" fill=\"#000000\">value = [3, 11]</text>\n<text text-anchor=\"start\" x=\"1857\" y=\"-587.8\" font-family=\"Helvetica,sans-Serif\" font-size=\"14.00\" fill=\"#000000\">class = PAIDOFF</text>\n</g>\n<!-- 82&#45;&gt;83 -->\n<g id=\"edge83\" class=\"edge\">\n<title>82&#45;&gt;83</title>\n<path fill=\"none\" stroke=\"#000000\" d=\"M2011.1875,-698.8796C1999.1182,-689.368 1986.1961,-679.1843 1973.8212,-669.432\"/>\n<polygon fill=\"#000000\" stroke=\"#000000\" points=\"1975.8032,-666.5377 1965.7827,-663.0969 1971.4704,-672.0356 1975.8032,-666.5377\"/>\n</g>\n<!-- 94 -->\n<g id=\"node95\" class=\"node\">\n<title>94</title>\n<polygon fill=\"#f2c09c\" stroke=\"#000000\" points=\"2154.5,-663 1995.5,-663 1995.5,-580 2154.5,-580 2154.5,-663\"/>\n<text text-anchor=\"start\" x=\"2024.5\" y=\"-647.8\" font-family=\"Helvetica,sans-Serif\" font-size=\"14.00\" fill=\"#000000\">Gender ≤ 0.979</text>\n<text text-anchor=\"start\" x=\"2037\" y=\"-632.8\" font-family=\"Helvetica,sans-Serif\" font-size=\"14.00\" fill=\"#000000\">gini = 0.444</text>\n<text text-anchor=\"start\" x=\"2035.5\" y=\"-617.8\" font-family=\"Helvetica,sans-Serif\" font-size=\"14.00\" fill=\"#000000\">samples = 3</text>\n<text text-anchor=\"start\" x=\"2033.5\" y=\"-602.8\" font-family=\"Helvetica,sans-Serif\" font-size=\"14.00\" fill=\"#000000\">value = [2, 1]</text>\n<text text-anchor=\"start\" x=\"2003.5\" y=\"-587.8\" font-family=\"Helvetica,sans-Serif\" font-size=\"14.00\" fill=\"#000000\">class = COLLECTION</text>\n</g>\n<!-- 82&#45;&gt;94 -->\n<g id=\"edge94\" class=\"edge\">\n<title>82&#45;&gt;94</title>\n<path fill=\"none\" stroke=\"#000000\" d=\"M2067.8473,-698.8796C2068.6049,-690.6838 2069.4086,-681.9891 2070.1932,-673.5013\"/>\n<polygon fill=\"#000000\" stroke=\"#000000\" points=\"2073.7009,-673.5778 2071.1363,-663.2981 2066.7306,-672.9334 2073.7009,-673.5778\"/>\n</g>\n<!-- 84 -->\n<g id=\"node85\" class=\"node\">\n<title>84</title>\n<polygon fill=\"#ffffff\" stroke=\"#000000\" points=\"1830.5,-544 1671.5,-544 1671.5,-461 1830.5,-461 1830.5,-544\"/>\n<text text-anchor=\"start\" x=\"1700.5\" y=\"-528.8\" font-family=\"Helvetica,sans-Serif\" font-size=\"14.00\" fill=\"#000000\">Gender ≤ 0.979</text>\n<text text-anchor=\"start\" x=\"1721.5\" y=\"-513.8\" font-family=\"Helvetica,sans-Serif\" font-size=\"14.00\" fill=\"#000000\">gini = 0.5</text>\n<text text-anchor=\"start\" x=\"1711.5\" y=\"-498.8\" font-family=\"Helvetica,sans-Serif\" font-size=\"14.00\" fill=\"#000000\">samples = 2</text>\n<text text-anchor=\"start\" x=\"1709.5\" y=\"-483.8\" font-family=\"Helvetica,sans-Serif\" font-size=\"14.00\" fill=\"#000000\">value = [1, 1]</text>\n<text text-anchor=\"start\" x=\"1679.5\" y=\"-468.8\" font-family=\"Helvetica,sans-Serif\" font-size=\"14.00\" fill=\"#000000\">class = COLLECTION</text>\n</g>\n<!-- 83&#45;&gt;84 -->\n<g id=\"edge84\" class=\"edge\">\n<title>83&#45;&gt;84</title>\n<path fill=\"none\" stroke=\"#000000\" d=\"M1856.3403,-579.8796C1843.2684,-570.2774 1829.2641,-559.9903 1815.8727,-550.1534\"/>\n<polygon fill=\"#000000\" stroke=\"#000000\" points=\"1817.7591,-547.1963 1807.6277,-544.0969 1813.615,-552.8378 1817.7591,-547.1963\"/>\n</g>\n<!-- 87 -->\n<g id=\"node88\" class=\"node\">\n<title>87</title>\n<polygon fill=\"#61b1ea\" stroke=\"#000000\" points=\"1977,-544 1849,-544 1849,-461 1977,-461 1977,-544\"/>\n<text text-anchor=\"start\" x=\"1862.5\" y=\"-528.8\" font-family=\"Helvetica,sans-Serif\" font-size=\"14.00\" fill=\"#000000\">Gender ≤ 0.979</text>\n<text text-anchor=\"start\" x=\"1875\" y=\"-513.8\" font-family=\"Helvetica,sans-Serif\" font-size=\"14.00\" fill=\"#000000\">gini = 0.278</text>\n<text text-anchor=\"start\" x=\"1869\" y=\"-498.8\" font-family=\"Helvetica,sans-Serif\" font-size=\"14.00\" fill=\"#000000\">samples = 12</text>\n<text text-anchor=\"start\" x=\"1867.5\" y=\"-483.8\" font-family=\"Helvetica,sans-Serif\" font-size=\"14.00\" fill=\"#000000\">value = [2, 10]</text>\n<text text-anchor=\"start\" x=\"1857\" y=\"-468.8\" font-family=\"Helvetica,sans-Serif\" font-size=\"14.00\" fill=\"#000000\">class = PAIDOFF</text>\n</g>\n<!-- 83&#45;&gt;87 -->\n<g id=\"edge87\" class=\"edge\">\n<title>83&#45;&gt;87</title>\n<path fill=\"none\" stroke=\"#000000\" d=\"M1913,-579.8796C1913,-571.6838 1913,-562.9891 1913,-554.5013\"/>\n<polygon fill=\"#000000\" stroke=\"#000000\" points=\"1916.5001,-554.298 1913,-544.2981 1909.5001,-554.2981 1916.5001,-554.298\"/>\n</g>\n<!-- 85 -->\n<g id=\"node86\" class=\"node\">\n<title>85</title>\n<polygon fill=\"#399de5\" stroke=\"#000000\" points=\"1653,-417.5 1525,-417.5 1525,-349.5 1653,-349.5 1653,-417.5\"/>\n<text text-anchor=\"start\" x=\"1559.5\" y=\"-402.3\" font-family=\"Helvetica,sans-Serif\" font-size=\"14.00\" fill=\"#000000\">gini = 0.0</text>\n<text text-anchor=\"start\" x=\"1549.5\" y=\"-387.3\" font-family=\"Helvetica,sans-Serif\" font-size=\"14.00\" fill=\"#000000\">samples = 1</text>\n<text text-anchor=\"start\" x=\"1547.5\" y=\"-372.3\" font-family=\"Helvetica,sans-Serif\" font-size=\"14.00\" fill=\"#000000\">value = [0, 1]</text>\n<text text-anchor=\"start\" x=\"1533\" y=\"-357.3\" font-family=\"Helvetica,sans-Serif\" font-size=\"14.00\" fill=\"#000000\">class = PAIDOFF</text>\n</g>\n<!-- 84&#45;&gt;85 -->\n<g id=\"edge85\" class=\"edge\">\n<title>84&#45;&gt;85</title>\n<path fill=\"none\" stroke=\"#000000\" d=\"M1694.3403,-460.8796C1677.9459,-448.8368 1660.0849,-435.7167 1643.8058,-423.7586\"/>\n<polygon fill=\"#000000\" stroke=\"#000000\" points=\"1645.5846,-420.7224 1635.4532,-417.623 1641.4405,-426.3639 1645.5846,-420.7224\"/>\n</g>\n<!-- 86 -->\n<g id=\"node87\" class=\"node\">\n<title>86</title>\n<polygon fill=\"#e58139\" stroke=\"#000000\" points=\"1830.5,-417.5 1671.5,-417.5 1671.5,-349.5 1830.5,-349.5 1830.5,-417.5\"/>\n<text text-anchor=\"start\" x=\"1721.5\" y=\"-402.3\" font-family=\"Helvetica,sans-Serif\" font-size=\"14.00\" fill=\"#000000\">gini = 0.0</text>\n<text text-anchor=\"start\" x=\"1711.5\" y=\"-387.3\" font-family=\"Helvetica,sans-Serif\" font-size=\"14.00\" fill=\"#000000\">samples = 1</text>\n<text text-anchor=\"start\" x=\"1709.5\" y=\"-372.3\" font-family=\"Helvetica,sans-Serif\" font-size=\"14.00\" fill=\"#000000\">value = [1, 0]</text>\n<text text-anchor=\"start\" x=\"1679.5\" y=\"-357.3\" font-family=\"Helvetica,sans-Serif\" font-size=\"14.00\" fill=\"#000000\">class = COLLECTION</text>\n</g>\n<!-- 84&#45;&gt;86 -->\n<g id=\"edge86\" class=\"edge\">\n<title>84&#45;&gt;86</title>\n<path fill=\"none\" stroke=\"#000000\" d=\"M1751,-460.8796C1751,-450.2134 1751,-438.7021 1751,-427.9015\"/>\n<polygon fill=\"#000000\" stroke=\"#000000\" points=\"1754.5001,-427.8149 1751,-417.8149 1747.5001,-427.815 1754.5001,-427.8149\"/>\n</g>\n<!-- 88 -->\n<g id=\"node89\" class=\"node\">\n<title>88</title>\n<polygon fill=\"#7bbeee\" stroke=\"#000000\" points=\"1977,-425 1849,-425 1849,-342 1977,-342 1977,-425\"/>\n<text text-anchor=\"start\" x=\"1876.5\" y=\"-409.8\" font-family=\"Helvetica,sans-Serif\" font-size=\"14.00\" fill=\"#000000\">age ≤ &#45;0.57</text>\n<text text-anchor=\"start\" x=\"1875\" y=\"-394.8\" font-family=\"Helvetica,sans-Serif\" font-size=\"14.00\" fill=\"#000000\">gini = 0.375</text>\n<text text-anchor=\"start\" x=\"1873.5\" y=\"-379.8\" font-family=\"Helvetica,sans-Serif\" font-size=\"14.00\" fill=\"#000000\">samples = 8</text>\n<text text-anchor=\"start\" x=\"1871.5\" y=\"-364.8\" font-family=\"Helvetica,sans-Serif\" font-size=\"14.00\" fill=\"#000000\">value = [2, 6]</text>\n<text text-anchor=\"start\" x=\"1857\" y=\"-349.8\" font-family=\"Helvetica,sans-Serif\" font-size=\"14.00\" fill=\"#000000\">class = PAIDOFF</text>\n</g>\n<!-- 87&#45;&gt;88 -->\n<g id=\"edge88\" class=\"edge\">\n<title>87&#45;&gt;88</title>\n<path fill=\"none\" stroke=\"#000000\" d=\"M1913,-460.8796C1913,-452.6838 1913,-443.9891 1913,-435.5013\"/>\n<polygon fill=\"#000000\" stroke=\"#000000\" points=\"1916.5001,-435.298 1913,-425.2981 1909.5001,-435.2981 1916.5001,-435.298\"/>\n</g>\n<!-- 93 -->\n<g id=\"node94\" class=\"node\">\n<title>93</title>\n<polygon fill=\"#399de5\" stroke=\"#000000\" points=\"2123,-417.5 1995,-417.5 1995,-349.5 2123,-349.5 2123,-417.5\"/>\n<text text-anchor=\"start\" x=\"2029.5\" y=\"-402.3\" font-family=\"Helvetica,sans-Serif\" font-size=\"14.00\" fill=\"#000000\">gini = 0.0</text>\n<text text-anchor=\"start\" x=\"2019.5\" y=\"-387.3\" font-family=\"Helvetica,sans-Serif\" font-size=\"14.00\" fill=\"#000000\">samples = 4</text>\n<text text-anchor=\"start\" x=\"2017.5\" y=\"-372.3\" font-family=\"Helvetica,sans-Serif\" font-size=\"14.00\" fill=\"#000000\">value = [0, 4]</text>\n<text text-anchor=\"start\" x=\"2003\" y=\"-357.3\" font-family=\"Helvetica,sans-Serif\" font-size=\"14.00\" fill=\"#000000\">class = PAIDOFF</text>\n</g>\n<!-- 87&#45;&gt;93 -->\n<g id=\"edge93\" class=\"edge\">\n<title>87&#45;&gt;93</title>\n<path fill=\"none\" stroke=\"#000000\" d=\"M1964.0637,-460.8796C1978.634,-449.0038 1994.4896,-436.0804 2008.9958,-424.2568\"/>\n<polygon fill=\"#000000\" stroke=\"#000000\" points=\"2011.3592,-426.8459 2016.8993,-417.8149 2006.9366,-421.4199 2011.3592,-426.8459\"/>\n</g>\n<!-- 89 -->\n<g id=\"node90\" class=\"node\">\n<title>89</title>\n<polygon fill=\"#9ccef2\" stroke=\"#000000\" points=\"1918,-306 1790,-306 1790,-223 1918,-223 1918,-306\"/>\n<text text-anchor=\"start\" x=\"1813\" y=\"-290.8\" font-family=\"Helvetica,sans-Serif\" font-size=\"14.00\" fill=\"#000000\">age ≤ &#45;0.736</text>\n<text text-anchor=\"start\" x=\"1816\" y=\"-275.8\" font-family=\"Helvetica,sans-Serif\" font-size=\"14.00\" fill=\"#000000\">gini = 0.444</text>\n<text text-anchor=\"start\" x=\"1814.5\" y=\"-260.8\" font-family=\"Helvetica,sans-Serif\" font-size=\"14.00\" fill=\"#000000\">samples = 6</text>\n<text text-anchor=\"start\" x=\"1812.5\" y=\"-245.8\" font-family=\"Helvetica,sans-Serif\" font-size=\"14.00\" fill=\"#000000\">value = [2, 4]</text>\n<text text-anchor=\"start\" x=\"1798\" y=\"-230.8\" font-family=\"Helvetica,sans-Serif\" font-size=\"14.00\" fill=\"#000000\">class = PAIDOFF</text>\n</g>\n<!-- 88&#45;&gt;89 -->\n<g id=\"edge89\" class=\"edge\">\n<title>88&#45;&gt;89</title>\n<path fill=\"none\" stroke=\"#000000\" d=\"M1892.3647,-341.8796C1888.1226,-333.3236 1883.611,-324.2238 1879.2279,-315.3833\"/>\n<polygon fill=\"#000000\" stroke=\"#000000\" points=\"1882.3012,-313.7026 1874.7234,-306.2981 1876.0297,-316.8121 1882.3012,-313.7026\"/>\n</g>\n<!-- 92 -->\n<g id=\"node93\" class=\"node\">\n<title>92</title>\n<polygon fill=\"#399de5\" stroke=\"#000000\" points=\"2064,-298.5 1936,-298.5 1936,-230.5 2064,-230.5 2064,-298.5\"/>\n<text text-anchor=\"start\" x=\"1970.5\" y=\"-283.3\" font-family=\"Helvetica,sans-Serif\" font-size=\"14.00\" fill=\"#000000\">gini = 0.0</text>\n<text text-anchor=\"start\" x=\"1960.5\" y=\"-268.3\" font-family=\"Helvetica,sans-Serif\" font-size=\"14.00\" fill=\"#000000\">samples = 2</text>\n<text text-anchor=\"start\" x=\"1958.5\" y=\"-253.3\" font-family=\"Helvetica,sans-Serif\" font-size=\"14.00\" fill=\"#000000\">value = [0, 2]</text>\n<text text-anchor=\"start\" x=\"1944\" y=\"-238.3\" font-family=\"Helvetica,sans-Serif\" font-size=\"14.00\" fill=\"#000000\">class = PAIDOFF</text>\n</g>\n<!-- 88&#45;&gt;92 -->\n<g id=\"edge92\" class=\"edge\">\n<title>88&#45;&gt;92</title>\n<path fill=\"none\" stroke=\"#000000\" d=\"M1943.4284,-341.8796C1951.7087,-330.5536 1960.6857,-318.2748 1968.9974,-306.9058\"/>\n<polygon fill=\"#000000\" stroke=\"#000000\" points=\"1971.8361,-308.9533 1974.9126,-298.8149 1966.1853,-304.822 1971.8361,-308.9533\"/>\n</g>\n<!-- 90 -->\n<g id=\"node91\" class=\"node\">\n<title>90</title>\n<polygon fill=\"#7bbeee\" stroke=\"#000000\" points=\"1903,-179.5 1775,-179.5 1775,-111.5 1903,-111.5 1903,-179.5\"/>\n<text text-anchor=\"start\" x=\"1801\" y=\"-164.3\" font-family=\"Helvetica,sans-Serif\" font-size=\"14.00\" fill=\"#000000\">gini = 0.375</text>\n<text text-anchor=\"start\" x=\"1799.5\" y=\"-149.3\" font-family=\"Helvetica,sans-Serif\" font-size=\"14.00\" fill=\"#000000\">samples = 4</text>\n<text text-anchor=\"start\" x=\"1797.5\" y=\"-134.3\" font-family=\"Helvetica,sans-Serif\" font-size=\"14.00\" fill=\"#000000\">value = [1, 3]</text>\n<text text-anchor=\"start\" x=\"1783\" y=\"-119.3\" font-family=\"Helvetica,sans-Serif\" font-size=\"14.00\" fill=\"#000000\">class = PAIDOFF</text>\n</g>\n<!-- 89&#45;&gt;90 -->\n<g id=\"edge90\" class=\"edge\">\n<title>89&#45;&gt;90</title>\n<path fill=\"none\" stroke=\"#000000\" d=\"M1848.7537,-222.8796C1847.4092,-212.2134 1845.9582,-200.7021 1844.5968,-189.9015\"/>\n<polygon fill=\"#000000\" stroke=\"#000000\" points=\"1848.0486,-189.2987 1843.3254,-179.8149 1841.1036,-190.1742 1848.0486,-189.2987\"/>\n</g>\n<!-- 91 -->\n<g id=\"node92\" class=\"node\">\n<title>91</title>\n<polygon fill=\"#ffffff\" stroke=\"#000000\" points=\"2080.5,-179.5 1921.5,-179.5 1921.5,-111.5 2080.5,-111.5 2080.5,-179.5\"/>\n<text text-anchor=\"start\" x=\"1971.5\" y=\"-164.3\" font-family=\"Helvetica,sans-Serif\" font-size=\"14.00\" fill=\"#000000\">gini = 0.5</text>\n<text text-anchor=\"start\" x=\"1961.5\" y=\"-149.3\" font-family=\"Helvetica,sans-Serif\" font-size=\"14.00\" fill=\"#000000\">samples = 2</text>\n<text text-anchor=\"start\" x=\"1959.5\" y=\"-134.3\" font-family=\"Helvetica,sans-Serif\" font-size=\"14.00\" fill=\"#000000\">value = [1, 1]</text>\n<text text-anchor=\"start\" x=\"1929.5\" y=\"-119.3\" font-family=\"Helvetica,sans-Serif\" font-size=\"14.00\" fill=\"#000000\">class = COLLECTION</text>\n</g>\n<!-- 89&#45;&gt;91 -->\n<g id=\"edge91\" class=\"edge\">\n<title>89&#45;&gt;91</title>\n<path fill=\"none\" stroke=\"#000000\" d=\"M1905.4135,-222.8796C1920.0835,-211.0038 1936.0477,-198.0804 1950.6533,-186.2568\"/>\n<polygon fill=\"#000000\" stroke=\"#000000\" points=\"1953.0407,-188.8273 1958.611,-179.8149 1948.6363,-183.3866 1953.0407,-188.8273\"/>\n</g>\n<!-- 95 -->\n<g id=\"node96\" class=\"node\">\n<title>95</title>\n<polygon fill=\"#ffffff\" stroke=\"#000000\" points=\"2154.5,-536.5 1995.5,-536.5 1995.5,-468.5 2154.5,-468.5 2154.5,-536.5\"/>\n<text text-anchor=\"start\" x=\"2045.5\" y=\"-521.3\" font-family=\"Helvetica,sans-Serif\" font-size=\"14.00\" fill=\"#000000\">gini = 0.5</text>\n<text text-anchor=\"start\" x=\"2035.5\" y=\"-506.3\" font-family=\"Helvetica,sans-Serif\" font-size=\"14.00\" fill=\"#000000\">samples = 2</text>\n<text text-anchor=\"start\" x=\"2033.5\" y=\"-491.3\" font-family=\"Helvetica,sans-Serif\" font-size=\"14.00\" fill=\"#000000\">value = [1, 1]</text>\n<text text-anchor=\"start\" x=\"2003.5\" y=\"-476.3\" font-family=\"Helvetica,sans-Serif\" font-size=\"14.00\" fill=\"#000000\">class = COLLECTION</text>\n</g>\n<!-- 94&#45;&gt;95 -->\n<g id=\"edge95\" class=\"edge\">\n<title>94&#45;&gt;95</title>\n<path fill=\"none\" stroke=\"#000000\" d=\"M2075,-579.8796C2075,-569.2134 2075,-557.7021 2075,-546.9015\"/>\n<polygon fill=\"#000000\" stroke=\"#000000\" points=\"2078.5001,-546.8149 2075,-536.8149 2071.5001,-546.815 2078.5001,-546.8149\"/>\n</g>\n<!-- 96 -->\n<g id=\"node97\" class=\"node\">\n<title>96</title>\n<polygon fill=\"#e58139\" stroke=\"#000000\" points=\"2331.5,-536.5 2172.5,-536.5 2172.5,-468.5 2331.5,-468.5 2331.5,-536.5\"/>\n<text text-anchor=\"start\" x=\"2222.5\" y=\"-521.3\" font-family=\"Helvetica,sans-Serif\" font-size=\"14.00\" fill=\"#000000\">gini = 0.0</text>\n<text text-anchor=\"start\" x=\"2212.5\" y=\"-506.3\" font-family=\"Helvetica,sans-Serif\" font-size=\"14.00\" fill=\"#000000\">samples = 1</text>\n<text text-anchor=\"start\" x=\"2210.5\" y=\"-491.3\" font-family=\"Helvetica,sans-Serif\" font-size=\"14.00\" fill=\"#000000\">value = [1, 0]</text>\n<text text-anchor=\"start\" x=\"2180.5\" y=\"-476.3\" font-family=\"Helvetica,sans-Serif\" font-size=\"14.00\" fill=\"#000000\">class = COLLECTION</text>\n</g>\n<!-- 94&#45;&gt;96 -->\n<g id=\"edge96\" class=\"edge\">\n<title>94&#45;&gt;96</title>\n<path fill=\"none\" stroke=\"#000000\" d=\"M2136.906,-579.8796C2154.9828,-567.7263 2174.6914,-554.4759 2192.6087,-542.4297\"/>\n<polygon fill=\"#000000\" stroke=\"#000000\" points=\"2194.8996,-545.1071 2201.2456,-536.623 2190.9939,-539.2979 2194.8996,-545.1071\"/>\n</g>\n<!-- 98 -->\n<g id=\"node99\" class=\"node\">\n<title>98</title>\n<polygon fill=\"#f5d0b5\" stroke=\"#000000\" points=\"2318.5,-901 2159.5,-901 2159.5,-818 2318.5,-818 2318.5,-901\"/>\n<text text-anchor=\"start\" x=\"2183\" y=\"-885.8\" font-family=\"Helvetica,sans-Serif\" font-size=\"14.00\" fill=\"#000000\">Principal ≤ &#45;0.399</text>\n<text text-anchor=\"start\" x=\"2201\" y=\"-870.8\" font-family=\"Helvetica,sans-Serif\" font-size=\"14.00\" fill=\"#000000\">gini = 0.473</text>\n<text text-anchor=\"start\" x=\"2195\" y=\"-855.8\" font-family=\"Helvetica,sans-Serif\" font-size=\"14.00\" fill=\"#000000\">samples = 13</text>\n<text text-anchor=\"start\" x=\"2197.5\" y=\"-840.8\" font-family=\"Helvetica,sans-Serif\" font-size=\"14.00\" fill=\"#000000\">value = [8, 5]</text>\n<text text-anchor=\"start\" x=\"2167.5\" y=\"-825.8\" font-family=\"Helvetica,sans-Serif\" font-size=\"14.00\" fill=\"#000000\">class = COLLECTION</text>\n</g>\n<!-- 97&#45;&gt;98 -->\n<g id=\"edge98\" class=\"edge\">\n<title>97&#45;&gt;98</title>\n<path fill=\"none\" stroke=\"#000000\" d=\"M2239,-936.8796C2239,-928.6838 2239,-919.9891 2239,-911.5013\"/>\n<polygon fill=\"#000000\" stroke=\"#000000\" points=\"2242.5001,-911.298 2239,-901.2981 2235.5001,-911.2981 2242.5001,-911.298\"/>\n</g>\n<!-- 109 -->\n<g id=\"node110\" class=\"node\">\n<title>109</title>\n<polygon fill=\"#399de5\" stroke=\"#000000\" points=\"2465,-893.5 2337,-893.5 2337,-825.5 2465,-825.5 2465,-893.5\"/>\n<text text-anchor=\"start\" x=\"2371.5\" y=\"-878.3\" font-family=\"Helvetica,sans-Serif\" font-size=\"14.00\" fill=\"#000000\">gini = 0.0</text>\n<text text-anchor=\"start\" x=\"2361.5\" y=\"-863.3\" font-family=\"Helvetica,sans-Serif\" font-size=\"14.00\" fill=\"#000000\">samples = 1</text>\n<text text-anchor=\"start\" x=\"2359.5\" y=\"-848.3\" font-family=\"Helvetica,sans-Serif\" font-size=\"14.00\" fill=\"#000000\">value = [0, 1]</text>\n<text text-anchor=\"start\" x=\"2345\" y=\"-833.3\" font-family=\"Helvetica,sans-Serif\" font-size=\"14.00\" fill=\"#000000\">class = PAIDOFF</text>\n</g>\n<!-- 97&#45;&gt;109 -->\n<g id=\"edge109\" class=\"edge\">\n<title>97&#45;&gt;109</title>\n<path fill=\"none\" stroke=\"#000000\" d=\"M2295.6597,-936.8796C2312.0541,-924.8368 2329.9151,-911.7167 2346.1942,-899.7586\"/>\n<polygon fill=\"#000000\" stroke=\"#000000\" points=\"2348.5595,-902.3639 2354.5468,-893.623 2344.4154,-896.7224 2348.5595,-902.3639\"/>\n</g>\n<!-- 99 -->\n<g id=\"node100\" class=\"node\">\n<title>99</title>\n<polygon fill=\"#e58139\" stroke=\"#000000\" points=\"2318.5,-774.5 2159.5,-774.5 2159.5,-706.5 2318.5,-706.5 2318.5,-774.5\"/>\n<text text-anchor=\"start\" x=\"2209.5\" y=\"-759.3\" font-family=\"Helvetica,sans-Serif\" font-size=\"14.00\" fill=\"#000000\">gini = 0.0</text>\n<text text-anchor=\"start\" x=\"2199.5\" y=\"-744.3\" font-family=\"Helvetica,sans-Serif\" font-size=\"14.00\" fill=\"#000000\">samples = 1</text>\n<text text-anchor=\"start\" x=\"2197.5\" y=\"-729.3\" font-family=\"Helvetica,sans-Serif\" font-size=\"14.00\" fill=\"#000000\">value = [1, 0]</text>\n<text text-anchor=\"start\" x=\"2167.5\" y=\"-714.3\" font-family=\"Helvetica,sans-Serif\" font-size=\"14.00\" fill=\"#000000\">class = COLLECTION</text>\n</g>\n<!-- 98&#45;&gt;99 -->\n<g id=\"edge99\" class=\"edge\">\n<title>98&#45;&gt;99</title>\n<path fill=\"none\" stroke=\"#000000\" d=\"M2239,-817.8796C2239,-807.2134 2239,-795.7021 2239,-784.9015\"/>\n<polygon fill=\"#000000\" stroke=\"#000000\" points=\"2242.5001,-784.8149 2239,-774.8149 2235.5001,-784.815 2242.5001,-784.8149\"/>\n</g>\n<!-- 100 -->\n<g id=\"node101\" class=\"node\">\n<title>100</title>\n<polygon fill=\"#f8dbc6\" stroke=\"#000000\" points=\"2508.5,-782 2349.5,-782 2349.5,-699 2508.5,-699 2508.5,-782\"/>\n<text text-anchor=\"start\" x=\"2390.5\" y=\"-766.8\" font-family=\"Helvetica,sans-Serif\" font-size=\"14.00\" fill=\"#000000\">age ≤ 0.093</text>\n<text text-anchor=\"start\" x=\"2391\" y=\"-751.8\" font-family=\"Helvetica,sans-Serif\" font-size=\"14.00\" fill=\"#000000\">gini = 0.486</text>\n<text text-anchor=\"start\" x=\"2385\" y=\"-736.8\" font-family=\"Helvetica,sans-Serif\" font-size=\"14.00\" fill=\"#000000\">samples = 12</text>\n<text text-anchor=\"start\" x=\"2387.5\" y=\"-721.8\" font-family=\"Helvetica,sans-Serif\" font-size=\"14.00\" fill=\"#000000\">value = [7, 5]</text>\n<text text-anchor=\"start\" x=\"2357.5\" y=\"-706.8\" font-family=\"Helvetica,sans-Serif\" font-size=\"14.00\" fill=\"#000000\">class = COLLECTION</text>\n</g>\n<!-- 98&#45;&gt;100 -->\n<g id=\"edge100\" class=\"edge\">\n<title>98&#45;&gt;100</title>\n<path fill=\"none\" stroke=\"#000000\" d=\"M2305.4528,-817.8796C2321.0733,-808.0962 2337.829,-797.6019 2353.8029,-787.5971\"/>\n<polygon fill=\"#000000\" stroke=\"#000000\" points=\"2355.9676,-790.3712 2362.5847,-782.0969 2352.2519,-784.4387 2355.9676,-790.3712\"/>\n</g>\n<!-- 101 -->\n<g id=\"node102\" class=\"node\">\n<title>101</title>\n<polygon fill=\"#fae6d7\" stroke=\"#000000\" points=\"2508.5,-663 2349.5,-663 2349.5,-580 2508.5,-580 2508.5,-663\"/>\n<text text-anchor=\"start\" x=\"2382.5\" y=\"-647.8\" font-family=\"Helvetica,sans-Serif\" font-size=\"14.00\" fill=\"#000000\">terms ≤ &#45;0.019</text>\n<text text-anchor=\"start\" x=\"2391\" y=\"-632.8\" font-family=\"Helvetica,sans-Serif\" font-size=\"14.00\" fill=\"#000000\">gini = 0.494</text>\n<text text-anchor=\"start\" x=\"2389.5\" y=\"-617.8\" font-family=\"Helvetica,sans-Serif\" font-size=\"14.00\" fill=\"#000000\">samples = 9</text>\n<text text-anchor=\"start\" x=\"2387.5\" y=\"-602.8\" font-family=\"Helvetica,sans-Serif\" font-size=\"14.00\" fill=\"#000000\">value = [5, 4]</text>\n<text text-anchor=\"start\" x=\"2357.5\" y=\"-587.8\" font-family=\"Helvetica,sans-Serif\" font-size=\"14.00\" fill=\"#000000\">class = COLLECTION</text>\n</g>\n<!-- 100&#45;&gt;101 -->\n<g id=\"edge101\" class=\"edge\">\n<title>100&#45;&gt;101</title>\n<path fill=\"none\" stroke=\"#000000\" d=\"M2429,-698.8796C2429,-690.6838 2429,-681.9891 2429,-673.5013\"/>\n<polygon fill=\"#000000\" stroke=\"#000000\" points=\"2432.5001,-673.298 2429,-663.2981 2425.5001,-673.2981 2432.5001,-673.298\"/>\n</g>\n<!-- 108 -->\n<g id=\"node109\" class=\"node\">\n<title>108</title>\n<polygon fill=\"#f2c09c\" stroke=\"#000000\" points=\"2685.5,-655.5 2526.5,-655.5 2526.5,-587.5 2685.5,-587.5 2685.5,-655.5\"/>\n<text text-anchor=\"start\" x=\"2568\" y=\"-640.3\" font-family=\"Helvetica,sans-Serif\" font-size=\"14.00\" fill=\"#000000\">gini = 0.444</text>\n<text text-anchor=\"start\" x=\"2566.5\" y=\"-625.3\" font-family=\"Helvetica,sans-Serif\" font-size=\"14.00\" fill=\"#000000\">samples = 3</text>\n<text text-anchor=\"start\" x=\"2564.5\" y=\"-610.3\" font-family=\"Helvetica,sans-Serif\" font-size=\"14.00\" fill=\"#000000\">value = [2, 1]</text>\n<text text-anchor=\"start\" x=\"2534.5\" y=\"-595.3\" font-family=\"Helvetica,sans-Serif\" font-size=\"14.00\" fill=\"#000000\">class = COLLECTION</text>\n</g>\n<!-- 100&#45;&gt;108 -->\n<g id=\"edge108\" class=\"edge\">\n<title>100&#45;&gt;108</title>\n<path fill=\"none\" stroke=\"#000000\" d=\"M2490.906,-698.8796C2508.9828,-686.7263 2528.6914,-673.4759 2546.6087,-661.4297\"/>\n<polygon fill=\"#000000\" stroke=\"#000000\" points=\"2548.8996,-664.1071 2555.2456,-655.623 2544.9939,-658.2979 2548.8996,-664.1071\"/>\n</g>\n<!-- 102 -->\n<g id=\"node103\" class=\"node\">\n<title>102</title>\n<polygon fill=\"#f6d5bd\" stroke=\"#000000\" points=\"2508.5,-544 2349.5,-544 2349.5,-461 2508.5,-461 2508.5,-544\"/>\n<text text-anchor=\"start\" x=\"2388\" y=\"-528.8\" font-family=\"Helvetica,sans-Serif\" font-size=\"14.00\" fill=\"#000000\">age ≤ &#45;0.073</text>\n<text text-anchor=\"start\" x=\"2395.5\" y=\"-513.8\" font-family=\"Helvetica,sans-Serif\" font-size=\"14.00\" fill=\"#000000\">gini = 0.48</text>\n<text text-anchor=\"start\" x=\"2389.5\" y=\"-498.8\" font-family=\"Helvetica,sans-Serif\" font-size=\"14.00\" fill=\"#000000\">samples = 5</text>\n<text text-anchor=\"start\" x=\"2387.5\" y=\"-483.8\" font-family=\"Helvetica,sans-Serif\" font-size=\"14.00\" fill=\"#000000\">value = [3, 2]</text>\n<text text-anchor=\"start\" x=\"2357.5\" y=\"-468.8\" font-family=\"Helvetica,sans-Serif\" font-size=\"14.00\" fill=\"#000000\">class = COLLECTION</text>\n</g>\n<!-- 101&#45;&gt;102 -->\n<g id=\"edge102\" class=\"edge\">\n<title>101&#45;&gt;102</title>\n<path fill=\"none\" stroke=\"#000000\" d=\"M2429,-579.8796C2429,-571.6838 2429,-562.9891 2429,-554.5013\"/>\n<polygon fill=\"#000000\" stroke=\"#000000\" points=\"2432.5001,-554.298 2429,-544.2981 2425.5001,-554.2981 2432.5001,-554.298\"/>\n</g>\n<!-- 105 -->\n<g id=\"node106\" class=\"node\">\n<title>105</title>\n<polygon fill=\"#ffffff\" stroke=\"#000000\" points=\"2685.5,-544 2526.5,-544 2526.5,-461 2685.5,-461 2685.5,-544\"/>\n<text text-anchor=\"start\" x=\"2565\" y=\"-528.8\" font-family=\"Helvetica,sans-Serif\" font-size=\"14.00\" fill=\"#000000\">age ≤ &#45;0.073</text>\n<text text-anchor=\"start\" x=\"2576.5\" y=\"-513.8\" font-family=\"Helvetica,sans-Serif\" font-size=\"14.00\" fill=\"#000000\">gini = 0.5</text>\n<text text-anchor=\"start\" x=\"2566.5\" y=\"-498.8\" font-family=\"Helvetica,sans-Serif\" font-size=\"14.00\" fill=\"#000000\">samples = 4</text>\n<text text-anchor=\"start\" x=\"2564.5\" y=\"-483.8\" font-family=\"Helvetica,sans-Serif\" font-size=\"14.00\" fill=\"#000000\">value = [2, 2]</text>\n<text text-anchor=\"start\" x=\"2534.5\" y=\"-468.8\" font-family=\"Helvetica,sans-Serif\" font-size=\"14.00\" fill=\"#000000\">class = COLLECTION</text>\n</g>\n<!-- 101&#45;&gt;105 -->\n<g id=\"edge105\" class=\"edge\">\n<title>101&#45;&gt;105</title>\n<path fill=\"none\" stroke=\"#000000\" d=\"M2490.906,-579.8796C2505.323,-570.1868 2520.778,-559.7961 2535.5344,-549.8752\"/>\n<polygon fill=\"#000000\" stroke=\"#000000\" points=\"2537.7829,-552.581 2544.1289,-544.0969 2533.8773,-546.7718 2537.7829,-552.581\"/>\n</g>\n<!-- 103 -->\n<g id=\"node104\" class=\"node\">\n<title>103</title>\n<polygon fill=\"#f2c09c\" stroke=\"#000000\" points=\"2331.5,-417.5 2172.5,-417.5 2172.5,-349.5 2331.5,-349.5 2331.5,-417.5\"/>\n<text text-anchor=\"start\" x=\"2214\" y=\"-402.3\" font-family=\"Helvetica,sans-Serif\" font-size=\"14.00\" fill=\"#000000\">gini = 0.444</text>\n<text text-anchor=\"start\" x=\"2212.5\" y=\"-387.3\" font-family=\"Helvetica,sans-Serif\" font-size=\"14.00\" fill=\"#000000\">samples = 3</text>\n<text text-anchor=\"start\" x=\"2210.5\" y=\"-372.3\" font-family=\"Helvetica,sans-Serif\" font-size=\"14.00\" fill=\"#000000\">value = [2, 1]</text>\n<text text-anchor=\"start\" x=\"2180.5\" y=\"-357.3\" font-family=\"Helvetica,sans-Serif\" font-size=\"14.00\" fill=\"#000000\">class = COLLECTION</text>\n</g>\n<!-- 102&#45;&gt;103 -->\n<g id=\"edge103\" class=\"edge\">\n<title>102&#45;&gt;103</title>\n<path fill=\"none\" stroke=\"#000000\" d=\"M2367.094,-460.8796C2349.0172,-448.7263 2329.3086,-435.4759 2311.3913,-423.4297\"/>\n<polygon fill=\"#000000\" stroke=\"#000000\" points=\"2313.0061,-420.2979 2302.7544,-417.623 2309.1004,-426.1071 2313.0061,-420.2979\"/>\n</g>\n<!-- 104 -->\n<g id=\"node105\" class=\"node\">\n<title>104</title>\n<polygon fill=\"#ffffff\" stroke=\"#000000\" points=\"2508.5,-417.5 2349.5,-417.5 2349.5,-349.5 2508.5,-349.5 2508.5,-417.5\"/>\n<text text-anchor=\"start\" x=\"2399.5\" y=\"-402.3\" font-family=\"Helvetica,sans-Serif\" font-size=\"14.00\" fill=\"#000000\">gini = 0.5</text>\n<text text-anchor=\"start\" x=\"2389.5\" y=\"-387.3\" font-family=\"Helvetica,sans-Serif\" font-size=\"14.00\" fill=\"#000000\">samples = 2</text>\n<text text-anchor=\"start\" x=\"2387.5\" y=\"-372.3\" font-family=\"Helvetica,sans-Serif\" font-size=\"14.00\" fill=\"#000000\">value = [1, 1]</text>\n<text text-anchor=\"start\" x=\"2357.5\" y=\"-357.3\" font-family=\"Helvetica,sans-Serif\" font-size=\"14.00\" fill=\"#000000\">class = COLLECTION</text>\n</g>\n<!-- 102&#45;&gt;104 -->\n<g id=\"edge104\" class=\"edge\">\n<title>102&#45;&gt;104</title>\n<path fill=\"none\" stroke=\"#000000\" d=\"M2429,-460.8796C2429,-450.2134 2429,-438.7021 2429,-427.9015\"/>\n<polygon fill=\"#000000\" stroke=\"#000000\" points=\"2432.5001,-427.8149 2429,-417.8149 2425.5001,-427.815 2432.5001,-427.8149\"/>\n</g>\n<!-- 106 -->\n<g id=\"node107\" class=\"node\">\n<title>106</title>\n<polygon fill=\"#ffffff\" stroke=\"#000000\" points=\"2685.5,-417.5 2526.5,-417.5 2526.5,-349.5 2685.5,-349.5 2685.5,-417.5\"/>\n<text text-anchor=\"start\" x=\"2576.5\" y=\"-402.3\" font-family=\"Helvetica,sans-Serif\" font-size=\"14.00\" fill=\"#000000\">gini = 0.5</text>\n<text text-anchor=\"start\" x=\"2566.5\" y=\"-387.3\" font-family=\"Helvetica,sans-Serif\" font-size=\"14.00\" fill=\"#000000\">samples = 2</text>\n<text text-anchor=\"start\" x=\"2564.5\" y=\"-372.3\" font-family=\"Helvetica,sans-Serif\" font-size=\"14.00\" fill=\"#000000\">value = [1, 1]</text>\n<text text-anchor=\"start\" x=\"2534.5\" y=\"-357.3\" font-family=\"Helvetica,sans-Serif\" font-size=\"14.00\" fill=\"#000000\">class = COLLECTION</text>\n</g>\n<!-- 105&#45;&gt;106 -->\n<g id=\"edge106\" class=\"edge\">\n<title>105&#45;&gt;106</title>\n<path fill=\"none\" stroke=\"#000000\" d=\"M2606,-460.8796C2606,-450.2134 2606,-438.7021 2606,-427.9015\"/>\n<polygon fill=\"#000000\" stroke=\"#000000\" points=\"2609.5001,-427.8149 2606,-417.8149 2602.5001,-427.815 2609.5001,-427.8149\"/>\n</g>\n<!-- 107 -->\n<g id=\"node108\" class=\"node\">\n<title>107</title>\n<polygon fill=\"#ffffff\" stroke=\"#000000\" points=\"2862.5,-417.5 2703.5,-417.5 2703.5,-349.5 2862.5,-349.5 2862.5,-417.5\"/>\n<text text-anchor=\"start\" x=\"2753.5\" y=\"-402.3\" font-family=\"Helvetica,sans-Serif\" font-size=\"14.00\" fill=\"#000000\">gini = 0.5</text>\n<text text-anchor=\"start\" x=\"2743.5\" y=\"-387.3\" font-family=\"Helvetica,sans-Serif\" font-size=\"14.00\" fill=\"#000000\">samples = 2</text>\n<text text-anchor=\"start\" x=\"2741.5\" y=\"-372.3\" font-family=\"Helvetica,sans-Serif\" font-size=\"14.00\" fill=\"#000000\">value = [1, 1]</text>\n<text text-anchor=\"start\" x=\"2711.5\" y=\"-357.3\" font-family=\"Helvetica,sans-Serif\" font-size=\"14.00\" fill=\"#000000\">class = COLLECTION</text>\n</g>\n<!-- 105&#45;&gt;107 -->\n<g id=\"edge107\" class=\"edge\">\n<title>105&#45;&gt;107</title>\n<path fill=\"none\" stroke=\"#000000\" d=\"M2667.906,-460.8796C2685.9828,-448.7263 2705.6914,-435.4759 2723.6087,-423.4297\"/>\n<polygon fill=\"#000000\" stroke=\"#000000\" points=\"2725.8996,-426.1071 2732.2456,-417.623 2721.9939,-420.2979 2725.8996,-426.1071\"/>\n</g>\n<!-- 111 -->\n<g id=\"node112\" class=\"node\">\n<title>111</title>\n<polygon fill=\"#63b2eb\" stroke=\"#000000\" points=\"2871,-1139 2743,-1139 2743,-1056 2871,-1056 2871,-1139\"/>\n<text text-anchor=\"start\" x=\"2761.5\" y=\"-1123.8\" font-family=\"Helvetica,sans-Serif\" font-size=\"14.00\" fill=\"#000000\">college ≤ 0.14</text>\n<text text-anchor=\"start\" x=\"2769\" y=\"-1108.8\" font-family=\"Helvetica,sans-Serif\" font-size=\"14.00\" fill=\"#000000\">gini = 0.291</text>\n<text text-anchor=\"start\" x=\"2763\" y=\"-1093.8\" font-family=\"Helvetica,sans-Serif\" font-size=\"14.00\" fill=\"#000000\">samples = 17</text>\n<text text-anchor=\"start\" x=\"2761.5\" y=\"-1078.8\" font-family=\"Helvetica,sans-Serif\" font-size=\"14.00\" fill=\"#000000\">value = [3, 14]</text>\n<text text-anchor=\"start\" x=\"2751\" y=\"-1063.8\" font-family=\"Helvetica,sans-Serif\" font-size=\"14.00\" fill=\"#000000\">class = PAIDOFF</text>\n</g>\n<!-- 110&#45;&gt;111 -->\n<g id=\"edge111\" class=\"edge\">\n<title>110&#45;&gt;111</title>\n<path fill=\"none\" stroke=\"#000000\" d=\"M2807,-1174.8796C2807,-1166.6838 2807,-1157.9891 2807,-1149.5013\"/>\n<polygon fill=\"#000000\" stroke=\"#000000\" points=\"2810.5001,-1149.298 2807,-1139.2981 2803.5001,-1149.2981 2810.5001,-1149.298\"/>\n</g>\n<!-- 122 -->\n<g id=\"node123\" class=\"node\">\n<title>122</title>\n<polygon fill=\"#c9e4f8\" stroke=\"#000000\" points=\"3513,-1139 3385,-1139 3385,-1056 3513,-1056 3513,-1139\"/>\n<text text-anchor=\"start\" x=\"3410.5\" y=\"-1123.8\" font-family=\"Helvetica,sans-Serif\" font-size=\"14.00\" fill=\"#000000\">age ≤ 2.912</text>\n<text text-anchor=\"start\" x=\"3411\" y=\"-1108.8\" font-family=\"Helvetica,sans-Serif\" font-size=\"14.00\" fill=\"#000000\">gini = 0.488</text>\n<text text-anchor=\"start\" x=\"3405\" y=\"-1093.8\" font-family=\"Helvetica,sans-Serif\" font-size=\"14.00\" fill=\"#000000\">samples = 38</text>\n<text text-anchor=\"start\" x=\"3399\" y=\"-1078.8\" font-family=\"Helvetica,sans-Serif\" font-size=\"14.00\" fill=\"#000000\">value = [16, 22]</text>\n<text text-anchor=\"start\" x=\"3393\" y=\"-1063.8\" font-family=\"Helvetica,sans-Serif\" font-size=\"14.00\" fill=\"#000000\">class = PAIDOFF</text>\n</g>\n<!-- 110&#45;&gt;122 -->\n<g id=\"edge122\" class=\"edge\">\n<title>110&#45;&gt;122</title>\n<path fill=\"none\" stroke=\"#000000\" d=\"M2871.2004,-1204.5999C2991.0133,-1182.3916 3247.9916,-1134.7586 3374.9288,-1111.2297\"/>\n<polygon fill=\"#000000\" stroke=\"#000000\" points=\"3375.7556,-1114.6362 3384.9502,-1109.3722 3374.4798,-1107.7534 3375.7556,-1114.6362\"/>\n</g>\n<!-- 112 -->\n<g id=\"node113\" class=\"node\">\n<title>112</title>\n<polygon fill=\"#399de5\" stroke=\"#000000\" points=\"2798,-1012.5 2670,-1012.5 2670,-944.5 2798,-944.5 2798,-1012.5\"/>\n<text text-anchor=\"start\" x=\"2704.5\" y=\"-997.3\" font-family=\"Helvetica,sans-Serif\" font-size=\"14.00\" fill=\"#000000\">gini = 0.0</text>\n<text text-anchor=\"start\" x=\"2694.5\" y=\"-982.3\" font-family=\"Helvetica,sans-Serif\" font-size=\"14.00\" fill=\"#000000\">samples = 7</text>\n<text text-anchor=\"start\" x=\"2692.5\" y=\"-967.3\" font-family=\"Helvetica,sans-Serif\" font-size=\"14.00\" fill=\"#000000\">value = [0, 7]</text>\n<text text-anchor=\"start\" x=\"2678\" y=\"-952.3\" font-family=\"Helvetica,sans-Serif\" font-size=\"14.00\" fill=\"#000000\">class = PAIDOFF</text>\n</g>\n<!-- 111&#45;&gt;112 -->\n<g id=\"edge112\" class=\"edge\">\n<title>111&#45;&gt;112</title>\n<path fill=\"none\" stroke=\"#000000\" d=\"M2781.4681,-1055.8796C2774.6552,-1044.7735 2767.2802,-1032.7513 2760.4206,-1021.5691\"/>\n<polygon fill=\"#000000\" stroke=\"#000000\" points=\"2763.2628,-1019.5087 2755.0503,-1012.8149 2757.296,-1023.1691 2763.2628,-1019.5087\"/>\n</g>\n<!-- 113 -->\n<g id=\"node114\" class=\"node\">\n<title>113</title>\n<polygon fill=\"#8ec7f0\" stroke=\"#000000\" points=\"2944,-1020 2816,-1020 2816,-937 2944,-937 2944,-1020\"/>\n<text text-anchor=\"start\" x=\"2824\" y=\"-1004.8\" font-family=\"Helvetica,sans-Serif\" font-size=\"14.00\" fill=\"#000000\">Principal ≤ &#45;0.399</text>\n<text text-anchor=\"start\" x=\"2846.5\" y=\"-989.8\" font-family=\"Helvetica,sans-Serif\" font-size=\"14.00\" fill=\"#000000\">gini = 0.42</text>\n<text text-anchor=\"start\" x=\"2836\" y=\"-974.8\" font-family=\"Helvetica,sans-Serif\" font-size=\"14.00\" fill=\"#000000\">samples = 10</text>\n<text text-anchor=\"start\" x=\"2838.5\" y=\"-959.8\" font-family=\"Helvetica,sans-Serif\" font-size=\"14.00\" fill=\"#000000\">value = [3, 7]</text>\n<text text-anchor=\"start\" x=\"2824\" y=\"-944.8\" font-family=\"Helvetica,sans-Serif\" font-size=\"14.00\" fill=\"#000000\">class = PAIDOFF</text>\n</g>\n<!-- 111&#45;&gt;113 -->\n<g id=\"edge113\" class=\"edge\">\n<title>111&#45;&gt;113</title>\n<path fill=\"none\" stroke=\"#000000\" d=\"M2832.5319,-1055.8796C2837.891,-1047.1434 2843.5979,-1037.8404 2849.1282,-1028.8253\"/>\n<polygon fill=\"#000000\" stroke=\"#000000\" points=\"2852.1135,-1030.6522 2854.3592,-1020.2981 2846.1467,-1026.9919 2852.1135,-1030.6522\"/>\n</g>\n<!-- 114 -->\n<g id=\"node115\" class=\"node\">\n<title>114</title>\n<polygon fill=\"#399de5\" stroke=\"#000000\" points=\"2871,-893.5 2743,-893.5 2743,-825.5 2871,-825.5 2871,-893.5\"/>\n<text text-anchor=\"start\" x=\"2777.5\" y=\"-878.3\" font-family=\"Helvetica,sans-Serif\" font-size=\"14.00\" fill=\"#000000\">gini = 0.0</text>\n<text text-anchor=\"start\" x=\"2767.5\" y=\"-863.3\" font-family=\"Helvetica,sans-Serif\" font-size=\"14.00\" fill=\"#000000\">samples = 3</text>\n<text text-anchor=\"start\" x=\"2765.5\" y=\"-848.3\" font-family=\"Helvetica,sans-Serif\" font-size=\"14.00\" fill=\"#000000\">value = [0, 3]</text>\n<text text-anchor=\"start\" x=\"2751\" y=\"-833.3\" font-family=\"Helvetica,sans-Serif\" font-size=\"14.00\" fill=\"#000000\">class = PAIDOFF</text>\n</g>\n<!-- 113&#45;&gt;114 -->\n<g id=\"edge114\" class=\"edge\">\n<title>113&#45;&gt;114</title>\n<path fill=\"none\" stroke=\"#000000\" d=\"M2854.4681,-936.8796C2847.6552,-925.7735 2840.2802,-913.7513 2833.4206,-902.5691\"/>\n<polygon fill=\"#000000\" stroke=\"#000000\" points=\"2836.2628,-900.5087 2828.0503,-893.8149 2830.296,-904.1691 2836.2628,-900.5087\"/>\n</g>\n<!-- 115 -->\n<g id=\"node116\" class=\"node\">\n<title>115</title>\n<polygon fill=\"#cee6f8\" stroke=\"#000000\" points=\"3017,-901 2889,-901 2889,-818 3017,-818 3017,-901\"/>\n<text text-anchor=\"start\" x=\"2902.5\" y=\"-885.8\" font-family=\"Helvetica,sans-Serif\" font-size=\"14.00\" fill=\"#000000\">Gender ≤ 0.979</text>\n<text text-anchor=\"start\" x=\"2919.5\" y=\"-870.8\" font-family=\"Helvetica,sans-Serif\" font-size=\"14.00\" fill=\"#000000\">gini = 0.49</text>\n<text text-anchor=\"start\" x=\"2913.5\" y=\"-855.8\" font-family=\"Helvetica,sans-Serif\" font-size=\"14.00\" fill=\"#000000\">samples = 7</text>\n<text text-anchor=\"start\" x=\"2911.5\" y=\"-840.8\" font-family=\"Helvetica,sans-Serif\" font-size=\"14.00\" fill=\"#000000\">value = [3, 4]</text>\n<text text-anchor=\"start\" x=\"2897\" y=\"-825.8\" font-family=\"Helvetica,sans-Serif\" font-size=\"14.00\" fill=\"#000000\">class = PAIDOFF</text>\n</g>\n<!-- 113&#45;&gt;115 -->\n<g id=\"edge115\" class=\"edge\">\n<title>113&#45;&gt;115</title>\n<path fill=\"none\" stroke=\"#000000\" d=\"M2905.5319,-936.8796C2910.891,-928.1434 2916.5979,-918.8404 2922.1282,-909.8253\"/>\n<polygon fill=\"#000000\" stroke=\"#000000\" points=\"2925.1135,-911.6522 2927.3592,-901.2981 2919.1467,-907.9919 2925.1135,-911.6522\"/>\n</g>\n<!-- 116 -->\n<g id=\"node117\" class=\"node\">\n<title>116</title>\n<polygon fill=\"#ffffff\" stroke=\"#000000\" points=\"2951.5,-782 2792.5,-782 2792.5,-699 2951.5,-699 2951.5,-782\"/>\n<text text-anchor=\"start\" x=\"2825.5\" y=\"-766.8\" font-family=\"Helvetica,sans-Serif\" font-size=\"14.00\" fill=\"#000000\">terms ≤ &#45;0.019</text>\n<text text-anchor=\"start\" x=\"2842.5\" y=\"-751.8\" font-family=\"Helvetica,sans-Serif\" font-size=\"14.00\" fill=\"#000000\">gini = 0.5</text>\n<text text-anchor=\"start\" x=\"2832.5\" y=\"-736.8\" font-family=\"Helvetica,sans-Serif\" font-size=\"14.00\" fill=\"#000000\">samples = 6</text>\n<text text-anchor=\"start\" x=\"2830.5\" y=\"-721.8\" font-family=\"Helvetica,sans-Serif\" font-size=\"14.00\" fill=\"#000000\">value = [3, 3]</text>\n<text text-anchor=\"start\" x=\"2800.5\" y=\"-706.8\" font-family=\"Helvetica,sans-Serif\" font-size=\"14.00\" fill=\"#000000\">class = COLLECTION</text>\n</g>\n<!-- 115&#45;&gt;116 -->\n<g id=\"edge116\" class=\"edge\">\n<title>115&#45;&gt;116</title>\n<path fill=\"none\" stroke=\"#000000\" d=\"M2924.6701,-817.8796C2918.7237,-809.1434 2912.3914,-799.8404 2906.255,-790.8253\"/>\n<polygon fill=\"#000000\" stroke=\"#000000\" points=\"2908.9711,-788.5953 2900.4508,-782.2981 2903.1844,-792.5342 2908.9711,-788.5953\"/>\n</g>\n<!-- 121 -->\n<g id=\"node122\" class=\"node\">\n<title>121</title>\n<polygon fill=\"#399de5\" stroke=\"#000000\" points=\"3098,-774.5 2970,-774.5 2970,-706.5 3098,-706.5 3098,-774.5\"/>\n<text text-anchor=\"start\" x=\"3004.5\" y=\"-759.3\" font-family=\"Helvetica,sans-Serif\" font-size=\"14.00\" fill=\"#000000\">gini = 0.0</text>\n<text text-anchor=\"start\" x=\"2994.5\" y=\"-744.3\" font-family=\"Helvetica,sans-Serif\" font-size=\"14.00\" fill=\"#000000\">samples = 1</text>\n<text text-anchor=\"start\" x=\"2992.5\" y=\"-729.3\" font-family=\"Helvetica,sans-Serif\" font-size=\"14.00\" fill=\"#000000\">value = [0, 1]</text>\n<text text-anchor=\"start\" x=\"2978\" y=\"-714.3\" font-family=\"Helvetica,sans-Serif\" font-size=\"14.00\" fill=\"#000000\">class = PAIDOFF</text>\n</g>\n<!-- 115&#45;&gt;121 -->\n<g id=\"edge121\" class=\"edge\">\n<title>115&#45;&gt;121</title>\n<path fill=\"none\" stroke=\"#000000\" d=\"M2981.3299,-817.8796C2988.9643,-806.6636 2997.2348,-794.5131 3004.9099,-783.2372\"/>\n<polygon fill=\"#000000\" stroke=\"#000000\" points=\"3007.9092,-785.0511 3010.6428,-774.8149 3002.1225,-781.1122 3007.9092,-785.0511\"/>\n</g>\n<!-- 117 -->\n<g id=\"node118\" class=\"node\">\n<title>117</title>\n<polygon fill=\"#ffffff\" stroke=\"#000000\" points=\"2862.5,-655.5 2703.5,-655.5 2703.5,-587.5 2862.5,-587.5 2862.5,-655.5\"/>\n<text text-anchor=\"start\" x=\"2753.5\" y=\"-640.3\" font-family=\"Helvetica,sans-Serif\" font-size=\"14.00\" fill=\"#000000\">gini = 0.5</text>\n<text text-anchor=\"start\" x=\"2743.5\" y=\"-625.3\" font-family=\"Helvetica,sans-Serif\" font-size=\"14.00\" fill=\"#000000\">samples = 2</text>\n<text text-anchor=\"start\" x=\"2741.5\" y=\"-610.3\" font-family=\"Helvetica,sans-Serif\" font-size=\"14.00\" fill=\"#000000\">value = [1, 1]</text>\n<text text-anchor=\"start\" x=\"2711.5\" y=\"-595.3\" font-family=\"Helvetica,sans-Serif\" font-size=\"14.00\" fill=\"#000000\">class = COLLECTION</text>\n</g>\n<!-- 116&#45;&gt;117 -->\n<g id=\"edge117\" class=\"edge\">\n<title>116&#45;&gt;117</title>\n<path fill=\"none\" stroke=\"#000000\" d=\"M2840.8721,-698.8796C2832.4014,-687.5536 2823.2181,-675.2748 2814.7153,-663.9058\"/>\n<polygon fill=\"#000000\" stroke=\"#000000\" points=\"2817.4562,-661.7268 2808.6641,-655.8149 2811.8505,-665.9193 2817.4562,-661.7268\"/>\n</g>\n<!-- 118 -->\n<g id=\"node119\" class=\"node\">\n<title>118</title>\n<polygon fill=\"#ffffff\" stroke=\"#000000\" points=\"3039.5,-663 2880.5,-663 2880.5,-580 3039.5,-580 3039.5,-663\"/>\n<text text-anchor=\"start\" x=\"2921.5\" y=\"-647.8\" font-family=\"Helvetica,sans-Serif\" font-size=\"14.00\" fill=\"#000000\">age ≤ 0.425</text>\n<text text-anchor=\"start\" x=\"2930.5\" y=\"-632.8\" font-family=\"Helvetica,sans-Serif\" font-size=\"14.00\" fill=\"#000000\">gini = 0.5</text>\n<text text-anchor=\"start\" x=\"2920.5\" y=\"-617.8\" font-family=\"Helvetica,sans-Serif\" font-size=\"14.00\" fill=\"#000000\">samples = 4</text>\n<text text-anchor=\"start\" x=\"2918.5\" y=\"-602.8\" font-family=\"Helvetica,sans-Serif\" font-size=\"14.00\" fill=\"#000000\">value = [2, 2]</text>\n<text text-anchor=\"start\" x=\"2888.5\" y=\"-587.8\" font-family=\"Helvetica,sans-Serif\" font-size=\"14.00\" fill=\"#000000\">class = COLLECTION</text>\n</g>\n<!-- 116&#45;&gt;118 -->\n<g id=\"edge118\" class=\"edge\">\n<title>116&#45;&gt;118</title>\n<path fill=\"none\" stroke=\"#000000\" d=\"M2902.7781,-698.8796C2909.3051,-690.0534 2916.2599,-680.6485 2922.9908,-671.5466\"/>\n<polygon fill=\"#000000\" stroke=\"#000000\" points=\"2925.9588,-673.4195 2929.0905,-663.2981 2920.3305,-669.2574 2925.9588,-673.4195\"/>\n</g>\n<!-- 119 -->\n<g id=\"node120\" class=\"node\">\n<title>119</title>\n<polygon fill=\"#ffffff\" stroke=\"#000000\" points=\"2862.5,-536.5 2703.5,-536.5 2703.5,-468.5 2862.5,-468.5 2862.5,-536.5\"/>\n<text text-anchor=\"start\" x=\"2753.5\" y=\"-521.3\" font-family=\"Helvetica,sans-Serif\" font-size=\"14.00\" fill=\"#000000\">gini = 0.5</text>\n<text text-anchor=\"start\" x=\"2743.5\" y=\"-506.3\" font-family=\"Helvetica,sans-Serif\" font-size=\"14.00\" fill=\"#000000\">samples = 2</text>\n<text text-anchor=\"start\" x=\"2741.5\" y=\"-491.3\" font-family=\"Helvetica,sans-Serif\" font-size=\"14.00\" fill=\"#000000\">value = [1, 1]</text>\n<text text-anchor=\"start\" x=\"2711.5\" y=\"-476.3\" font-family=\"Helvetica,sans-Serif\" font-size=\"14.00\" fill=\"#000000\">class = COLLECTION</text>\n</g>\n<!-- 118&#45;&gt;119 -->\n<g id=\"edge119\" class=\"edge\">\n<title>118&#45;&gt;119</title>\n<path fill=\"none\" stroke=\"#000000\" d=\"M2898.094,-579.8796C2880.0172,-567.7263 2860.3086,-554.4759 2842.3913,-542.4297\"/>\n<polygon fill=\"#000000\" stroke=\"#000000\" points=\"2844.0061,-539.2979 2833.7544,-536.623 2840.1004,-545.1071 2844.0061,-539.2979\"/>\n</g>\n<!-- 120 -->\n<g id=\"node121\" class=\"node\">\n<title>120</title>\n<polygon fill=\"#ffffff\" stroke=\"#000000\" points=\"3039.5,-536.5 2880.5,-536.5 2880.5,-468.5 3039.5,-468.5 3039.5,-536.5\"/>\n<text text-anchor=\"start\" x=\"2930.5\" y=\"-521.3\" font-family=\"Helvetica,sans-Serif\" font-size=\"14.00\" fill=\"#000000\">gini = 0.5</text>\n<text text-anchor=\"start\" x=\"2920.5\" y=\"-506.3\" font-family=\"Helvetica,sans-Serif\" font-size=\"14.00\" fill=\"#000000\">samples = 2</text>\n<text text-anchor=\"start\" x=\"2918.5\" y=\"-491.3\" font-family=\"Helvetica,sans-Serif\" font-size=\"14.00\" fill=\"#000000\">value = [1, 1]</text>\n<text text-anchor=\"start\" x=\"2888.5\" y=\"-476.3\" font-family=\"Helvetica,sans-Serif\" font-size=\"14.00\" fill=\"#000000\">class = COLLECTION</text>\n</g>\n<!-- 118&#45;&gt;120 -->\n<g id=\"edge120\" class=\"edge\">\n<title>118&#45;&gt;120</title>\n<path fill=\"none\" stroke=\"#000000\" d=\"M2960,-579.8796C2960,-569.2134 2960,-557.7021 2960,-546.9015\"/>\n<polygon fill=\"#000000\" stroke=\"#000000\" points=\"2963.5001,-546.8149 2960,-536.8149 2956.5001,-546.815 2963.5001,-546.8149\"/>\n</g>\n<!-- 123 -->\n<g id=\"node124\" class=\"node\">\n<title>123</title>\n<polygon fill=\"#c0e0f7\" stroke=\"#000000\" points=\"3513,-1020 3385,-1020 3385,-937 3513,-937 3513,-1020\"/>\n<text text-anchor=\"start\" x=\"3410.5\" y=\"-1004.8\" font-family=\"Helvetica,sans-Serif\" font-size=\"14.00\" fill=\"#000000\">age ≤ 1.751</text>\n<text text-anchor=\"start\" x=\"3411\" y=\"-989.8\" font-family=\"Helvetica,sans-Serif\" font-size=\"14.00\" fill=\"#000000\">gini = 0.482</text>\n<text text-anchor=\"start\" x=\"3405\" y=\"-974.8\" font-family=\"Helvetica,sans-Serif\" font-size=\"14.00\" fill=\"#000000\">samples = 37</text>\n<text text-anchor=\"start\" x=\"3399\" y=\"-959.8\" font-family=\"Helvetica,sans-Serif\" font-size=\"14.00\" fill=\"#000000\">value = [15, 22]</text>\n<text text-anchor=\"start\" x=\"3393\" y=\"-944.8\" font-family=\"Helvetica,sans-Serif\" font-size=\"14.00\" fill=\"#000000\">class = PAIDOFF</text>\n</g>\n<!-- 122&#45;&gt;123 -->\n<g id=\"edge123\" class=\"edge\">\n<title>122&#45;&gt;123</title>\n<path fill=\"none\" stroke=\"#000000\" d=\"M3449,-1055.8796C3449,-1047.6838 3449,-1038.9891 3449,-1030.5013\"/>\n<polygon fill=\"#000000\" stroke=\"#000000\" points=\"3452.5001,-1030.298 3449,-1020.2981 3445.5001,-1030.2981 3452.5001,-1030.298\"/>\n</g>\n<!-- 160 -->\n<g id=\"node161\" class=\"node\">\n<title>160</title>\n<polygon fill=\"#e58139\" stroke=\"#000000\" points=\"3690.5,-1012.5 3531.5,-1012.5 3531.5,-944.5 3690.5,-944.5 3690.5,-1012.5\"/>\n<text text-anchor=\"start\" x=\"3581.5\" y=\"-997.3\" font-family=\"Helvetica,sans-Serif\" font-size=\"14.00\" fill=\"#000000\">gini = 0.0</text>\n<text text-anchor=\"start\" x=\"3571.5\" y=\"-982.3\" font-family=\"Helvetica,sans-Serif\" font-size=\"14.00\" fill=\"#000000\">samples = 1</text>\n<text text-anchor=\"start\" x=\"3569.5\" y=\"-967.3\" font-family=\"Helvetica,sans-Serif\" font-size=\"14.00\" fill=\"#000000\">value = [1, 0]</text>\n<text text-anchor=\"start\" x=\"3539.5\" y=\"-952.3\" font-family=\"Helvetica,sans-Serif\" font-size=\"14.00\" fill=\"#000000\">class = COLLECTION</text>\n</g>\n<!-- 122&#45;&gt;160 -->\n<g id=\"edge160\" class=\"edge\">\n<title>122&#45;&gt;160</title>\n<path fill=\"none\" stroke=\"#000000\" d=\"M3505.6597,-1055.8796C3522.0541,-1043.8368 3539.9151,-1030.7167 3556.1942,-1018.7586\"/>\n<polygon fill=\"#000000\" stroke=\"#000000\" points=\"3558.5595,-1021.3639 3564.5468,-1012.623 3554.4154,-1015.7224 3558.5595,-1021.3639\"/>\n</g>\n<!-- 124 -->\n<g id=\"node125\" class=\"node\">\n<title>124</title>\n<polygon fill=\"#f1f8fd\" stroke=\"#000000\" points=\"3552.5,-901 3345.5,-901 3345.5,-818 3552.5,-818 3552.5,-901\"/>\n<text text-anchor=\"start\" x=\"3353.5\" y=\"-885.8\" font-family=\"Helvetica,sans-Serif\" font-size=\"14.00\" fill=\"#000000\">High School or Below ≤ 0.128</text>\n<text text-anchor=\"start\" x=\"3411\" y=\"-870.8\" font-family=\"Helvetica,sans-Serif\" font-size=\"14.00\" fill=\"#000000\">gini = 0.499</text>\n<text text-anchor=\"start\" x=\"3405\" y=\"-855.8\" font-family=\"Helvetica,sans-Serif\" font-size=\"14.00\" fill=\"#000000\">samples = 27</text>\n<text text-anchor=\"start\" x=\"3399\" y=\"-840.8\" font-family=\"Helvetica,sans-Serif\" font-size=\"14.00\" fill=\"#000000\">value = [13, 14]</text>\n<text text-anchor=\"start\" x=\"3393\" y=\"-825.8\" font-family=\"Helvetica,sans-Serif\" font-size=\"14.00\" fill=\"#000000\">class = PAIDOFF</text>\n</g>\n<!-- 123&#45;&gt;124 -->\n<g id=\"edge124\" class=\"edge\">\n<title>123&#45;&gt;124</title>\n<path fill=\"none\" stroke=\"#000000\" d=\"M3449,-936.8796C3449,-928.6838 3449,-919.9891 3449,-911.5013\"/>\n<polygon fill=\"#000000\" stroke=\"#000000\" points=\"3452.5001,-911.298 3449,-901.2981 3445.5001,-911.2981 3452.5001,-911.298\"/>\n</g>\n<!-- 151 -->\n<g id=\"node152\" class=\"node\">\n<title>151</title>\n<polygon fill=\"#6ab6ec\" stroke=\"#000000\" points=\"3728,-901 3600,-901 3600,-818 3728,-818 3728,-901\"/>\n<text text-anchor=\"start\" x=\"3625.5\" y=\"-885.8\" font-family=\"Helvetica,sans-Serif\" font-size=\"14.00\" fill=\"#000000\">age ≤ 2.249</text>\n<text text-anchor=\"start\" x=\"3630.5\" y=\"-870.8\" font-family=\"Helvetica,sans-Serif\" font-size=\"14.00\" fill=\"#000000\">gini = 0.32</text>\n<text text-anchor=\"start\" x=\"3620\" y=\"-855.8\" font-family=\"Helvetica,sans-Serif\" font-size=\"14.00\" fill=\"#000000\">samples = 10</text>\n<text text-anchor=\"start\" x=\"3622.5\" y=\"-840.8\" font-family=\"Helvetica,sans-Serif\" font-size=\"14.00\" fill=\"#000000\">value = [2, 8]</text>\n<text text-anchor=\"start\" x=\"3608\" y=\"-825.8\" font-family=\"Helvetica,sans-Serif\" font-size=\"14.00\" fill=\"#000000\">class = PAIDOFF</text>\n</g>\n<!-- 123&#45;&gt;151 -->\n<g id=\"edge151\" class=\"edge\">\n<title>123&#45;&gt;151</title>\n<path fill=\"none\" stroke=\"#000000\" d=\"M3513.0587,-942C3516.0787,-940.3053 3519.0708,-938.6318 3522,-937 3544.3189,-924.5666 3568.706,-911.1838 3590.8734,-899.0961\"/>\n<polygon fill=\"#000000\" stroke=\"#000000\" points=\"3592.7912,-902.037 3599.8982,-894.1795 3589.4424,-895.89 3592.7912,-902.037\"/>\n</g>\n<!-- 125 -->\n<g id=\"node126\" class=\"node\">\n<title>125</title>\n<polygon fill=\"#9ccef2\" stroke=\"#000000\" points=\"3348,-782 3220,-782 3220,-699 3348,-699 3348,-782\"/>\n<text text-anchor=\"start\" x=\"3233.5\" y=\"-766.8\" font-family=\"Helvetica,sans-Serif\" font-size=\"14.00\" fill=\"#000000\">Gender ≤ 0.979</text>\n<text text-anchor=\"start\" x=\"3246\" y=\"-751.8\" font-family=\"Helvetica,sans-Serif\" font-size=\"14.00\" fill=\"#000000\">gini = 0.444</text>\n<text text-anchor=\"start\" x=\"3240\" y=\"-736.8\" font-family=\"Helvetica,sans-Serif\" font-size=\"14.00\" fill=\"#000000\">samples = 15</text>\n<text text-anchor=\"start\" x=\"3238.5\" y=\"-721.8\" font-family=\"Helvetica,sans-Serif\" font-size=\"14.00\" fill=\"#000000\">value = [5, 10]</text>\n<text text-anchor=\"start\" x=\"3228\" y=\"-706.8\" font-family=\"Helvetica,sans-Serif\" font-size=\"14.00\" fill=\"#000000\">class = PAIDOFF</text>\n</g>\n<!-- 124&#45;&gt;125 -->\n<g id=\"edge125\" class=\"edge\">\n<title>124&#45;&gt;125</title>\n<path fill=\"none\" stroke=\"#000000\" d=\"M3391.291,-817.8796C3377.977,-808.2774 3363.7134,-797.9903 3350.0741,-788.1534\"/>\n<polygon fill=\"#000000\" stroke=\"#000000\" points=\"3351.8345,-785.1077 3341.6764,-782.0969 3347.7398,-790.7852 3351.8345,-785.1077\"/>\n</g>\n<!-- 140 -->\n<g id=\"node141\" class=\"node\">\n<title>140</title>\n<polygon fill=\"#f2c09c\" stroke=\"#000000\" points=\"3540.5,-782 3381.5,-782 3381.5,-699 3540.5,-699 3540.5,-782\"/>\n<text text-anchor=\"start\" x=\"3422.5\" y=\"-766.8\" font-family=\"Helvetica,sans-Serif\" font-size=\"14.00\" fill=\"#000000\">age ≤ 0.922</text>\n<text text-anchor=\"start\" x=\"3423\" y=\"-751.8\" font-family=\"Helvetica,sans-Serif\" font-size=\"14.00\" fill=\"#000000\">gini = 0.444</text>\n<text text-anchor=\"start\" x=\"3417\" y=\"-736.8\" font-family=\"Helvetica,sans-Serif\" font-size=\"14.00\" fill=\"#000000\">samples = 12</text>\n<text text-anchor=\"start\" x=\"3419.5\" y=\"-721.8\" font-family=\"Helvetica,sans-Serif\" font-size=\"14.00\" fill=\"#000000\">value = [8, 4]</text>\n<text text-anchor=\"start\" x=\"3389.5\" y=\"-706.8\" font-family=\"Helvetica,sans-Serif\" font-size=\"14.00\" fill=\"#000000\">class = COLLECTION</text>\n</g>\n<!-- 124&#45;&gt;140 -->\n<g id=\"edge140\" class=\"edge\">\n<title>124&#45;&gt;140</title>\n<path fill=\"none\" stroke=\"#000000\" d=\"M3453.197,-817.8796C3454.0235,-809.6838 3454.9003,-800.9891 3455.7562,-792.5013\"/>\n<polygon fill=\"#000000\" stroke=\"#000000\" points=\"3459.264,-792.5988 3456.7851,-782.2981 3452.2993,-791.8964 3459.264,-792.5988\"/>\n</g>\n<!-- 126 -->\n<g id=\"node127\" class=\"node\">\n<title>126</title>\n<polygon fill=\"#88c4ef\" stroke=\"#000000\" points=\"3186,-663 3058,-663 3058,-580 3186,-580 3186,-663\"/>\n<text text-anchor=\"start\" x=\"3066\" y=\"-647.8\" font-family=\"Helvetica,sans-Serif\" font-size=\"14.00\" fill=\"#000000\">Principal ≤ &#45;0.399</text>\n<text text-anchor=\"start\" x=\"3084\" y=\"-632.8\" font-family=\"Helvetica,sans-Serif\" font-size=\"14.00\" fill=\"#000000\">gini = 0.408</text>\n<text text-anchor=\"start\" x=\"3078\" y=\"-617.8\" font-family=\"Helvetica,sans-Serif\" font-size=\"14.00\" fill=\"#000000\">samples = 14</text>\n<text text-anchor=\"start\" x=\"3076.5\" y=\"-602.8\" font-family=\"Helvetica,sans-Serif\" font-size=\"14.00\" fill=\"#000000\">value = [4, 10]</text>\n<text text-anchor=\"start\" x=\"3066\" y=\"-587.8\" font-family=\"Helvetica,sans-Serif\" font-size=\"14.00\" fill=\"#000000\">class = PAIDOFF</text>\n</g>\n<!-- 125&#45;&gt;126 -->\n<g id=\"edge126\" class=\"edge\">\n<title>125&#45;&gt;126</title>\n<path fill=\"none\" stroke=\"#000000\" d=\"M3227.3403,-698.8796C3214.2684,-689.2774 3200.2641,-678.9903 3186.8727,-669.1534\"/>\n<polygon fill=\"#000000\" stroke=\"#000000\" points=\"3188.7591,-666.1963 3178.6277,-663.0969 3184.615,-671.8378 3188.7591,-666.1963\"/>\n</g>\n<!-- 139 -->\n<g id=\"node140\" class=\"node\">\n<title>139</title>\n<polygon fill=\"#e58139\" stroke=\"#000000\" points=\"3363.5,-655.5 3204.5,-655.5 3204.5,-587.5 3363.5,-587.5 3363.5,-655.5\"/>\n<text text-anchor=\"start\" x=\"3254.5\" y=\"-640.3\" font-family=\"Helvetica,sans-Serif\" font-size=\"14.00\" fill=\"#000000\">gini = 0.0</text>\n<text text-anchor=\"start\" x=\"3244.5\" y=\"-625.3\" font-family=\"Helvetica,sans-Serif\" font-size=\"14.00\" fill=\"#000000\">samples = 1</text>\n<text text-anchor=\"start\" x=\"3242.5\" y=\"-610.3\" font-family=\"Helvetica,sans-Serif\" font-size=\"14.00\" fill=\"#000000\">value = [1, 0]</text>\n<text text-anchor=\"start\" x=\"3212.5\" y=\"-595.3\" font-family=\"Helvetica,sans-Serif\" font-size=\"14.00\" fill=\"#000000\">class = COLLECTION</text>\n</g>\n<!-- 125&#45;&gt;139 -->\n<g id=\"edge139\" class=\"edge\">\n<title>125&#45;&gt;139</title>\n<path fill=\"none\" stroke=\"#000000\" d=\"M3284,-698.8796C3284,-688.2134 3284,-676.7021 3284,-665.9015\"/>\n<polygon fill=\"#000000\" stroke=\"#000000\" points=\"3287.5001,-665.8149 3284,-655.8149 3280.5001,-665.815 3287.5001,-665.8149\"/>\n</g>\n<!-- 127 -->\n<g id=\"node128\" class=\"node\">\n<title>127</title>\n<polygon fill=\"#cee6f8\" stroke=\"#000000\" points=\"3186,-544 3058,-544 3058,-461 3186,-461 3186,-544\"/>\n<text text-anchor=\"start\" x=\"3087.5\" y=\"-528.8\" font-family=\"Helvetica,sans-Serif\" font-size=\"14.00\" fill=\"#000000\">age ≤ 1.42</text>\n<text text-anchor=\"start\" x=\"3088.5\" y=\"-513.8\" font-family=\"Helvetica,sans-Serif\" font-size=\"14.00\" fill=\"#000000\">gini = 0.49</text>\n<text text-anchor=\"start\" x=\"3082.5\" y=\"-498.8\" font-family=\"Helvetica,sans-Serif\" font-size=\"14.00\" fill=\"#000000\">samples = 7</text>\n<text text-anchor=\"start\" x=\"3080.5\" y=\"-483.8\" font-family=\"Helvetica,sans-Serif\" font-size=\"14.00\" fill=\"#000000\">value = [3, 4]</text>\n<text text-anchor=\"start\" x=\"3066\" y=\"-468.8\" font-family=\"Helvetica,sans-Serif\" font-size=\"14.00\" fill=\"#000000\">class = PAIDOFF</text>\n</g>\n<!-- 126&#45;&gt;127 -->\n<g id=\"edge127\" class=\"edge\">\n<title>126&#45;&gt;127</title>\n<path fill=\"none\" stroke=\"#000000\" d=\"M3122,-579.8796C3122,-571.6838 3122,-562.9891 3122,-554.5013\"/>\n<polygon fill=\"#000000\" stroke=\"#000000\" points=\"3125.5001,-554.298 3122,-544.2981 3118.5001,-554.2981 3125.5001,-554.298\"/>\n</g>\n<!-- 134 -->\n<g id=\"node135\" class=\"node\">\n<title>134</title>\n<polygon fill=\"#5aade9\" stroke=\"#000000\" points=\"3348,-544 3220,-544 3220,-461 3348,-461 3348,-544\"/>\n<text text-anchor=\"start\" x=\"3245.5\" y=\"-528.8\" font-family=\"Helvetica,sans-Serif\" font-size=\"14.00\" fill=\"#000000\">age ≤ 0.922</text>\n<text text-anchor=\"start\" x=\"3246\" y=\"-513.8\" font-family=\"Helvetica,sans-Serif\" font-size=\"14.00\" fill=\"#000000\">gini = 0.245</text>\n<text text-anchor=\"start\" x=\"3244.5\" y=\"-498.8\" font-family=\"Helvetica,sans-Serif\" font-size=\"14.00\" fill=\"#000000\">samples = 7</text>\n<text text-anchor=\"start\" x=\"3242.5\" y=\"-483.8\" font-family=\"Helvetica,sans-Serif\" font-size=\"14.00\" fill=\"#000000\">value = [1, 6]</text>\n<text text-anchor=\"start\" x=\"3228\" y=\"-468.8\" font-family=\"Helvetica,sans-Serif\" font-size=\"14.00\" fill=\"#000000\">class = PAIDOFF</text>\n</g>\n<!-- 126&#45;&gt;134 -->\n<g id=\"edge134\" class=\"edge\">\n<title>126&#45;&gt;134</title>\n<path fill=\"none\" stroke=\"#000000\" d=\"M3178.6597,-579.8796C3191.7316,-570.2774 3205.7359,-559.9903 3219.1273,-550.1534\"/>\n<polygon fill=\"#000000\" stroke=\"#000000\" points=\"3221.385,-552.8378 3227.3723,-544.0969 3217.2409,-547.1963 3221.385,-552.8378\"/>\n</g>\n<!-- 128 -->\n<g id=\"node129\" class=\"node\">\n<title>128</title>\n<polygon fill=\"#9ccef2\" stroke=\"#000000\" points=\"3024,-425 2896,-425 2896,-342 3024,-342 3024,-425\"/>\n<text text-anchor=\"start\" x=\"2905\" y=\"-409.8\" font-family=\"Helvetica,sans-Serif\" font-size=\"14.00\" fill=\"#000000\">Bechalor ≤ 1.119</text>\n<text text-anchor=\"start\" x=\"2922\" y=\"-394.8\" font-family=\"Helvetica,sans-Serif\" font-size=\"14.00\" fill=\"#000000\">gini = 0.444</text>\n<text text-anchor=\"start\" x=\"2920.5\" y=\"-379.8\" font-family=\"Helvetica,sans-Serif\" font-size=\"14.00\" fill=\"#000000\">samples = 6</text>\n<text text-anchor=\"start\" x=\"2918.5\" y=\"-364.8\" font-family=\"Helvetica,sans-Serif\" font-size=\"14.00\" fill=\"#000000\">value = [2, 4]</text>\n<text text-anchor=\"start\" x=\"2904\" y=\"-349.8\" font-family=\"Helvetica,sans-Serif\" font-size=\"14.00\" fill=\"#000000\">class = PAIDOFF</text>\n</g>\n<!-- 127&#45;&gt;128 -->\n<g id=\"edge128\" class=\"edge\">\n<title>127&#45;&gt;128</title>\n<path fill=\"none\" stroke=\"#000000\" d=\"M3065.3403,-460.8796C3052.2684,-451.2774 3038.2641,-440.9903 3024.8727,-431.1534\"/>\n<polygon fill=\"#000000\" stroke=\"#000000\" points=\"3026.7591,-428.1963 3016.6277,-425.0969 3022.615,-433.8378 3026.7591,-428.1963\"/>\n</g>\n<!-- 133 -->\n<g id=\"node134\" class=\"node\">\n<title>133</title>\n<polygon fill=\"#e58139\" stroke=\"#000000\" points=\"3201.5,-417.5 3042.5,-417.5 3042.5,-349.5 3201.5,-349.5 3201.5,-417.5\"/>\n<text text-anchor=\"start\" x=\"3092.5\" y=\"-402.3\" font-family=\"Helvetica,sans-Serif\" font-size=\"14.00\" fill=\"#000000\">gini = 0.0</text>\n<text text-anchor=\"start\" x=\"3082.5\" y=\"-387.3\" font-family=\"Helvetica,sans-Serif\" font-size=\"14.00\" fill=\"#000000\">samples = 1</text>\n<text text-anchor=\"start\" x=\"3080.5\" y=\"-372.3\" font-family=\"Helvetica,sans-Serif\" font-size=\"14.00\" fill=\"#000000\">value = [1, 0]</text>\n<text text-anchor=\"start\" x=\"3050.5\" y=\"-357.3\" font-family=\"Helvetica,sans-Serif\" font-size=\"14.00\" fill=\"#000000\">class = COLLECTION</text>\n</g>\n<!-- 127&#45;&gt;133 -->\n<g id=\"edge133\" class=\"edge\">\n<title>127&#45;&gt;133</title>\n<path fill=\"none\" stroke=\"#000000\" d=\"M3122,-460.8796C3122,-450.2134 3122,-438.7021 3122,-427.9015\"/>\n<polygon fill=\"#000000\" stroke=\"#000000\" points=\"3125.5001,-427.8149 3122,-417.8149 3118.5001,-427.815 3125.5001,-427.8149\"/>\n</g>\n<!-- 129 -->\n<g id=\"node130\" class=\"node\">\n<title>129</title>\n<polygon fill=\"#399de5\" stroke=\"#000000\" points=\"2976,-298.5 2848,-298.5 2848,-230.5 2976,-230.5 2976,-298.5\"/>\n<text text-anchor=\"start\" x=\"2882.5\" y=\"-283.3\" font-family=\"Helvetica,sans-Serif\" font-size=\"14.00\" fill=\"#000000\">gini = 0.0</text>\n<text text-anchor=\"start\" x=\"2872.5\" y=\"-268.3\" font-family=\"Helvetica,sans-Serif\" font-size=\"14.00\" fill=\"#000000\">samples = 3</text>\n<text text-anchor=\"start\" x=\"2870.5\" y=\"-253.3\" font-family=\"Helvetica,sans-Serif\" font-size=\"14.00\" fill=\"#000000\">value = [0, 3]</text>\n<text text-anchor=\"start\" x=\"2856\" y=\"-238.3\" font-family=\"Helvetica,sans-Serif\" font-size=\"14.00\" fill=\"#000000\">class = PAIDOFF</text>\n</g>\n<!-- 128&#45;&gt;129 -->\n<g id=\"edge129\" class=\"edge\">\n<title>128&#45;&gt;129</title>\n<path fill=\"none\" stroke=\"#000000\" d=\"M2943.2119,-341.8796C2938.8209,-330.9935 2934.0748,-319.227 2929.6408,-308.2344\"/>\n<polygon fill=\"#000000\" stroke=\"#000000\" points=\"2932.828,-306.7796 2925.8413,-298.8149 2926.3362,-309.3982 2932.828,-306.7796\"/>\n</g>\n<!-- 130 -->\n<g id=\"node131\" class=\"node\">\n<title>130</title>\n<polygon fill=\"#f2c09c\" stroke=\"#000000\" points=\"3153.5,-306 2994.5,-306 2994.5,-223 3153.5,-223 3153.5,-306\"/>\n<text text-anchor=\"start\" x=\"3035.5\" y=\"-290.8\" font-family=\"Helvetica,sans-Serif\" font-size=\"14.00\" fill=\"#000000\">age ≤ 1.254</text>\n<text text-anchor=\"start\" x=\"3036\" y=\"-275.8\" font-family=\"Helvetica,sans-Serif\" font-size=\"14.00\" fill=\"#000000\">gini = 0.444</text>\n<text text-anchor=\"start\" x=\"3034.5\" y=\"-260.8\" font-family=\"Helvetica,sans-Serif\" font-size=\"14.00\" fill=\"#000000\">samples = 3</text>\n<text text-anchor=\"start\" x=\"3032.5\" y=\"-245.8\" font-family=\"Helvetica,sans-Serif\" font-size=\"14.00\" fill=\"#000000\">value = [2, 1]</text>\n<text text-anchor=\"start\" x=\"3002.5\" y=\"-230.8\" font-family=\"Helvetica,sans-Serif\" font-size=\"14.00\" fill=\"#000000\">class = COLLECTION</text>\n</g>\n<!-- 128&#45;&gt;130 -->\n<g id=\"edge130\" class=\"edge\">\n<title>128&#45;&gt;130</title>\n<path fill=\"none\" stroke=\"#000000\" d=\"M2999.8717,-341.8796C3008.5858,-332.7832 3017.8888,-323.0722 3026.8562,-313.7116\"/>\n<polygon fill=\"#000000\" stroke=\"#000000\" points=\"3029.5678,-315.9405 3033.9581,-306.2981 3024.513,-311.098 3029.5678,-315.9405\"/>\n</g>\n<!-- 131 -->\n<g id=\"node132\" class=\"node\">\n<title>131</title>\n<polygon fill=\"#e58139\" stroke=\"#000000\" points=\"3072.5,-179.5 2913.5,-179.5 2913.5,-111.5 3072.5,-111.5 3072.5,-179.5\"/>\n<text text-anchor=\"start\" x=\"2963.5\" y=\"-164.3\" font-family=\"Helvetica,sans-Serif\" font-size=\"14.00\" fill=\"#000000\">gini = 0.0</text>\n<text text-anchor=\"start\" x=\"2953.5\" y=\"-149.3\" font-family=\"Helvetica,sans-Serif\" font-size=\"14.00\" fill=\"#000000\">samples = 2</text>\n<text text-anchor=\"start\" x=\"2951.5\" y=\"-134.3\" font-family=\"Helvetica,sans-Serif\" font-size=\"14.00\" fill=\"#000000\">value = [2, 0]</text>\n<text text-anchor=\"start\" x=\"2921.5\" y=\"-119.3\" font-family=\"Helvetica,sans-Serif\" font-size=\"14.00\" fill=\"#000000\">class = COLLECTION</text>\n</g>\n<!-- 130&#45;&gt;131 -->\n<g id=\"edge131\" class=\"edge\">\n<title>130&#45;&gt;131</title>\n<path fill=\"none\" stroke=\"#000000\" d=\"M3045.6701,-222.8796C3038.0357,-211.6636 3029.7652,-199.5131 3022.0901,-188.2372\"/>\n<polygon fill=\"#000000\" stroke=\"#000000\" points=\"3024.8775,-186.1122 3016.3572,-179.8149 3019.0908,-190.0511 3024.8775,-186.1122\"/>\n</g>\n<!-- 132 -->\n<g id=\"node133\" class=\"node\">\n<title>132</title>\n<polygon fill=\"#399de5\" stroke=\"#000000\" points=\"3219,-179.5 3091,-179.5 3091,-111.5 3219,-111.5 3219,-179.5\"/>\n<text text-anchor=\"start\" x=\"3125.5\" y=\"-164.3\" font-family=\"Helvetica,sans-Serif\" font-size=\"14.00\" fill=\"#000000\">gini = 0.0</text>\n<text text-anchor=\"start\" x=\"3115.5\" y=\"-149.3\" font-family=\"Helvetica,sans-Serif\" font-size=\"14.00\" fill=\"#000000\">samples = 1</text>\n<text text-anchor=\"start\" x=\"3113.5\" y=\"-134.3\" font-family=\"Helvetica,sans-Serif\" font-size=\"14.00\" fill=\"#000000\">value = [0, 1]</text>\n<text text-anchor=\"start\" x=\"3099\" y=\"-119.3\" font-family=\"Helvetica,sans-Serif\" font-size=\"14.00\" fill=\"#000000\">class = PAIDOFF</text>\n</g>\n<!-- 130&#45;&gt;132 -->\n<g id=\"edge132\" class=\"edge\">\n<title>130&#45;&gt;132</title>\n<path fill=\"none\" stroke=\"#000000\" d=\"M3102.3299,-222.8796C3109.9643,-211.6636 3118.2348,-199.5131 3125.9099,-188.2372\"/>\n<polygon fill=\"#000000\" stroke=\"#000000\" points=\"3128.9092,-190.0511 3131.6428,-179.8149 3123.1225,-186.1122 3128.9092,-190.0511\"/>\n</g>\n<!-- 135 -->\n<g id=\"node136\" class=\"node\">\n<title>135</title>\n<polygon fill=\"#399de5\" stroke=\"#000000\" points=\"3348,-417.5 3220,-417.5 3220,-349.5 3348,-349.5 3348,-417.5\"/>\n<text text-anchor=\"start\" x=\"3254.5\" y=\"-402.3\" font-family=\"Helvetica,sans-Serif\" font-size=\"14.00\" fill=\"#000000\">gini = 0.0</text>\n<text text-anchor=\"start\" x=\"3244.5\" y=\"-387.3\" font-family=\"Helvetica,sans-Serif\" font-size=\"14.00\" fill=\"#000000\">samples = 3</text>\n<text text-anchor=\"start\" x=\"3242.5\" y=\"-372.3\" font-family=\"Helvetica,sans-Serif\" font-size=\"14.00\" fill=\"#000000\">value = [0, 3]</text>\n<text text-anchor=\"start\" x=\"3228\" y=\"-357.3\" font-family=\"Helvetica,sans-Serif\" font-size=\"14.00\" fill=\"#000000\">class = PAIDOFF</text>\n</g>\n<!-- 134&#45;&gt;135 -->\n<g id=\"edge135\" class=\"edge\">\n<title>134&#45;&gt;135</title>\n<path fill=\"none\" stroke=\"#000000\" d=\"M3284,-460.8796C3284,-450.2134 3284,-438.7021 3284,-427.9015\"/>\n<polygon fill=\"#000000\" stroke=\"#000000\" points=\"3287.5001,-427.8149 3284,-417.8149 3280.5001,-427.815 3287.5001,-427.8149\"/>\n</g>\n<!-- 136 -->\n<g id=\"node137\" class=\"node\">\n<title>136</title>\n<polygon fill=\"#7bbeee\" stroke=\"#000000\" points=\"3494,-425 3366,-425 3366,-342 3494,-342 3494,-425\"/>\n<text text-anchor=\"start\" x=\"3391.5\" y=\"-409.8\" font-family=\"Helvetica,sans-Serif\" font-size=\"14.00\" fill=\"#000000\">age ≤ 1.088</text>\n<text text-anchor=\"start\" x=\"3392\" y=\"-394.8\" font-family=\"Helvetica,sans-Serif\" font-size=\"14.00\" fill=\"#000000\">gini = 0.375</text>\n<text text-anchor=\"start\" x=\"3390.5\" y=\"-379.8\" font-family=\"Helvetica,sans-Serif\" font-size=\"14.00\" fill=\"#000000\">samples = 4</text>\n<text text-anchor=\"start\" x=\"3388.5\" y=\"-364.8\" font-family=\"Helvetica,sans-Serif\" font-size=\"14.00\" fill=\"#000000\">value = [1, 3]</text>\n<text text-anchor=\"start\" x=\"3374\" y=\"-349.8\" font-family=\"Helvetica,sans-Serif\" font-size=\"14.00\" fill=\"#000000\">class = PAIDOFF</text>\n</g>\n<!-- 134&#45;&gt;136 -->\n<g id=\"edge136\" class=\"edge\">\n<title>134&#45;&gt;136</title>\n<path fill=\"none\" stroke=\"#000000\" d=\"M3335.0637,-460.8796C3346.5555,-451.513 3358.8468,-441.4948 3370.645,-431.8784\"/>\n<polygon fill=\"#000000\" stroke=\"#000000\" points=\"3373.1782,-434.329 3378.7183,-425.2981 3368.7556,-428.903 3373.1782,-434.329\"/>\n</g>\n<!-- 137 -->\n<g id=\"node138\" class=\"node\">\n<title>137</title>\n<polygon fill=\"#ffffff\" stroke=\"#000000\" points=\"3395.5,-298.5 3236.5,-298.5 3236.5,-230.5 3395.5,-230.5 3395.5,-298.5\"/>\n<text text-anchor=\"start\" x=\"3286.5\" y=\"-283.3\" font-family=\"Helvetica,sans-Serif\" font-size=\"14.00\" fill=\"#000000\">gini = 0.5</text>\n<text text-anchor=\"start\" x=\"3276.5\" y=\"-268.3\" font-family=\"Helvetica,sans-Serif\" font-size=\"14.00\" fill=\"#000000\">samples = 2</text>\n<text text-anchor=\"start\" x=\"3274.5\" y=\"-253.3\" font-family=\"Helvetica,sans-Serif\" font-size=\"14.00\" fill=\"#000000\">value = [1, 1]</text>\n<text text-anchor=\"start\" x=\"3244.5\" y=\"-238.3\" font-family=\"Helvetica,sans-Serif\" font-size=\"14.00\" fill=\"#000000\">class = COLLECTION</text>\n</g>\n<!-- 136&#45;&gt;137 -->\n<g id=\"edge137\" class=\"edge\">\n<title>136&#45;&gt;137</title>\n<path fill=\"none\" stroke=\"#000000\" d=\"M3390.1283,-341.8796C3379.0676,-330.3337 3367.0582,-317.7976 3355.9906,-306.2446\"/>\n<polygon fill=\"#000000\" stroke=\"#000000\" points=\"3358.3183,-303.6149 3348.8731,-298.8149 3353.2635,-308.4573 3358.3183,-303.6149\"/>\n</g>\n<!-- 138 -->\n<g id=\"node139\" class=\"node\">\n<title>138</title>\n<polygon fill=\"#399de5\" stroke=\"#000000\" points=\"3542,-298.5 3414,-298.5 3414,-230.5 3542,-230.5 3542,-298.5\"/>\n<text text-anchor=\"start\" x=\"3448.5\" y=\"-283.3\" font-family=\"Helvetica,sans-Serif\" font-size=\"14.00\" fill=\"#000000\">gini = 0.0</text>\n<text text-anchor=\"start\" x=\"3438.5\" y=\"-268.3\" font-family=\"Helvetica,sans-Serif\" font-size=\"14.00\" fill=\"#000000\">samples = 2</text>\n<text text-anchor=\"start\" x=\"3436.5\" y=\"-253.3\" font-family=\"Helvetica,sans-Serif\" font-size=\"14.00\" fill=\"#000000\">value = [0, 2]</text>\n<text text-anchor=\"start\" x=\"3422\" y=\"-238.3\" font-family=\"Helvetica,sans-Serif\" font-size=\"14.00\" fill=\"#000000\">class = PAIDOFF</text>\n</g>\n<!-- 136&#45;&gt;138 -->\n<g id=\"edge138\" class=\"edge\">\n<title>136&#45;&gt;138</title>\n<path fill=\"none\" stroke=\"#000000\" d=\"M3446.7881,-341.8796C3451.1791,-330.9935 3455.9252,-319.227 3460.3592,-308.2344\"/>\n<polygon fill=\"#000000\" stroke=\"#000000\" points=\"3463.6638,-309.3982 3464.1587,-298.8149 3457.172,-306.7796 3463.6638,-309.3982\"/>\n</g>\n<!-- 141 -->\n<g id=\"node142\" class=\"node\">\n<title>141</title>\n<polygon fill=\"#e58139\" stroke=\"#000000\" points=\"3540.5,-655.5 3381.5,-655.5 3381.5,-587.5 3540.5,-587.5 3540.5,-655.5\"/>\n<text text-anchor=\"start\" x=\"3431.5\" y=\"-640.3\" font-family=\"Helvetica,sans-Serif\" font-size=\"14.00\" fill=\"#000000\">gini = 0.0</text>\n<text text-anchor=\"start\" x=\"3421.5\" y=\"-625.3\" font-family=\"Helvetica,sans-Serif\" font-size=\"14.00\" fill=\"#000000\">samples = 3</text>\n<text text-anchor=\"start\" x=\"3419.5\" y=\"-610.3\" font-family=\"Helvetica,sans-Serif\" font-size=\"14.00\" fill=\"#000000\">value = [3, 0]</text>\n<text text-anchor=\"start\" x=\"3389.5\" y=\"-595.3\" font-family=\"Helvetica,sans-Serif\" font-size=\"14.00\" fill=\"#000000\">class = COLLECTION</text>\n</g>\n<!-- 140&#45;&gt;141 -->\n<g id=\"edge141\" class=\"edge\">\n<title>140&#45;&gt;141</title>\n<path fill=\"none\" stroke=\"#000000\" d=\"M3461,-698.8796C3461,-688.2134 3461,-676.7021 3461,-665.9015\"/>\n<polygon fill=\"#000000\" stroke=\"#000000\" points=\"3464.5001,-665.8149 3461,-655.8149 3457.5001,-665.815 3464.5001,-665.8149\"/>\n</g>\n<!-- 142 -->\n<g id=\"node143\" class=\"node\">\n<title>142</title>\n<polygon fill=\"#fae6d7\" stroke=\"#000000\" points=\"3717.5,-663 3558.5,-663 3558.5,-580 3717.5,-580 3717.5,-663\"/>\n<text text-anchor=\"start\" x=\"3582\" y=\"-647.8\" font-family=\"Helvetica,sans-Serif\" font-size=\"14.00\" fill=\"#000000\">Principal ≤ &#45;0.399</text>\n<text text-anchor=\"start\" x=\"3600\" y=\"-632.8\" font-family=\"Helvetica,sans-Serif\" font-size=\"14.00\" fill=\"#000000\">gini = 0.494</text>\n<text text-anchor=\"start\" x=\"3598.5\" y=\"-617.8\" font-family=\"Helvetica,sans-Serif\" font-size=\"14.00\" fill=\"#000000\">samples = 9</text>\n<text text-anchor=\"start\" x=\"3596.5\" y=\"-602.8\" font-family=\"Helvetica,sans-Serif\" font-size=\"14.00\" fill=\"#000000\">value = [5, 4]</text>\n<text text-anchor=\"start\" x=\"3566.5\" y=\"-587.8\" font-family=\"Helvetica,sans-Serif\" font-size=\"14.00\" fill=\"#000000\">class = COLLECTION</text>\n</g>\n<!-- 140&#45;&gt;142 -->\n<g id=\"edge142\" class=\"edge\">\n<title>140&#45;&gt;142</title>\n<path fill=\"none\" stroke=\"#000000\" d=\"M3522.906,-698.8796C3537.323,-689.1868 3552.778,-678.7961 3567.5344,-668.8752\"/>\n<polygon fill=\"#000000\" stroke=\"#000000\" points=\"3569.7829,-671.581 3576.1289,-663.0969 3565.8773,-665.7718 3569.7829,-671.581\"/>\n</g>\n<!-- 143 -->\n<g id=\"node144\" class=\"node\">\n<title>143</title>\n<polygon fill=\"#399de5\" stroke=\"#000000\" points=\"3550,-536.5 3422,-536.5 3422,-468.5 3550,-468.5 3550,-536.5\"/>\n<text text-anchor=\"start\" x=\"3456.5\" y=\"-521.3\" font-family=\"Helvetica,sans-Serif\" font-size=\"14.00\" fill=\"#000000\">gini = 0.0</text>\n<text text-anchor=\"start\" x=\"3446.5\" y=\"-506.3\" font-family=\"Helvetica,sans-Serif\" font-size=\"14.00\" fill=\"#000000\">samples = 1</text>\n<text text-anchor=\"start\" x=\"3444.5\" y=\"-491.3\" font-family=\"Helvetica,sans-Serif\" font-size=\"14.00\" fill=\"#000000\">value = [0, 1]</text>\n<text text-anchor=\"start\" x=\"3430\" y=\"-476.3\" font-family=\"Helvetica,sans-Serif\" font-size=\"14.00\" fill=\"#000000\">class = PAIDOFF</text>\n</g>\n<!-- 142&#45;&gt;143 -->\n<g id=\"edge143\" class=\"edge\">\n<title>142&#45;&gt;143</title>\n<path fill=\"none\" stroke=\"#000000\" d=\"M3584.8378,-579.8796C3569.6687,-568.0038 3553.1616,-555.0804 3538.0591,-543.2568\"/>\n<polygon fill=\"#000000\" stroke=\"#000000\" points=\"3539.8624,-540.2236 3529.8308,-536.8149 3535.5472,-545.7353 3539.8624,-540.2236\"/>\n</g>\n<!-- 144 -->\n<g id=\"node145\" class=\"node\">\n<title>144</title>\n<polygon fill=\"#f5cdb0\" stroke=\"#000000\" points=\"3727.5,-544 3568.5,-544 3568.5,-461 3727.5,-461 3727.5,-544\"/>\n<text text-anchor=\"start\" x=\"3609.5\" y=\"-528.8\" font-family=\"Helvetica,sans-Serif\" font-size=\"14.00\" fill=\"#000000\">age ≤ 1.171</text>\n<text text-anchor=\"start\" x=\"3610\" y=\"-513.8\" font-family=\"Helvetica,sans-Serif\" font-size=\"14.00\" fill=\"#000000\">gini = 0.469</text>\n<text text-anchor=\"start\" x=\"3608.5\" y=\"-498.8\" font-family=\"Helvetica,sans-Serif\" font-size=\"14.00\" fill=\"#000000\">samples = 8</text>\n<text text-anchor=\"start\" x=\"3606.5\" y=\"-483.8\" font-family=\"Helvetica,sans-Serif\" font-size=\"14.00\" fill=\"#000000\">value = [5, 3]</text>\n<text text-anchor=\"start\" x=\"3576.5\" y=\"-468.8\" font-family=\"Helvetica,sans-Serif\" font-size=\"14.00\" fill=\"#000000\">class = COLLECTION</text>\n</g>\n<!-- 142&#45;&gt;144 -->\n<g id=\"edge144\" class=\"edge\">\n<title>142&#45;&gt;144</title>\n<path fill=\"none\" stroke=\"#000000\" d=\"M3641.4975,-579.8796C3642.1862,-571.6838 3642.9169,-562.9891 3643.6301,-554.5013\"/>\n<polygon fill=\"#000000\" stroke=\"#000000\" points=\"3647.1378,-554.5561 3644.4876,-544.2981 3640.1624,-553.9698 3647.1378,-554.5561\"/>\n</g>\n<!-- 145 -->\n<g id=\"node146\" class=\"node\">\n<title>145</title>\n<polygon fill=\"#f2c09c\" stroke=\"#000000\" points=\"3679.5,-417.5 3520.5,-417.5 3520.5,-349.5 3679.5,-349.5 3679.5,-417.5\"/>\n<text text-anchor=\"start\" x=\"3562\" y=\"-402.3\" font-family=\"Helvetica,sans-Serif\" font-size=\"14.00\" fill=\"#000000\">gini = 0.444</text>\n<text text-anchor=\"start\" x=\"3560.5\" y=\"-387.3\" font-family=\"Helvetica,sans-Serif\" font-size=\"14.00\" fill=\"#000000\">samples = 3</text>\n<text text-anchor=\"start\" x=\"3558.5\" y=\"-372.3\" font-family=\"Helvetica,sans-Serif\" font-size=\"14.00\" fill=\"#000000\">value = [2, 1]</text>\n<text text-anchor=\"start\" x=\"3528.5\" y=\"-357.3\" font-family=\"Helvetica,sans-Serif\" font-size=\"14.00\" fill=\"#000000\">class = COLLECTION</text>\n</g>\n<!-- 144&#45;&gt;145 -->\n<g id=\"edge145\" class=\"edge\">\n<title>144&#45;&gt;145</title>\n<path fill=\"none\" stroke=\"#000000\" d=\"M3631.2119,-460.8796C3626.8209,-449.9935 3622.0748,-438.227 3617.6408,-427.2344\"/>\n<polygon fill=\"#000000\" stroke=\"#000000\" points=\"3620.828,-425.7796 3613.8413,-417.8149 3614.3362,-428.3982 3620.828,-425.7796\"/>\n</g>\n<!-- 146 -->\n<g id=\"node147\" class=\"node\">\n<title>146</title>\n<polygon fill=\"#f6d5bd\" stroke=\"#000000\" points=\"3856.5,-425 3697.5,-425 3697.5,-342 3856.5,-342 3856.5,-425\"/>\n<text text-anchor=\"start\" x=\"3742.5\" y=\"-409.8\" font-family=\"Helvetica,sans-Serif\" font-size=\"14.00\" fill=\"#000000\">age ≤ 1.42</text>\n<text text-anchor=\"start\" x=\"3743.5\" y=\"-394.8\" font-family=\"Helvetica,sans-Serif\" font-size=\"14.00\" fill=\"#000000\">gini = 0.48</text>\n<text text-anchor=\"start\" x=\"3737.5\" y=\"-379.8\" font-family=\"Helvetica,sans-Serif\" font-size=\"14.00\" fill=\"#000000\">samples = 5</text>\n<text text-anchor=\"start\" x=\"3735.5\" y=\"-364.8\" font-family=\"Helvetica,sans-Serif\" font-size=\"14.00\" fill=\"#000000\">value = [3, 2]</text>\n<text text-anchor=\"start\" x=\"3705.5\" y=\"-349.8\" font-family=\"Helvetica,sans-Serif\" font-size=\"14.00\" fill=\"#000000\">class = COLLECTION</text>\n</g>\n<!-- 144&#45;&gt;146 -->\n<g id=\"edge146\" class=\"edge\">\n<title>144&#45;&gt;146</title>\n<path fill=\"none\" stroke=\"#000000\" d=\"M3693.1179,-460.8796C3703.174,-451.6031 3713.923,-441.6874 3724.2554,-432.1559\"/>\n<polygon fill=\"#000000\" stroke=\"#000000\" points=\"3726.7124,-434.6511 3731.6895,-425.2981 3721.9661,-429.506 3726.7124,-434.6511\"/>\n</g>\n<!-- 147 -->\n<g id=\"node148\" class=\"node\">\n<title>147</title>\n<polygon fill=\"#ffffff\" stroke=\"#000000\" points=\"3807.5,-298.5 3648.5,-298.5 3648.5,-230.5 3807.5,-230.5 3807.5,-298.5\"/>\n<text text-anchor=\"start\" x=\"3698.5\" y=\"-283.3\" font-family=\"Helvetica,sans-Serif\" font-size=\"14.00\" fill=\"#000000\">gini = 0.5</text>\n<text text-anchor=\"start\" x=\"3688.5\" y=\"-268.3\" font-family=\"Helvetica,sans-Serif\" font-size=\"14.00\" fill=\"#000000\">samples = 2</text>\n<text text-anchor=\"start\" x=\"3686.5\" y=\"-253.3\" font-family=\"Helvetica,sans-Serif\" font-size=\"14.00\" fill=\"#000000\">value = [1, 1]</text>\n<text text-anchor=\"start\" x=\"3656.5\" y=\"-238.3\" font-family=\"Helvetica,sans-Serif\" font-size=\"14.00\" fill=\"#000000\">class = COLLECTION</text>\n</g>\n<!-- 146&#45;&gt;147 -->\n<g id=\"edge147\" class=\"edge\">\n<title>146&#45;&gt;147</title>\n<path fill=\"none\" stroke=\"#000000\" d=\"M3759.8622,-341.8796C3755.3797,-330.9935 3750.5347,-319.227 3746.0083,-308.2344\"/>\n<polygon fill=\"#000000\" stroke=\"#000000\" points=\"3749.1736,-306.7291 3742.1297,-298.8149 3742.7009,-309.3944 3749.1736,-306.7291\"/>\n</g>\n<!-- 148 -->\n<g id=\"node149\" class=\"node\">\n<title>148</title>\n<polygon fill=\"#f2c09c\" stroke=\"#000000\" points=\"3984.5,-306 3825.5,-306 3825.5,-223 3984.5,-223 3984.5,-306\"/>\n<text text-anchor=\"start\" x=\"3858.5\" y=\"-290.8\" font-family=\"Helvetica,sans-Serif\" font-size=\"14.00\" fill=\"#000000\">terms ≤ &#45;0.019</text>\n<text text-anchor=\"start\" x=\"3867\" y=\"-275.8\" font-family=\"Helvetica,sans-Serif\" font-size=\"14.00\" fill=\"#000000\">gini = 0.444</text>\n<text text-anchor=\"start\" x=\"3865.5\" y=\"-260.8\" font-family=\"Helvetica,sans-Serif\" font-size=\"14.00\" fill=\"#000000\">samples = 3</text>\n<text text-anchor=\"start\" x=\"3863.5\" y=\"-245.8\" font-family=\"Helvetica,sans-Serif\" font-size=\"14.00\" fill=\"#000000\">value = [2, 1]</text>\n<text text-anchor=\"start\" x=\"3833.5\" y=\"-230.8\" font-family=\"Helvetica,sans-Serif\" font-size=\"14.00\" fill=\"#000000\">class = COLLECTION</text>\n</g>\n<!-- 146&#45;&gt;148 -->\n<g id=\"edge148\" class=\"edge\">\n<title>146&#45;&gt;148</title>\n<path fill=\"none\" stroke=\"#000000\" d=\"M3821.7682,-341.8796C3831.7463,-332.6031 3842.4119,-322.6874 3852.6642,-313.1559\"/>\n<polygon fill=\"#000000\" stroke=\"#000000\" points=\"3855.1,-315.6704 3860.0407,-306.2981 3850.3337,-310.5436 3855.1,-315.6704\"/>\n</g>\n<!-- 149 -->\n<g id=\"node150\" class=\"node\">\n<title>149</title>\n<polygon fill=\"#e58139\" stroke=\"#000000\" points=\"3895.5,-179.5 3736.5,-179.5 3736.5,-111.5 3895.5,-111.5 3895.5,-179.5\"/>\n<text text-anchor=\"start\" x=\"3786.5\" y=\"-164.3\" font-family=\"Helvetica,sans-Serif\" font-size=\"14.00\" fill=\"#000000\">gini = 0.0</text>\n<text text-anchor=\"start\" x=\"3776.5\" y=\"-149.3\" font-family=\"Helvetica,sans-Serif\" font-size=\"14.00\" fill=\"#000000\">samples = 1</text>\n<text text-anchor=\"start\" x=\"3774.5\" y=\"-134.3\" font-family=\"Helvetica,sans-Serif\" font-size=\"14.00\" fill=\"#000000\">value = [1, 0]</text>\n<text text-anchor=\"start\" x=\"3744.5\" y=\"-119.3\" font-family=\"Helvetica,sans-Serif\" font-size=\"14.00\" fill=\"#000000\">class = COLLECTION</text>\n</g>\n<!-- 148&#45;&gt;149 -->\n<g id=\"edge149\" class=\"edge\">\n<title>148&#45;&gt;149</title>\n<path fill=\"none\" stroke=\"#000000\" d=\"M3873.8721,-222.8796C3865.4014,-211.5536 3856.2181,-199.2748 3847.7153,-187.9058\"/>\n<polygon fill=\"#000000\" stroke=\"#000000\" points=\"3850.4562,-185.7268 3841.6641,-179.8149 3844.8505,-189.9193 3850.4562,-185.7268\"/>\n</g>\n<!-- 150 -->\n<g id=\"node151\" class=\"node\">\n<title>150</title>\n<polygon fill=\"#ffffff\" stroke=\"#000000\" points=\"4072.5,-179.5 3913.5,-179.5 3913.5,-111.5 4072.5,-111.5 4072.5,-179.5\"/>\n<text text-anchor=\"start\" x=\"3963.5\" y=\"-164.3\" font-family=\"Helvetica,sans-Serif\" font-size=\"14.00\" fill=\"#000000\">gini = 0.5</text>\n<text text-anchor=\"start\" x=\"3953.5\" y=\"-149.3\" font-family=\"Helvetica,sans-Serif\" font-size=\"14.00\" fill=\"#000000\">samples = 2</text>\n<text text-anchor=\"start\" x=\"3951.5\" y=\"-134.3\" font-family=\"Helvetica,sans-Serif\" font-size=\"14.00\" fill=\"#000000\">value = [1, 1]</text>\n<text text-anchor=\"start\" x=\"3921.5\" y=\"-119.3\" font-family=\"Helvetica,sans-Serif\" font-size=\"14.00\" fill=\"#000000\">class = COLLECTION</text>\n</g>\n<!-- 148&#45;&gt;150 -->\n<g id=\"edge150\" class=\"edge\">\n<title>148&#45;&gt;150</title>\n<path fill=\"none\" stroke=\"#000000\" d=\"M3935.7781,-222.8796C3944.1536,-211.5536 3953.2338,-199.2748 3961.6411,-187.9058\"/>\n<polygon fill=\"#000000\" stroke=\"#000000\" points=\"3964.4925,-189.9364 3967.6242,-179.8149 3958.8643,-185.7743 3964.4925,-189.9364\"/>\n</g>\n<!-- 152 -->\n<g id=\"node153\" class=\"node\">\n<title>152</title>\n<polygon fill=\"#399de5\" stroke=\"#000000\" points=\"3728,-774.5 3600,-774.5 3600,-706.5 3728,-706.5 3728,-774.5\"/>\n<text text-anchor=\"start\" x=\"3634.5\" y=\"-759.3\" font-family=\"Helvetica,sans-Serif\" font-size=\"14.00\" fill=\"#000000\">gini = 0.0</text>\n<text text-anchor=\"start\" x=\"3624.5\" y=\"-744.3\" font-family=\"Helvetica,sans-Serif\" font-size=\"14.00\" fill=\"#000000\">samples = 5</text>\n<text text-anchor=\"start\" x=\"3622.5\" y=\"-729.3\" font-family=\"Helvetica,sans-Serif\" font-size=\"14.00\" fill=\"#000000\">value = [0, 5]</text>\n<text text-anchor=\"start\" x=\"3608\" y=\"-714.3\" font-family=\"Helvetica,sans-Serif\" font-size=\"14.00\" fill=\"#000000\">class = PAIDOFF</text>\n</g>\n<!-- 151&#45;&gt;152 -->\n<g id=\"edge152\" class=\"edge\">\n<title>151&#45;&gt;152</title>\n<path fill=\"none\" stroke=\"#000000\" d=\"M3664,-817.8796C3664,-807.2134 3664,-795.7021 3664,-784.9015\"/>\n<polygon fill=\"#000000\" stroke=\"#000000\" points=\"3667.5001,-784.8149 3664,-774.8149 3660.5001,-784.815 3667.5001,-784.8149\"/>\n</g>\n<!-- 153 -->\n<g id=\"node154\" class=\"node\">\n<title>153</title>\n<polygon fill=\"#bddef6\" stroke=\"#000000\" points=\"3903,-782 3775,-782 3775,-699 3903,-699 3903,-782\"/>\n<text text-anchor=\"start\" x=\"3804.5\" y=\"-766.8\" font-family=\"Helvetica,sans-Serif\" font-size=\"14.00\" fill=\"#000000\">age ≤ 2.58</text>\n<text text-anchor=\"start\" x=\"3805.5\" y=\"-751.8\" font-family=\"Helvetica,sans-Serif\" font-size=\"14.00\" fill=\"#000000\">gini = 0.48</text>\n<text text-anchor=\"start\" x=\"3799.5\" y=\"-736.8\" font-family=\"Helvetica,sans-Serif\" font-size=\"14.00\" fill=\"#000000\">samples = 5</text>\n<text text-anchor=\"start\" x=\"3797.5\" y=\"-721.8\" font-family=\"Helvetica,sans-Serif\" font-size=\"14.00\" fill=\"#000000\">value = [2, 3]</text>\n<text text-anchor=\"start\" x=\"3783\" y=\"-706.8\" font-family=\"Helvetica,sans-Serif\" font-size=\"14.00\" fill=\"#000000\">class = PAIDOFF</text>\n</g>\n<!-- 151&#45;&gt;153 -->\n<g id=\"edge153\" class=\"edge\">\n<title>151&#45;&gt;153</title>\n<path fill=\"none\" stroke=\"#000000\" d=\"M3725.2065,-817.8796C3739.4606,-808.1868 3754.741,-797.7961 3769.3307,-787.8752\"/>\n<polygon fill=\"#000000\" stroke=\"#000000\" points=\"3771.5269,-790.6143 3777.8281,-782.0969 3767.5907,-784.8258 3771.5269,-790.6143\"/>\n</g>\n<!-- 154 -->\n<g id=\"node155\" class=\"node\">\n<title>154</title>\n<polygon fill=\"#ffffff\" stroke=\"#000000\" points=\"3942.5,-663 3735.5,-663 3735.5,-580 3942.5,-580 3942.5,-663\"/>\n<text text-anchor=\"start\" x=\"3743.5\" y=\"-647.8\" font-family=\"Helvetica,sans-Serif\" font-size=\"14.00\" fill=\"#000000\">High School or Below ≤ 0.128</text>\n<text text-anchor=\"start\" x=\"3809.5\" y=\"-632.8\" font-family=\"Helvetica,sans-Serif\" font-size=\"14.00\" fill=\"#000000\">gini = 0.5</text>\n<text text-anchor=\"start\" x=\"3799.5\" y=\"-617.8\" font-family=\"Helvetica,sans-Serif\" font-size=\"14.00\" fill=\"#000000\">samples = 4</text>\n<text text-anchor=\"start\" x=\"3797.5\" y=\"-602.8\" font-family=\"Helvetica,sans-Serif\" font-size=\"14.00\" fill=\"#000000\">value = [2, 2]</text>\n<text text-anchor=\"start\" x=\"3767.5\" y=\"-587.8\" font-family=\"Helvetica,sans-Serif\" font-size=\"14.00\" fill=\"#000000\">class = COLLECTION</text>\n</g>\n<!-- 153&#45;&gt;154 -->\n<g id=\"edge154\" class=\"edge\">\n<title>153&#45;&gt;154</title>\n<path fill=\"none\" stroke=\"#000000\" d=\"M3839,-698.8796C3839,-690.6838 3839,-681.9891 3839,-673.5013\"/>\n<polygon fill=\"#000000\" stroke=\"#000000\" points=\"3842.5001,-673.298 3839,-663.2981 3835.5001,-673.2981 3842.5001,-673.298\"/>\n</g>\n<!-- 159 -->\n<g id=\"node160\" class=\"node\">\n<title>159</title>\n<polygon fill=\"#399de5\" stroke=\"#000000\" points=\"4089,-655.5 3961,-655.5 3961,-587.5 4089,-587.5 4089,-655.5\"/>\n<text text-anchor=\"start\" x=\"3995.5\" y=\"-640.3\" font-family=\"Helvetica,sans-Serif\" font-size=\"14.00\" fill=\"#000000\">gini = 0.0</text>\n<text text-anchor=\"start\" x=\"3985.5\" y=\"-625.3\" font-family=\"Helvetica,sans-Serif\" font-size=\"14.00\" fill=\"#000000\">samples = 1</text>\n<text text-anchor=\"start\" x=\"3983.5\" y=\"-610.3\" font-family=\"Helvetica,sans-Serif\" font-size=\"14.00\" fill=\"#000000\">value = [0, 1]</text>\n<text text-anchor=\"start\" x=\"3969\" y=\"-595.3\" font-family=\"Helvetica,sans-Serif\" font-size=\"14.00\" fill=\"#000000\">class = PAIDOFF</text>\n</g>\n<!-- 153&#45;&gt;159 -->\n<g id=\"edge159\" class=\"edge\">\n<title>153&#45;&gt;159</title>\n<path fill=\"none\" stroke=\"#000000\" d=\"M3903.0106,-699.547C3922.5083,-687.0726 3943.8948,-673.3899 3963.2406,-661.0127\"/>\n<polygon fill=\"#000000\" stroke=\"#000000\" points=\"3965.1451,-663.9494 3971.6824,-655.6118 3961.3725,-658.0529 3965.1451,-663.9494\"/>\n</g>\n<!-- 155 -->\n<g id=\"node156\" class=\"node\">\n<title>155</title>\n<polygon fill=\"#399de5\" stroke=\"#000000\" points=\"3893,-536.5 3765,-536.5 3765,-468.5 3893,-468.5 3893,-536.5\"/>\n<text text-anchor=\"start\" x=\"3799.5\" y=\"-521.3\" font-family=\"Helvetica,sans-Serif\" font-size=\"14.00\" fill=\"#000000\">gini = 0.0</text>\n<text text-anchor=\"start\" x=\"3789.5\" y=\"-506.3\" font-family=\"Helvetica,sans-Serif\" font-size=\"14.00\" fill=\"#000000\">samples = 1</text>\n<text text-anchor=\"start\" x=\"3787.5\" y=\"-491.3\" font-family=\"Helvetica,sans-Serif\" font-size=\"14.00\" fill=\"#000000\">value = [0, 1]</text>\n<text text-anchor=\"start\" x=\"3773\" y=\"-476.3\" font-family=\"Helvetica,sans-Serif\" font-size=\"14.00\" fill=\"#000000\">class = PAIDOFF</text>\n</g>\n<!-- 154&#45;&gt;155 -->\n<g id=\"edge155\" class=\"edge\">\n<title>154&#45;&gt;155</title>\n<path fill=\"none\" stroke=\"#000000\" d=\"M3835.5025,-579.8796C3834.6062,-569.2134 3833.6388,-557.7021 3832.7312,-546.9015\"/>\n<polygon fill=\"#000000\" stroke=\"#000000\" points=\"3836.2088,-546.4867 3831.8836,-536.8149 3829.2334,-547.0729 3836.2088,-546.4867\"/>\n</g>\n<!-- 156 -->\n<g id=\"node157\" class=\"node\">\n<title>156</title>\n<polygon fill=\"#f2c09c\" stroke=\"#000000\" points=\"4070.5,-544 3911.5,-544 3911.5,-461 4070.5,-461 4070.5,-544\"/>\n<text text-anchor=\"start\" x=\"3940.5\" y=\"-528.8\" font-family=\"Helvetica,sans-Serif\" font-size=\"14.00\" fill=\"#000000\">Gender ≤ 0.979</text>\n<text text-anchor=\"start\" x=\"3953\" y=\"-513.8\" font-family=\"Helvetica,sans-Serif\" font-size=\"14.00\" fill=\"#000000\">gini = 0.444</text>\n<text text-anchor=\"start\" x=\"3951.5\" y=\"-498.8\" font-family=\"Helvetica,sans-Serif\" font-size=\"14.00\" fill=\"#000000\">samples = 3</text>\n<text text-anchor=\"start\" x=\"3949.5\" y=\"-483.8\" font-family=\"Helvetica,sans-Serif\" font-size=\"14.00\" fill=\"#000000\">value = [2, 1]</text>\n<text text-anchor=\"start\" x=\"3919.5\" y=\"-468.8\" font-family=\"Helvetica,sans-Serif\" font-size=\"14.00\" fill=\"#000000\">class = COLLECTION</text>\n</g>\n<!-- 154&#45;&gt;156 -->\n<g id=\"edge156\" class=\"edge\">\n<title>154&#45;&gt;156</title>\n<path fill=\"none\" stroke=\"#000000\" d=\"M3892.1622,-579.8796C3904.3115,-570.368 3917.3192,-560.1843 3929.776,-550.432\"/>\n<polygon fill=\"#000000\" stroke=\"#000000\" points=\"3932.1514,-553.0173 3937.8678,-544.0969 3927.8362,-547.5055 3932.1514,-553.0173\"/>\n</g>\n<!-- 157 -->\n<g id=\"node158\" class=\"node\">\n<title>157</title>\n<polygon fill=\"#e58139\" stroke=\"#000000\" points=\"4037.5,-417.5 3878.5,-417.5 3878.5,-349.5 4037.5,-349.5 4037.5,-417.5\"/>\n<text text-anchor=\"start\" x=\"3928.5\" y=\"-402.3\" font-family=\"Helvetica,sans-Serif\" font-size=\"14.00\" fill=\"#000000\">gini = 0.0</text>\n<text text-anchor=\"start\" x=\"3918.5\" y=\"-387.3\" font-family=\"Helvetica,sans-Serif\" font-size=\"14.00\" fill=\"#000000\">samples = 2</text>\n<text text-anchor=\"start\" x=\"3916.5\" y=\"-372.3\" font-family=\"Helvetica,sans-Serif\" font-size=\"14.00\" fill=\"#000000\">value = [2, 0]</text>\n<text text-anchor=\"start\" x=\"3886.5\" y=\"-357.3\" font-family=\"Helvetica,sans-Serif\" font-size=\"14.00\" fill=\"#000000\">class = COLLECTION</text>\n</g>\n<!-- 156&#45;&gt;157 -->\n<g id=\"edge157\" class=\"edge\">\n<title>156&#45;&gt;157</title>\n<path fill=\"none\" stroke=\"#000000\" d=\"M3979.4582,-460.8796C3976.4699,-450.1034 3973.2423,-438.4647 3970.2205,-427.5677\"/>\n<polygon fill=\"#000000\" stroke=\"#000000\" points=\"3973.561,-426.516 3967.5159,-417.8149 3966.8155,-428.3866 3973.561,-426.516\"/>\n</g>\n<!-- 158 -->\n<g id=\"node159\" class=\"node\">\n<title>158</title>\n<polygon fill=\"#399de5\" stroke=\"#000000\" points=\"4184,-417.5 4056,-417.5 4056,-349.5 4184,-349.5 4184,-417.5\"/>\n<text text-anchor=\"start\" x=\"4090.5\" y=\"-402.3\" font-family=\"Helvetica,sans-Serif\" font-size=\"14.00\" fill=\"#000000\">gini = 0.0</text>\n<text text-anchor=\"start\" x=\"4080.5\" y=\"-387.3\" font-family=\"Helvetica,sans-Serif\" font-size=\"14.00\" fill=\"#000000\">samples = 1</text>\n<text text-anchor=\"start\" x=\"4078.5\" y=\"-372.3\" font-family=\"Helvetica,sans-Serif\" font-size=\"14.00\" fill=\"#000000\">value = [0, 1]</text>\n<text text-anchor=\"start\" x=\"4064\" y=\"-357.3\" font-family=\"Helvetica,sans-Serif\" font-size=\"14.00\" fill=\"#000000\">class = PAIDOFF</text>\n</g>\n<!-- 156&#45;&gt;158 -->\n<g id=\"edge158\" class=\"edge\">\n<title>156&#45;&gt;158</title>\n<path fill=\"none\" stroke=\"#000000\" d=\"M4036.1179,-460.8796C4048.7533,-449.2237 4062.4826,-436.5587 4075.105,-424.9148\"/>\n<polygon fill=\"#000000\" stroke=\"#000000\" points=\"4077.8244,-427.168 4082.8015,-417.8149 4073.078,-422.0228 4077.8244,-427.168\"/>\n</g>\n<!-- \\n -->\n<g id=\"node162\" class=\"node\">\n<title>\\n</title>\n<polygon fill=\"#000000\" stroke=\"#000000\" points=\"836,-1591.5 782,-1591.5 782,-1555.5 836,-1555.5 836,-1591.5\"/>\n</g>\n</g>\n</svg>\n"
          },
          "metadata": {},
          "execution_count": 34
        }
      ]
    },
    {
      "metadata": {
        "id": "ZKkFiBfLt3Cx"
      },
      "cell_type": "markdown",
      "source": [
        "# Support Vector Machine\n"
      ]
    },
    {
      "metadata": {
        "id": "7DvID3WIt3Cx",
        "colab": {
          "base_uri": "https://localhost:8080/"
        },
        "outputId": "08a99e0e-f64b-44b5-cee3-0979a14c4cfe"
      },
      "cell_type": "code",
      "source": [
        "from sklearn import svm\n",
        "lsvm= svm.SVC(kernel='poly') #checked 'linear' and 'rbf' kernels as well and 'poly' resulted to be the most accurate\n",
        "lsvm.fit(X_train,y_train) \n"
      ],
      "execution_count": 35,
      "outputs": [
        {
          "output_type": "execute_result",
          "data": {
            "text/plain": [
              "SVC(kernel='poly')"
            ]
          },
          "metadata": {},
          "execution_count": 35
        }
      ]
    },
    {
      "metadata": {
        "id": "aT0ydxa7t3Cx",
        "colab": {
          "base_uri": "https://localhost:8080/"
        },
        "outputId": "3fa2e99b-313d-411d-8c91-7eb050a43206"
      },
      "cell_type": "code",
      "source": [
        "predlsvm=lsvm.predict(X_test)\n",
        "print (predlsvm [crng])\n",
        "print (y_test [crng])"
      ],
      "execution_count": 36,
      "outputs": [
        {
          "output_type": "stream",
          "name": "stdout",
          "text": [
            "['PAIDOFF' 'PAIDOFF' 'PAIDOFF' 'PAIDOFF' 'PAIDOFF']\n",
            "['PAIDOFF' 'PAIDOFF' 'COLLECTION' 'PAIDOFF' 'PAIDOFF']\n"
          ]
        }
      ]
    },
    {
      "metadata": {
        "id": "uMeE4cwot3Cy"
      },
      "cell_type": "code",
      "source": [
        ""
      ],
      "execution_count": 36,
      "outputs": []
    },
    {
      "metadata": {
        "id": "etOrLkXGt3Cy"
      },
      "cell_type": "markdown",
      "source": [
        "# Logistic Regression\n"
      ]
    },
    {
      "metadata": {
        "id": "B8GQbHtmt3Cy"
      },
      "cell_type": "code",
      "source": [
        "from sklearn.linear_model import LogisticRegression\n",
        "from sklearn.metrics import confusion_matrix\n",
        "LR = LogisticRegression(C=0.01, solver='liblinear').fit(X_train,y_train)"
      ],
      "execution_count": 37,
      "outputs": []
    },
    {
      "metadata": {
        "id": "HEc8M9Mft3Cy",
        "colab": {
          "base_uri": "https://localhost:8080/"
        },
        "outputId": "057f4c0f-83a3-4362-9cc0-b288dc758df5"
      },
      "cell_type": "code",
      "source": [
        "predLR = LR.predict(X_test)\n",
        "print (predlsvm [crng])\n",
        "print (y_test [crng])"
      ],
      "execution_count": 38,
      "outputs": [
        {
          "output_type": "stream",
          "name": "stdout",
          "text": [
            "['PAIDOFF' 'PAIDOFF' 'PAIDOFF' 'PAIDOFF' 'PAIDOFF']\n",
            "['PAIDOFF' 'PAIDOFF' 'COLLECTION' 'PAIDOFF' 'PAIDOFF']\n"
          ]
        }
      ]
    },
    {
      "metadata": {
        "id": "i6MB4pdbt3Cy"
      },
      "cell_type": "code",
      "source": [
        ""
      ],
      "execution_count": 38,
      "outputs": []
    },
    {
      "metadata": {
        "id": "5Oqyaz1st3Cy"
      },
      "cell_type": "markdown",
      "source": [
        "# Model Evaluation using Test set\n"
      ]
    },
    {
      "metadata": {
        "id": "RbybECePt3Cy"
      },
      "cell_type": "code",
      "source": [
        "from sklearn.metrics import jaccard_score\n",
        "from sklearn.metrics import f1_score\n",
        "from sklearn.metrics import log_loss\n"
      ],
      "execution_count": 39,
      "outputs": []
    },
    {
      "metadata": {
        "id": "g2hdlN_ht3Cz"
      },
      "cell_type": "markdown",
      "source": [
        "First, download and load the test set:\n"
      ]
    },
    {
      "metadata": {
        "id": "ODLPm2hgt3Cz",
        "colab": {
          "base_uri": "https://localhost:8080/"
        },
        "outputId": "cd61222f-1622-4df7-804c-1f73fc9c6d96"
      },
      "cell_type": "code",
      "source": [
        "!wget -O loan_test.csv https://s3-api.us-geo.objectstorage.softlayer.net/cf-courses-data/CognitiveClass/ML0101ENv3/labs/loan_test.csv"
      ],
      "execution_count": 40,
      "outputs": [
        {
          "output_type": "stream",
          "name": "stdout",
          "text": [
            "--2022-07-10 10:05:56--  https://s3-api.us-geo.objectstorage.softlayer.net/cf-courses-data/CognitiveClass/ML0101ENv3/labs/loan_test.csv\n",
            "Resolving s3-api.us-geo.objectstorage.softlayer.net (s3-api.us-geo.objectstorage.softlayer.net)... 67.228.254.196\n",
            "Connecting to s3-api.us-geo.objectstorage.softlayer.net (s3-api.us-geo.objectstorage.softlayer.net)|67.228.254.196|:443... connected.\n",
            "HTTP request sent, awaiting response... 200 OK\n",
            "Length: 3642 (3.6K) [text/csv]\n",
            "Saving to: ‘loan_test.csv’\n",
            "\n",
            "loan_test.csv       100%[===================>]   3.56K  --.-KB/s    in 0s      \n",
            "\n",
            "2022-07-10 10:05:56 (541 MB/s) - ‘loan_test.csv’ saved [3642/3642]\n",
            "\n"
          ]
        }
      ]
    },
    {
      "metadata": {
        "button": false,
        "new_sheet": false,
        "run_control": {
          "read_only": false
        },
        "id": "TPIbz85_t3Cz"
      },
      "cell_type": "markdown",
      "source": [
        "### Load Test set for evaluation\n"
      ]
    },
    {
      "metadata": {
        "button": false,
        "new_sheet": false,
        "run_control": {
          "read_only": false
        },
        "id": "oF_bS5lQt3Cz",
        "colab": {
          "base_uri": "https://localhost:8080/",
          "height": 1000
        },
        "outputId": "8d983e11-f3cb-4479-ea0f-fd76bd2da69a"
      },
      "cell_type": "code",
      "source": [
        "test_df = pd.read_csv('loan_test.csv')\n",
        "print(test_df.head())\n",
        "test_df.shape\n",
        "test_df['due_date'] = pd.to_datetime(test_df['due_date'])\n",
        "test_df['effective_date'] = pd.to_datetime(test_df['effective_date'])\n",
        "test_df.head()\n",
        "test_df['loan_status'].value_counts()\n",
        "import seaborn as sns\n",
        "\n",
        "bins = np.linspace(test_df.Principal.min(), test_df.Principal.max(), 10)\n",
        "g = sns.FacetGrid(test_df, col=\"Gender\", hue=\"loan_status\", palette=\"Set1\", col_wrap=2)\n",
        "g.map(plt.hist, 'Principal', bins=bins, ec=\"k\")\n",
        "\n",
        "g.axes[-1].legend()\n",
        "plt.show()\n",
        "bins = np.linspace(test_df.age.min(), test_df.age.max(), 10)\n",
        "g = sns.FacetGrid(test_df, col=\"Gender\", hue=\"loan_status\", palette=\"Set1\", col_wrap=2)\n",
        "g.map(plt.hist, 'age', bins=bins, ec=\"k\")\n",
        "\n",
        "g.axes[-1].legend()\n",
        "plt.show()\n",
        "test_df['dayofweek'] = test_df['effective_date'].dt.dayofweek\n",
        "bins = np.linspace(test_df.dayofweek.min(), test_df.dayofweek.max(), 10)\n",
        "g = sns.FacetGrid(test_df, col=\"Gender\", hue=\"loan_status\", palette=\"Set1\", col_wrap=2)\n",
        "g.map(plt.hist, 'dayofweek', bins=bins, ec=\"k\")\n",
        "g.axes[-1].legend()\n",
        "plt.show()\n",
        "test_df['weekend'] = test_df['dayofweek'].apply(lambda x: 1 if (x>3)  else 0)\n",
        "test_df.head()\n",
        "test_df.groupby(['Gender'])['loan_status'].value_counts(normalize=True)\n",
        "test_df['Gender'].replace(to_replace=['male','female'], value=[0,1],inplace=True)\n",
        "print(test_df.head())\n",
        "test_df.groupby(['education'])['loan_status'].value_counts(normalize=True)\n",
        "print(test_df[['Principal','terms','age','Gender','education']].head())\n",
        "Feature = test_df[['Principal','terms','age','Gender','weekend']]\n",
        "Feature = pd.concat([Feature,pd.get_dummies(test_df['education'])], axis=1)\n",
        "Feature.drop(['Master or Above'], axis = 1,inplace=True)\n",
        "print(Feature.head())\n",
        "tX = Feature\n",
        "print(tX[0:5])\n",
        "ty = test_df['loan_status'].values\n",
        "print(ty[0:5])\n",
        "#ty.replace(to_replace=['PAIDOFF','COLLECTION'],value=[1,0],inplace=True)\n",
        "print(ty[0:5])\n",
        "tX= preprocessing.StandardScaler().fit(tX).transform(tX)\n",
        "tX[0:5]"
      ],
      "execution_count": 41,
      "outputs": [
        {
          "output_type": "stream",
          "name": "stdout",
          "text": [
            "   Unnamed: 0  Unnamed: 0.1 loan_status  Principal  terms effective_date  \\\n",
            "0           1             1     PAIDOFF       1000     30       9/8/2016   \n",
            "1           5             5     PAIDOFF        300      7       9/9/2016   \n",
            "2          21            21     PAIDOFF       1000     30      9/10/2016   \n",
            "3          24            24     PAIDOFF       1000     30      9/10/2016   \n",
            "4          35            35     PAIDOFF        800     15      9/11/2016   \n",
            "\n",
            "    due_date  age             education  Gender  \n",
            "0  10/7/2016   50              Bechalor  female  \n",
            "1  9/15/2016   35       Master or Above    male  \n",
            "2  10/9/2016   43  High School or Below  female  \n",
            "3  10/9/2016   26               college    male  \n",
            "4  9/25/2016   29              Bechalor    male  \n"
          ]
        },
        {
          "output_type": "display_data",
          "data": {
            "text/plain": [
              "<Figure size 432x216 with 2 Axes>"
            ],
            "image/png": "[encoded data removed]"
          },
          "metadata": {
            "needs_background": "light"
          }
        },
        {
          "output_type": "display_data",
          "data": {
            "text/plain": [
              "<Figure size 432x216 with 2 Axes>"
            ],
            "image/png": "[encoded data removed]"
          },
          "metadata": {
            "needs_background": "light"
          }
        },
        {
          "output_type": "display_data",
          "data": {
            "text/plain": [
              "<Figure size 432x216 with 2 Axes>"
            ],
            "image/png": "[encoded data removed]"
          },
          "metadata": {
            "needs_background": "light"
          }
        },
        {
          "output_type": "stream",
          "name": "stdout",
          "text": [
            "   Unnamed: 0  Unnamed: 0.1 loan_status  Principal  terms effective_date  \\\n",
            "0           1             1     PAIDOFF       1000     30     2016-09-08   \n",
            "1           5             5     PAIDOFF        300      7     2016-09-09   \n",
            "2          21            21     PAIDOFF       1000     30     2016-09-10   \n",
            "3          24            24     PAIDOFF       1000     30     2016-09-10   \n",
            "4          35            35     PAIDOFF        800     15     2016-09-11   \n",
            "\n",
            "    due_date  age             education  Gender  dayofweek  weekend  \n",
            "0 2016-10-07   50              Bechalor       1          3        0  \n",
            "1 2016-09-15   35       Master or Above       0          4        1  \n",
            "2 2016-10-09   43  High School or Below       1          5        1  \n",
            "3 2016-10-09   26               college       0          5        1  \n",
            "4 2016-09-25   29              Bechalor       0          6        1  \n",
            "   Principal  terms  age  Gender             education\n",
            "0       1000     30   50       1              Bechalor\n",
            "1        300      7   35       0       Master or Above\n",
            "2       1000     30   43       1  High School or Below\n",
            "3       1000     30   26       0               college\n",
            "4        800     15   29       0              Bechalor\n",
            "   Principal  terms  age  Gender  weekend  Bechalor  High School or Below  \\\n",
            "0       1000     30   50       1        0         1                     0   \n",
            "1        300      7   35       0        1         0                     0   \n",
            "2       1000     30   43       1        1         0                     1   \n",
            "3       1000     30   26       0        1         0                     0   \n",
            "4        800     15   29       0        1         1                     0   \n",
            "\n",
            "   college  \n",
            "0        0  \n",
            "1        0  \n",
            "2        0  \n",
            "3        1  \n",
            "4        0  \n",
            "   Principal  terms  age  Gender  weekend  Bechalor  High School or Below  \\\n",
            "0       1000     30   50       1        0         1                     0   \n",
            "1        300      7   35       0        1         0                     0   \n",
            "2       1000     30   43       1        1         0                     1   \n",
            "3       1000     30   26       0        1         0                     0   \n",
            "4        800     15   29       0        1         1                     0   \n",
            "\n",
            "   college  \n",
            "0        0  \n",
            "1        0  \n",
            "2        0  \n",
            "3        1  \n",
            "4        0  \n",
            "['PAIDOFF' 'PAIDOFF' 'PAIDOFF' 'PAIDOFF' 'PAIDOFF']\n",
            "['PAIDOFF' 'PAIDOFF' 'PAIDOFF' 'PAIDOFF' 'PAIDOFF']\n"
          ]
        },
        {
          "output_type": "execute_result",
          "data": {
            "text/plain": [
              "array([[ 0.49362588,  0.92844966,  3.05981865,  1.97714211, -1.30384048,\n",
              "         2.39791576, -0.79772404, -0.86135677],\n",
              "       [-3.56269116, -1.70427745,  0.53336288, -0.50578054,  0.76696499,\n",
              "        -0.41702883, -0.79772404, -0.86135677],\n",
              "       [ 0.49362588,  0.92844966,  1.88080596,  1.97714211,  0.76696499,\n",
              "        -0.41702883,  1.25356634, -0.86135677],\n",
              "       [ 0.49362588,  0.92844966, -0.98251057, -0.50578054,  0.76696499,\n",
              "        -0.41702883, -0.79772404,  1.16095912],\n",
              "       [-0.66532184, -0.78854628, -0.47721942, -0.50578054,  0.76696499,\n",
              "         2.39791576, -0.79772404, -0.86135677]])"
            ]
          },
          "metadata": {},
          "execution_count": 41
        }
      ]
    },
    {
      "metadata": {
        "id": "r8zht8sgt3Cz",
        "colab": {
          "base_uri": "https://localhost:8080/"
        },
        "outputId": "73bb9fda-30bc-4eec-d36d-a2a1102a8cc3"
      },
      "cell_type": "code",
      "source": [
        "print(\"hi\")"
      ],
      "execution_count": 42,
      "outputs": [
        {
          "output_type": "stream",
          "name": "stdout",
          "text": [
            "hi\n"
          ]
        }
      ]
    },
    {
      "cell_type": "code",
      "source": [
        "!pip install sklearn"
      ],
      "metadata": {
        "id": "-ObFKHLuQogi",
        "colab": {
          "base_uri": "https://localhost:8080/"
        },
        "outputId": "5907e7a1-c380-4748-c48c-2457981c140b"
      },
      "execution_count": 43,
      "outputs": [
        {
          "output_type": "stream",
          "name": "stdout",
          "text": [
            "Looking in indexes: https://pypi.org/simple, https://us-python.pkg.dev/colab-wheels/public/simple/\n",
            "Requirement already satisfied: sklearn in /usr/local/lib/python3.7/dist-packages (0.0)\n",
            "Requirement already satisfied: scikit-learn in /usr/local/lib/python3.7/dist-packages (from sklearn) (1.0.2)\n",
            "Requirement already satisfied: numpy>=1.14.6 in /usr/local/lib/python3.7/dist-packages (from scikit-learn->sklearn) (1.21.6)\n",
            "Requirement already satisfied: scipy>=1.1.0 in /usr/local/lib/python3.7/dist-packages (from scikit-learn->sklearn) (1.4.1)\n",
            "Requirement already satisfied: joblib>=0.11 in /usr/local/lib/python3.7/dist-packages (from scikit-learn->sklearn) (1.1.0)\n",
            "Requirement already satisfied: threadpoolctl>=2.0.0 in /usr/local/lib/python3.7/dist-packages (from scikit-learn->sklearn) (3.1.0)\n"
          ]
        }
      ]
    },
    {
      "metadata": {
        "id": "iMe1pIYHt3Cz"
      },
      "cell_type": "code",
      "source": [
        "import numpy as np\n",
        "from sklearn.metrics import jaccard_score\n",
        "from sklearn.metrics import f1_score\n",
        "from sklearn.metrics import log_loss\n",
        "knn_pred=Lneighmx.predict(tX)\n",
        "#type(knn_pred)\n",
        "j_knn= jaccard_score(ty, knn_pred,pos_label='PAIDOFF')\n",
        "f_knn=f1_score(ty, knn_pred, average='weighted')  \n",
        "\n",
        "tree_pred=LTree.predict(tX)\n",
        "f_Dt=f1_score(ty, tree_pred, average='weighted')  \n",
        "j_Dt=jaccard_score(ty, tree_pred,pos_label='PAIDOFF')\n",
        "\n",
        "svm_pred=lsvm.predict(tX)\n",
        "j_svm=jaccard_score(ty, svm_pred,pos_label='PAIDOFF')\n",
        "f_svm=f1_score(ty, svm_pred, average='weighted')  \n",
        "\n",
        "lr_pred=LR.predict(tX)\n",
        "j_lr=jaccard_score(ty, lr_pred,pos_label='PAIDOFF')\n",
        "f_lr=f1_score(ty, lr_pred, average='weighted') \n",
        "proba=LR.predict_proba(tX)\n",
        "log_lossLr=log_loss(ty,proba)"
      ],
      "execution_count": 44,
      "outputs": []
    },
    {
      "cell_type": "code",
      "source": [
        "dictReport={\n",
        "    \"Algorithm\":[\"KNN\",\"Decision Tree\",\"SVM\",\"Logistic Regression\"],\n",
        "    \"Jaccard\":[j_knn,j_Dt,j_svm,j_lr],\n",
        "    \"F1-Score\":[f_knn,f_Dt,f_svm,f_lr],\n",
        "    \"Log Loss\":[None,None,None,log_lossLr]\n",
        "}\n",
        "report=pd.DataFrame(dictReport)\n",
        "report"
      ],
      "metadata": {
        "id": "74AQGP5M0bIe",
        "colab": {
          "base_uri": "https://localhost:8080/",
          "height": 175
        },
        "outputId": "087b4a67-9053-4abe-ff39-f0ff71c751d9"
      },
      "execution_count": 45,
      "outputs": [
        {
          "output_type": "execute_result",
          "data": {
            "text/plain": [
              "             Algorithm   Jaccard  F1-Score  Log Loss\n",
              "0                  KNN  0.666667  0.660225       NaN\n",
              "1        Decision Tree  0.666667  0.703704       NaN\n",
              "2                  SVM  0.750000  0.695923       NaN\n",
              "3  Logistic Regression  0.754717  0.671764  0.564976"
            ],
            "text/html": [
              "\n",
              "  <div id=\"df-3ae4e536-6482-4d44-b049-b12f9ef809dc\">\n",
              "    <div class=\"colab-df-container\">\n",
              "      <div>\n",
              "<style scoped>\n",
              "    .dataframe tbody tr th:only-of-type {\n",
              "        vertical-align: middle;\n",
              "    }\n",
              "\n",
              "    .dataframe tbody tr th {\n",
              "        vertical-align: top;\n",
              "    }\n",
              "\n",
              "    .dataframe thead th {\n",
              "        text-align: right;\n",
              "    }\n",
              "</style>\n",
              "<table border=\"1\" class=\"dataframe\">\n",
              "  <thead>\n",
              "    <tr style=\"text-align: right;\">\n",
              "      <th></th>\n",
              "      <th>Algorithm</th>\n",
              "      <th>Jaccard</th>\n",
              "      <th>F1-Score</th>\n",
              "      <th>Log Loss</th>\n",
              "    </tr>\n",
              "  </thead>\n",
              "  <tbody>\n",
              "    <tr>\n",
              "      <th>0</th>\n",
              "      <td>KNN</td>\n",
              "      <td>0.666667</td>\n",
              "      <td>0.660225</td>\n",
              "      <td>NaN</td>\n",
              "    </tr>\n",
              "    <tr>\n",
              "      <th>1</th>\n",
              "      <td>Decision Tree</td>\n",
              "      <td>0.666667</td>\n",
              "      <td>0.703704</td>\n",
              "      <td>NaN</td>\n",
              "    </tr>\n",
              "    <tr>\n",
              "      <th>2</th>\n",
              "      <td>SVM</td>\n",
              "      <td>0.750000</td>\n",
              "      <td>0.695923</td>\n",
              "      <td>NaN</td>\n",
              "    </tr>\n",
              "    <tr>\n",
              "      <th>3</th>\n",
              "      <td>Logistic Regression</td>\n",
              "      <td>0.754717</td>\n",
              "      <td>0.671764</td>\n",
              "      <td>0.564976</td>\n",
              "    </tr>\n",
              "  </tbody>\n",
              "</table>\n",
              "</div>\n",
              "      <button class=\"colab-df-convert\" onclick=\"convertToInteractive('df-3ae4e536-6482-4d44-b049-b12f9ef809dc')\"\n",
              "              title=\"Convert this dataframe to an interactive table.\"\n",
              "              style=\"display:none;\">\n",
              "        \n",
              "  <svg xmlns=\"http://www.w3.org/2000/svg\" height=\"24px\"viewBox=\"0 0 24 24\"\n",
              "       width=\"24px\">\n",
              "    <path d=\"M0 0h24v24H0V0z\" fill=\"none\"/>\n",
              "    <path d=\"M18.56 5.44l.94 2.06.94-2.06 2.06-.94-2.06-.94-.94-2.06-.94 2.06-2.06.94zm-11 1L8.5 8.5l.94-2.06 2.06-.94-2.06-.94L8.5 2.5l-.94 2.06-2.06.94zm10 10l.94 2.06.94-2.06 2.06-.94-2.06-.94-.94-2.06-.94 2.06-2.06.94z\"/><path d=\"M17.41 7.96l-1.37-1.37c-.4-.4-.92-.59-1.43-.59-.52 0-1.04.2-1.43.59L10.3 9.45l-7.72 7.72c-.78.78-.78 2.05 0 2.83L4 21.41c.39.39.9.59 1.41.59.51 0 1.02-.2 1.41-.59l7.78-7.78 2.81-2.81c.8-.78.8-2.07 0-2.86zM5.41 20L4 18.59l7.72-7.72 1.47 1.35L5.41 20z\"/>\n",
              "  </svg>\n",
              "      </button>\n",
              "      \n",
              "  <style>\n",
              "    .colab-df-container {\n",
              "      display:flex;\n",
              "      flex-wrap:wrap;\n",
              "      gap: 12px;\n",
              "    }\n",
              "\n",
              "    .colab-df-convert {\n",
              "      background-color: #E8F0FE;\n",
              "      border: none;\n",
              "      border-radius: 50%;\n",
              "      cursor: pointer;\n",
              "      display: none;\n",
              "      fill: #1967D2;\n",
              "      height: 32px;\n",
              "      padding: 0 0 0 0;\n",
              "      width: 32px;\n",
              "    }\n",
              "\n",
              "    .colab-df-convert:hover {\n",
              "      background-color: #E2EBFA;\n",
              "      box-shadow: 0px 1px 2px rgba(60, 64, 67, 0.3), 0px 1px 3px 1px rgba(60, 64, 67, 0.15);\n",
              "      fill: #174EA6;\n",
              "    }\n",
              "\n",
              "    [theme=dark] .colab-df-convert {\n",
              "      background-color: #3B4455;\n",
              "      fill: #D2E3FC;\n",
              "    }\n",
              "\n",
              "    [theme=dark] .colab-df-convert:hover {\n",
              "      background-color: #434B5C;\n",
              "      box-shadow: 0px 1px 3px 1px rgba(0, 0, 0, 0.15);\n",
              "      filter: drop-shadow(0px 1px 2px rgba(0, 0, 0, 0.3));\n",
              "      fill: #FFFFFF;\n",
              "    }\n",
              "  </style>\n",
              "\n",
              "      <script>\n",
              "        const buttonEl =\n",
              "          document.querySelector('#df-3ae4e536-6482-4d44-b049-b12f9ef809dc button.colab-df-convert');\n",
              "        buttonEl.style.display =\n",
              "          google.colab.kernel.accessAllowed ? 'block' : 'none';\n",
              "\n",
              "        async function convertToInteractive(key) {\n",
              "          const element = document.querySelector('#df-3ae4e536-6482-4d44-b049-b12f9ef809dc');\n",
              "          const dataTable =\n",
              "            await google.colab.kernel.invokeFunction('convertToInteractive',\n",
              "                                                     [key], {});\n",
              "          if (!dataTable) return;\n",
              "\n",
              "          const docLinkHtml = 'Like what you see? Visit the ' +\n",
              "            '<a target=\"_blank\" href=https://colab.research.google.com/notebooks/data_table.ipynb>data table notebook</a>'\n",
              "            + ' to learn more about interactive tables.';\n",
              "          element.innerHTML = '';\n",
              "          dataTable['output_type'] = 'display_data';\n",
              "          await google.colab.output.renderOutput(dataTable, element);\n",
              "          const docLink = document.createElement('div');\n",
              "          docLink.innerHTML = docLinkHtml;\n",
              "          element.appendChild(docLink);\n",
              "        }\n",
              "      </script>\n",
              "    </div>\n",
              "  </div>\n",
              "  "
            ]
          },
          "metadata": {},
          "execution_count": 45
        }
      ]
    },
    {
      "metadata": {
        "id": "5kESwyAht3C0"
      },
      "cell_type": "markdown",
      "source": [
        "# Report\n",
        "\n",
        "You should be able to report the accuracy of the built model using different evaluation metrics:\n"
      ]
    },
    {
      "metadata": {
        "id": "Wnue-Awzt3C0"
      },
      "cell_type": "markdown",
      "source": [
        "\n",
        "\n",
        "| Algorithm          | Jaccard | F1-score | LogLoss |\n",
        "| ------------------ | ------- | -------- | ------- |\n",
        "| KNN                |0.666667|0.660225|\tNA|\n",
        "| Decision Tree      |0.666667|0.703704|\tNA|\n",
        "| SVM                |0.750000|0.695923|\tNA|\n",
        "| LogisticRegression |0.754717|0.671764|0.564976|"
      ]
    },
    {
      "cell_type": "markdown",
      "source": [
        "**Logistic Regression that outperforms the other models in test**"
      ],
      "metadata": {
        "id": "JDgRhD-Ygm6b"
      }
    },
    {
      "metadata": {
        "button": false,
        "new_sheet": false,
        "run_control": {
          "read_only": false
        },
        "id": "vL-KMzGet3C0"
      },
      "cell_type": "markdown",
      "source": [
        "<h2>Want to learn more?</h2>\n",
        "\n",
        "IBM SPSS Modeler is a comprehensive analytics platform that has many machine learning algorithms. It has been designed to bring predictive intelligence to decisions made by individuals, by groups, by systems – by your enterprise as a whole. A free trial is available through this course, available here: <a href=\"http://cocl.us/ML0101EN-SPSSModeler?utm_medium=Exinfluencer&utm_source=Exinfluencer&utm_content=000026UJ&utm_term=10006555&utm_id=NA-SkillsNetwork-Channel-SkillsNetworkCoursesIBMDeveloperSkillsNetworkML0101ENSkillsNetwork20718538-2022-01-01\">SPSS Modeler</a>\n",
        "\n",
        "Also, you can use Watson Studio to run these notebooks faster with bigger datasets. Watson Studio is IBM's leading cloud solution for data scientists, built by data scientists. With Jupyter notebooks, RStudio, Apache Spark and popular libraries pre-packaged in the cloud, Watson Studio enables data scientists to collaborate on their projects without having to install anything. Join the fast-growing community of Watson Studio users today with a free account at <a href=\"https://cocl.us/ML0101EN_DSX?utm_medium=Exinfluencer&utm_source=Exinfluencer&utm_content=000026UJ&utm_term=10006555&utm_id=NA-SkillsNetwork-Channel-SkillsNetworkCoursesIBMDeveloperSkillsNetworkML0101ENSkillsNetwork20718538-2022-01-01\">Watson Studio</a>\n",
        "\n",
        "<h3>Thanks for completing this lesson!</h3>\n",
        "\n",
        "<h4>Author:  <a href=\"https://ca.linkedin.com/in/saeedaghabozorgi?utm_medium=Exinfluencer&utm_source=Exinfluencer&utm_content=000026UJ&utm_term=10006555&utm_id=NA-SkillsNetwork-Channel-SkillsNetworkCoursesIBMDeveloperSkillsNetworkML0101ENSkillsNetwork20718538-2022-01-01?utm_medium=Exinfluencer&utm_source=Exinfluencer&utm_content=000026UJ&utm_term=10006555&utm_id=NA-SkillsNetwork-Channel-SkillsNetworkCoursesIBMDeveloperSkillsNetworkML0101ENSkillsNetwork20718538-2022-01-01\">Saeed Aghabozorgi</a></h4>\n",
        "<p><a href=\"https://ca.linkedin.com/in/saeedaghabozorgi\">Saeed Aghabozorgi</a>, PhD is a Data Scientist in IBM with a track record of developing enterprise level applications that substantially increases clients’ ability to turn data into actionable knowledge. He is a researcher in data mining field and expert in developing advanced analytic methods like machine learning and statistical modelling on large datasets.</p>\n",
        "\n",
        "<hr>\n",
        "\n",
        "## Change Log\n",
        "\n",
        "| Date (YYYY-MM-DD) | Version | Changed By    | Change Description                                                             |\n",
        "| ----------------- | ------- | ------------- | ------------------------------------------------------------------------------ |\n",
        "| 2020-10-27        | 2.1     | Lakshmi Holla | Made changes in import statement due to updates in version of  sklearn library |\n",
        "| 2020-08-27        | 2.0     | Malika Singla | Added lab to GitLab                                                            |\n",
        "\n",
        "<hr>\n",
        "\n",
        "## <h3 align=\"center\"> © IBM Corporation 2020. All rights reserved. <h3/>\n",
        "\n",
        "<p>\n"
      ]
    }
  ],
  "metadata": {
    "kernelspec": {
      "name": "python3",
      "display_name": "Python 3.9",
      "language": "python"
    },
    "language_info": {
      "name": "python",
      "version": "3.9.12",
      "mimetype": "text/x-python",
      "codemirror_mode": {
        "name": "ipython",
        "version": 3
      },
      "pygments_lexer": "ipython3",
      "nbconvert_exporter": "python",
      "file_extension": ".py"
    },
    "colab": {
      "name": "Coursera_ML_Assignment (1).ipynb",
      "provenance": [],
      "collapsed_sections": [
        "CNLJL2uSt3Cr",
        "xLyRjn7at3Cr",
        "14UZq9eot3Cs"
      ],
      "include_colab_link": true
    }
  },
  "nbformat": 4,
  "nbformat_minor": 0
}